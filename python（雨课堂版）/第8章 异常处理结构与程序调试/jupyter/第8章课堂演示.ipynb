{
 "cells": [
  {
   "cell_type": "markdown",
   "metadata": {},
   "source": [
    "# 8.1 基本概念\n"
   ]
  },
  {
   "cell_type": "markdown",
   "metadata": {},
   "source": [
    "### 异常的常见表现形式\n"
   ]
  },
  {
   "cell_type": "code",
   "execution_count": null,
   "metadata": {},
   "outputs": [],
   "source": [
    ">>> x, y = 10, 5\n",
    ">>> a = x / y\n",
    ">>> A\n"
   ]
  },
  {
   "cell_type": "code",
   "execution_count": null,
   "metadata": {},
   "outputs": [],
   "source": [
    ">>> 10 * (1/0)\n"
   ]
  },
  {
   "cell_type": "markdown",
   "metadata": {},
   "source": [
    "# 8.2 Python中的异常类\n"
   ]
  },
  {
   "cell_type": "code",
   "execution_count": null,
   "metadata": {},
   "outputs": [],
   "source": [
    "class ShortInputException(Exception):\n",
    "    def __init__(self, length, atleast):\n",
    "        Exception.__init__(self)\n",
    "        self.length = length\n",
    "        self.atleast = atleast \n",
    "try:\n",
    "    s = input('请输入 --> ')\n",
    "    if len(s) < 3:\n",
    "        raise ShortInputException(len(s), 3)\n",
    "except EOFError: \t\t\n",
    "    print ('你输入了一个结束标记EOF')\n",
    "except ShortInputException as x:\n",
    "    print ('ShortInputException: 长度是 %d, 至少应是 %d' % (x.length, x.atleast))\n",
    "else:\n",
    "    print ('没有异常发生.')\n"
   ]
  },
  {
   "cell_type": "code",
   "execution_count": null,
   "metadata": {},
   "outputs": [],
   "source": [
    ">>> class MyError(Exception):\n",
    "        def __init__(self, value):\n",
    "            self.value = value\n",
    "        def __str__(self):\n",
    "            return repr(self.value)\n"
   ]
  },
  {
   "cell_type": "code",
   "execution_count": null,
   "metadata": {},
   "outputs": [],
   "source": [
    "try:\n",
    "    raise MyError(2*2)\n",
    "except MyError as e:\n",
    "    print('My exception occurred, value:', e.value)\n"
   ]
  },
  {
   "cell_type": "markdown",
   "metadata": {},
   "source": [
    "# 8.3 try...except...结构\n"
   ]
  },
  {
   "cell_type": "markdown",
   "metadata": {},
   "source": [
    "#### 要求用户必须输入数字字符串\n"
   ]
  },
  {
   "cell_type": "code",
   "execution_count": 1,
   "metadata": {},
   "outputs": [
    {
     "name": "stdout",
     "output_type": "stream",
     "text": [
      "Please input:人\n",
      "Error.\n",
      "Please input:4\n",
      "You have input 4\n"
     ]
    }
   ],
   "source": [
    "while True:\n",
    "    x = input('Please input:')\n",
    "    try:\n",
    "        x = int(x)\n",
    "        print('You have input {0}'.format(x))\n",
    "        break\n",
    "    except Exception as e:\n",
    "        print('Error.')\n"
   ]
  },
  {
   "cell_type": "markdown",
   "metadata": {},
   "source": [
    "#### 如果try范围内捕获了异常，就执行except块；如果try范围内没有捕获异常，就执行else块"
   ]
  },
  {
   "cell_type": "code",
   "execution_count": 4,
   "metadata": {},
   "outputs": [
    {
     "name": "stdout",
     "output_type": "stream",
     "text": [
      "请输入字符串的序号t\n",
      "AAA\n"
     ]
    }
   ],
   "source": [
    "a_list = ['China', 'America', 'England', 'France']\n",
    "while True:\n",
    "    n = input('请输入字符串的序号')\n",
    "    try:\n",
    "        n = int(n)\n",
    "        print(a_list[n])\n",
    "    except IndexError:\n",
    "        print('列表元素的下标越界，请重新输入字符串的序号')\n",
    "    except :\n",
    "        print('AAA')\n",
    "    else:    \n",
    "        break\n"
   ]
  },
  {
   "cell_type": "markdown",
   "metadata": {},
   "source": [
    "#### 要求用户必须输入整数的代码也可以这样写："
   ]
  },
  {
   "cell_type": "code",
   "execution_count": null,
   "metadata": {},
   "outputs": [],
   "source": [
    "while True:\n",
    "    x = input('Please input:')\n",
    "    try:\n",
    "        x = int(x)\n",
    "    except Exception as e:\n",
    "        print('Error.')\n",
    "    else:\n",
    "        print('You have input {0}'.format(x))\n",
    "        break\n"
   ]
  },
  {
   "cell_type": "markdown",
   "metadata": {},
   "source": [
    "### 带有多个except的try结构\n"
   ]
  },
  {
   "cell_type": "code",
   "execution_count": null,
   "metadata": {},
   "outputs": [],
   "source": [
    "try:\n",
    "    x=input('请输入被除数: ')\n",
    "    y=input('请输入除数: ')\n",
    "    z=float(x) / float(y)\n",
    "#     x=a\n",
    "except ZeroDivisionError:\n",
    "    print('除数不能为零')\n",
    "except TypeError:\n",
    "    print('被除数和除数应为数值类型')\n",
    "except NameError:\n",
    "    print('变量不存在')\n",
    "else:\n",
    "    print(x, '/', y, '=', z)\n"
   ]
  },
  {
   "cell_type": "markdown",
   "metadata": {},
   "source": [
    "### 将要捕获的异常写在一个元组中，可以使用一个excep语句捕获多个异常：\n"
   ]
  },
  {
   "cell_type": "code",
   "execution_count": null,
   "metadata": {},
   "outputs": [],
   "source": [
    "import sys\n",
    "try:\n",
    "    f = open('myfile.txt')\n",
    "    s = f.readline()\n",
    "    i = int(s.strip())\n",
    "    f.close()\n",
    "except (OSError, ValueError,RuntimeError, NameError):\n",
    "    pass\n"
   ]
  },
  {
   "cell_type": "markdown",
   "metadata": {},
   "source": [
    "### try...except...finally结构\n"
   ]
  },
  {
   "cell_type": "code",
   "execution_count": 6,
   "metadata": {},
   "outputs": [
    {
     "name": "stdout",
     "output_type": "stream",
     "text": [
      "错误！\n",
      "最终执行的语句\n"
     ]
    }
   ],
   "source": [
    "try:\n",
    "     3/0\n",
    "except:\n",
    "    print(\"错误！\")\n",
    "finally:\n",
    "    print(\"最终执行的语句\")\n"
   ]
  },
  {
   "cell_type": "code",
   "execution_count": 8,
   "metadata": {},
   "outputs": [
    {
     "name": "stdout",
     "output_type": "stream",
     "text": [
      "错误！\n"
     ]
    },
    {
     "ename": "NameError",
     "evalue": "name 'f' is not defined",
     "output_type": "error",
     "traceback": [
      "\u001b[1;31m---------------------------------------------------------------------------\u001b[0m",
      "\u001b[1;31mNameError\u001b[0m                                 Traceback (most recent call last)",
      "\u001b[1;32m<ipython-input-8-d715c5e27631>\u001b[0m in \u001b[0;36m<module>\u001b[1;34m\u001b[0m\n\u001b[0;32m      6\u001b[0m     \u001b[0mprint\u001b[0m\u001b[1;33m(\u001b[0m\u001b[1;34m\"错误！\"\u001b[0m\u001b[1;33m)\u001b[0m\u001b[1;33m\u001b[0m\u001b[1;33m\u001b[0m\u001b[0m\n\u001b[0;32m      7\u001b[0m \u001b[1;32mfinally\u001b[0m\u001b[1;33m:\u001b[0m\u001b[1;33m\u001b[0m\u001b[1;33m\u001b[0m\u001b[0m\n\u001b[1;32m----> 8\u001b[1;33m     \u001b[0mf\u001b[0m\u001b[1;33m.\u001b[0m\u001b[0mclose\u001b[0m\u001b[1;33m(\u001b[0m\u001b[1;33m)\u001b[0m\u001b[1;33m\u001b[0m\u001b[1;33m\u001b[0m\u001b[0m\n\u001b[0m",
      "\u001b[1;31mNameError\u001b[0m: name 'f' is not defined"
     ]
    }
   ],
   "source": [
    "try:\n",
    "    f = open('test.txt', 'r')\n",
    "    line = f.readline()\n",
    "    print(line)\n",
    "except:\n",
    "    print(\"错误！\")\n",
    "finally:\n",
    "    f.close()\n"
   ]
  },
  {
   "cell_type": "code",
   "execution_count": 10,
   "metadata": {},
   "outputs": [
    {
     "data": {
      "text/plain": [
       "-1"
      ]
     },
     "execution_count": 10,
     "metadata": {},
     "output_type": "execute_result"
    }
   ],
   "source": [
    "def demo_div(a, b):\n",
    "    try:\n",
    "        return a/b\n",
    "    except:\n",
    "        pass\n",
    "    finally:\n",
    "        return -1\n",
    "    \n",
    "demo_div(1, 2)"
   ]
  },
  {
   "cell_type": "code",
   "execution_count": 12,
   "metadata": {},
   "outputs": [],
   "source": [
    "def div(x, y):\n",
    "    try:\n",
    "        print(x / y)\n",
    "    except ZeroDivisionError:\n",
    "        print('ZeroDivisionError')\n",
    "    except TypeError:\n",
    "        print('TypeError')\n",
    "    else:\n",
    "        print('No Error')\n",
    "    finally:\n",
    "        print(\"executing finally clause\")\n"
   ]
  },
  {
   "cell_type": "code",
   "execution_count": 13,
   "metadata": {},
   "outputs": [
    {
     "name": "stdout",
     "output_type": "stream",
     "text": [
      "0.6\n",
      "No Error\n",
      "executing finally clause\n"
     ]
    }
   ],
   "source": [
    "div(3,5)"
   ]
  },
  {
   "cell_type": "code",
   "execution_count": 14,
   "metadata": {},
   "outputs": [
    {
     "name": "stdout",
     "output_type": "stream",
     "text": [
      "ZeroDivisionError\n",
      "executing finally clause\n"
     ]
    }
   ],
   "source": [
    "div(3,0)"
   ]
  },
  {
   "cell_type": "markdown",
   "metadata": {},
   "source": [
    "# 8.4 断言与上下文管理\n"
   ]
  },
  {
   "cell_type": "markdown",
   "metadata": {},
   "source": [
    "## 8.4.1 断言\n"
   ]
  },
  {
   "cell_type": "code",
   "execution_count": null,
   "metadata": {},
   "outputs": [],
   "source": [
    ">>> a = 3\n",
    ">>> b = 5\n",
    ">>> assert a==b, 'a must be equal to b'\n"
   ]
  },
  {
   "cell_type": "code",
   "execution_count": null,
   "metadata": {},
   "outputs": [],
   "source": [
    ">>> try:\n",
    "    assert a==b, 'a must be equal to b'\n",
    "except AssertionError as reason:\n",
    "    print('%s:%s'%(reason.__class__.__name__, reason))"
   ]
  },
  {
   "cell_type": "markdown",
   "metadata": {},
   "source": [
    "## 8.4.2 上下文管理语句\n"
   ]
  },
  {
   "cell_type": "markdown",
   "metadata": {},
   "source": [
    "使用with自动关闭资源，可以在代码块执行完毕后还原进入该代码块时的现场。\n",
    "不论何种原因跳出with块，不论是否发生异常，总能保证文件被正确关闭，资源被正确释放"
   ]
  },
  {
   "cell_type": "code",
   "execution_count": null,
   "metadata": {},
   "outputs": [],
   "source": [
    "with open(\"sample.txt\") as f:\n",
    "    for line in f:\n",
    "        print(line, end=\"\")\n"
   ]
  },
  {
   "cell_type": "markdown",
   "metadata": {},
   "source": [
    "# 8.5 用sys模块回溯最后的异常\n"
   ]
  },
  {
   "cell_type": "code",
   "execution_count": null,
   "metadata": {
    "scrolled": true
   },
   "outputs": [],
   "source": [
    "import sys\n",
    "try:\n",
    "    block\n",
    "except:\n",
    "    tuple = sys.exc_info()\n",
    "    print(tuple)\n"
   ]
  },
  {
   "cell_type": "code",
   "execution_count": null,
   "metadata": {},
   "outputs": [],
   "source": [
    ">>> 1/0\n"
   ]
  },
  {
   "cell_type": "code",
   "execution_count": null,
   "metadata": {},
   "outputs": [],
   "source": [
    ">>> import sys\n",
    ">>> try:\n",
    "    1/0\n",
    "except:\n",
    "    r = sys.exc_info()\n",
    "    print(r)\n"
   ]
  },
  {
   "cell_type": "markdown",
   "metadata": {},
   "source": [
    "### 如果需要的话，可以使用traceback模块来查看详细信息：\n"
   ]
  },
  {
   "cell_type": "code",
   "execution_count": null,
   "metadata": {
    "scrolled": true
   },
   "outputs": [],
   "source": [
    ">>> import traceback\n",
    ">>> import sys\n",
    ">>> def A():1/0\n",
    ">>> def B():A()\n",
    ">>> def C():B()\n",
    ">>> try:\n",
    "    C()\n",
    "except:\n",
    "    excType, excValue, excTraceback = sys.exc_info()\n",
    "    traceback.print_exception(excType, excValue,\n",
    "                              excTraceback, limit=3)\n",
    "    print(excValue)\n",
    "    traceback.print_tb(excTraceback)\n"
   ]
  },
  {
   "cell_type": "code",
   "execution_count": null,
   "metadata": {},
   "outputs": [],
   "source": [
    ">>> import pdb\n",
    ">>> def f():\n",
    "    x = 5\n",
    "    print(x)\n",
    ">>> pdb.runcall(f)\n"
   ]
  },
  {
   "cell_type": "code",
   "execution_count": null,
   "metadata": {},
   "outputs": [],
   "source": [
    "import pdb\n",
    "\n",
    "n=37\n",
    "pdb.set_trace()              #插入断点\n",
    "for i in range(2, n):\n",
    "    if n%i==0:\n",
    "        print('No')\n",
    "        break\n",
    "else:\n",
    "    print('Yes')\n"
   ]
  },
  {
   "cell_type": "markdown",
   "metadata": {},
   "source": [
    "# 8.8  Python单元测试\n"
   ]
  },
  {
   "cell_type": "markdown",
   "metadata": {},
   "source": [
    "待测试代码："
   ]
  },
  {
   "cell_type": "code",
   "execution_count": null,
   "metadata": {},
   "outputs": [],
   "source": [
    "class Stack:\n",
    "    def __init__(self, size = 10):\n",
    "        #使用列表存放栈的元素\n",
    "        self._content = []\n",
    "        #初始栈大小\n",
    "        self._size = size\n",
    "        #栈中元素个数初始化为0\n",
    "        self._current = 0\n",
    "        \n",
    "    def empty(self):\n",
    "        #清空栈\n",
    "        self._content = []\n",
    "        self._current = 0\n",
    "        \n",
    "    def isEmpty(self):\n",
    "        return not self._content\n",
    "\n",
    "    def setSize(self, size):\n",
    "        #如果缩小空间时指定的新大小，小于已有元素个数\n",
    "        #则删除指定大小之后的已有元素\n",
    "        if size < self._current:\n",
    "            for i in range(size, self._current)[::-1]:\n",
    "                del self._content[i]\n",
    "            self._current = size\n",
    "        self._size = size\n",
    "    \n",
    "    def isFull(self):\n",
    "        return self._current == self._size\n",
    "        \n",
    "    def push(self, v):\n",
    "        #模拟入栈，需要先测试栈是否已满\n",
    "        if self._current < self._size:\n",
    "            self._content.append(v)\n",
    "            #栈中元素个数加1\n",
    "            self._current = self._current+1\n",
    "        else:\n",
    "            print('Stack Full!')\n",
    "            \n",
    "    def pop(self):\n",
    "        #模拟出栈，需要先测试栈是否为空\n",
    "        if self._content:\n",
    "            #栈中元素个数减1\n",
    "            self._current = self._current-1\n",
    "            return self._content.pop()\n",
    "        else:\n",
    "            print('Stack is empty!')\n",
    "            \n",
    "    def show(self):\n",
    "        print(self._content)\n",
    "\n",
    "    def showRemainderSpace(self):\n",
    "        print('Stack can still PUSH ', self._size-self._current, ' elements.')\n",
    "\n",
    "if __name__ == '__main__':\n",
    "    print('Please use me as a module.')\n"
   ]
  },
  {
   "cell_type": "markdown",
   "metadata": {},
   "source": [
    "单元测试代码"
   ]
  },
  {
   "cell_type": "code",
   "execution_count": null,
   "metadata": {},
   "outputs": [],
   "source": [
    "# import Stack\n",
    "#Python单元测试标准库\n",
    "import unittest\n",
    "\n",
    "class TestStack(unittest.TestCase):\n",
    "    def setUp(self):\n",
    "        self.fp = open('test_Stack_result.txt', 'a+')\n",
    "\n",
    "    def tearDown(self):\n",
    "        self.fp.close()\n",
    "        \n",
    "    def test_isEmpty(self):\n",
    "        try:\n",
    "            s = Stack.Stack()\n",
    "            #确保函数返回结果为True\n",
    "            self.assertTrue(s.isEmpty())\n",
    "            self.fp.write('isEmpty passed\\n')\n",
    "        except Exception as e:\n",
    "            self.fp.write('isEmpty failed\\n')\n",
    "\n",
    "    def test_empty(self):\n",
    "        try:\n",
    "            s = Stack.Stack(5)\n",
    "            for i in ['a', 'b', 'c']:\n",
    "                s.push(i)\n",
    "            #测试清空栈操作是否工作正常\n",
    "            s.empty()\n",
    "            self.assertTrue(s.isEmpty())\n",
    "            self.fp.write('empty passed\\n')\n",
    "        except Exception as e:\n",
    "            self.fp.write('empty failed\\n')\n",
    "\n",
    "    def test_isFull(self):\n",
    "        try:\n",
    "            s = Stack.Stack(3)\n",
    "            s.push(1)\n",
    "            s.push(2)\n",
    "            s.push(3)\n",
    "            self.assertTrue(s.isFull())\n",
    "            self.fp.write('isFull passed\\n')\n",
    "        except Exception as e:\n",
    "            self.fp.write('isFull failed\\n')\n",
    "\n",
    "    def test_pushpop(self):\n",
    "        try:\n",
    "            s = Stack.Stack()\n",
    "            s.push(3)\n",
    "            #确保入栈后立刻出栈得到原来的元素\n",
    "            self.assertEqual(s.pop(), 3)\n",
    "            s.push('a')\n",
    "            self.assertEqual(s.pop(), 'a')\n",
    "            self.fp.write('push and pop passed\\n')\n",
    "        except Exception as e:\n",
    "            self.fp.write('push or pop failed\\n')\n",
    "\n",
    "    def test_setSize(self):\n",
    "        try:\n",
    "            s = Stack.Stack(8)\n",
    "            for i in range(8):\n",
    "                s.push(i)\n",
    "            self.assertTrue(s.isFull())\n",
    "            #测试扩大栈空间是否正常工作\n",
    "            s.setSize(9)\n",
    "            s.push(8)\n",
    "            self.assertTrue(s.isFull())\n",
    "            self.assertEqual(s.pop(), 8)\n",
    "            #测试缩小栈空间是否正常工作\n",
    "            s.setSize(4)\n",
    "            self.assertTrue(s.isFull())\n",
    "            self.assertEqual(s.pop(), 3)\n",
    "            self.fp.write('setSize passed\\n')\n",
    "        except Exception as e:\n",
    "            self.fp.write('setSize failed\\n')\n",
    "        \n",
    "if __name__ == '__main__':\n",
    "    unittest.main()"
   ]
  },
  {
   "cell_type": "code",
   "execution_count": 15,
   "metadata": {},
   "outputs": [
    {
     "name": "stdout",
     "output_type": "stream",
     "text": [
      "**********************************************************************\n",
      "File \"__main__\", line 11, in __main__.add\n",
      "Failed example:\n",
      "    add(4.0, 5.0)\n",
      "Expected:\n",
      "    100.0    \n",
      "Got:\n",
      "    9.0\n",
      "**********************************************************************\n",
      "1 items had failures:\n",
      "   1 of  11 in __main__.add\n",
      "***Test Failed*** 1 failures.\n",
      "8\n",
      "9.0\n"
     ]
    }
   ],
   "source": [
    "def add(value1, value2):\n",
    "    #下面一对三引号之间是测试代码，doctest会搜索这些代码并执行\n",
    "    #并且根据执行结果与预期结果的匹配程度来测试代码是否正确\n",
    "    '''return the addition of two numbers or the concatenation of two string/list/tuple\n",
    "    这个例子展示如何在源码中嵌入doctest用例。\n",
    "    '>>>' 开头的行就是doctest测试用例。\n",
    "    不带 '>>>' 的行就是测试用例的输出。\n",
    "    如果实际运行的结果与期望的结果不一致，就标记为测试失败。\n",
    "    >>> add(3, 5)\n",
    "    8\n",
    "    >>> add(3.0, 5.0)\n",
    "    8.0\n",
    "    >>> add(4.0, 5.0)\n",
    "    100.0    \n",
    "    >>> add([1,2], [3, 4])\n",
    "    [1, 2, 3, 4]\n",
    "    >>> add((1,), (2, 3, 4))\n",
    "    (1, 2, 3, 4)\n",
    "    >>> add(1, [3])\n",
    "    Traceback (most recent call last):\n",
    "        ...\n",
    "    TypeError: value1 and value2 must be of the same type\n",
    "    >>> add(1, '2')\n",
    "    Traceback (most recent call last):\n",
    "        ...\n",
    "    TypeError: value1 and value2 must be of the same type\n",
    "    >>> add([1], (2,))\n",
    "    Traceback (most recent call last):\n",
    "        ...\n",
    "    TypeError: value1 and value2 must be of the same type\n",
    "    >>> add('1234', [1,2,3,4])\n",
    "    Traceback (most recent call last):\n",
    "        ...\n",
    "    TypeError: value1 and value2 must be of the same type\n",
    "    >>> add({1,2,3}, {3,4,5})\n",
    "    {1, 2, 3, 4, 5}\n",
    "    >>> add({1:1}, {2:2})\n",
    "    Traceback (most recent call last):\n",
    "        ...\n",
    "    TypeError: value1 and value2 must be the type of int,float,str,list,tuple or set\n",
    "    '''\n",
    "    #下面是正式的功能代码\n",
    "    if type(value1) not in (int, float, str, list, tuple, set):\n",
    "        raise TypeError('value1 and value2 must be the type of int,float,str,list,tuple or set')\n",
    "    if type(value1) != type(value2):\n",
    "        raise TypeError('value1 and value2 must be of the same type')\n",
    "    if type(value1) == set:\n",
    "        return value1 | value2\n",
    "    else:\n",
    "        return value1 + value2\n",
    "\n",
    "if __name__ == \"__main__\":    \n",
    "    import doctest\n",
    "    doctest.testmod()\n",
    "    print(add(3,5))\n",
    "    print(add(4.0, 5.0))\n"
   ]
  },
  {
   "cell_type": "markdown",
   "metadata": {},
   "source": [
    "# 质量控制\n",
    "\n",
    "开发高质量软件的方法之一是为每一个函数开发测试代码，并且在开发过程中经常进行测试。\n",
    "\n",
    "doctest 扫描模块并根据程序中内嵌的文档字符串执行测试。测试构造如同简单的将它的输出结果剪切并粘贴到文档字符串中。通过用户提供的例子，它发展了文档，允许 doctest 模块确认代码的结果是否与文档一致:"
   ]
  },
  {
   "cell_type": "code",
   "execution_count": null,
   "metadata": {},
   "outputs": [],
   "source": [
    "def average(values):\n",
    "    \"\"\"Computes the arithmetic mean of a list of numbers.\n",
    "\n",
    "    >>> print(average([20, 30, 70]))\n",
    "    40.0\n",
    "    \"\"\"\n",
    "    return sum(values) / len(values)\n",
    "\n",
    "import doctest\n",
    "doctest.testmod()   # automatically validate the embedded tests"
   ]
  },
  {
   "cell_type": "markdown",
   "metadata": {},
   "source": [
    "unittest 模块不像 doctest 模块那么容易使用，不过它可以在一个独立的文件里提供一个更全面的测试集:"
   ]
  },
  {
   "cell_type": "code",
   "execution_count": null,
   "metadata": {},
   "outputs": [],
   "source": [
    "import unittest\n",
    "\n",
    "class TestStatisticalFunctions(unittest.TestCase):\n",
    "\n",
    "    def test_average(self):\n",
    "        self.assertEqual(average([20, 30, 70]), 40.0)\n",
    "        self.assertEqual(round(average([1, 5, 7]), 1), 4.3)\n",
    "        with self.assertRaises(ZeroDivisionError):\n",
    "            average([])\n",
    "        with self.assertRaises(TypeError):\n",
    "            average(20, 30, 70)\n",
    "\n",
    "unittest.main() # Calling from the command line invokes all tests"
   ]
  },
  {
   "cell_type": "markdown",
   "metadata": {},
   "source": [
    "# 8.10  性能测试\n"
   ]
  },
  {
   "cell_type": "markdown",
   "metadata": {},
   "source": [
    "### 运行时间测试\n"
   ]
  },
  {
   "cell_type": "code",
   "execution_count": null,
   "metadata": {},
   "outputs": [],
   "source": [
    ">>> import time\n",
    ">>> def demo():\n",
    "    start = time.time()\n",
    "    for i in range(9999999):\n",
    "        1+1\n",
    "    end = time.time()\n",
    "    print(end-start)\n",
    ">>> demo()\n"
   ]
  },
  {
   "cell_type": "markdown",
   "metadata": {},
   "source": [
    "### 内存占用测试。使用pip安装Python扩展库memory_profiler，然后编写下面的代码：\n"
   ]
  },
  {
   "cell_type": "code",
   "execution_count": null,
   "metadata": {},
   "outputs": [],
   "source": [
    "from memory_profiler import profile\n",
    "\n",
    "@profile                                 #修饰器\n",
    "def isPrime(n):\n",
    "    if n == 2:\n",
    "        return True\n",
    "    for i in range(2, int(n**0.5)+2):\n",
    "        if n%i == 0:\n",
    "            return False\n",
    "    return True\n"
   ]
  },
  {
   "cell_type": "code",
   "execution_count": null,
   "metadata": {},
   "outputs": [],
   "source": [
    "isPrime(20)\n"
   ]
  },
  {
   "cell_type": "code",
   "execution_count": null,
   "metadata": {},
   "outputs": [],
   "source": []
  }
 ],
 "metadata": {
  "kernelspec": {
   "display_name": "Python 3",
   "language": "python",
   "name": "python3"
  },
  "language_info": {
   "codemirror_mode": {
    "name": "ipython",
    "version": 3
   },
   "file_extension": ".py",
   "mimetype": "text/x-python",
   "name": "python",
   "nbconvert_exporter": "python",
   "pygments_lexer": "ipython3",
   "version": "3.7.2"
  }
 },
 "nbformat": 4,
 "nbformat_minor": 4
}
