{
 "cells": [
  {
   "cell_type": "markdown",
   "metadata": {},
   "source": [
    "# 6.1 类\n"
   ]
  },
  {
   "cell_type": "code",
   "execution_count": null,
   "metadata": {},
   "outputs": [],
   "source": [
    "class Car: \n",
    "    def infor(self):\n",
    "        print(\" This is a car \") \n"
   ]
  },
  {
   "cell_type": "code",
   "execution_count": null,
   "metadata": {},
   "outputs": [],
   "source": [
    ">>> car = Car()\n",
    ">>> car.infor()\n"
   ]
  },
  {
   "cell_type": "markdown",
   "metadata": {},
   "source": [
    "### 在Python中，可以使用内置方法isinstance()来测试一个对象是否为某个类的实例。\n"
   ]
  },
  {
   "cell_type": "code",
   "execution_count": null,
   "metadata": {},
   "outputs": [],
   "source": [
    ">>> isinstance(car, Car)\n"
   ]
  },
  {
   "cell_type": "code",
   "execution_count": null,
   "metadata": {},
   "outputs": [],
   "source": [
    ">>> isinstance(car, str)\n"
   ]
  },
  {
   "cell_type": "markdown",
   "metadata": {},
   "source": [
    "### 关键字“pass”，类似于空语句"
   ]
  },
  {
   "cell_type": "code",
   "execution_count": null,
   "metadata": {},
   "outputs": [],
   "source": [
    ">>> class A:\n",
    "    pass\n"
   ]
  },
  {
   "cell_type": "code",
   "execution_count": null,
   "metadata": {},
   "outputs": [],
   "source": [
    ">>> def demo():\n",
    "    pass\n"
   ]
  },
  {
   "cell_type": "code",
   "execution_count": null,
   "metadata": {},
   "outputs": [],
   "source": [
    ">>> if 5>3:\n",
    "    pass\n"
   ]
  },
  {
   "cell_type": "markdown",
   "metadata": {},
   "source": [
    "### 可以动态地为自定义类和对象增加或删除成员"
   ]
  },
  {
   "cell_type": "code",
   "execution_count": null,
   "metadata": {},
   "outputs": [],
   "source": [
    "class Car:\n",
    "    price = 100000                     #定义类属性\n",
    "    def __init__(self, c):\n",
    "        self.color = c                 #定义实例属性\n"
   ]
  },
  {
   "cell_type": "code",
   "execution_count": 6,
   "metadata": {},
   "outputs": [
    {
     "name": "stdout",
     "output_type": "stream",
     "text": [
      "Red 100000\n",
      "Blue 110000 QQ\n",
      "Yellow 110000 QQ\n"
     ]
    }
   ],
   "source": [
    "car1 = Car(\"Red\")                      #实例化对象\n",
    "car2 = Car(\"Blue\")\n",
    "print(car1.color, Car.price)           #查看实例属性和类属性的值\n",
    "Car.price = 110000                     #修改类属性\n",
    "Car.name = 'QQ'                        #动态增加类属性\n",
    "car1.color = \"Yellow\"                  #修改实例属性\n",
    "print(car2.color, Car.price, Car.name)\n",
    "print(car1.color, Car.price, Car.name)\n"
   ]
  },
  {
   "cell_type": "code",
   "execution_count": null,
   "metadata": {},
   "outputs": [],
   "source": [
    "print(car1.color, car1.price)           #查看实例属性和类属性的值"
   ]
  },
  {
   "cell_type": "code",
   "execution_count": null,
   "metadata": {},
   "outputs": [],
   "source": [
    "print(Car.color, car1.price)           #查看实例属性和类属性的值"
   ]
  },
  {
   "cell_type": "code",
   "execution_count": 7,
   "metadata": {},
   "outputs": [
    {
     "name": "stdout",
     "output_type": "stream",
     "text": [
      "50\n"
     ]
    }
   ],
   "source": [
    "import types\n",
    "\n",
    "def setSpeed(self, s): \n",
    "    self.speed = s\n",
    "\n",
    "car1.setSpeed = types.MethodType(setSpeed, car1) #动态增加成员方法\n",
    "car1.setSpeed(50)                                #调用成员方法\n",
    "print(car1.speed)\n"
   ]
  },
  {
   "cell_type": "markdown",
   "metadata": {},
   "source": [
    "### 混入（mixin）机制 ，可以独立地定义一些行为，然后根据需要来为不同的用户设置相应的行为能力"
   ]
  },
  {
   "cell_type": "code",
   "execution_count": null,
   "metadata": {},
   "outputs": [],
   "source": [
    "import types\n",
    "class Person(object):\n",
    "    def __init__(self, name):\n",
    "        assert isinstance(name, str), 'name must be string'\n",
    "        self.name = name\n"
   ]
  },
  {
   "cell_type": "code",
   "execution_count": null,
   "metadata": {},
   "outputs": [],
   "source": [
    "def sing(self):\n",
    "    print(self.name+' can sing.')\n"
   ]
  },
  {
   "cell_type": "code",
   "execution_count": null,
   "metadata": {},
   "outputs": [],
   "source": [
    "def walk(self):\n",
    "    print(self.name+' can walk.')\n"
   ]
  },
  {
   "cell_type": "code",
   "execution_count": null,
   "metadata": {},
   "outputs": [],
   "source": [
    "def eat(self):\n",
    "    print(self.name+' can eat.')\n"
   ]
  },
  {
   "cell_type": "code",
   "execution_count": null,
   "metadata": {},
   "outputs": [],
   "source": [
    ">>> zhang = Person('zhang')\n",
    ">>> zhang.sing()                              #用户不具有该行为\n"
   ]
  },
  {
   "cell_type": "code",
   "execution_count": null,
   "metadata": {},
   "outputs": [],
   "source": [
    ">>> zhang.sing = types.MethodType(sing, zhang)#动态增加一个新行为\n",
    ">>> zhang.sing()\n"
   ]
  },
  {
   "cell_type": "code",
   "execution_count": null,
   "metadata": {},
   "outputs": [],
   "source": [
    ">>> zhang.walk()\n"
   ]
  },
  {
   "cell_type": "code",
   "execution_count": null,
   "metadata": {},
   "outputs": [],
   "source": [
    ">>> zhang.walk = types.MethodType(walk, zhang)\n",
    ">>> zhang.walk()\n"
   ]
  },
  {
   "cell_type": "code",
   "execution_count": null,
   "metadata": {},
   "outputs": [],
   "source": [
    ">>> del zhang.walk                             #删除用户行为\n",
    ">>> zhang.walk()\n"
   ]
  },
  {
   "cell_type": "markdown",
   "metadata": {},
   "source": [
    "### 函数和方法的区别"
   ]
  },
  {
   "cell_type": "markdown",
   "metadata": {},
   "source": [
    "#### 方法一般指与特定实例绑定的函数，通过对象调用方法时，对象本身将被作为第一个参数隐式传递过去，普通函数并不具备这个特点。\n"
   ]
  },
  {
   "cell_type": "code",
   "execution_count": null,
   "metadata": {},
   "outputs": [],
   "source": [
    "class Demo:\n",
    "    pass\n",
    "t = Demo()\n",
    "def test(self, v):\n",
    "    self.value = v\n"
   ]
  },
  {
   "cell_type": "code",
   "execution_count": null,
   "metadata": {},
   "outputs": [],
   "source": [
    ">>> t.test = test\n",
    ">>> t.test                    #普通函数\n"
   ]
  },
  {
   "cell_type": "code",
   "execution_count": null,
   "metadata": {},
   "outputs": [],
   "source": [
    ">>> t.test(t, 3)              #必须为self参数传值\n"
   ]
  },
  {
   "cell_type": "code",
   "execution_count": null,
   "metadata": {},
   "outputs": [],
   "source": [
    ">>> t.test = types.MethodType(test, t)\n",
    ">>> t.test                      #绑定的方法\n"
   ]
  },
  {
   "cell_type": "code",
   "execution_count": null,
   "metadata": {},
   "outputs": [],
   "source": [
    ">>> t.test(5)                   #不需要为self参数传值"
   ]
  },
  {
   "cell_type": "markdown",
   "metadata": {},
   "source": [
    "### Python并没有对私有成员提供严格的访问保护机制"
   ]
  },
  {
   "cell_type": "markdown",
   "metadata": {},
   "source": [
    "私有成员在类的外部不能直接访问，需要通过调用对象的公开成员方法来访问，也可以通过Python支持的特殊方式来访问。\n"
   ]
  },
  {
   "cell_type": "code",
   "execution_count": null,
   "metadata": {},
   "outputs": [],
   "source": [
    "class A:\n",
    "    def __init__(self, value1 = 1, value2 = 2):\n",
    "        self._value1 = value1\n",
    "        self.__value2 = value2\n",
    "    def setValue(self, value1, value2):\n",
    "        self._value1 = value1\n",
    "        self.__value2 = value2\n",
    "    def show(self):\n",
    "        print(self._value1)\n",
    "        print(self.__value2)\n"
   ]
  },
  {
   "cell_type": "code",
   "execution_count": null,
   "metadata": {},
   "outputs": [],
   "source": [
    ">>> a = A()\n",
    ">>> a._value1\n"
   ]
  },
  {
   "cell_type": "code",
   "execution_count": null,
   "metadata": {},
   "outputs": [],
   "source": [
    "a.show()"
   ]
  },
  {
   "cell_type": "code",
   "execution_count": null,
   "metadata": {},
   "outputs": [],
   "source": [
    "a._value1"
   ]
  },
  {
   "cell_type": "code",
   "execution_count": null,
   "metadata": {},
   "outputs": [],
   "source": [
    "a.__value2"
   ]
  },
  {
   "cell_type": "code",
   "execution_count": null,
   "metadata": {},
   "outputs": [],
   "source": [
    ">>> a._A__value2             #在外部访问对象的私有数据成员"
   ]
  },
  {
   "cell_type": "markdown",
   "metadata": {},
   "source": [
    "### 下面的代码演示了私有成员定义和访问的方法：\n"
   ]
  },
  {
   "cell_type": "code",
   "execution_count": 8,
   "metadata": {},
   "outputs": [],
   "source": [
    "class Fruit:\n",
    "    def __init__(self):\n",
    "        self.__color = 'Red'\n",
    "        self.price = 1\n"
   ]
  },
  {
   "cell_type": "code",
   "execution_count": 9,
   "metadata": {},
   "outputs": [
    {
     "data": {
      "text/plain": [
       "1"
      ]
     },
     "execution_count": 9,
     "metadata": {},
     "output_type": "execute_result"
    }
   ],
   "source": [
    ">>> apple = Fruit()\n",
    ">>> apple.price                               #显示对象公开数据成员的值\n"
   ]
  },
  {
   "cell_type": "code",
   "execution_count": 10,
   "metadata": {},
   "outputs": [
    {
     "data": {
      "text/plain": [
       "2"
      ]
     },
     "execution_count": 10,
     "metadata": {},
     "output_type": "execute_result"
    }
   ],
   "source": [
    ">>> apple.price = 2                           #修改对象公开数据成员的值\n",
    ">>> apple.price\n"
   ]
  },
  {
   "cell_type": "code",
   "execution_count": null,
   "metadata": {},
   "outputs": [],
   "source": [
    ">>> print(apple.price, apple.__color)   #显示对象私有数据成员的值\n"
   ]
  },
  {
   "cell_type": "code",
   "execution_count": null,
   "metadata": {},
   "outputs": [],
   "source": [
    ">>> apple._Fruit__color = \"Blue\"              #修改对象私有数据成员的值\n",
    ">>> print(apple.price, apple._Fruit__color)\n"
   ]
  },
  {
   "cell_type": "code",
   "execution_count": null,
   "metadata": {},
   "outputs": [],
   "source": [
    ">>> print(apple.__color)      #不能直接访问对象的私有数据成员，出错\n"
   ]
  },
  {
   "cell_type": "markdown",
   "metadata": {},
   "source": [
    "### 一个下划线“_”表示解释器中最后一次显示的内容或最后一次语句正确执行的输出结果。"
   ]
  },
  {
   "cell_type": "code",
   "execution_count": null,
   "metadata": {},
   "outputs": [],
   "source": [
    ">>> for _ in range(5):\n",
    "    print(3, end=' ')\n"
   ]
  },
  {
   "cell_type": "markdown",
   "metadata": {},
   "source": [
    "### 在程序中，可以使用一个下划线来表示不关心该变量的值。\n"
   ]
  },
  {
   "cell_type": "code",
   "execution_count": null,
   "metadata": {},
   "outputs": [],
   "source": [
    ">>> a, _ = divmod(60, 18)          #只关心整商，不关心余数，\n",
    "                                   #等价于a = 60//18\n",
    ">>> a\n"
   ]
  },
  {
   "cell_type": "markdown",
   "metadata": {},
   "source": [
    "# 6.2 方法\n"
   ]
  },
  {
   "cell_type": "markdown",
   "metadata": {},
   "source": [
    "### 静态方法和类方法都可以通过类名和对象名调用，但不能直接访问属于对象的成员，只能访问属于类的成员。\n"
   ]
  },
  {
   "cell_type": "markdown",
   "metadata": {},
   "source": [
    "### 静态方法可以没有参数。\n",
    "### 一般将cls作为类方法的第一个参数名称，但也可以使用其他的名字作为参数，并且在调用类方法时不需要为该参数传递值。\n"
   ]
  },
  {
   "cell_type": "code",
   "execution_count": null,
   "metadata": {},
   "outputs": [],
   "source": [
    ">>> class Root:\n",
    "    __total = 0\n",
    "    def __init__(self, v):    #构造方法\n",
    "        self.__value = v\n",
    "        Root.__total += 1\n",
    "\n",
    "    def show(self):           #普通实例方法\n",
    "        print('self.__value:', self.__value)\n",
    "        print('Root.__total:', Root.__total)\n",
    "\n",
    "    @classmethod              #修饰器，声明类方法\n",
    "    def classShowTotal(cls):  #类方法\n",
    "        print(cls.__total)\n",
    "\n",
    "    @staticmethod             #修饰器，声明静态方法\n",
    "    def staticShowTotal():    #静态方法\n",
    "        print(Root.__total)\n"
   ]
  },
  {
   "cell_type": "code",
   "execution_count": null,
   "metadata": {},
   "outputs": [],
   "source": [
    ">>> r = Root(3)\n",
    ">>> r.classShowTotal()              #通过对象来调用类方法\n"
   ]
  },
  {
   "cell_type": "code",
   "execution_count": null,
   "metadata": {},
   "outputs": [],
   "source": [
    ">>> r.staticShowTotal()             #通过对象来调用静态方法\n"
   ]
  },
  {
   "cell_type": "code",
   "execution_count": null,
   "metadata": {},
   "outputs": [],
   "source": [
    ">>> r.show()\n"
   ]
  },
  {
   "cell_type": "code",
   "execution_count": null,
   "metadata": {},
   "outputs": [],
   "source": [
    ">>> rr = Root(5)\n",
    ">>> Root.classShowTotal()           #通过类名调用类方法\n"
   ]
  },
  {
   "cell_type": "code",
   "execution_count": null,
   "metadata": {},
   "outputs": [],
   "source": [
    ">>> Root.staticShowTotal()          #通过类名调用静态方法\n"
   ]
  },
  {
   "cell_type": "code",
   "execution_count": null,
   "metadata": {},
   "outputs": [],
   "source": [
    ">>> Root.show()    #试图通过类名直接调用实例方法，失败\n"
   ]
  },
  {
   "cell_type": "code",
   "execution_count": null,
   "metadata": {},
   "outputs": [],
   "source": [
    ">>> Root.show(r)   #但是可以通过这种方法来调用方法并访问实例成员\n"
   ]
  },
  {
   "cell_type": "code",
   "execution_count": null,
   "metadata": {},
   "outputs": [],
   "source": [
    ">>> Root.show(rr)  #通过类名调用实例方法时为self参数显式传递对象名\n"
   ]
  },
  {
   "cell_type": "markdown",
   "metadata": {},
   "source": [
    "### 类方法、静态方法的区别与作用"
   ]
  },
  {
   "cell_type": "markdown",
   "metadata": {},
   "source": [
    "#### 类方法"
   ]
  },
  {
   "cell_type": "code",
   "execution_count": null,
   "metadata": {},
   "outputs": [],
   "source": [
    "class ClassTest(object):\n",
    "    __num = 0\n",
    "    @classmethod\n",
    "    def addNum(cls):\n",
    "        cls.__num += 1\n",
    "    @classmethod\n",
    "    def getNum(cls):\n",
    "        return cls.__num\n",
    "    # 这里用到魔术函数__new__，主要是为了在创建实例的时候调用人数累加的函数。\n",
    "    def __new__(self):\n",
    "        ClassTest.addNum()\n",
    "        return super(ClassTest, self).__new__(self)\n"
   ]
  },
  {
   "cell_type": "code",
   "execution_count": null,
   "metadata": {},
   "outputs": [],
   "source": [
    "class Student(ClassTest):\n",
    "    def __init__(self):\n",
    "        self.name = ''\n"
   ]
  },
  {
   "cell_type": "code",
   "execution_count": null,
   "metadata": {},
   "outputs": [],
   "source": [
    "a = Student()\n",
    "b = Student()\n",
    "print(ClassTest.getNum())"
   ]
  },
  {
   "cell_type": "markdown",
   "metadata": {},
   "source": [
    "#### 静态方法"
   ]
  },
  {
   "cell_type": "code",
   "execution_count": null,
   "metadata": {},
   "outputs": [],
   "source": [
    "import time\n",
    "class TimeTest(object):\n",
    "    def __init__(self, hour, minute, second):\n",
    "        self.hour = hour\n",
    "        self.minute = minute\n",
    "        self.second = second\n",
    "    @staticmethod\n",
    "    def showTime():\n",
    "        return time.strftime(\"%H:%M:%S\", time.localtime())\n"
   ]
  },
  {
   "cell_type": "code",
   "execution_count": null,
   "metadata": {},
   "outputs": [],
   "source": [
    "print(TimeTest.showTime())\n",
    "t = TimeTest(2, 10, 10)\n",
    "nowTime = t.showTime()\n",
    "print(nowTime)"
   ]
  },
  {
   "cell_type": "markdown",
   "metadata": {},
   "source": [
    "# 6.3 属性\n"
   ]
  },
  {
   "cell_type": "markdown",
   "metadata": {},
   "source": [
    "### 只读属性\n"
   ]
  },
  {
   "cell_type": "code",
   "execution_count": null,
   "metadata": {},
   "outputs": [],
   "source": [
    "class Test:\n",
    "    def __init__(self, value):\n",
    "        self.__value = value\n",
    "\n",
    "    @property\n",
    "    def value(self):               #只读，无法修改和删除\n",
    "        return self.__value\n"
   ]
  },
  {
   "cell_type": "code",
   "execution_count": null,
   "metadata": {},
   "outputs": [],
   "source": [
    ">>> t = Test(3)\n",
    ">>> t.value\n"
   ]
  },
  {
   "cell_type": "code",
   "execution_count": null,
   "metadata": {},
   "outputs": [],
   "source": [
    ">>> t.value = 5                        #只读属性不允许修改值\n"
   ]
  },
  {
   "cell_type": "code",
   "execution_count": null,
   "metadata": {},
   "outputs": [],
   "source": [
    ">>> t.v=5                              #动态增加新成员\n",
    ">>> t.v\n"
   ]
  },
  {
   "cell_type": "code",
   "execution_count": null,
   "metadata": {},
   "outputs": [],
   "source": [
    ">>> del t.v                            #动态删除成员\n",
    ">>> del t.value                        #试图删除对象属性，失败\n"
   ]
  },
  {
   "cell_type": "code",
   "execution_count": null,
   "metadata": {},
   "outputs": [],
   "source": [
    ">>> t.value\n"
   ]
  },
  {
   "cell_type": "markdown",
   "metadata": {},
   "source": [
    "### 可读、可写属性\n"
   ]
  },
  {
   "cell_type": "code",
   "execution_count": null,
   "metadata": {},
   "outputs": [],
   "source": [
    ">>> class Test:\n",
    "    def __init__(self, value):\n",
    "        self.__value = value\n",
    "\n",
    "    def __get(self):\n",
    "        return self.__value\n",
    "\n",
    "    def __set(self, v):\n",
    "        self.__value = v\n",
    "\n",
    "    value = property(__get, __set)\n",
    "\n",
    "    def show(self):\n",
    "        print(self.__value)\n"
   ]
  },
  {
   "cell_type": "code",
   "execution_count": null,
   "metadata": {},
   "outputs": [],
   "source": [
    ">>> t = Test(3)\n",
    ">>> t.value      #允许读取属性值\n"
   ]
  },
  {
   "cell_type": "code",
   "execution_count": null,
   "metadata": {},
   "outputs": [],
   "source": [
    ">>> t.value = 5  #允许修改属性值\n",
    ">>> t.value\n"
   ]
  },
  {
   "cell_type": "code",
   "execution_count": null,
   "metadata": {},
   "outputs": [],
   "source": [
    ">>> t.show()     #属性对应的私有变量也得到了相应的修改\n"
   ]
  },
  {
   "cell_type": "code",
   "execution_count": null,
   "metadata": {},
   "outputs": [],
   "source": [
    ">>> del t.value  #试图删除属性，失败\n"
   ]
  },
  {
   "cell_type": "markdown",
   "metadata": {},
   "source": [
    "### 可读、可修改、可删除的属性。\n"
   ]
  },
  {
   "cell_type": "code",
   "execution_count": null,
   "metadata": {},
   "outputs": [],
   "source": [
    ">>> class Test:\n",
    "    def __init__(self, value):\n",
    "        self.__value = value\n",
    "\n",
    "    def __get(self):\n",
    "        return self.__value\n",
    "    \n",
    "    def __set(self, v):\n",
    "        self.__value = v\n",
    "\n",
    "    def __del(self):\n",
    "        del self.__value\n",
    "\n",
    "    value = property(__get, __set, __del)\n",
    "\n",
    "    def show(self):\n",
    "        print(self.__value)\n"
   ]
  },
  {
   "cell_type": "code",
   "execution_count": null,
   "metadata": {},
   "outputs": [],
   "source": [
    ">>> t = Test(3)\n",
    ">>> t.show()\n"
   ]
  },
  {
   "cell_type": "code",
   "execution_count": null,
   "metadata": {},
   "outputs": [],
   "source": [
    ">>> t.value\n"
   ]
  },
  {
   "cell_type": "code",
   "execution_count": null,
   "metadata": {},
   "outputs": [],
   "source": [
    ">>> t.value = 5\n",
    ">>> t.show()\n"
   ]
  },
  {
   "cell_type": "code",
   "execution_count": null,
   "metadata": {},
   "outputs": [],
   "source": [
    ">>> t.value\n"
   ]
  },
  {
   "cell_type": "code",
   "execution_count": null,
   "metadata": {},
   "outputs": [],
   "source": [
    ">>> del t.value            #删除属性\n",
    ">>> t.value                #对应的私有数据成员已删除\n"
   ]
  },
  {
   "cell_type": "code",
   "execution_count": null,
   "metadata": {},
   "outputs": [],
   "source": [
    ">>> t.show()\n"
   ]
  },
  {
   "cell_type": "code",
   "execution_count": null,
   "metadata": {},
   "outputs": [],
   "source": [
    ">>> t.value =1             #为对象动态增加属性和对应的私有数据成员\n",
    ">>> t.show()\n"
   ]
  },
  {
   "cell_type": "code",
   "execution_count": null,
   "metadata": {},
   "outputs": [],
   "source": [
    ">>> t.value\n"
   ]
  },
  {
   "cell_type": "markdown",
   "metadata": {},
   "source": [
    "### 通过getter和setter方法来实现"
   ]
  },
  {
   "cell_type": "code",
   "execution_count": null,
   "metadata": {},
   "outputs": [],
   "source": [
    "class Person(object):\n",
    "\n",
    "    def __init__(self,name,sex,age,blood):\n",
    "        self.name = name\n",
    "        self.sex = sex\n",
    "        self.age = age\n",
    "        self._blood = blood\n",
    "\n",
    "    #只读属性\n",
    "    @property\n",
    "    def name(self):\n",
    "        return self._name\n",
    "\n",
    "\n",
    "    #可写属性\n",
    "    @name.setter\n",
    "    def name(self,tname):\n",
    "        self._name =tname\n",
    "\n",
    "    #只读属性\n",
    "    @property\n",
    "    def sex(self):\n",
    "        return self._sex\n",
    "\n",
    "\n",
    "    #可写属性\n",
    "    @sex.setter\n",
    "    def sex(self,sex):\n",
    "        if sex !='男' and sex !='女':\n",
    "            raise ValueError('sex must be 男 or 女')\n",
    "        self._sex =sex\n",
    "\n",
    "    #只读属性\n",
    "    @property\n",
    "    def age(self):\n",
    "        return self._age\n",
    "\n",
    "    #可写属性\n",
    "    @sex.setter\n",
    "    def age(self, age):\n",
    "        if not isinstance(age, int):\n",
    "            raise ValueError('age must be an integer!')\n",
    "        if age < 0 or age > 100:\n",
    "            raise ValueError('age must between 0 ~ 100!')\n",
    "        self._age = age\n",
    "\n",
    "    #只读属性\n",
    "    @property\n",
    "    def blood(self):\n",
    "        return self._blood"
   ]
  },
  {
   "cell_type": "code",
   "execution_count": null,
   "metadata": {},
   "outputs": [],
   "source": [
    "p=Person(\"张名\",\"男\",19,A)\n",
    "print(p.sex)"
   ]
  },
  {
   "cell_type": "code",
   "execution_count": null,
   "metadata": {},
   "outputs": [],
   "source": [
    "p.age=18"
   ]
  },
  {
   "cell_type": "code",
   "execution_count": null,
   "metadata": {},
   "outputs": [],
   "source": [
    "p.age"
   ]
  },
  {
   "cell_type": "markdown",
   "metadata": {},
   "source": [
    "# 6.4.常用特殊方法\n"
   ]
  },
  {
   "cell_type": "markdown",
   "metadata": {},
   "source": [
    "### 例6-1：自定义数组。在MyArray.py文件中，定义了一个数组类，重写了一部分特殊方法以支持数组之间、数组与整数之间的四则运算以及内积、大小比较、成员测试和元素访问等运算符。\n"
   ]
  },
  {
   "cell_type": "code",
   "execution_count": null,
   "metadata": {},
   "outputs": [],
   "source": [
    "class MyArray:\n",
    "    '''All the elements in this array must be numbers'''\n",
    "\n",
    "    def __IsNumber(self, n):\n",
    "        return isinstance(n, (int, float, complex))\n",
    "\n",
    "    def __init__(self, *args):\n",
    "        if not args:\n",
    "            self.__value = []\n",
    "        else:\n",
    "            for arg in args:\n",
    "                if not self.__IsNumber(arg):\n",
    "                    print('All elements must be numbers')\n",
    "                    return\n",
    "            self.__value = list(args)\n",
    "\n",
    "    # 重载运算符+\n",
    "    # 数组中每个元素都与数字n相加，或两个数组相加，返回新数组\n",
    "    def __add__(self, n):\n",
    "        if self.__IsNumber(n):\n",
    "            # 数组中所有元素都与数字n相加\n",
    "            b = MyArray()\n",
    "            b.__value = [item+n for item in self.__value]\n",
    "            return b\n",
    "        elif isinstance(n, MyArray):\n",
    "            # 两个等长的数组对应元素相加\n",
    "            if len(n.__value)==len(self.__value):\n",
    "                c = MyArray()\n",
    "                c.__value = [i+j for i, j in zip(self.__value, n.__value)]\n",
    "                # for i, j in zip(self.__value, n.__value):\n",
    "                #     c.__value.append(i+j)\n",
    "                return c\n",
    "            else:\n",
    "                print('Lenght not equal')                \n",
    "        else:\n",
    "            print('Not supported')\n",
    "\n",
    "    # 重载运算符-\n",
    "    # 数组中每个元素都与数字n相减，返回新数组\n",
    "    def __sub__(self, n):\n",
    "        if not self.__IsNumber(n):\n",
    "            print('- operating with ', type(n), ' and number type is not supported.')\n",
    "            return\n",
    "        b = MyArray()\n",
    "        b.__value = [item-n for item in self.__value]\n",
    "        return b\n",
    "\n",
    "    # 重载运算符*\n",
    "    # 数组中每个元素都与数字n相乘，返回新数组\n",
    "    def __mul__(self, n):\n",
    "        if not self.__IsNumber(n):\n",
    "            print('* operating with ', type(n), ' and number type is not supported.')\n",
    "            return\n",
    "        b = MyArray()\n",
    "        b.__value = [item*n for item in self.__value]\n",
    "        return b\n",
    "\n",
    "    # 重载运算符/\n",
    "    # 数组中每个元素都与数字n相除，返回新数组\n",
    "    def __truediv__(self, n):\n",
    "        if not self.__IsNumber(n):\n",
    "            print(r'/ operating with ', type(n), ' and number type is not supported.')\n",
    "            return\n",
    "        b = MyArray()\n",
    "        b.__value = [item/n for item in self.__value]\n",
    "        return b\n",
    "\n",
    "    # 重载运算符//\n",
    "    # 数组中每个元素都与数字n整除，返回新数组\n",
    "    def __floordiv__(self, n):\n",
    "        if not isinstance(n, int):\n",
    "            print(n, ' is not an integer')\n",
    "            return\n",
    "        b = MyArray()\n",
    "        b.__value = [item//n for item in self.__value]\n",
    "        return b\n",
    "\n",
    "    # 重载运算符%\n",
    "    # 数组中每个元素都与数字n求余数，返回新数组\n",
    "    def __mod__(self, n):\n",
    "        if not self.__IsNumber(n):\n",
    "            print(r'% operating with ', type(n), ' and number type is not supported.')\n",
    "            return\n",
    "        b = MyArray()\n",
    "        b.__value = [item%n for item in self.__value]\n",
    "        return b\n",
    "\n",
    "    # 重载运算符**\n",
    "    # 数组中每个元素都与数字n进行幂计算，返回新数组\n",
    "    def __pow__(self, n):\n",
    "        if not self.__IsNumber(n):\n",
    "            print('** operating with ', type(n), ' and number type is not supported.')\n",
    "            return\n",
    "        b = MyArray()\n",
    "        b.__value = [item**n for item in self.__value]\n",
    "        return b\n",
    "\n",
    "    def __len__(self):        \n",
    "        return len(self.__value)\n",
    "\n",
    "    # 直接使用该类对象作为表达式来查看对象的值\n",
    "    def __repr__(self):\n",
    "        # equivalent to return `self.__value`\n",
    "        return repr(self.__value)\n",
    "\n",
    "    # 支持使用print()函数查看对象的值\n",
    "    def __str__(self):\n",
    "        return str(self.__value)\n",
    "\n",
    "    # 追加元素\n",
    "    def append(self, v):\n",
    "        assert self.__IsNumber(v), 'Only number can be appended.'\n",
    "        self.__value.append(v)\n",
    "\n",
    "    # 获取指定下标的元素值，支持使用列表或元组指定多个下标\n",
    "    def __getitem__(self, index): \n",
    "        length = len(self.__value)\n",
    "        # 如果指定单个整数作为下标，则直接返回元素值\n",
    "        if isinstance(index, int) and 0<=index<length: \n",
    "            return self.__value[index]\n",
    "        # 使用列表或元组指定多个整数下标\n",
    "        elif isinstance(index, (list,tuple)):\n",
    "            for i in index:\n",
    "                if not (isinstance(i,int) and 0<=i<length):\n",
    "                    return 'index error'\n",
    "            result = []\n",
    "            for item in index:\n",
    "                result.append(self.__value[item])\n",
    "            return result\n",
    "        else:\n",
    "            return 'index error'\n",
    "\n",
    "    # 修改元素值，支持使用列表或元组指定多个下标，同时修改多个元素值\n",
    "    def __setitem__(self, index, value):\n",
    "        length = len(self.__value)\n",
    "        # 如果下标合法，则直接修改元素值\n",
    "        if isinstance(index, int) and 0<=index<length:\n",
    "            self.__value[index] = value\n",
    "        # 支持使用列表或元组指定多个下标\n",
    "        elif isinstance(index, (list,tuple)):\n",
    "            for i in index:\n",
    "                if not (isinstance(i,int) and 0<=i<length):\n",
    "                    raise Exception('index error')\n",
    "            # 如果下标和给的值都是列表或元组，并且个数一样，则分别为多个下标的元素修改值\n",
    "            if isinstance(value, (list,tuple)):\n",
    "                if len(index) == len(value):\n",
    "                    for i, v in enumerate(index):\n",
    "                        self.__value[v] = value[i]\n",
    "                else:\n",
    "                    raise Exception('values and index must be of the same length')\n",
    "            # 如果指定多个下标和一个普通值，则把多个元素修改为相同的值\n",
    "            elif isinstance(value, (int,float,complex)):\n",
    "                for i in index:\n",
    "                    self.__value[i] = value\n",
    "            else:\n",
    "                raise Exception('value error')\n",
    "        else:\n",
    "            raise Exception('index error')\n",
    "\n",
    "    # 支持成员测试运算符in，测试数组中是否包含某个元素\n",
    "    def __contains__(self, v):        \n",
    "        return v in self.__value\n",
    "\n",
    "    # 模拟向量内积\n",
    "    def dot(self, v):\n",
    "        if not isinstance(v, MyArray):\n",
    "            print(v, ' must be an instance of MyArray.')\n",
    "            return\n",
    "        if len(v) != len(self.__value):\n",
    "            print('The size must be equal.')\n",
    "            return\n",
    "        return sum([i*j for i,j in zip(self.__value, v.__value)])\n",
    "\n",
    "    # 重载运算符==，测试两个数组是否相等\n",
    "    def __eq__(self, v):\n",
    "        assert isinstance(v, MyArray), 'wrong type'\n",
    "        return self.__value == v.__value\n",
    "\n",
    "    # 重载运算符<，比较两个数组大小\n",
    "    def __lt__(self, v):\n",
    "        assert isinstance(v, MyArray), 'wrong type'\n",
    "        return self.__value < v.__value\n",
    "\n",
    "if __name__ == '__main__':\n",
    "    print('Please use me as a module.')\n"
   ]
  },
  {
   "cell_type": "code",
   "execution_count": null,
   "metadata": {},
   "outputs": [],
   "source": [
    ">>> from MyArray import MyArray\n",
    ">>> x = MyArray(1, 2, 3, 4, 5, 6)\n",
    ">>> y = MyArray(6, 5, 4, 3, 2, 1)\n",
    ">>> len(x)\n"
   ]
  },
  {
   "cell_type": "code",
   "execution_count": null,
   "metadata": {},
   "outputs": [],
   "source": [
    ">>> x + 5\n"
   ]
  },
  {
   "cell_type": "code",
   "execution_count": null,
   "metadata": {},
   "outputs": [],
   "source": [
    "test1=[1,2,3,4,5,6]\n",
    "test1+5"
   ]
  },
  {
   "cell_type": "code",
   "execution_count": null,
   "metadata": {},
   "outputs": [],
   "source": [
    ">>> x * 3\n"
   ]
  },
  {
   "cell_type": "code",
   "execution_count": null,
   "metadata": {},
   "outputs": [],
   "source": [
    ">>> x.dot(y)\n"
   ]
  },
  {
   "cell_type": "code",
   "execution_count": null,
   "metadata": {},
   "outputs": [],
   "source": [
    ">>> x.append(7)\n",
    ">>> x\n"
   ]
  },
  {
   "cell_type": "code",
   "execution_count": null,
   "metadata": {},
   "outputs": [],
   "source": [
    ">>> x.dot(y)\n"
   ]
  },
  {
   "cell_type": "code",
   "execution_count": null,
   "metadata": {},
   "outputs": [],
   "source": [
    ">>> x[9] = 8\n"
   ]
  },
  {
   "cell_type": "code",
   "execution_count": null,
   "metadata": {},
   "outputs": [],
   "source": [
    ">>> x / 2\n"
   ]
  },
  {
   "cell_type": "code",
   "execution_count": null,
   "metadata": {},
   "outputs": [],
   "source": [
    ">>> x // 2\n"
   ]
  },
  {
   "cell_type": "code",
   "execution_count": null,
   "metadata": {},
   "outputs": [],
   "source": [
    ">>> x[2]\n"
   ]
  },
  {
   "cell_type": "code",
   "execution_count": null,
   "metadata": {},
   "outputs": [],
   "source": [
    ">>> 'a' in x\n"
   ]
  },
  {
   "cell_type": "code",
   "execution_count": null,
   "metadata": {},
   "outputs": [],
   "source": [
    ">>> x < y\n"
   ]
  },
  {
   "cell_type": "code",
   "execution_count": null,
   "metadata": {},
   "outputs": [],
   "source": [
    ">>> x = MyArray(1, 2, 3, 4, 5, 6)\n",
    ">>> x + y\n"
   ]
  },
  {
   "cell_type": "markdown",
   "metadata": {},
   "source": [
    "### 例6-2  自定义集合。模拟Python内置集合类型，实现元素添加、删除以及并集、交集、对称差集等基本运算。\n"
   ]
  },
  {
   "cell_type": "code",
   "execution_count": null,
   "metadata": {},
   "outputs": [],
   "source": [
    "class Set(object):\n",
    "    def __init__(self, data=None):\n",
    "        if data == None:\n",
    "            self.__data = []\n",
    "        else:\n",
    "            if not hasattr(data, '__iter__'):\n",
    "                # 提供的数据不可迭代，实例化失败\n",
    "                raise Exception('必须提供可迭代的数据类型')\n",
    "            temp = []\n",
    "            for item in data:\n",
    "                #集合中的元素必须可哈希\n",
    "                hash(item)\n",
    "                if not item in temp:\n",
    "                    temp.append(item)\n",
    "            self.__data = temp\n",
    "\n",
    "    # 析构方法\n",
    "    def __del__(self):\n",
    "        del self.__data\n",
    "\n",
    "    # 添加元素，要求元素必须可哈希\n",
    "    def add(self, value):\n",
    "        hash(value)\n",
    "        if value not in self.__data:\n",
    "            self.__data.append(value)\n",
    "        else:\n",
    "            print('元素已存在，操作被忽略')\n",
    "\n",
    "    # 删除元素\n",
    "    def remove(self, value):\n",
    "        if value in self.__data:\n",
    "            self.__data.remove(value)\n",
    "            print('删除成功')\n",
    "        else:\n",
    "            print('元素不存在，删除操作被忽略')\n",
    "\n",
    "    # 随机弹出并返回一个元素\n",
    "    def pop(self):\n",
    "        if not self.__data:\n",
    "            print('集合已空,弹出操作被忽略')\n",
    "            return\n",
    "        import random\n",
    "        item = random.choice(self.__data)\n",
    "        self.__data.remove(item)\n",
    "        return item\n",
    "\n",
    "    # 运算符重载，集合差集运算\n",
    "    def __sub__(self, anotherSet):\n",
    "        if not isinstance(anotherSet, Set):\n",
    "            raise Exception('类型错误')\n",
    "        # 空集合\n",
    "        result = Set()\n",
    "        # 如果一个元素属于当前集合而不属于另一个集合，添加\n",
    "        for item in self.__data:\n",
    "            if item not in anotherSet.__data:\n",
    "                result.__data.append(item)\n",
    "        return result\n",
    "    \n",
    "    # 提供方法，集合差集运算，复用上面的代码\n",
    "    def difference(self, anotherSet):\n",
    "        return self - anotherSet\n",
    "\n",
    "    \n",
    "    # |运算符重载，集合并集运算\n",
    "    def __or__(self, anotherSet):\n",
    "        if not isinstance(anotherSet, Set):\n",
    "            raise Exception('类型错误')\n",
    "        result = Set(self.__data)\n",
    "        for item in anotherSet.__data:\n",
    "            if item not in result.__data:\n",
    "                result.__data.append(item)\n",
    "        return result\n",
    "    \n",
    "    # 提供方法，集合并集运算\n",
    "    def union(self, anotherSet):\n",
    "        return self | anotherSet\n",
    "    \n",
    "    # &运算符重载，集合交集运算\n",
    "    def __and__(self, anotherSet):\n",
    "        if not isinstance(anotherSet, Set):\n",
    "            raise Exception('类型错误')\n",
    "        result = Set()\n",
    "        for item in self.__data:\n",
    "            if item in anotherSet.__data:\n",
    "                result.__data.append(item)\n",
    "        return result\n",
    "        \n",
    "    # ^运算符重载，集合对称差集\n",
    "    def __xor__(self, anotherSet):\n",
    "        return (self-anotherSet) | (anotherSet-self)\n",
    "\n",
    "    # 提供方法，集合对称差集运算\n",
    "    def symetric_difference(self, anotherSet):\n",
    "        return self ^ anotherSet\n",
    "\n",
    "    # ==运算符重载，判断两个集合是否相等\n",
    "    def __eq__(self, anotherSet):\n",
    "        if not isinstance(anotherSet, Set):\n",
    "            raise Exception('类型错误')\n",
    "        return sorted(self.__data) == sorted(anotherSet.__data)\n",
    "\n",
    "    # >运算符重载，集合包含关系\n",
    "    def __gt__(self, anotherSet):\n",
    "        if not isinstance(anotherSet, Set):\n",
    "            raise Exception('类型错误')\n",
    "        if self != anotherSet:\n",
    "            # 假设当前集合中所有元素都在另一个集合中\n",
    "            flag1 = True\n",
    "            # 检查当前集合中是否有元素不在另一个集合中\n",
    "            for item in self.__data:\n",
    "                if item not in anotherSet.__data:\n",
    "                    # 当前集合中有的元素不属于另一个集合\n",
    "                    flag1 = False\n",
    "                    break\n",
    "\n",
    "            # 假设另一个集合的所有元素都在当前集合中\n",
    "            flag2 = True\n",
    "            for item in anotherSet.__data:\n",
    "                if item not in self.__data:\n",
    "                    # 另一个集合中有的元素不属于当前集合\n",
    "                    flag2 = False\n",
    "                    break\n",
    "            # 当前集合中有元素不在另一个集合中\n",
    "            # 而另一个集合中所有元素都在当前集合中\n",
    "            # 则认为当前集合大于另一个集合\n",
    "            if  not flag1 and flag2:\n",
    "                return True\n",
    "            return False\n",
    "\n",
    "    # >=运算符重载，集合包含关系\n",
    "    def __ge__(self, anotherSet):\n",
    "        if not isinstance(anotherSet, Set):\n",
    "            raise Exception('类型错误')\n",
    "        return self==anotherSet or self>anotherSet\n",
    "    \n",
    "    # 提供方法，判断当前集合是否为另一个集合的真子集\n",
    "    def issubset(self, anotherSet):\n",
    "        return self < anotherSet\n",
    "\n",
    "    # 提供方法，判断当前集合是否为另一个集合的超集\n",
    "    def issuperset(self, anotherSet):\n",
    "        return self > anotherSet\n",
    "\n",
    "    # 提供方法，清空集合所有元素\n",
    "    def clear(self):\n",
    "        while self.__data:\n",
    "            del self.__data[-1]\n",
    "        print('集合已清空')\n",
    "\n",
    "    # 运算符重载，使得集合可迭代\n",
    "    def __iter__(self):\n",
    "        return iter(self.__data)\n",
    "\n",
    "    # 运算符重载，支持in运算符\n",
    "    def __contains__(self, value):\n",
    "        return value in self.__data\n",
    "\n",
    "    # 支持内置函数len()\n",
    "    def __len__(self):\n",
    "        return len(self.__data)\n",
    "        \n",
    "    # 直接查看该类对象时调用该函数\n",
    "    def __repr__(self):\n",
    "        return '{'+str(self.__data)[1:-1]+'}'\n",
    "\n",
    "    # 使用print()函数输出该类对象时调用该函数\n",
    "    __str__ = __repr__\n"
   ]
  },
  {
   "cell_type": "code",
   "execution_count": null,
   "metadata": {},
   "outputs": [],
   "source": [
    ">>> from mySet import Set        #导入自定义集合类\n",
    ">>> x = Set(range(10))           #创建集合对象\n",
    ">>> y = Set(range(8, 15))\n",
    ">>> z = Set([1, 2, 3, 4, 5])\n",
    ">>> x\n"
   ]
  },
  {
   "cell_type": "code",
   "execution_count": null,
   "metadata": {},
   "outputs": [],
   "source": [
    ">>> y\n"
   ]
  },
  {
   "cell_type": "code",
   "execution_count": null,
   "metadata": {},
   "outputs": [],
   "source": [
    ">>> z.add(6)                     #增加元素\n",
    ">>> z\n"
   ]
  },
  {
   "cell_type": "code",
   "execution_count": null,
   "metadata": {},
   "outputs": [],
   "source": [
    ">>> z.remove(3)                  #删除指定元素\n"
   ]
  },
  {
   "cell_type": "code",
   "execution_count": null,
   "metadata": {},
   "outputs": [],
   "source": [
    ">>> y.pop()                      #随机删除一个元素\n"
   ]
  },
  {
   "cell_type": "code",
   "execution_count": null,
   "metadata": {},
   "outputs": [],
   "source": [
    ">>> x - y                        #差集\n"
   ]
  },
  {
   "cell_type": "code",
   "execution_count": null,
   "metadata": {},
   "outputs": [],
   "source": [
    ">>> x - z\n"
   ]
  },
  {
   "cell_type": "code",
   "execution_count": null,
   "metadata": {},
   "outputs": [],
   "source": [
    ">>> x.difference(y)\n"
   ]
  },
  {
   "cell_type": "code",
   "execution_count": null,
   "metadata": {},
   "outputs": [],
   "source": [
    ">>> x | y                        #并集\n"
   ]
  },
  {
   "cell_type": "code",
   "execution_count": null,
   "metadata": {},
   "outputs": [],
   "source": [
    ">>> x.union(y)\n"
   ]
  },
  {
   "cell_type": "code",
   "execution_count": null,
   "metadata": {},
   "outputs": [],
   "source": [
    ">>> x & z                        #交集\n"
   ]
  },
  {
   "cell_type": "code",
   "execution_count": null,
   "metadata": {},
   "outputs": [],
   "source": [
    ">>> x ^ z                     #对称差集\n"
   ]
  },
  {
   "cell_type": "code",
   "execution_count": null,
   "metadata": {},
   "outputs": [],
   "source": [
    ">>> x.symetric_difference(y)\n"
   ]
  },
  {
   "cell_type": "markdown",
   "metadata": {},
   "source": [
    "# 6.5 继承机制\n"
   ]
  },
  {
   "cell_type": "markdown",
   "metadata": {},
   "source": [
    "### 例6-7：在派生类中调用基类方法。\n"
   ]
  },
  {
   "cell_type": "code",
   "execution_count": null,
   "metadata": {},
   "outputs": [],
   "source": [
    "class Person(object):\n",
    "    def __init__(self, name = '', age = 20, sex = 'man'):\n",
    "        self.setName(name)\n",
    "        self.setAge(age)\n",
    "        self.setSex(sex)\n",
    "        \n",
    "    def setName(self, name):\n",
    "        assert isinstance(name, str), 'name must be string.'\n",
    "        self.__name = name\n",
    "        \n",
    "    def setAge(self, age):\n",
    "        assert isinstance(age, int), 'age must be integer.'\n",
    "        self.__age = age\n",
    "        \n",
    "    def setSex(self, sex):\n",
    "        assert sex in ('man', 'woman'), 'sex must be \"man\" or \"woman\"'\n",
    "        self.__sex = sex\n",
    "        \n",
    "    def show(self):\n",
    "        print('Name:', self.__name)\n",
    "        print('Age:', self.__age)\n",
    "        print('Sex:', self.__sex)\n",
    "\n",
    "class Teacher(Person):\n",
    "    def __init__(self, name='', age = 30, sex = 'man', department = 'Computer'):\n",
    "        super(Teacher, self).__init__(name, age, sex)\n",
    "        # 也可以使用下面的形式对基类数据成员进行初始化\n",
    "        #Person.__init__(self, name, age, sex)\n",
    "        self.setDepartment(department)\n",
    "        \n",
    "    def setDepartment(self, department):        \n",
    "        assert isinstance(department, str), 'department must be a string.'\n",
    "        self.__department = department\n",
    "        \n",
    "    def show(self):\n",
    "        super(Teacher, self).show()\n",
    "        print('Department:', self.__department)\n",
    "\n",
    "if __name__ =='__main__':\n",
    "    print('='*30)\n",
    "    zhangsan = Person('Zhang San', 19, 'man')\n",
    "    zhangsan.show()\n",
    "\n",
    "    print('='*30)\n",
    "    lisi = Teacher('Li Si',32, 'man', 'Math')\n",
    "    lisi.show()\n",
    "    print('='*30)\n",
    "    lisi.setAge(40)\n",
    "    lisi.show()\n"
   ]
  },
  {
   "cell_type": "markdown",
   "metadata": {},
   "source": [
    "### 构造函数、私有方法以及普通公开方法的继承原理。\n"
   ]
  },
  {
   "cell_type": "code",
   "execution_count": null,
   "metadata": {},
   "outputs": [],
   "source": [
    ">>> class A(object):\n",
    "    def __init__(self):  #构造方法可能会被派生类继承\n",
    "        self.__private()\n",
    "        self.public()\n",
    "\n",
    "    def __private(self): #私有方法在派生类中不能直接访问\n",
    "        print('__private() method in A')\n",
    "\n",
    "    def public(self): #公开方法在派生类中可以直接访问，也可以被覆盖\n",
    "        print('public() method in A')"
   ]
  },
  {
   "cell_type": "code",
   "execution_count": null,
   "metadata": {},
   "outputs": [],
   "source": [
    ">>> class B(A):            #类B没有构造方法，会继承基类的构造方法\n",
    "\n",
    "    def __private(self):   #这不会覆盖基类的私有方法\n",
    "        print('__private() method in B')\n",
    "\n",
    "    def public(self):      #覆盖了继承自A类的公开方法public\n",
    "        print('public() method in B')\n",
    "\n",
    ">>> b = B()                #自动调用基类构造方法\n"
   ]
  },
  {
   "cell_type": "code",
   "execution_count": null,
   "metadata": {},
   "outputs": [],
   "source": [
    ">>> dir(b)                 #基类和派生类的私有方法访问方式不一样\n"
   ]
  },
  {
   "cell_type": "code",
   "execution_count": null,
   "metadata": {},
   "outputs": [],
   "source": [
    ">>> class C(A):\n",
    "    def __init__(self):     #显式定义构造函数\n",
    "        self.__private()     #这里调用的是类C的私有方法\n",
    "        self.public()\n",
    "        \n",
    "    def __private(self):\n",
    "        print('__private() method in C')\n",
    "\n",
    "    def public(self):\n",
    "        print('public() method in C')"
   ]
  },
  {
   "cell_type": "code",
   "execution_count": null,
   "metadata": {},
   "outputs": [],
   "source": [
    ">>> c = C()                 #调用类C的构造方法\n"
   ]
  },
  {
   "cell_type": "code",
   "execution_count": null,
   "metadata": {},
   "outputs": [],
   "source": [
    ">>> dir(c)\n"
   ]
  },
  {
   "cell_type": "markdown",
   "metadata": {},
   "source": [
    "# 6.6 多态原理与实现\n"
   ]
  },
  {
   "cell_type": "code",
   "execution_count": null,
   "metadata": {},
   "outputs": [],
   "source": [
    "class Animal(object):      #定义基类\n",
    "    def show(self):\n",
    "        print('I am an animal.')\n",
    "class Cat(Animal):         #派生类，覆盖了基类的show()方法\n",
    "    def show(self):\n",
    "        print('I am a cat.')\n",
    "class Dog(Animal):         #派生类\n",
    "    def show(self):\n",
    "        print('I am a dog.')\n",
    "class Tiger(Animal):       #派生类\n",
    "    def show(self):\n",
    "        print('I am a tiger.')\n",
    "class Test(Animal):        #派生类，没有覆盖基类的show()方法\n",
    "    pass\n"
   ]
  },
  {
   "cell_type": "code",
   "execution_count": null,
   "metadata": {},
   "outputs": [],
   "source": [
    ">>> x = [item() for item in (Animal, Cat, Dog, Tiger, Test)]\n",
    ">>> for item in x:        #遍历基类和派生类对象并调用show()方法\n",
    "    item.show()\n"
   ]
  },
  {
   "cell_type": "code",
   "execution_count": null,
   "metadata": {},
   "outputs": [],
   "source": []
  },
  {
   "cell_type": "code",
   "execution_count": null,
   "metadata": {},
   "outputs": [],
   "source": []
  }
 ],
 "metadata": {
  "kernelspec": {
   "display_name": "Python 3",
   "language": "python",
   "name": "python3"
  },
  "language_info": {
   "codemirror_mode": {
    "name": "ipython",
    "version": 3
   },
   "file_extension": ".py",
   "mimetype": "text/x-python",
   "name": "python",
   "nbconvert_exporter": "python",
   "pygments_lexer": "ipython3",
   "version": "3.7.2"
  }
 },
 "nbformat": 4,
 "nbformat_minor": 4
}
