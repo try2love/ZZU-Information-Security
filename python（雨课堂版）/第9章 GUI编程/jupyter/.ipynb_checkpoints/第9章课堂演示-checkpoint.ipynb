{
 "cells": [
  {
   "cell_type": "markdown",
   "metadata": {},
   "source": [
    "# 9.1.1 Frame\n"
   ]
  },
  {
   "cell_type": "code",
   "execution_count": 1,
   "metadata": {},
   "outputs": [],
   "source": [
    "import wx\n",
    "\n",
    "\n",
    "class MyFrame(wx.Frame):\n",
    "\n",
    "    def __init__(self, superior):\n",
    "        wx.Frame.__init__(self, parent=superior, title=u'My First Form', size=(300, 300))\n",
    "        self.Bind(wx.EVT_SIZE, self.OnSize)\n",
    "        self.Bind(wx.EVT_MOVE, self.OnFrameMove)\n",
    "\n",
    "        # Add a panel and some controls to display the size and position\n",
    "        panel = wx.Panel(self, -1)\n",
    "        label1 = wx.StaticText(panel, -1, \"FrameSize:\")\n",
    "        label2 = wx.StaticText(panel, -1, \"FramePos:\")\n",
    "        label3 = wx.StaticText(parent=panel, label=\"MousePos:\")\n",
    "        self.sizeFrame = wx.TextCtrl(panel, -1, \"\", style=wx.TE_READONLY)\n",
    "        self.posFrame = wx.TextCtrl(panel, -1, \"\", style=wx.TE_READONLY)\n",
    "        self.posMouse = wx.TextCtrl(panel, -1, \"\", style=wx.TE_READONLY)\n",
    "        panel.Bind(wx.EVT_MOTION, self.OnMouseMove)  # 绑定事件处理函数\n",
    "        self.panel = panel\n",
    "\n",
    "        # Use some sizers for layout of the widgets\n",
    "        sizer = wx.FlexGridSizer(3, 2, 5, 5)\n",
    "        sizer.Add(label1)\n",
    "        sizer.Add(self.sizeFrame)\n",
    "        sizer.Add(label2)\n",
    "        sizer.Add(self.posFrame)\n",
    "        sizer.Add(label3)\n",
    "        sizer.Add(self.posMouse)\n",
    "\n",
    "        border = wx.BoxSizer()\n",
    "        border.Add(sizer, 0, wx.ALL, 15)\n",
    "        panel.SetSizerAndFit(border)\n",
    "        self.Fit()\n",
    "\n",
    "    def OnSize(self, event):\n",
    "        size = event.GetSize()\n",
    "        self.sizeFrame.SetValue(\"%s, %s\" % (size.width, size.height))\n",
    "\n",
    "        # tell the event system to continue looking for an event handler,\n",
    "        # so the default handler will get called.\n",
    "        event.Skip()\n",
    "\n",
    "    def OnFrameMove(self, event):\n",
    "        pos = event.GetPosition()\n",
    "        self.posFrame.SetValue(\"%s, %s\" % (pos.x, pos.y))\n",
    "\n",
    "    def OnMouseMove(self, event):  # 鼠标移动事件处理函数\n",
    "        pos = event.GetPosition()\n",
    "        self.posMouse.SetValue(\"%s, %s\" % (pos.x, pos.y))\n",
    "\n"
   ]
  },
  {
   "cell_type": "code",
   "execution_count": 4,
   "metadata": {},
   "outputs": [],
   "source": [
    "if __name__ == '__main__':\n",
    "    app = wx.App()  # Create an instance of the application class\n",
    "    frame = MyFrame(None)\n",
    "    frame.Show(True)\n",
    "    app.MainLoop()  # Tell it to start processing events"
   ]
  },
  {
   "cell_type": "markdown",
   "metadata": {},
   "source": [
    "# 9.1.2 Button、StaticText、TextCtrl\n"
   ]
  },
  {
   "cell_type": "code",
   "execution_count": 1,
   "metadata": {},
   "outputs": [],
   "source": [
    "import wx\n",
    "from math import sqrt\n",
    "\n",
    "class IsPrimeFrame(wx.Frame):\n",
    "    def __init__(self, superion):\n",
    "        wx.Frame.__init__(self, parent=superion, title='Check Prime', size=(400,200))\n",
    "        panel = wx.Panel(self)\n",
    "        panel.SetBackgroundColour('Yellow')\n",
    "        wx.StaticText(parent=panel, label='Input a integer:', pos=(10,10))\n",
    "        self.inputN = wx.TextCtrl(parent=panel, pos=(120,10))\n",
    "        self.result = wx.StaticText(parent=panel, label='', pos=(10,50))\n",
    "        self.buttonCheck = wx.Button(parent=panel, label='Check', pos=(70,90))\n",
    "        self.Bind(wx.EVT_BUTTON, self.OnButtonCheck, self.buttonCheck)\n",
    "        self.buttonQuit = wx.Button(parent=panel, label='Quit', pos=(150,90))\n",
    "        self.Bind(wx.EVT_BUTTON, self.OnButtonQuit, self.buttonQuit)\n",
    "\n",
    "    def OnButtonCheck(self, event):\n",
    "        self.result.SetLabel('')\n",
    "        try:\n",
    "            num = int(self.inputN.GetValue())\n",
    "        except BaseException as e :\n",
    "            self.result.SetLabel('not a integer')\n",
    "            return\n",
    "        n = int(sqrt(num))\n",
    "        for i in range(2,n+1):\n",
    "            if num%i == 0:\n",
    "                self.result.SetLabel('No')\n",
    "                break\n",
    "        else:\n",
    "            self.result.SetLabel('Yes')\n",
    "        #self.buttonCheck.SetLabelText('test')\n",
    "\n",
    "    def OnButtonQuit(self, event):\n",
    "        dlg=wx.MessageDialog(self,'Really Quit?','Caution',\\\n",
    "                             wx.CANCEL|wx.OK|wx.ICON_QUESTION)\n",
    "        if dlg.ShowModal() == wx.ID_OK:\n",
    "            self.Destroy()\n",
    "\n"
   ]
  },
  {
   "cell_type": "code",
   "execution_count": 2,
   "metadata": {},
   "outputs": [],
   "source": [
    "if __name__ == '__main__':\n",
    "    app = wx.App()\n",
    "    frame = IsPrimeFrame(None)\n",
    "    frame.Show(True)\n",
    "    app.MainLoop()"
   ]
  },
  {
   "cell_type": "markdown",
   "metadata": {},
   "source": [
    "# 9.1.3 Menu\n"
   ]
  },
  {
   "cell_type": "code",
   "execution_count": 1,
   "metadata": {},
   "outputs": [],
   "source": [
    "import wx\n",
    "from math import sqrt\n",
    "\n",
    "class MenuFrame(wx.Frame):\n",
    "    def __init__(self, superion):\n",
    "        wx.Frame.__init__(self, parent=superion, title='wxGUI', size=(640,480))\n",
    "        self.panel = wx.Panel(self, -1)\n",
    "        self.menuBar = wx.MenuBar()\n",
    "        self.menu = wx.Menu()                                           #创建菜单\n",
    "        self.menuOpen = self.menu.Append(101, 'Open')  #创建菜单项\n",
    "        self.menuSave = self.menu.Append(102, 'Save')\n",
    "        self.menuSaveAs = self.menu.Append(103, 'Save As')\n",
    "        self.menu.AppendSeparator()                                 #分隔符\n",
    "        self.menuClose = self.menu.Append(104, 'Close')\n",
    "        self.menuBar.Append(self.menu, '&File')                 #把菜单项添加到菜单\n",
    "        self.menu = wx.Menu()                                            \n",
    "        self.menuCopy = self.menu.Append(201, 'Copy')\n",
    "        self.menuCut = self.menu.Append(202, 'Cut')\n",
    "        self.menuPaste = self.menu.Append(203, 'Paste')\n",
    "        self.menuBar.Append(self.menu, '&Edit')\n",
    "        # 为窗体设置菜单栏\n",
    "        self.SetMenuBar(self.menuBar)\n",
    "        # 创建弹出式菜单\n",
    "        self.popupMenu = wx.Menu()\n",
    "        self.popupCopy = self.popupMenu.Append(901, 'Copy')\n",
    "        self.popupCut = self.popupMenu.Append(902, 'Cut')\n",
    "        self.popupPaste = self.popupMenu.Append(903, 'Paste')\n",
    "        # 绑定鼠标右键单击操作\n",
    "        self.Bind(wx.EVT_RIGHT_DOWN, self.OnRClick)\n",
    "        # 为菜单项绑定处理函数\n",
    "        self.Bind(wx.EVT_MENU, self.OnOpen, self.menuOpen)\n",
    "        self.Bind(wx.EVT_MENU, self.OnSave, self.menuSave)\n",
    "        self.Bind(wx.EVT_MENU, self.OnSaveAs, self.menuSaveAs)\n",
    "        self.Bind(wx.EVT_MENU, self.OnClose, self.menuClose)\n",
    "        \n",
    "        self.result = wx.StaticText(parent=self.panel, label='', pos=(10,50))\n",
    "\n",
    "    # 编写右键单击处理函数\n",
    "    def OnRClick(self, event):\n",
    "        pos = (event.GetX(),event.GetY())\n",
    "        self.panel.PopupMenu(self.popupMenu, pos)\n",
    "        \n",
    "    # 编写菜单项的单击事件处理函数\n",
    "    def OnOpen(self, event):\n",
    "        self.result.SetLabel('You clicked the OnOpen menu.')\n",
    "    \n",
    "    def OnSave(self, event):\n",
    "        self.result.SetLabel('You clicked the OnSave menu.')\n",
    "    \n",
    "    def OnSaveAs(self, event):\n",
    "        self.result.SetLabel('You clicked the OnSaveAs menu.')\n",
    "    \n",
    "    def OnClose(self, event):\n",
    "        self.result.SetLabel('You clicked the OnClose menu.')\n",
    "\n"
   ]
  },
  {
   "cell_type": "code",
   "execution_count": 2,
   "metadata": {},
   "outputs": [],
   "source": [
    "if __name__ == '__main__':\n",
    "    app = wx.App(False)\n",
    "    frame = MenuFrame(None)\n",
    "    frame.Show()\n",
    "    app.MainLoop()"
   ]
  },
  {
   "cell_type": "markdown",
   "metadata": {},
   "source": [
    "# 9.1.4 ToolBar、StatusBar\n"
   ]
  },
  {
   "cell_type": "code",
   "execution_count": 3,
   "metadata": {},
   "outputs": [],
   "source": [
    "import wx\n",
    "from math import sqrt\n",
    "\n",
    "class ToolFrame(wx.Frame):\n",
    "    def __init__(self, superion):\n",
    "        wx.Frame.__init__(self, parent=superion, title='wxGUI', size=(640,480))\n",
    "        self.panel = wx.Panel(self, -1)\n",
    "        # 创建工具栏\n",
    "        self.toolbar = self.CreateToolBar()\n",
    "        # 添加工具\n",
    "        self.toolbar.AddSimpleTool(9999,wx.Image('open.png',wx.BITMAP_TYPE_PNG).ConvertToBitmap(),'Open', 'Click to Open a file')\n",
    "        # 准备工具栏\n",
    "        self.toolbar.Realize()\n",
    "        #绑定事件处理函数\n",
    "        wx.EVT_TOOL(self, 9999, self.OnOpen)\n",
    "        # 创建状态栏\n",
    "        self.statusBar = self.CreateStatusBar()\n",
    "        # 设置状态栏文本\n",
    "        self.statusBar.SetStatusText('You clicked the Open tool.')\n",
    "        \n",
    "        self.result = wx.StaticText(parent=self.panel, label='', pos=(10,50))\n",
    "        \n",
    "    # 编写菜单项的单击事件处理函数\n",
    "    def OnOpen(self, event):\n",
    "        self.result.SetLabel('You clicked the OnOpen menu.')\n"
   ]
  },
  {
   "cell_type": "code",
   "execution_count": 6,
   "metadata": {},
   "outputs": [
    {
     "name": "stderr",
     "output_type": "stream",
     "text": [
      "c:\\python37\\lib\\site-packages\\ipykernel_launcher.py:11: wxPyDeprecationWarning: Call to deprecated item. Use :meth:`AddTool` instead.\n",
      "  # This is added back by InteractiveShellApp.init_path()\n",
      "c:\\python37\\lib\\site-packages\\ipykernel_launcher.py:15: wxPyDeprecationWarning: Call to deprecated item __call__. Use :meth:`EvtHandler.Bind` instead.\n",
      "  from ipykernel import kernelapp as app\n"
     ]
    }
   ],
   "source": [
    "if __name__ == '__main__':\n",
    "    app = wx.App(False)\n",
    "    frame = ToolFrame(None)\n",
    "    frame.Show()\n",
    "    app.MainLoop()"
   ]
  },
  {
   "cell_type": "code",
   "execution_count": 1,
   "metadata": {},
   "outputs": [],
   "source": [
    "import wx\n",
    "from math import sqrt\n",
    "\n",
    "class Message(wx.Frame):\n",
    "    def __init__(self, superion):\n",
    "        wx.Frame.__init__(self, parent=superion, title='wxGUI', size=(640,480))\n",
    "        self.panel = wx.Panel(self, -1)\n",
    "        # 创建工具栏\n",
    "        self.toolbar = self.CreateToolBar()\n",
    "        # 添加工具\n",
    "        self.toolbar.AddSimpleTool(9999,wx.Image('open.png',wx.BITMAP_TYPE_PNG).ConvertToBitmap(),'Open', 'Click to Open a file')\n",
    "        # 添加工具\n",
    "        self.toolbar.AddSimpleTool(8888,wx.Image('open.png',wx.BITMAP_TYPE_PNG).ConvertToBitmap(),'Save', 'Click to Open a file')\n",
    "        # 准备工具栏\n",
    "        self.toolbar.Realize()\n",
    "        #绑定事件处理函数\n",
    "        wx.EVT_TOOL(self, 9999, self.OnOpen)\n",
    "        wx.EVT_TOOL(self, 8888, self.OnSave)\n",
    "        # 创建状态栏\n",
    "        self.statusBar = self.CreateStatusBar()\n",
    "        # 设置状态栏文本\n",
    "        self.statusBar.SetStatusText('You clicked the Open tool.')\n",
    "        \n",
    "        self.result = wx.StaticText(parent=self.panel, label='', pos=(10,50))\n",
    "        \n",
    "    # 编写菜单项的单击事件处理函数\n",
    "    def OnOpen(self, event):\n",
    "        wx.MessageBox(\"对话框弹出\")\n",
    "                \n",
    "    # 编写菜单项的单击事件处理函数\n",
    "    def OnSave(self, event):\n",
    "        dlg=wx.MessageDialog(self,'Really Quit?','Caution',wx.CANCEL|wx.OK|wx.ICON_QUESTION)\n",
    "        if dlg.ShowModal() == wx.ID_OK:\n",
    "            self.Destroy()\n",
    "\n",
    "\n",
    "        \n",
    "\n",
    "\n"
   ]
  },
  {
   "cell_type": "code",
   "execution_count": 2,
   "metadata": {},
   "outputs": [
    {
     "name": "stderr",
     "output_type": "stream",
     "text": [
      "c:\\python37\\lib\\site-packages\\ipykernel_launcher.py:11: wxPyDeprecationWarning: Call to deprecated item. Use :meth:`AddTool` instead.\n",
      "  # This is added back by InteractiveShellApp.init_path()\n",
      "c:\\python37\\lib\\site-packages\\ipykernel_launcher.py:13: wxPyDeprecationWarning: Call to deprecated item. Use :meth:`AddTool` instead.\n",
      "  del sys.path[0]\n",
      "c:\\python37\\lib\\site-packages\\ipykernel_launcher.py:17: wxPyDeprecationWarning: Call to deprecated item __call__. Use :meth:`EvtHandler.Bind` instead.\n",
      "c:\\python37\\lib\\site-packages\\ipykernel_launcher.py:18: wxPyDeprecationWarning: Call to deprecated item __call__. Use :meth:`EvtHandler.Bind` instead.\n"
     ]
    }
   ],
   "source": [
    "if __name__ == '__main__':\n",
    "    app = wx.App(False)\n",
    "    frame = Message(None)\n",
    "    frame.Show()\n",
    "    app.MainLoop()"
   ]
  },
  {
   "cell_type": "code",
   "execution_count": 8,
   "metadata": {},
   "outputs": [
    {
     "data": {
      "text/plain": [
       "wx.Colour(0, 0, 0, 255)"
      ]
     },
     "execution_count": 8,
     "metadata": {},
     "output_type": "execute_result"
    }
   ],
   "source": [
    ">>> import wx\n",
    ">>> app = wx.App()\n",
    ">>> dlg = wx.ColourDialog(None)\n",
    ">>> dlg.ShowModal()\n",
    ">>> c = dlg.GetColourData()\n",
    ">>> c\n",
    ">>> c.Colour\n"
   ]
  },
  {
   "cell_type": "markdown",
   "metadata": {},
   "source": [
    "# 9.1.6 RadioButton、CheckBox\n"
   ]
  },
  {
   "cell_type": "code",
   "execution_count": 1,
   "metadata": {},
   "outputs": [],
   "source": [
    "import wx\n",
    "class wxGUI(wx.App):\n",
    "    def OnInit(self):\n",
    "        self.frame = wx.Frame(parent=None, title='wxGUI', size=(300,280))\n",
    "        self.panel = wx.Panel(self.frame, -1)\n",
    "\n",
    "        self.radioButtonSexM = wx.RadioButton(self.panel, -1, 'Male', pos=(80,60))\n",
    "        self.radioButtonSexF = wx.RadioButton(self.panel, -1, 'Female', pos=(80,80))\n",
    "        self.checkBoxAdmin = wx.CheckBox(self.panel, -1, 'Aministrator', pos=(150,80))\n",
    "\n",
    "        self.label1 = wx.StaticText(self.panel, -1, 'UserName:', pos=(0,110), style=wx.ALIGN_RIGHT)\n",
    "        self.label2 = wx.StaticText(self.panel, -1, 'Password:', pos=(0,130), style=wx.ALIGN_RIGHT)\n",
    "\n",
    "        self.textName = wx.TextCtrl(self.panel, -1, pos=(70,110), size=(160,20))\n",
    "        self.textPwd = wx.TextCtrl(self.panel, -1, pos=(70,130), size=(160,20),style=wx.TE_PASSWORD)\n",
    "        \n",
    "        self.buttonOK = wx.Button(self.panel, -1, 'OK', pos=(30,160))\n",
    "        self.Bind(wx.EVT_BUTTON, self.OnButtonOK, self.buttonOK)\n",
    "        self.buttonCancel = wx.Button(self.panel, -1, 'Cancel', pos=(120,160))\n",
    "        self.Bind(wx.EVT_BUTTON, self.OnButtonCancel, self.buttonCancel)\n",
    "        self.buttonOK.SetDefault()\n",
    "        \n",
    "\n",
    "        self.frame.Show()\n",
    "        return True\n",
    "    \n",
    "    def OnButtonOK(self, event):\n",
    "        finalStr = ''\n",
    "        if self.radioButtonSexM.GetValue() == True:\n",
    "            finalStr += 'Sex:Male\\n'\n",
    "        elif self.radioButtonSexF.GetValue() == True:\n",
    "            finalStr += 'Sex:Female\\n'\n",
    "        if self.checkBoxAdmin.GetValue() == True:\n",
    "            finalStr += 'Administrator\\n'\n",
    "        if self.textName.GetValue()=='dongfuguo' and self.textPwd.GetValue()=='dongfuguo':\n",
    "            finalStr += 'user name and password are correct\\n'\n",
    "        else:\n",
    "            finalStr += 'user name or password is incorrect\\n'\n",
    "        wx.MessageBox(finalStr)\n",
    "    def OnButtonCancel(self, event):\n",
    "        self.radioButtonSexM.SetValue(True)\n",
    "        self.radioButtonSexF.SetValue(False)\n",
    "        self.checkBoxAdmin.SetValue(True)\n",
    "        self.textName.SetValue('')\n",
    "        self.textPwd.SetValue('')\n"
   ]
  },
  {
   "cell_type": "code",
   "execution_count": 2,
   "metadata": {},
   "outputs": [
    {
     "data": {
      "text/plain": [
       "0"
      ]
     },
     "execution_count": 2,
     "metadata": {},
     "output_type": "execute_result"
    }
   ],
   "source": [
    "app = wxGUI()\n",
    "app.MainLoop()"
   ]
  },
  {
   "cell_type": "markdown",
   "metadata": {},
   "source": [
    "# 9.1.7 ComboBo"
   ]
  },
  {
   "cell_type": "code",
   "execution_count": 4,
   "metadata": {},
   "outputs": [],
   "source": [
    "import wx\n",
    "\n",
    "\n",
    "class wxGUI(wx.App):\n",
    "\n",
    "    def OnInit(self):\n",
    "        self.frame = wx.Frame(parent=None, title='wxGUI', size=(300,200))\n",
    "        self.panel = wx.Panel(self.frame, -1)\n",
    "\n",
    "        self.names = {'First Class':['Zhang San', 'Li Si', 'Wang Wu'],\n",
    "                 'Second Class':['Zhao Liu', 'Zhou Qi']}\n",
    "\n",
    "        #ComboBox1\n",
    "        self.comboBox1 = wx.ComboBox(self.panel, value='Click here',\n",
    "                                    choices=list(self.names.keys()),\n",
    "                                    pos=(0,50), size=(100,30))\n",
    "        self.Bind(wx.EVT_COMBOBOX, self.OnCombo1, self.comboBox1)\n",
    "\n",
    "        #ComboBox2\n",
    "        self.comboBox2 = wx.ComboBox(self.panel, value='Click here',\n",
    "                                    choices=[],\n",
    "                                    pos=(0,100), size=(100,30))\n",
    "        self.Bind(wx.EVT_COMBOBOX, self.OnCombo2, self.comboBox2)\n",
    "\n",
    "        self.frame.Show()\n",
    "        return True\n",
    "    \n",
    "    def OnCombo1(self, event):\n",
    "        banji = self.comboBox1.GetValue()\n",
    "        self.comboBox2.Set(self.names[banji])\n",
    "\n",
    "    def OnCombo2(self, event):\n",
    "        wx.MessageBox(self.comboBox2.GetValue())\n"
   ]
  },
  {
   "cell_type": "code",
   "execution_count": 5,
   "metadata": {},
   "outputs": [
    {
     "data": {
      "text/plain": [
       "0"
      ]
     },
     "execution_count": 5,
     "metadata": {},
     "output_type": "execute_result"
    }
   ],
   "source": [
    "app = wxGUI()\n",
    "app.MainLoop()"
   ]
  },
  {
   "cell_type": "markdown",
   "metadata": {},
   "source": [
    "# 9.1.8 ListBox\n"
   ]
  },
  {
   "cell_type": "code",
   "execution_count": 6,
   "metadata": {},
   "outputs": [],
   "source": [
    "import wx\n",
    "\n",
    "class ListBoxDemo(wx.Frame):\n",
    "    def __init__(self, superion):\n",
    "        wx.Frame.__init__(self, parent=superion, title='ListBox demo', size=(200,200))\n",
    "        panel = wx.Panel(self)\n",
    "        self.buttonQuit = wx.Button(parent=panel, label='Quit', pos=(60,120))\n",
    "        self.Bind(wx.EVT_BUTTON, self.OnButtonQuit, self.buttonQuit)\n",
    "        li = ['Sunday','Monday','Tuesday','Wednesday','Thursday','Friday','Saturday']\n",
    "        self.listBox = wx.ListBox(panel, choices=li)\n",
    "\n",
    "        self.Bind(wx.EVT_LISTBOX, self.OnClick, self.listBox)\n",
    "\n",
    "    def OnClick(self, event):\n",
    "        #t = self.listBox.GetSelection()\n",
    "        #s = self.listBox.GetString(t)\n",
    "        s = self.listBox.GetStringSelection()\n",
    "        wx.MessageBox(s)\n",
    "\n",
    "    def OnButtonQuit(self, event):\n",
    "        dlg=wx.MessageDialog(self,'Really Quit?','Caution',\\\n",
    "                             wx.CANCEL|wx.OK|wx.ICON_QUESTION)\n",
    "        if dlg.ShowModal() == wx.ID_OK:\n",
    "            self.Destroy()\n"
   ]
  },
  {
   "cell_type": "code",
   "execution_count": 7,
   "metadata": {},
   "outputs": [],
   "source": [
    "if __name__ == '__main__':\n",
    "    app = wx.App()\n",
    "    frame = ListBoxDemo(None)\n",
    "    frame.Show()\n",
    "    app.MainLoop()"
   ]
  },
  {
   "cell_type": "markdown",
   "metadata": {},
   "source": [
    "# 9.1.9 TreeCtrl\n"
   ]
  },
  {
   "cell_type": "code",
   "execution_count": 10,
   "metadata": {},
   "outputs": [],
   "source": [
    "import wx\n",
    "\n",
    "class TreeCtrlFrame(wx.Frame):\n",
    "    def __init__(self, superion):\n",
    "        wx.Frame.__init__(self, parent=superion, title='TreeCtrl demo', size=(300,400))\n",
    "        panel = wx.Panel(self)\n",
    "        self.tree = wx.TreeCtrl(parent=panel, pos=(5,5), size=(120,200))\n",
    "        self.inputString = wx.TextCtrl(parent=panel, pos=(150,10))\n",
    "        self.buttonAddChild = wx.Button(parent=panel, label='AddChild', pos=(150,90))\n",
    "        self.Bind(wx.EVT_BUTTON, self.OnButtonAddChild, self.buttonAddChild)\n",
    "        self.buttonDeleteNode = wx.Button(parent=panel, label='DeleteNode', pos=(150,120))\n",
    "        self.Bind(wx.EVT_BUTTON, self.OnButtonDeleteNode, self.buttonDeleteNode)\n",
    "        self.buttonAddRoot = wx.Button(parent=panel, label='AddRoot', pos=(150,150))\n",
    "        self.Bind(wx.EVT_BUTTON, self.OnButtonAddRoot, self.buttonAddRoot)\n",
    "\n",
    "    def OnButtonAddChild(self, event):\n",
    "        itemSelected = self.tree.GetSelection()\n",
    "        if not itemSelected:\n",
    "            wx.MessageBox('Select a Node first.')\n",
    "            return\n",
    "        itemString = self.inputString.GetValue()\n",
    "        self.tree.AppendItem(itemSelected, itemString)\n",
    "        \n",
    "\n",
    "    def OnButtonDeleteNode(self, event):\n",
    "        itemSelected = self.tree.GetSelection()\n",
    "        if not itemSelected:\n",
    "            wx.MessageBox('Select a Node first.')\n",
    "            return\n",
    "        self.tree.Delete(itemSelected)\n",
    "    def OnButtonAddRoot(self, event):\n",
    "        rootItem = self.tree.GetRootItem()\n",
    "        if rootItem:\n",
    "            wx.MessageBox('The tree has already a root.')\n",
    "        else:\n",
    "            itemString = self.inputString.GetValue()\n",
    "            self.tree.AddRoot(itemString)\n",
    "        \n"
   ]
  },
  {
   "cell_type": "code",
   "execution_count": 11,
   "metadata": {},
   "outputs": [],
   "source": [
    "if __name__ == '__main__':\n",
    "    app = wx.App()\n",
    "    frame = TreeCtrlFrame(None)\n",
    "    frame.Show()\n",
    "    app.MainLoop()"
   ]
  },
  {
   "cell_type": "markdown",
   "metadata": {},
   "source": [
    "# 9.1.10 wxFormBuilder\n"
   ]
  },
  {
   "cell_type": "code",
   "execution_count": null,
   "metadata": {},
   "outputs": [],
   "source": []
  }
 ],
 "metadata": {
  "kernelspec": {
   "display_name": "Python 3",
   "language": "python",
   "name": "python3"
  },
  "language_info": {
   "codemirror_mode": {
    "name": "ipython",
    "version": 3
   },
   "file_extension": ".py",
   "mimetype": "text/x-python",
   "name": "python",
   "nbconvert_exporter": "python",
   "pygments_lexer": "ipython3",
   "version": "3.7.2"
  }
 },
 "nbformat": 4,
 "nbformat_minor": 4
}
