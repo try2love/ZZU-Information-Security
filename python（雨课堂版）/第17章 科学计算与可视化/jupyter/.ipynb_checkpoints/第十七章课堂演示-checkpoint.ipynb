{
 "cells": [
  {
   "cell_type": "markdown",
   "metadata": {},
   "source": [
    "# 17.1 numpy简单应用\n"
   ]
  },
  {
   "cell_type": "markdown",
   "metadata": {},
   "source": [
    "### 导入模块"
   ]
  },
  {
   "cell_type": "code",
   "execution_count": null,
   "metadata": {},
   "outputs": [],
   "source": [
    ">>> import numpy as np\n"
   ]
  },
  {
   "cell_type": "markdown",
   "metadata": {},
   "source": [
    "### 生成数组\n"
   ]
  },
  {
   "cell_type": "code",
   "execution_count": 4,
   "metadata": {},
   "outputs": [
    {
     "data": {
      "text/plain": [
       "array([1, 2, 3, 4, 5])"
      ]
     },
     "execution_count": 4,
     "metadata": {},
     "output_type": "execute_result"
    }
   ],
   "source": [
    ">>> np.array([1, 2, 3, 4, 5])        # 把列表转换为数组\n"
   ]
  },
  {
   "cell_type": "code",
   "execution_count": 5,
   "metadata": {},
   "outputs": [
    {
     "data": {
      "text/plain": [
       "array([1, 2, 3, 4, 5])"
      ]
     },
     "execution_count": 5,
     "metadata": {},
     "output_type": "execute_result"
    }
   ],
   "source": [
    ">>> np.array((1, 2, 3, 4, 5))        # 把元组转换成数组"
   ]
  },
  {
   "cell_type": "code",
   "execution_count": 6,
   "metadata": {},
   "outputs": [
    {
     "data": {
      "text/plain": [
       "array([0, 1, 2, 3, 4])"
      ]
     },
     "execution_count": 6,
     "metadata": {},
     "output_type": "execute_result"
    }
   ],
   "source": [
    ">>> np.array(range(5))               # 把range对象转换成数组"
   ]
  },
  {
   "cell_type": "code",
   "execution_count": 7,
   "metadata": {},
   "outputs": [
    {
     "data": {
      "text/plain": [
       "array([[1, 2, 3],\n",
       "       [4, 5, 6]])"
      ]
     },
     "execution_count": 7,
     "metadata": {},
     "output_type": "execute_result"
    }
   ],
   "source": [
    ">>> np.array([[1, 2, 3], [4, 5, 6]]) # 二维数组"
   ]
  },
  {
   "cell_type": "code",
   "execution_count": 8,
   "metadata": {},
   "outputs": [
    {
     "data": {
      "text/plain": [
       "array([0, 1, 2, 3, 4, 5, 6, 7])"
      ]
     },
     "execution_count": 8,
     "metadata": {},
     "output_type": "execute_result"
    }
   ],
   "source": [
    ">>> np.arange(8)                     # 类似于内置函数range()"
   ]
  },
  {
   "cell_type": "code",
   "execution_count": 9,
   "metadata": {},
   "outputs": [
    {
     "data": {
      "text/plain": [
       "array([1, 3, 5, 7, 9])"
      ]
     },
     "execution_count": 9,
     "metadata": {},
     "output_type": "execute_result"
    }
   ],
   "source": [
    ">>> np.arange(1, 10, 2)\n"
   ]
  },
  {
   "cell_type": "code",
   "execution_count": 10,
   "metadata": {},
   "outputs": [
    {
     "data": {
      "text/plain": [
       "array([ 0.,  1.,  2.,  3.,  4.,  5.,  6.,  7.,  8.,  9., 10.])"
      ]
     },
     "execution_count": 10,
     "metadata": {},
     "output_type": "execute_result"
    }
   ],
   "source": [
    ">>> np.linspace(0, 10, 11)          # 等差数组，包含11个数\n"
   ]
  },
  {
   "cell_type": "code",
   "execution_count": 11,
   "metadata": {},
   "outputs": [
    {
     "data": {
      "text/plain": [
       "array([0.        , 0.90909091, 1.81818182, 2.72727273, 3.63636364,\n",
       "       4.54545455, 5.45454545, 6.36363636, 7.27272727, 8.18181818,\n",
       "       9.09090909])"
      ]
     },
     "execution_count": 11,
     "metadata": {},
     "output_type": "execute_result"
    }
   ],
   "source": [
    ">>> np.linspace(0, 10, 11, endpoint=False) # 不包含终点\n"
   ]
  },
  {
   "cell_type": "code",
   "execution_count": 12,
   "metadata": {},
   "outputs": [
    {
     "data": {
      "text/plain": [
       "array([1.00000000e+000, 1.29154967e+011, 1.66810054e+022, 2.15443469e+033,\n",
       "       2.78255940e+044, 3.59381366e+055, 4.64158883e+066, 5.99484250e+077,\n",
       "       7.74263683e+088, 1.00000000e+100])"
      ]
     },
     "execution_count": 12,
     "metadata": {},
     "output_type": "execute_result"
    }
   ],
   "source": [
    ">>> np.logspace(0, 100, 10)         # 对数数组\n"
   ]
  },
  {
   "cell_type": "code",
   "execution_count": 13,
   "metadata": {},
   "outputs": [
    {
     "data": {
      "text/plain": [
       "array([ 2.        ,  4.75682846, 11.3137085 , 26.90868529, 64.        ])"
      ]
     },
     "execution_count": 13,
     "metadata": {},
     "output_type": "execute_result"
    }
   ],
   "source": [
    ">>> np.logspace(1,6,5, base=2) # 对数数组，相当于2 ** np.linspace(1,6,5)\n"
   ]
  },
  {
   "cell_type": "markdown",
   "metadata": {},
   "source": [
    "### 创建坐标系"
   ]
  },
  {
   "cell_type": "code",
   "execution_count": 14,
   "metadata": {},
   "outputs": [
    {
     "name": "stdout",
     "output_type": "stream",
     "text": [
      "[[0.   0.25 0.5  0.75 1.  ]\n",
      " [0.   0.25 0.5  0.75 1.  ]\n",
      " [0.   0.25 0.5  0.75 1.  ]]\n",
      "[[0.  0.  0.  0.  0. ]\n",
      " [0.5 0.5 0.5 0.5 0.5]\n",
      " [1.  1.  1.  1.  1. ]]\n"
     ]
    },
    {
     "data": {
      "image/png": "[encoded data removed]",
      "text/plain": [
       "<Figure size 432x288 with 1 Axes>"
      ]
     },
     "metadata": {
      "needs_background": "light"
     },
     "output_type": "display_data"
    }
   ],
   "source": [
    "x=np.linspace(0,1,5)\n",
    "y=np.linspace(0,1,3)\n",
    "xv,yv=np.meshgrid(x,y)\n",
    "print(xv)\n",
    "print(yv)\n",
    "plt.plot(xv,yv,'^')\n",
    "plt.show()"
   ]
  },
  {
   "cell_type": "code",
   "execution_count": 21,
   "metadata": {},
   "outputs": [
    {
     "data": {
      "text/plain": [
       "[<matplotlib.lines.Line2D at 0x17a7fb20128>]"
      ]
     },
     "execution_count": 21,
     "metadata": {},
     "output_type": "execute_result"
    },
    {
     "data": {
      "image/png": "[encoded data removed]",
      "text/plain": [
       "<Figure size 432x288 with 1 Axes>"
      ]
     },
     "metadata": {
      "needs_background": "light"
     },
     "output_type": "display_data"
    }
   ],
   "source": [
    "# y=2x\n",
    "x=np.linspace(0,1,100)\n",
    "y=2*x*x\n",
    "plt.plot(x,y)\n"
   ]
  },
  {
   "cell_type": "markdown",
   "metadata": {},
   "source": [
    "### 指数图"
   ]
  },
  {
   "cell_type": "code",
   "execution_count": 22,
   "metadata": {},
   "outputs": [
    {
     "name": "stdout",
     "output_type": "stream",
     "text": [
      "[ 0.03125     0.03349292  0.03589682  0.03847326  0.04123462  0.04419417\n",
      "  0.04736614  0.05076577  0.05440941  0.05831456  0.0625      0.06698584\n",
      "  0.07179365  0.07694653  0.08246924  0.08838835  0.09473229  0.10153155\n",
      "  0.10881882  0.11662912  0.125       0.13397168  0.14358729  0.15389305\n",
      "  0.16493849  0.1767767   0.18946457  0.2030631   0.21763764  0.23325825\n",
      "  0.25        0.26794337  0.28717459  0.3077861   0.32987698  0.35355339\n",
      "  0.37892914  0.4061262   0.43527528  0.4665165   0.5         0.53588673\n",
      "  0.57434918  0.61557221  0.65975396  0.70710678  0.75785828  0.8122524\n",
      "  0.87055056  0.93303299  1.          1.07177346  1.14869835  1.23114441\n",
      "  1.31950791  1.41421356  1.51571657  1.62450479  1.74110113  1.86606598\n",
      "  2.          2.14354693  2.29739671  2.46228883  2.63901582  2.82842712\n",
      "  3.03143313  3.24900959  3.48220225  3.73213197  4.          4.28709385\n",
      "  4.59479342  4.92457765  5.27803164  5.65685425  6.06286627  6.49801917\n",
      "  6.96440451  7.46426393  8.          8.5741877   9.18958684  9.84915531\n",
      " 10.55606329 11.3137085  12.12573253 12.99603834 13.92880901 14.92852786\n",
      " 16.         17.1483754  18.37917368 19.69831061 21.11212657 22.627417\n",
      " 24.25146506 25.99207668 27.85761803 29.85705573]\n"
     ]
    },
    {
     "data": {
      "text/plain": [
       "[<matplotlib.lines.Line2D at 0x17a7fb87518>]"
      ]
     },
     "execution_count": 22,
     "metadata": {},
     "output_type": "execute_result"
    },
    {
     "data": {
      "image/png": "[encoded data removed]",
      "text/plain": [
       "<Figure size 432x288 with 1 Axes>"
      ]
     },
     "metadata": {
      "needs_background": "light"
     },
     "output_type": "display_data"
    }
   ],
   "source": [
    "x=np.arange(-5,5,0.1)\n",
    "y=np.power(2,x)\n",
    "print(y)\n",
    "plt.plot(x,y)"
   ]
  },
  {
   "cell_type": "markdown",
   "metadata": {},
   "source": [
    "### 对数图"
   ]
  },
  {
   "cell_type": "code",
   "execution_count": 23,
   "metadata": {},
   "outputs": [
    {
     "data": {
      "image/png": "[encoded data removed]",
      "text/plain": [
       "<Figure size 432x288 with 1 Axes>"
      ]
     },
     "metadata": {
      "needs_background": "light"
     },
     "output_type": "display_data"
    }
   ],
   "source": [
    "x=np.power(2,x)\n",
    "y=np.log2(x)\n",
    "plt.plot(x,y)\n",
    "plt.show()"
   ]
  },
  {
   "cell_type": "markdown",
   "metadata": {},
   "source": [
    "### 创建各种各样的数组"
   ]
  },
  {
   "cell_type": "code",
   "execution_count": 24,
   "metadata": {},
   "outputs": [
    {
     "data": {
      "text/plain": [
       "array([0., 0., 0.])"
      ]
     },
     "execution_count": 24,
     "metadata": {},
     "output_type": "execute_result"
    }
   ],
   "source": [
    ">>> np.zeros(3)                     # 全0一维数组\n"
   ]
  },
  {
   "cell_type": "code",
   "execution_count": 25,
   "metadata": {},
   "outputs": [
    {
     "data": {
      "text/plain": [
       "array([1., 1., 1.])"
      ]
     },
     "execution_count": 25,
     "metadata": {},
     "output_type": "execute_result"
    }
   ],
   "source": [
    ">>> np.ones(3)                      # 全1一维数组\n"
   ]
  },
  {
   "cell_type": "code",
   "execution_count": 26,
   "metadata": {},
   "outputs": [
    {
     "data": {
      "text/plain": [
       "array([[0., 0., 0.],\n",
       "       [0., 0., 0.],\n",
       "       [0., 0., 0.]])"
      ]
     },
     "execution_count": 26,
     "metadata": {},
     "output_type": "execute_result"
    }
   ],
   "source": [
    ">>> np.zeros((3,3))              # 全0二维数组，3行3列\n"
   ]
  },
  {
   "cell_type": "code",
   "execution_count": 27,
   "metadata": {},
   "outputs": [
    {
     "data": {
      "text/plain": [
       "array([[0.],\n",
       "       [0.],\n",
       "       [0.]])"
      ]
     },
     "execution_count": 27,
     "metadata": {},
     "output_type": "execute_result"
    }
   ],
   "source": [
    ">>> np.zeros((3,1))              # 全0二维数组，3行1列\n"
   ]
  },
  {
   "cell_type": "code",
   "execution_count": 28,
   "metadata": {},
   "outputs": [
    {
     "data": {
      "text/plain": [
       "array([[0., 0., 0.]])"
      ]
     },
     "execution_count": 28,
     "metadata": {},
     "output_type": "execute_result"
    }
   ],
   "source": [
    ">>> np.zeros((1,3))              # 全0二维数组，1行3列\n"
   ]
  },
  {
   "cell_type": "code",
   "execution_count": 29,
   "metadata": {},
   "outputs": [
    {
     "data": {
      "text/plain": [
       "array([[1., 1., 1.],\n",
       "       [1., 1., 1.],\n",
       "       [1., 1., 1.]])"
      ]
     },
     "execution_count": 29,
     "metadata": {},
     "output_type": "execute_result"
    }
   ],
   "source": [
    ">>> np.ones((3,3))               # 全1二维数组\n"
   ]
  },
  {
   "cell_type": "code",
   "execution_count": 30,
   "metadata": {},
   "outputs": [
    {
     "data": {
      "text/plain": [
       "array([[1., 1., 1.]])"
      ]
     },
     "execution_count": 30,
     "metadata": {},
     "output_type": "execute_result"
    }
   ],
   "source": [
    ">>> np.ones((1,3))  # 全1二维数组\n"
   ]
  },
  {
   "cell_type": "code",
   "execution_count": 31,
   "metadata": {},
   "outputs": [
    {
     "data": {
      "text/plain": [
       "array([[1., 0., 0.],\n",
       "       [0., 1., 0.],\n",
       "       [0., 0., 1.]])"
      ]
     },
     "execution_count": 31,
     "metadata": {},
     "output_type": "execute_result"
    }
   ],
   "source": [
    ">>> np.identity(3)  # 单位矩阵\n"
   ]
  },
  {
   "cell_type": "code",
   "execution_count": 32,
   "metadata": {},
   "outputs": [
    {
     "data": {
      "text/plain": [
       "array([[1., 0.],\n",
       "       [0., 1.]])"
      ]
     },
     "execution_count": 32,
     "metadata": {},
     "output_type": "execute_result"
    }
   ],
   "source": [
    ">>> np.identity(2)\n"
   ]
  },
  {
   "cell_type": "code",
   "execution_count": 33,
   "metadata": {},
   "outputs": [
    {
     "data": {
      "text/plain": [
       "array([[1., 0., 0.],\n",
       "       [0., 1., 0.],\n",
       "       [0., 0., 1.]])"
      ]
     },
     "execution_count": 33,
     "metadata": {},
     "output_type": "execute_result"
    }
   ],
   "source": [
    ">>> np.empty((3,3)) # 空数组，只申请空间而不初始化，元素值是不确定的\n"
   ]
  },
  {
   "cell_type": "code",
   "execution_count": null,
   "metadata": {},
   "outputs": [],
   "source": []
  },
  {
   "cell_type": "markdown",
   "metadata": {},
   "source": [
    "## 窗函数"
   ]
  },
  {
   "cell_type": "markdown",
   "metadata": {},
   "source": [
    "数字信号处理的主要数学工具是傅里叶变换．而傅里叶变换是研究整个时间域和频率域的关系。不过，当运用计算机实现工程测试信号处理时，不可能对无限长的信号进行测量和运算，而是取其有限的时间片段进行分析。做法是从信号中截取一个时间片段，然后用截取的信号时间片段进行周期延拓处理，得到虚拟的无限长的信号，然后就可以对信号进行傅里叶变换、相关分析等数学处理。无限长的信号被截断以后，其频谱发生了畸变，原来集中在f(0)处的能量被分散到两个较宽的频带中去了（这种现象称之为频谱能量泄漏）。为了减少频谱能量泄漏，可采用不同的截取函数对信号进行截断，截断函数称为窗函数，简称为窗。"
   ]
  },
  {
   "cell_type": "markdown",
   "metadata": {},
   "source": [
    "### 绘制巴特利特窗\n",
    "\n",
    "巴特利特窗是一种三角形平滑窗"
   ]
  },
  {
   "cell_type": "code",
   "execution_count": 34,
   "metadata": {},
   "outputs": [
    {
     "data": {
      "text/plain": [
       "array([0.        , 0.04878049, 0.09756098, 0.14634146, 0.19512195,\n",
       "       0.24390244, 0.29268293, 0.34146341, 0.3902439 , 0.43902439,\n",
       "       0.48780488, 0.53658537, 0.58536585, 0.63414634, 0.68292683,\n",
       "       0.73170732, 0.7804878 , 0.82926829, 0.87804878, 0.92682927,\n",
       "       0.97560976, 0.97560976, 0.92682927, 0.87804878, 0.82926829,\n",
       "       0.7804878 , 0.73170732, 0.68292683, 0.63414634, 0.58536585,\n",
       "       0.53658537, 0.48780488, 0.43902439, 0.3902439 , 0.34146341,\n",
       "       0.29268293, 0.24390244, 0.19512195, 0.14634146, 0.09756098,\n",
       "       0.04878049, 0.        ])"
      ]
     },
     "execution_count": 34,
     "metadata": {},
     "output_type": "execute_result"
    }
   ],
   "source": [
    "import numpy as np\n",
    "import matplotlib.pyplot as plt\n",
    "\n",
    "window = np.bartlett(42)\n",
    "window"
   ]
  },
  {
   "cell_type": "code",
   "execution_count": 35,
   "metadata": {},
   "outputs": [
    {
     "data": {
      "image/png": "[encoded data removed]",
      "text/plain": [
       "<Figure size 432x288 with 1 Axes>"
      ]
     },
     "metadata": {
      "needs_background": "light"
     },
     "output_type": "display_data"
    }
   ],
   "source": [
    "plt.plot(window)\n",
    "plt.show()"
   ]
  },
  {
   "cell_type": "markdown",
   "metadata": {},
   "source": [
    "### 绘制布莱克曼窗\n",
    "\n",
    "布莱克曼窗形式上是三项余弦值的加和"
   ]
  },
  {
   "cell_type": "code",
   "execution_count": 38,
   "metadata": {},
   "outputs": [
    {
     "data": {
      "text/plain": [
       "array([-1.38777878e-17,  3.63046791e-04,  1.45848970e-03,  3.30508601e-03,\n",
       "        5.93359947e-03,  9.38606173e-03,  1.37147565e-02,  1.89809442e-02,\n",
       "        2.52533489e-02,  3.26064346e-02,  4.11185013e-02,  5.08696327e-02,\n",
       "        6.19395342e-02,  7.44052977e-02,  8.83391330e-02,  1.03806108e-01,\n",
       "        1.20861937e-01,  1.39550858e-01,  1.59903635e-01,  1.81935733e-01,\n",
       "        2.05645686e-01,  2.31013696e-01,  2.58000502e-01,  2.86546517e-01,\n",
       "        3.16571288e-01,  3.47973259e-01,  3.80629867e-01,  4.14397981e-01,\n",
       "        4.49114657e-01,  4.84598234e-01,  5.20649734e-01,  5.57054572e-01,\n",
       "        5.93584531e-01,  6.30000000e-01,  6.66052422e-01,  7.01486938e-01,\n",
       "        7.36045180e-01,  7.69468167e-01,  8.01499281e-01,  8.31887262e-01,\n",
       "        8.60389188e-01,  8.86773393e-01,  9.10822277e-01,  9.32334982e-01,\n",
       "        9.51129866e-01,  9.67046769e-01,  9.79949017e-01,  9.89725134e-01,\n",
       "        9.96290257e-01,  9.99587205e-01,  9.99587205e-01,  9.96290257e-01,\n",
       "        9.89725134e-01,  9.79949017e-01,  9.67046769e-01,  9.51129866e-01,\n",
       "        9.32334982e-01,  9.10822277e-01,  8.86773393e-01,  8.60389188e-01,\n",
       "        8.31887262e-01,  8.01499281e-01,  7.69468167e-01,  7.36045180e-01,\n",
       "        7.01486938e-01,  6.66052422e-01,  6.30000000e-01,  5.93584531e-01,\n",
       "        5.57054572e-01,  5.20649734e-01,  4.84598234e-01,  4.49114657e-01,\n",
       "        4.14397981e-01,  3.80629867e-01,  3.47973259e-01,  3.16571288e-01,\n",
       "        2.86546517e-01,  2.58000502e-01,  2.31013696e-01,  2.05645686e-01,\n",
       "        1.81935733e-01,  1.59903635e-01,  1.39550858e-01,  1.20861937e-01,\n",
       "        1.03806108e-01,  8.83391330e-02,  7.44052977e-02,  6.19395342e-02,\n",
       "        5.08696327e-02,  4.11185013e-02,  3.26064346e-02,  2.52533489e-02,\n",
       "        1.89809442e-02,  1.37147565e-02,  9.38606173e-03,  5.93359947e-03,\n",
       "        3.30508601e-03,  1.45848970e-03,  3.63046791e-04, -1.38777878e-17])"
      ]
     },
     "execution_count": 38,
     "metadata": {},
     "output_type": "execute_result"
    }
   ],
   "source": [
    "import numpy as np\n",
    "import matplotlib.pyplot as plt\n",
    "from matplotlib.dates import datestr2num\n",
    "\n",
    "window = np.blackman(100)\n",
    "window"
   ]
  },
  {
   "cell_type": "code",
   "execution_count": 39,
   "metadata": {},
   "outputs": [
    {
     "data": {
      "image/png": "[encoded data removed]",
      "text/plain": [
       "<Figure size 432x288 with 1 Axes>"
      ]
     },
     "metadata": {
      "needs_background": "light"
     },
     "output_type": "display_data"
    }
   ],
   "source": [
    "plt.plot(window)\n",
    "plt.show()"
   ]
  },
  {
   "cell_type": "markdown",
   "metadata": {},
   "source": [
    "### 绘制汉明窗\n",
    "\n",
    "汉明窗是一个加权的余弦函数\n",
    "\n",
    "hamming函数唯一的参数是输出点的个数"
   ]
  },
  {
   "cell_type": "code",
   "execution_count": 40,
   "metadata": {},
   "outputs": [
    {
     "data": {
      "text/plain": [
       "array([0.08      , 0.08045664, 0.08182567, 0.08410436, 0.08728818,\n",
       "       0.09137082, 0.09634418, 0.10219837, 0.10892178, 0.11650105,\n",
       "       0.12492114, 0.13416533, 0.14421527, 0.15505101, 0.16665102,\n",
       "       0.17899228, 0.19205029, 0.20579913, 0.22021148, 0.23525875,\n",
       "       0.25091105, 0.26713732, 0.28390532, 0.30118178, 0.31893239,\n",
       "       0.33712191, 0.35571423, 0.37467242, 0.39395886, 0.41353526,\n",
       "       0.43336273, 0.45340192, 0.47361305, 0.49395598, 0.51439033,\n",
       "       0.53487552, 0.55537089, 0.57583574, 0.59622944, 0.6165115 ,\n",
       "       0.63664166, 0.65657994, 0.67628677, 0.69572301, 0.71485007,\n",
       "       0.73362999, 0.75202547, 0.77      , 0.78751788, 0.80454434,\n",
       "       0.82104557, 0.83698881, 0.85234241, 0.86707588, 0.88115997,\n",
       "       0.89456672, 0.90726951, 0.91924312, 0.93046378, 0.9409092 ,\n",
       "       0.95055866, 0.959393  , 0.96739467, 0.97454778, 0.98083814,\n",
       "       0.98625326, 0.99078238, 0.99441652, 0.99714846, 0.99897276,\n",
       "       0.99988582, 0.99988582, 0.99897276, 0.99714846, 0.99441652,\n",
       "       0.99078238, 0.98625326, 0.98083814, 0.97454778, 0.96739467,\n",
       "       0.959393  , 0.95055866, 0.9409092 , 0.93046378, 0.91924312,\n",
       "       0.90726951, 0.89456672, 0.88115997, 0.86707588, 0.85234241,\n",
       "       0.83698881, 0.82104557, 0.80454434, 0.78751788, 0.77      ,\n",
       "       0.75202547, 0.73362999, 0.71485007, 0.69572301, 0.67628677,\n",
       "       0.65657994, 0.63664166, 0.6165115 , 0.59622944, 0.57583574,\n",
       "       0.55537089, 0.53487552, 0.51439033, 0.49395598, 0.47361305,\n",
       "       0.45340192, 0.43336273, 0.41353526, 0.39395886, 0.37467242,\n",
       "       0.35571423, 0.33712191, 0.31893239, 0.30118178, 0.28390532,\n",
       "       0.26713732, 0.25091105, 0.23525875, 0.22021148, 0.20579913,\n",
       "       0.19205029, 0.17899228, 0.16665102, 0.15505101, 0.14421527,\n",
       "       0.13416533, 0.12492114, 0.11650105, 0.10892178, 0.10219837,\n",
       "       0.09634418, 0.09137082, 0.08728818, 0.08410436, 0.08182567,\n",
       "       0.08045664, 0.08      ])"
      ]
     },
     "execution_count": 40,
     "metadata": {},
     "output_type": "execute_result"
    }
   ],
   "source": [
    "import numpy as np\n",
    "import matplotlib.pyplot as plt\n",
    "\n",
    "window = np.hamming(142)\n",
    "window"
   ]
  },
  {
   "cell_type": "code",
   "execution_count": 41,
   "metadata": {},
   "outputs": [
    {
     "data": {
      "image/png": "[encoded data removed]",
      "text/plain": [
       "<Figure size 432x288 with 1 Axes>"
      ]
     },
     "metadata": {
      "needs_background": "light"
     },
     "output_type": "display_data"
    }
   ],
   "source": [
    "plt.plot(window)\n",
    "plt.show()"
   ]
  },
  {
   "cell_type": "markdown",
   "metadata": {},
   "source": [
    "### 绘制凯泽窗\n",
    "\n",
    "凯泽窗是以贝塞尔函数定义的\n",
    "\n",
    "第一个参数为输出点的个数, 第二个参数为贝塞尔函数中的参数值"
   ]
  },
  {
   "cell_type": "code",
   "execution_count": 42,
   "metadata": {},
   "outputs": [
    {
     "data": {
      "text/plain": [
       "array([7.72686684e-06, 1.15257277e-04, 5.34636294e-04, 1.70718596e-03,\n",
       "       4.40899892e-03, 9.84900072e-03, 1.97236049e-02, 3.61906696e-02,\n",
       "       6.17307635e-02, 9.88798484e-02, 1.49843192e-01, 2.16031313e-01,\n",
       "       2.97588174e-01, 3.93001697e-01, 4.98889955e-01, 6.10039172e-01,\n",
       "       7.19732557e-01, 8.20357807e-01, 9.04225844e-01, 9.64485999e-01,\n",
       "       9.95994872e-01, 9.95994872e-01, 9.64485999e-01, 9.04225844e-01,\n",
       "       8.20357807e-01, 7.19732557e-01, 6.10039172e-01, 4.98889955e-01,\n",
       "       3.93001697e-01, 2.97588174e-01, 2.16031313e-01, 1.49843192e-01,\n",
       "       9.88798484e-02, 6.17307635e-02, 3.61906696e-02, 1.97236049e-02,\n",
       "       9.84900072e-03, 4.40899892e-03, 1.70718596e-03, 5.34636294e-04,\n",
       "       1.15257277e-04, 7.72686684e-06])"
      ]
     },
     "execution_count": 42,
     "metadata": {},
     "output_type": "execute_result"
    }
   ],
   "source": [
    "import numpy as np\n",
    "import matplotlib.pyplot as plt\n",
    "\n",
    "window = np.kaiser(42, 14)\n",
    "window"
   ]
  },
  {
   "cell_type": "code",
   "execution_count": 43,
   "metadata": {},
   "outputs": [
    {
     "data": {
      "image/png": "[encoded data removed]",
      "text/plain": [
       "<Figure size 432x288 with 1 Axes>"
      ]
     },
     "metadata": {
      "needs_background": "light"
     },
     "output_type": "display_data"
    }
   ],
   "source": [
    "plt.plot(window)\n",
    "plt.show()"
   ]
  },
  {
   "cell_type": "code",
   "execution_count": 45,
   "metadata": {},
   "outputs": [
    {
     "data": {
      "text/plain": [
       "array([39, 38,  8,  6, 31])"
      ]
     },
     "execution_count": 45,
     "metadata": {},
     "output_type": "execute_result"
    }
   ],
   "source": [
    ">>> np.random.randint(0, 50, 5)   # 随机数组，5个0到50之间的数字\n"
   ]
  },
  {
   "cell_type": "code",
   "execution_count": 46,
   "metadata": {},
   "outputs": [
    {
     "data": {
      "text/plain": [
       "array([0.08848053, 0.12551262, 0.16741582, 0.21389398, 0.26452764,\n",
       "       0.31877868, 0.37599819, 0.43543765, 0.49626299, 0.55757137,\n",
       "       0.61841016, 0.67779771, 0.73474528, 0.78827969, 0.83746596,\n",
       "       0.88142939, 0.91937641, 0.95061377, 0.97456529, 0.99078599,\n",
       "       0.99897301, 0.99897301, 0.99078599, 0.97456529, 0.95061377,\n",
       "       0.91937641, 0.88142939, 0.83746596, 0.78827969, 0.73474528,\n",
       "       0.67779771, 0.61841016, 0.55757137, 0.49626299, 0.43543765,\n",
       "       0.37599819, 0.31877868, 0.26452764, 0.21389398, 0.16741582,\n",
       "       0.12551262, 0.08848053])"
      ]
     },
     "execution_count": 46,
     "metadata": {},
     "output_type": "execute_result"
    }
   ],
   "source": [
    "import numpy as np\n",
    "import matplotlib.pyplot as plt\n",
    "\n",
    "window = np.kaiser(42, 4)\n",
    "window"
   ]
  },
  {
   "cell_type": "code",
   "execution_count": 47,
   "metadata": {},
   "outputs": [
    {
     "data": {
      "image/png": "[encoded data removed]",
      "text/plain": [
       "<Figure size 432x288 with 1 Axes>"
      ]
     },
     "metadata": {
      "needs_background": "light"
     },
     "output_type": "display_data"
    }
   ],
   "source": [
    "plt.plot(window)\n",
    "plt.show()"
   ]
  },
  {
   "cell_type": "code",
   "execution_count": 48,
   "metadata": {},
   "outputs": [
    {
     "data": {
      "text/plain": [
       "array([[13,  7, 11, 34,  8],\n",
       "       [20, 31, 48, 47, 13],\n",
       "       [21,  9,  8, 18, 34]])"
      ]
     },
     "execution_count": 48,
     "metadata": {},
     "output_type": "execute_result"
    }
   ],
   "source": [
    ">>> np.random.randint(0, 50, (3,5)) # 3行5列\n"
   ]
  },
  {
   "cell_type": "code",
   "execution_count": 49,
   "metadata": {},
   "outputs": [
    {
     "data": {
      "text/plain": [
       "array([-0.20652962,  0.97137438, -1.84759293,  0.14136682, -0.23146598])"
      ]
     },
     "execution_count": 49,
     "metadata": {},
     "output_type": "execute_result"
    }
   ],
   "source": [
    ">>> np.random.standard_normal(5)     # 从标准正态分布中随机采样\n"
   ]
  },
  {
   "cell_type": "code",
   "execution_count": 50,
   "metadata": {},
   "outputs": [
    {
     "data": {
      "text/plain": [
       "array([[[ 1.20572704,  0.15958308],\n",
       "        [-0.09291957,  2.15099771],\n",
       "        [ 0.27596611,  0.26659466],\n",
       "        [ 0.00959437, -0.23327089]],\n",
       "\n",
       "       [[-0.94367118, -0.45439601],\n",
       "        [ 1.05491357,  0.11113309],\n",
       "        [-0.71733533, -1.20385817],\n",
       "        [-0.26511906, -0.47148461]],\n",
       "\n",
       "       [[-1.04274557,  0.57423846],\n",
       "        [-0.31021798, -2.03635431],\n",
       "        [ 1.26186984,  0.82654224],\n",
       "        [ 0.74764887,  0.52995296]]])"
      ]
     },
     "execution_count": 50,
     "metadata": {},
     "output_type": "execute_result"
    }
   ],
   "source": [
    ">>> x = np.random.standard_normal(size=(3, 4, 2))\n",
    ">>> x\n"
   ]
  },
  {
   "cell_type": "code",
   "execution_count": 51,
   "metadata": {},
   "outputs": [
    {
     "data": {
      "text/plain": [
       "array([[1, 0, 0],\n",
       "       [0, 2, 0],\n",
       "       [0, 0, 3]])"
      ]
     },
     "execution_count": 51,
     "metadata": {},
     "output_type": "execute_result"
    }
   ],
   "source": [
    ">>> np.diag([1,2,3])            # 对角矩阵\n"
   ]
  },
  {
   "cell_type": "code",
   "execution_count": 52,
   "metadata": {},
   "outputs": [
    {
     "data": {
      "text/plain": [
       "array([[1, 0, 0, 0],\n",
       "       [0, 2, 0, 0],\n",
       "       [0, 0, 3, 0],\n",
       "       [0, 0, 0, 4]])"
      ]
     },
     "execution_count": 52,
     "metadata": {},
     "output_type": "execute_result"
    }
   ],
   "source": [
    ">>> np.diag([1,2,3,4])          # 对角矩阵\n"
   ]
  },
  {
   "cell_type": "code",
   "execution_count": 53,
   "metadata": {},
   "outputs": [
    {
     "data": {
      "text/plain": [
       "False"
      ]
     },
     "execution_count": 53,
     "metadata": {},
     "output_type": "execute_result"
    }
   ],
   "source": [
    "#测试两个数组是否足够接近\n",
    ">>> x = np.array([1, 2, 3, 4.001, 5])\n",
    ">>> y = np.array([1, 1.999, 3, 4.01, 5.1])\n",
    ">>> np.allclose(x, y)\n"
   ]
  },
  {
   "cell_type": "code",
   "execution_count": 54,
   "metadata": {},
   "outputs": [
    {
     "data": {
      "text/plain": [
       "True"
      ]
     },
     "execution_count": 54,
     "metadata": {},
     "output_type": "execute_result"
    }
   ],
   "source": [
    ">>> np.allclose(x, y, rtol=0.2)       # 设置相对误差参数\n"
   ]
  },
  {
   "cell_type": "code",
   "execution_count": 55,
   "metadata": {},
   "outputs": [
    {
     "data": {
      "text/plain": [
       "True"
      ]
     },
     "execution_count": 55,
     "metadata": {},
     "output_type": "execute_result"
    }
   ],
   "source": [
    ">>> np.allclose(x, y, atol=0.2)       # 设置绝对误差参数\n"
   ]
  },
  {
   "cell_type": "markdown",
   "metadata": {},
   "source": [
    "### 改变数组元素值"
   ]
  },
  {
   "cell_type": "code",
   "execution_count": 56,
   "metadata": {},
   "outputs": [
    {
     "data": {
      "text/plain": [
       "array([0, 1, 2, 3, 4, 5, 6, 7])"
      ]
     },
     "execution_count": 56,
     "metadata": {},
     "output_type": "execute_result"
    }
   ],
   "source": [
    ">>> x = np.arange(8)\n",
    ">>> x\n"
   ]
  },
  {
   "cell_type": "code",
   "execution_count": 57,
   "metadata": {},
   "outputs": [
    {
     "data": {
      "text/plain": [
       "array([0, 1, 2, 3, 4, 5, 6, 7, 8])"
      ]
     },
     "execution_count": 57,
     "metadata": {},
     "output_type": "execute_result"
    }
   ],
   "source": [
    ">>> np.append(x, 8)               # 返回新数组，增加元素\n"
   ]
  },
  {
   "cell_type": "code",
   "execution_count": 58,
   "metadata": {},
   "outputs": [
    {
     "data": {
      "text/plain": [
       "array([ 0,  1,  2,  3,  4,  5,  6,  7,  9, 10])"
      ]
     },
     "execution_count": 58,
     "metadata": {},
     "output_type": "execute_result"
    }
   ],
   "source": [
    ">>> np.append(x, [9,10])\n"
   ]
  },
  {
   "cell_type": "code",
   "execution_count": 59,
   "metadata": {},
   "outputs": [
    {
     "data": {
      "text/plain": [
       "array([0, 1, 2, 3, 4, 5, 6, 7])"
      ]
     },
     "execution_count": 59,
     "metadata": {},
     "output_type": "execute_result"
    }
   ],
   "source": [
    ">>> x    "
   ]
  },
  {
   "cell_type": "code",
   "execution_count": 60,
   "metadata": {},
   "outputs": [
    {
     "data": {
      "text/plain": [
       "array([0, 1, 2, 8, 4, 5, 6, 7])"
      ]
     },
     "execution_count": 60,
     "metadata": {},
     "output_type": "execute_result"
    }
   ],
   "source": [
    ">>> x[3] = 8                      # 原地修改元素值\n",
    ">>> x\n"
   ]
  },
  {
   "cell_type": "code",
   "execution_count": 61,
   "metadata": {},
   "outputs": [
    {
     "data": {
      "text/plain": [
       "array([0, 8, 1, 2, 8, 4, 5, 6, 7])"
      ]
     },
     "execution_count": 61,
     "metadata": {},
     "output_type": "execute_result"
    }
   ],
   "source": [
    ">>> np.insert(x, 1, 8)            # 返回新数组，插入元素\n"
   ]
  },
  {
   "cell_type": "code",
   "execution_count": 62,
   "metadata": {},
   "outputs": [
    {
     "data": {
      "text/plain": [
       "array([0, 0, 0, 1, 1, 1, 2, 2, 2, 8, 8, 8, 4, 4, 4, 5, 5, 5, 6, 6, 6, 7,\n",
       "       7, 7])"
      ]
     },
     "execution_count": 62,
     "metadata": {},
     "output_type": "execute_result"
    }
   ],
   "source": [
    ">>> x.repeat(3)                   # 元素重复，返回新数组\n"
   ]
  },
  {
   "cell_type": "code",
   "execution_count": 63,
   "metadata": {},
   "outputs": [
    {
     "data": {
      "text/plain": [
       "array([9, 1, 2, 8, 4, 5, 6, 7])"
      ]
     },
     "execution_count": 63,
     "metadata": {},
     "output_type": "execute_result"
    }
   ],
   "source": [
    ">>> x.put(0, 9)                   # 修改指定位置上的元素值\n",
    ">>> x\n"
   ]
  },
  {
   "cell_type": "code",
   "execution_count": 64,
   "metadata": {},
   "outputs": [
    {
     "data": {
      "text/plain": [
       "array([[1, 2, 4],\n",
       "       [4, 1, 1],\n",
       "       [7, 1, 1]])"
      ]
     },
     "execution_count": 64,
     "metadata": {},
     "output_type": "execute_result"
    }
   ],
   "source": [
    ">>> x = np.array([[1,2,3], [4,5,6], [7,8,9]])\n",
    ">>> x[0, 2] = 4                   # 修改第0行第2列的元素值\n",
    ">>> x[1:, 1:] = 1                 # 同时修改多个值\n",
    ">>> x\n"
   ]
  },
  {
   "cell_type": "code",
   "execution_count": 65,
   "metadata": {},
   "outputs": [
    {
     "data": {
      "text/plain": [
       "array([[1, 2, 4],\n",
       "       [4, 1, 2],\n",
       "       [7, 1, 2]])"
      ]
     },
     "execution_count": 65,
     "metadata": {},
     "output_type": "execute_result"
    }
   ],
   "source": [
    ">>> x[1:, 1:] = [1,2]\n",
    ">>> x\n"
   ]
  },
  {
   "cell_type": "code",
   "execution_count": 66,
   "metadata": {},
   "outputs": [
    {
     "data": {
      "text/plain": [
       "array([[1, 2, 4],\n",
       "       [4, 1, 2],\n",
       "       [7, 3, 4]])"
      ]
     },
     "execution_count": 66,
     "metadata": {},
     "output_type": "execute_result"
    }
   ],
   "source": [
    ">>> x[1:, 1:] = [[1,2],[3,4]]\n",
    ">>> x\n"
   ]
  },
  {
   "cell_type": "markdown",
   "metadata": {},
   "source": [
    "### 数组与数值的运算\n"
   ]
  },
  {
   "cell_type": "code",
   "execution_count": null,
   "metadata": {},
   "outputs": [],
   "source": [
    ">>> x = np.array((1, 2, 3, 4, 5))    # 创建数组对象\n",
    ">>> x\n"
   ]
  },
  {
   "cell_type": "code",
   "execution_count": null,
   "metadata": {},
   "outputs": [],
   "source": [
    ">>> x * 2                            # 数组与数值相乘，返回新数组\n"
   ]
  },
  {
   "cell_type": "code",
   "execution_count": null,
   "metadata": {},
   "outputs": [],
   "source": [
    ">>> x / 2                            # 数组与数值相除\n"
   ]
  },
  {
   "cell_type": "code",
   "execution_count": null,
   "metadata": {},
   "outputs": [],
   "source": [
    ">>> x // 2                           # 数组与数值整除\n"
   ]
  },
  {
   "cell_type": "code",
   "execution_count": null,
   "metadata": {},
   "outputs": [],
   "source": [
    ">>> x ** 3                           # 幂运算\n"
   ]
  },
  {
   "cell_type": "code",
   "execution_count": null,
   "metadata": {},
   "outputs": [],
   "source": [
    ">>> x + 2                            # 数组与数值相加\n"
   ]
  },
  {
   "cell_type": "code",
   "execution_count": null,
   "metadata": {},
   "outputs": [],
   "source": [
    ">>> x % 3                            # 余数\n"
   ]
  },
  {
   "cell_type": "code",
   "execution_count": null,
   "metadata": {},
   "outputs": [],
   "source": [
    ">>> 2 ** x\n"
   ]
  },
  {
   "cell_type": "code",
   "execution_count": null,
   "metadata": {},
   "outputs": [],
   "source": [
    ">>> 2 / x\n"
   ]
  },
  {
   "cell_type": "code",
   "execution_count": null,
   "metadata": {},
   "outputs": [],
   "source": [
    ">>> 63 // x\n"
   ]
  },
  {
   "cell_type": "markdown",
   "metadata": {},
   "source": [
    "### 数组与数组的运算\n"
   ]
  },
  {
   "cell_type": "code",
   "execution_count": null,
   "metadata": {},
   "outputs": [],
   "source": [
    ">>> a = np.array((1, 2, 3))\n",
    ">>> b = np.array(([1, 2, 3], [4, 5, 6], [7, 8, 9]))\n",
    ">>> c = a * b                   # 数组与数组相乘\n",
    ">>> c                           # a中的每个元素乘以b中的对应列元素\n"
   ]
  },
  {
   "cell_type": "code",
   "execution_count": null,
   "metadata": {},
   "outputs": [],
   "source": [
    ">>> c / b                       # 数组之间的除法运算\n"
   ]
  },
  {
   "cell_type": "code",
   "execution_count": null,
   "metadata": {},
   "outputs": [],
   "source": [
    ">>> c / a\n"
   ]
  },
  {
   "cell_type": "code",
   "execution_count": null,
   "metadata": {},
   "outputs": [],
   "source": [
    ">>> a + a                         # 数组之间的加法运算\n"
   ]
  },
  {
   "cell_type": "code",
   "execution_count": null,
   "metadata": {},
   "outputs": [],
   "source": [
    ">>> a * a                         # 数组之间的乘法运算\n"
   ]
  },
  {
   "cell_type": "code",
   "execution_count": null,
   "metadata": {},
   "outputs": [],
   "source": [
    ">>> a - a                         # 数组之间的减法运算\n"
   ]
  },
  {
   "cell_type": "code",
   "execution_count": null,
   "metadata": {},
   "outputs": [],
   "source": [
    ">>> a / a                         # 数组之间的除法运算\n"
   ]
  },
  {
   "cell_type": "code",
   "execution_count": null,
   "metadata": {},
   "outputs": [],
   "source": [
    ">>> a+b                           # a中每个元素加b中的每一列元素\n"
   ]
  },
  {
   "cell_type": "code",
   "execution_count": null,
   "metadata": {},
   "outputs": [],
   "source": [
    ">>> np.array([1, 2, 3, 4]) + np.array([4, 3, 2, 1])\n"
   ]
  },
  {
   "cell_type": "code",
   "execution_count": null,
   "metadata": {},
   "outputs": [],
   "source": [
    ">>> np.array([1, 2, 3, 4]) + np.array([4])\n"
   ]
  },
  {
   "cell_type": "markdown",
   "metadata": {},
   "source": [
    "# matplotlib绘图"
   ]
  },
  {
   "cell_type": "markdown",
   "metadata": {},
   "source": [
    "推荐学习方式：从官网examples入门学习"
   ]
  },
  {
   "cell_type": "markdown",
   "metadata": {},
   "source": [
    "http://matplotlib.org/examples/index.html"
   ]
  },
  {
   "cell_type": "markdown",
   "metadata": {},
   "source": [
    "http://matplotlib.org/gallery.html"
   ]
  },
  {
   "cell_type": "code",
   "execution_count": null,
   "metadata": {},
   "outputs": [],
   "source": [
    "import matplotlib.pyplot as plt"
   ]
  },
  {
   "cell_type": "markdown",
   "metadata": {},
   "source": [
    "![jupyter](./1.png)"
   ]
  },
  {
   "cell_type": "markdown",
   "metadata": {},
   "source": [
    "![jupyter](./2.png)"
   ]
  },
  {
   "cell_type": "markdown",
   "metadata": {},
   "source": [
    "### 在绘图结构中：\n",
    "#### figure创建窗口，subplot创建子图。\n",
    "#### 所有的绘画只能在子图上进行。\n",
    "#### plt表示当前子图，若没有就创建一个子图。\n",
    "#### 所以，你会看到一些教程中使用plt进行设置，一些教程使用子图属性进行设置。他们往往存在对应功能函数。\n",
    "#### Figure：面板(图)，matplotlib中的所有图像都是位于figure对象中，一个图像只能有一个figure对象。\n",
    "#### Subplot：子图，figure对象下创建一个或多个subplot对象(即axes)用于绘制图像。"
   ]
  },
  {
   "cell_type": "markdown",
   "metadata": {},
   "source": [
    "![jupyter](./3.png)"
   ]
  },
  {
   "cell_type": "markdown",
   "metadata": {},
   "source": [
    "## 配置参数：\n",
    "#### axex: 设置坐标轴边界和表面的颜色、坐标刻度值大小和网格的显示\n",
    "#### figure: 控制dpi、边界颜色、图形大小、和子区( subplot)设置\n",
    "#### font: 字体集（font family）、字体大小和样式设置\n",
    "#### grid: 设置网格颜色和线性\n",
    "#### legend: 设置图例和其中的文本的显示\n",
    "#### line: 设置线条（颜色、线型、宽度等）和标记\n",
    "#### patch: 是填充2D空间的图形对象，如多边形和圆。控制线宽、颜色和抗锯齿设置等。\n",
    "#### savefig: 可以对保存的图形进行单独设置。例如，设置渲染的文件的背景为白色。\n",
    "#### verbose: 设置matplotlib在执行期间信息输出，如silent、helpful、debug和debug-annoying。\n",
    "#### xticks和yticks: 为x,y轴的主刻度和次刻度设置颜色、大小、方向，以及标签大小。"
   ]
  },
  {
   "cell_type": "markdown",
   "metadata": {},
   "source": [
    "### 以下示例需要引入的库包括"
   ]
  },
  {
   "cell_type": "code",
   "execution_count": 67,
   "metadata": {},
   "outputs": [],
   "source": [
    "import numpy as np\n",
    "import pandas as pd\n",
    "import matplotlib.pyplot as plt\n",
    "from matplotlib.ticker import MultipleLocator"
   ]
  },
  {
   "cell_type": "markdown",
   "metadata": {},
   "source": [
    "### 绘图操作步骤（以点图、线图为例）"
   ]
  },
  {
   "cell_type": "code",
   "execution_count": 68,
   "metadata": {},
   "outputs": [
    {
     "name": "stdout",
     "output_type": "stream",
     "text": [
      "Figure(1200x640) AxesSubplot(0.125,0.536818;0.775x0.343182) AxesSubplot(0.125,0.125;0.775x0.343182)\n"
     ]
    },
    {
     "data": {
      "image/png": "[encoded data removed]",
      "text/plain": [
       "<Figure size 1200x640 with 2 Axes>"
      ]
     },
     "metadata": {
      "needs_background": "light"
     },
     "output_type": "display_data"
    }
   ],
   "source": [
    "#使用numpy产生数据\n",
    "x=np.arange(-5,5,0.1)\n",
    "y=x*3\n",
    "\n",
    "#创建窗口、子图\n",
    "#方法1：先创建窗口，再创建子图。（一定绘制）\n",
    "fig = plt.figure(num=1, figsize=(15, 8),dpi=80)     #开启一个窗口，同时设置大小，分辨率\n",
    "ax1 = fig.add_subplot(2,1,1)  #通过fig添加子图，参数：行数，列数，第几个。\n",
    "ax2 = fig.add_subplot(2,1,2)  #通过fig添加子图，参数：行数，列数，第几个。\n",
    "print(fig,ax1,ax2)\n"
   ]
  },
  {
   "cell_type": "code",
   "execution_count": 69,
   "metadata": {},
   "outputs": [
    {
     "name": "stdout",
     "output_type": "stream",
     "text": [
      "Figure(432x288) AxesSubplot(0.125,0.71587;0.775x0.16413)\n"
     ]
    },
    {
     "data": {
      "image/png": "[encoded data removed]",
      "text/plain": [
       "<Figure size 432x288 with 4 Axes>"
      ]
     },
     "metadata": {
      "needs_background": "light"
     },
     "output_type": "display_data"
    }
   ],
   "source": [
    "#方法2：一次性创建窗口和多个子图。（空白不绘制）\n",
    "fig,axarr = plt.subplots(4,1)  #开一个新窗口，并添加4个子图，返回子图数组\n",
    "ax1 = axarr[0]    #通过子图数组获取一个子图\n",
    "print(fig,ax1)\n"
   ]
  },
  {
   "cell_type": "code",
   "execution_count": 70,
   "metadata": {},
   "outputs": [
    {
     "name": "stdout",
     "output_type": "stream",
     "text": [
      "AxesSubplot(0.125,0.125;0.775x0.755)\n"
     ]
    },
    {
     "data": {
      "image/png": "[encoded data removed]",
      "text/plain": [
       "<Figure size 432x288 with 1 Axes>"
      ]
     },
     "metadata": {
      "needs_background": "light"
     },
     "output_type": "display_data"
    }
   ],
   "source": [
    "#方法3：一次性创建窗口和一个子图。（空白不绘制）\n",
    "ax1 = plt.subplot(1,1,1,facecolor='white')      #开一个新窗口，创建1个子图。facecolor设置背景颜色\n",
    "print(ax1)\n"
   ]
  },
  {
   "cell_type": "code",
   "execution_count": 71,
   "metadata": {},
   "outputs": [
    {
     "data": {
      "text/plain": [
       "<Figure size 432x288 with 0 Axes>"
      ]
     },
     "metadata": {},
     "output_type": "display_data"
    }
   ],
   "source": [
    "#获取对窗口的引用，适用于上面三种方法\n",
    "fig = plt.gcf()   #获得当前figure\n",
    "fig=ax1.figure   #获得指定子图所属窗口\n",
    "\n",
    "fig.subplots_adjust(left=0)                         #设置窗口左内边距为0，即左边留白为0。"
   ]
  },
  {
   "cell_type": "code",
   "execution_count": 72,
   "metadata": {},
   "outputs": [
    {
     "data": {
      "image/png": "[encoded data removed]",
      "text/plain": [
       "<Figure size 432x288 with 2 Axes>"
      ]
     },
     "metadata": {
      "needs_background": "light"
     },
     "output_type": "display_data"
    }
   ],
   "source": [
    "#设置子图的基本元素\n",
    "ax1.set_title('python-drawing')            #设置图体，plt.title\n",
    "ax1.set_xlabel('x-name')                    #设置x轴名称,plt.xlabel\n",
    "ax1.set_ylabel('y-name')                    #设置y轴名称,plt.ylabel\n",
    "plt.axis([-6,6,-10,10])                  #设置横纵坐标轴范围，这个在子图中被分解为下面两个函数\n",
    "ax1.set_xlim(-5,5)                           #设置横轴范围，会覆盖上面的横坐标,plt.xlim\n",
    "ax1.set_ylim(-10,10)                         #设置纵轴范围，会覆盖上面的纵坐标,plt.ylim\n",
    "\n",
    "xmajorLocator = MultipleLocator(2)   #定义横向主刻度标签的刻度差为2的倍数。就是隔几个刻度才显示一个标签文本\n",
    "ymajorLocator = MultipleLocator(3)   #定义纵向主刻度标签的刻度差为3的倍数。就是隔几个刻度才显示一个标签文本\n",
    "\n",
    "ax1.xaxis.set_major_locator(xmajorLocator) #x轴 应用定义的横向主刻度格式。如果不应用将采用默认刻度格式\n",
    "ax1.yaxis.set_major_locator(ymajorLocator) #y轴 应用定义的纵向主刻度格式。如果不应用将采用默认刻度格式\n",
    "\n",
    "ax1.xaxis.grid(True, which='major')      #x坐标轴的网格使用定义的主刻度格式\n",
    "ax1.yaxis.grid(True, which='major')      #x坐标轴的网格使用定义的主刻度格式\n",
    "\n",
    "ax1.set_xticks([])     #去除坐标轴刻度\n",
    "ax1.set_xticks((-5,-3,-1,1,3,5))  #设置坐标轴刻度\n",
    "ax1.set_xticklabels(labels=['x1','x2','x3','x4','x5'],rotation=-30,fontsize='small')  #设置刻度的显示文本，rotation旋转角度，fontsize字体大小\n",
    "\n",
    "plot1=ax1.plot(x,y,marker='o',color='g',label='legend1')   #点图：marker图标\n",
    "plot2=ax1.plot(x,y,linestyle='--',alpha=0.5,color='r',label='legend2')   #线图：linestyle线性，alpha透明度，color颜色，label图例文本\n",
    "\n",
    "ax1.legend(loc='upper left')            #显示图例,plt.legend()\n",
    "ax1.text(2.8, 7, r'y=3*x')                #指定位置显示文字,plt.text()\n",
    "ax1.annotate('important point', xy=(2, 6), xytext=(3, 1.5),  #添加标注，参数：注释文本、指向点、文字位置、箭头属性\n",
    "            arrowprops=dict(facecolor='black', shrink=0.05),\n",
    "            )\n",
    "#显示网格。which参数的值为major(只绘制大刻度)、minor(只绘制小刻度)、both，默认值为major。axis为'x','y','both'\n",
    "ax1.grid(b=True,which='major',axis='both',alpha= 0.5,color='skyblue',linestyle='--',linewidth=2)\n",
    "\n",
    "axes1 = plt.axes([.2, .3, .1, .1], facecolor='y')       #在当前窗口添加一个子图，rect=[左, 下, 宽, 高]，是使用的绝对布局，不和以存在窗口挤占空间\n",
    "axes1.plot(x,y)  #在子图上画图\n",
    "plt.savefig('aa.jpg',dpi=400,bbox_inches='tight')   #savefig保存图片，dpi分辨率，bbox_inches子图周边白色空间的大小\n",
    "plt.show()    #打开窗口，对于方法1创建在窗口一定绘制，对于方法2方法3创建的窗口，若坐标系全部空白，则不绘制"
   ]
  },
  {
   "cell_type": "markdown",
   "metadata": {},
   "source": [
    "### 一个窗口多个图"
   ]
  },
  {
   "cell_type": "code",
   "execution_count": 73,
   "metadata": {},
   "outputs": [
    {
     "data": {
      "image/png": "[encoded data removed]",
      "text/plain": [
       "<Figure size 432x288 with 4 Axes>"
      ]
     },
     "metadata": {
      "needs_background": "light"
     },
     "output_type": "display_data"
    }
   ],
   "source": [
    "#一个窗口，多个图，多条数据\n",
    "sub1=plt.subplot(211,facecolor=(0.1843,0.3098,0.3098))  #将窗口分成2行1列，在第1个作图，并设置背景色\n",
    "sub2=plt.subplot(212)   #将窗口分成2行1列，在第2个作图\n",
    "sub1.plot(x,y)          #绘制子图\n",
    "sub2.plot(x,y)          #绘制子图\n",
    "\n",
    "axes1 = plt.axes([.2, .3, .1, .1], facecolor='y')  #添加一个子坐标系，rect=[左, 下, 宽, 高]\n",
    "plt.plot(x,y)           #绘制子坐标系，\n",
    "axes2 = plt.axes([0.7, .2, .1, .1], facecolor='y')  #添加一个子坐标系，rect=[左, 下, 宽, 高]\n",
    "plt.plot(x,y)\n",
    "plt.show()"
   ]
  },
  {
   "cell_type": "markdown",
   "metadata": {},
   "source": [
    "### 极坐标"
   ]
  },
  {
   "cell_type": "code",
   "execution_count": 74,
   "metadata": {},
   "outputs": [
    {
     "data": {
      "image/png": "[encoded data removed]",
      "text/plain": [
       "<Figure size 432x288 with 2 Axes>"
      ]
     },
     "metadata": {
      "needs_background": "light"
     },
     "output_type": "display_data"
    }
   ],
   "source": [
    "fig = plt.figure(2)                                #新开一个窗口\n",
    "ax1 = fig.add_subplot(1,2,1,polar=True)                  #启动一个极坐标子图\n",
    "theta=np.arange(0,2*np.pi,0.02)              #角度数列值\n",
    "ax1.plot(theta,2*np.ones_like(theta),lw=2)   #画图，参数：角度，半径，lw线宽\n",
    "ax1.plot(theta,theta/6,linestyle='--',lw=2)           #画图，参数：角度，半径，linestyle样式，lw线宽\n",
    "\n",
    "ax2 = fig.add_subplot(1,2,2,polar=True)                  #启动一个极坐标子图\n",
    "ax2.plot(theta,np.cos(5*theta),linestyle='--',lw=2)\n",
    "ax2.plot(theta,2*np.cos(4*theta),lw=2)\n",
    "\n",
    "ax2.set_rgrids(np.arange(0.2,2,0.2),angle=45)   #距离网格轴，轴线刻度和显示位置\n",
    "ax2.set_thetagrids([0,45,90])                   #角度网格轴，范围0-360度\n",
    "\n",
    "plt.show()"
   ]
  },
  {
   "cell_type": "markdown",
   "metadata": {},
   "source": [
    "### 柱形图"
   ]
  },
  {
   "cell_type": "code",
   "execution_count": 75,
   "metadata": {},
   "outputs": [
    {
     "data": {
      "image/png": "[encoded data removed]",
      "text/plain": [
       "<Figure size 432x288 with 1 Axes>"
      ]
     },
     "metadata": {
      "needs_background": "light"
     },
     "output_type": "display_data"
    }
   ],
   "source": [
    "plt.figure(3)\n",
    "x_index = np.arange(5)   #柱的索引\n",
    "x_data = ('A', 'B', 'C', 'D', 'E')\n",
    "y1_data = (20, 35, 30, 35, 27)\n",
    "y2_data = (25, 32, 34, 20, 25)\n",
    "bar_width = 0.35   #定义一个数字代表每个独立柱的宽度\n",
    "\n",
    "rects1 = plt.bar(x_index, y1_data, width=bar_width,alpha=0.4, color='b',label='legend1')            #参数：左偏移、高度、柱宽、透明度、颜色、图例\n",
    "rects2 = plt.bar(x_index + bar_width, y2_data, width=bar_width,alpha=0.5,color='r',label='legend2') #参数：左偏移、高度、柱宽、透明度、颜色、图例\n",
    "#关于左偏移，不用关心每根柱的中心不中心，因为只要把刻度线设置在柱的中间就可以了\n",
    "plt.xticks(x_index + bar_width/2, x_data)   #x轴刻度线\n",
    "plt.legend()    #显示图例\n",
    "plt.tight_layout()  #自动控制图像外部边缘，此方法不能够很好的控制图像间的间隔\n",
    "plt.show()"
   ]
  },
  {
   "cell_type": "markdown",
   "metadata": {},
   "source": [
    "### 直方图"
   ]
  },
  {
   "cell_type": "code",
   "execution_count": 76,
   "metadata": {},
   "outputs": [
    {
     "name": "stderr",
     "output_type": "stream",
     "text": [
      "c:\\python37\\lib\\site-packages\\ipykernel_launcher.py:5: MatplotlibDeprecationWarning: \n",
      "The 'normed' kwarg was deprecated in Matplotlib 2.1 and will be removed in 3.1. Use 'density' instead.\n",
      "  \"\"\"\n",
      "c:\\python37\\lib\\site-packages\\ipykernel_launcher.py:6: MatplotlibDeprecationWarning: \n",
      "The 'normed' kwarg was deprecated in Matplotlib 2.1 and will be removed in 3.1. Use 'density' instead.\n",
      "  \n"
     ]
    },
    {
     "data": {
      "image/png": "[encoded data removed]",
      "text/plain": [
       "<Figure size 648x432 with 2 Axes>"
      ]
     },
     "metadata": {
      "needs_background": "light"
     },
     "output_type": "display_data"
    }
   ],
   "source": [
    "fig,(ax0,ax1) = plt.subplots(nrows=2,figsize=(9,6))     #在窗口上添加2个子图\n",
    "sigma = 1   #标准差\n",
    "mean = 0    #均值\n",
    "x=mean+sigma*np.random.randn(10000)   #正态分布随机数\n",
    "ax0.hist(x,bins=40,normed=False,histtype='bar',facecolor='yellowgreen',alpha=0.75)   #normed是否归一化，histtype直方图类型，facecolor颜色，alpha透明度\n",
    "ax1.hist(x,bins=20,normed=1,histtype='bar',facecolor='pink',alpha=0.75,cumulative=True,rwidth=0.8) #bins柱子的个数,cumulative是否计算累加分布，rwidth柱子宽度\n",
    "plt.show()  #所有窗口运行"
   ]
  },
  {
   "cell_type": "markdown",
   "metadata": {},
   "source": [
    "### 散点图"
   ]
  },
  {
   "cell_type": "code",
   "execution_count": 77,
   "metadata": {},
   "outputs": [
    {
     "data": {
      "image/png": "[encoded data removed]",
      "text/plain": [
       "<Figure size 432x288 with 1 Axes>"
      ]
     },
     "metadata": {
      "needs_background": "light"
     },
     "output_type": "display_data"
    }
   ],
   "source": [
    "fig = plt.figure(4)          #添加一个窗口\n",
    "ax =fig.add_subplot(1,1,1)   #在窗口上添加一个子图\n",
    "x=np.random.random(100)      #产生随机数组\n",
    "y=np.random.random(100)      #产生随机数组\n",
    "ax.scatter(x,y,s=x*1000,c='y',marker=(5,1),alpha=0.5,lw=2,facecolors='none')  #x横坐标，y纵坐标，s图像大小，c颜色，marker图片，lw图像边框宽度\n",
    "plt.show()  #所有窗口运行"
   ]
  },
  {
   "cell_type": "markdown",
   "metadata": {},
   "source": [
    "### 画矩形、多边形、圆形和椭圆"
   ]
  },
  {
   "cell_type": "code",
   "execution_count": 78,
   "metadata": {},
   "outputs": [
    {
     "data": {
      "image/png": "[encoded data removed]",
      "text/plain": [
       "<Figure size 432x288 with 1 Axes>"
      ]
     },
     "metadata": {
      "needs_background": "light"
     },
     "output_type": "display_data"
    }
   ],
   "source": [
    "fig = plt.figure(6)   #创建一个窗口\n",
    "ax=fig.add_subplot(1,1,1)   #添加一个子图\n",
    "rect1 = plt.Rectangle((0.1,0.2),0.2,0.3,color='r')  #创建一个矩形，参数：(x,y),width,height\n",
    "circ1 = plt.Circle((0.7,0.2),0.15,color='r',alpha=0.3)  #创建一个椭圆，参数：中心点，半径，默认这个圆形会跟随窗口大小进行长宽压缩\n",
    "pgon1 = plt.Polygon([[0.45,0.45],[0.65,0.6],[0.2,0.6]])  #创建一个多边形，参数：每个顶点坐标\n",
    "\n",
    "ax.add_patch(rect1)  #将形状添加到子图上\n",
    "ax.add_patch(circ1)  #将形状添加到子图上\n",
    "ax.add_patch(pgon1)  #将形状添加到子图上\n",
    "\n",
    "fig.canvas.draw()  #子图绘制\n",
    "plt.show()"
   ]
  },
  {
   "cell_type": "markdown",
   "metadata": {},
   "source": [
    "# Matplotlib从入门到精通的50个问题"
   ]
  },
  {
   "cell_type": "markdown",
   "metadata": {},
   "source": [
    "1.导入matplotlib库简写为plt"
   ]
  },
  {
   "cell_type": "code",
   "execution_count": 79,
   "metadata": {},
   "outputs": [],
   "source": [
    "import matplotlib.pyplot as plt"
   ]
  },
  {
   "cell_type": "markdown",
   "metadata": {},
   "source": [
    "## 二、基本图表"
   ]
  },
  {
   "cell_type": "markdown",
   "metadata": {},
   "source": [
    "2.用plot方法画出x=(0,10)间sin的图像"
   ]
  },
  {
   "cell_type": "code",
   "execution_count": 86,
   "metadata": {},
   "outputs": [
    {
     "data": {
      "text/plain": [
       "[<matplotlib.lines.Line2D at 0x17a013389e8>]"
      ]
     },
     "execution_count": 86,
     "metadata": {},
     "output_type": "execute_result"
    },
    {
     "data": {
      "image/png": "[encoded data removed]",
      "text/plain": [
       "<Figure size 432x288 with 1 Axes>"
      ]
     },
     "metadata": {
      "needs_background": "light"
     },
     "output_type": "display_data"
    }
   ],
   "source": [
    "x = np.linspace(0,10,70)\n",
    "plt.plot(x, np.sin(x))"
   ]
  },
  {
   "cell_type": "markdown",
   "metadata": {},
   "source": [
    "3.用点加线的方式画出x=(0,10)间sin的图像"
   ]
  },
  {
   "cell_type": "code",
   "execution_count": 84,
   "metadata": {},
   "outputs": [
    {
     "data": {
      "image/png": "[encoded data removed]",
      "text/plain": [
       "<Figure size 432x288 with 1 Axes>"
      ]
     },
     "metadata": {
      "needs_background": "light"
     },
     "output_type": "display_data"
    }
   ],
   "source": [
    "plt.plot(x, np.sin(x),'-o');"
   ]
  },
  {
   "cell_type": "markdown",
   "metadata": {},
   "source": [
    "4.用scatter方法画出x=(0,10)间sin的点图像"
   ]
  },
  {
   "cell_type": "code",
   "execution_count": 87,
   "metadata": {},
   "outputs": [
    {
     "data": {
      "image/png": "[encoded data removed]",
      "text/plain": [
       "<Figure size 432x288 with 1 Axes>"
      ]
     },
     "metadata": {
      "needs_background": "light"
     },
     "output_type": "display_data"
    }
   ],
   "source": [
    "plt.scatter(x, np.sin(x));"
   ]
  },
  {
   "cell_type": "markdown",
   "metadata": {},
   "source": [
    "5.用饼图的面积及颜色展示一组4维数据"
   ]
  },
  {
   "cell_type": "code",
   "execution_count": 91,
   "metadata": {},
   "outputs": [
    {
     "data": {
      "image/png": "[encoded data removed]",
      "text/plain": [
       "<Figure size 432x288 with 2 Axes>"
      ]
     },
     "metadata": {
      "needs_background": "light"
     },
     "output_type": "display_data"
    }
   ],
   "source": [
    "rng = np.random.RandomState(0)\n",
    "x = rng.randn(100)\n",
    "y = rng.randn(100)\n",
    "colors = rng.rand(100)\n",
    "sizes = 1000 * rng.rand(100)\n",
    "\n",
    "plt.scatter(x, y, c=colors, s=sizes, alpha=0.3,\n",
    "            cmap='viridis')\n",
    "plt.colorbar(); # 展示色阶"
   ]
  },
  {
   "cell_type": "markdown",
   "metadata": {},
   "source": [
    "6.绘制一组误差为±0.8的数据的误差条图"
   ]
  },
  {
   "cell_type": "code",
   "execution_count": null,
   "metadata": {},
   "outputs": [],
   "source": [
    "x = np.linspace(0, 10, 50)\n",
    "dy = 0.8\n",
    "y = np.sin(x) + dy * np.random.randn(50)\n",
    "\n",
    "plt.errorbar(x, y, yerr=dy, fmt='.k')"
   ]
  },
  {
   "cell_type": "markdown",
   "metadata": {},
   "source": [
    "7.绘制一个柱状图"
   ]
  },
  {
   "cell_type": "code",
   "execution_count": null,
   "metadata": {},
   "outputs": [],
   "source": [
    "x = [1,2,3,4,5,6,7,8]\n",
    "y = [3,1,4,5,8,9,7,2]\n",
    "label=['A','B','C','D','E','F','G','H']\n",
    "\n",
    "plt.bar(x,y,tick_label = label)"
   ]
  },
  {
   "cell_type": "markdown",
   "metadata": {},
   "source": [
    "8.绘制一个水平方向柱状图"
   ]
  },
  {
   "cell_type": "code",
   "execution_count": null,
   "metadata": {},
   "outputs": [],
   "source": [
    "plt.barh(x,y,tick_label = label)"
   ]
  },
  {
   "cell_type": "markdown",
   "metadata": {},
   "source": [
    "9.绘制1000个随机值的直方图"
   ]
  },
  {
   "cell_type": "code",
   "execution_count": null,
   "metadata": {},
   "outputs": [],
   "source": [
    "data = np.random.randn(1000)\n",
    "plt.hist(data)"
   ]
  },
  {
   "cell_type": "markdown",
   "metadata": {},
   "source": [
    "10.设置直方图分30个bins，并设置为频率分布"
   ]
  },
  {
   "cell_type": "code",
   "execution_count": null,
   "metadata": {},
   "outputs": [],
   "source": [
    "plt.hist(data, bins=30,histtype='stepfilled', density=True)\n",
    "plt.show();"
   ]
  },
  {
   "cell_type": "markdown",
   "metadata": {},
   "source": [
    "11.在一张图中绘制3组不同的直方图，并设置透明度"
   ]
  },
  {
   "cell_type": "code",
   "execution_count": null,
   "metadata": {},
   "outputs": [],
   "source": [
    "x1 = np.random.normal(0, 0.8, 1000)\n",
    "x2 = np.random.normal(-2, 1, 1000)\n",
    "x3 = np.random.normal(3, 2, 1000)\n",
    "\n",
    "kwargs = dict(alpha=0.3, bins=40, density = True)\n",
    "\n",
    "plt.hist(x1, **kwargs)\n",
    "plt.hist(x2, **kwargs)\n",
    "plt.hist(x3, **kwargs)"
   ]
  },
  {
   "cell_type": "markdown",
   "metadata": {},
   "source": [
    "12.绘制一张二维直方图"
   ]
  },
  {
   "cell_type": "code",
   "execution_count": null,
   "metadata": {},
   "outputs": [],
   "source": [
    "mean = [0, 0]\n",
    "cov = [[1, 1], [1, 2]]\n",
    "x, y = np.random.multivariate_normal(mean, cov, 10000).T\n",
    "plt.hist2d(x, y, bins=30)\n",
    "plt.show()"
   ]
  },
  {
   "cell_type": "markdown",
   "metadata": {},
   "source": [
    "13.绘制一张设置网格大小为30的六角形直方图"
   ]
  },
  {
   "cell_type": "code",
   "execution_count": null,
   "metadata": {},
   "outputs": [],
   "source": [
    "plt.hexbin(x, y, gridsize=30)"
   ]
  },
  {
   "cell_type": "markdown",
   "metadata": {},
   "source": [
    "# 三、自定义图表元素"
   ]
  },
  {
   "cell_type": "markdown",
   "metadata": {},
   "source": [
    "14.绘制x=(0,10)间sin的图像，设置线性为虚线"
   ]
  },
  {
   "cell_type": "code",
   "execution_count": null,
   "metadata": {},
   "outputs": [],
   "source": [
    "x = np.linspace(0,10,100)\n",
    "plt.plot(x,np.sin(x),'--')"
   ]
  },
  {
   "cell_type": "markdown",
   "metadata": {},
   "source": [
    "15设置y轴显示范围为(-1.5,1.5)"
   ]
  },
  {
   "cell_type": "code",
   "execution_count": null,
   "metadata": {},
   "outputs": [],
   "source": [
    "x = np.linspace(0,10,100)\n",
    "plt.plot(x,np.sin(x))\n",
    "plt.ylim(-1.5,1.5)"
   ]
  },
  {
   "cell_type": "markdown",
   "metadata": {},
   "source": [
    "16.设置x,y轴标签variable x，value y"
   ]
  },
  {
   "cell_type": "code",
   "execution_count": null,
   "metadata": {},
   "outputs": [],
   "source": [
    "x = np.linspace(0.05, 10, 100)\n",
    "y = np.sin(x)\n",
    "plt.plot(x, y, label='sin(x)')\n",
    "plt.xlabel('variable x');\n",
    "plt.ylabel('value y');"
   ]
  },
  {
   "cell_type": "markdown",
   "metadata": {},
   "source": [
    "17.设置图表标题“三角函数”"
   ]
  },
  {
   "cell_type": "code",
   "execution_count": null,
   "metadata": {},
   "outputs": [],
   "source": [
    "x = np.linspace(0.05, 10, 100)\n",
    "y = np.sin(x)\n",
    "plt.plot(x, y, label='sin(x)')\n",
    "plt.title('三角函数');"
   ]
  },
  {
   "cell_type": "markdown",
   "metadata": {},
   "source": [
    "18.显示网格"
   ]
  },
  {
   "cell_type": "code",
   "execution_count": null,
   "metadata": {},
   "outputs": [],
   "source": [
    "x = np.linspace(0.05, 10, 100)\n",
    "y = np.sin(x)\n",
    "plt.plot(x, y)\n",
    "plt.grid()"
   ]
  },
  {
   "cell_type": "markdown",
   "metadata": {},
   "source": [
    "19.绘制平行于x轴y=0.8的水平参考线"
   ]
  },
  {
   "cell_type": "code",
   "execution_count": null,
   "metadata": {},
   "outputs": [],
   "source": [
    "x = np.linspace(0.05, 10, 100)\n",
    "y = np.sin(x)\n",
    "plt.plot(x, y)\n",
    "plt.axhline(y=0.8, ls='--', c='r')"
   ]
  },
  {
   "cell_type": "markdown",
   "metadata": {},
   "source": [
    "20.绘制垂直于x轴x<4 and x>6的参考区域，以及y轴y<0.2 andy>-0.2的参考区域"
   ]
  },
  {
   "cell_type": "code",
   "execution_count": null,
   "metadata": {},
   "outputs": [],
   "source": [
    "x = np.linspace(0.05, 10, 100)\n",
    "y = np.sin(x)\n",
    "plt.plot(x, y)\n",
    "plt.axvspan(xmin=4, xmax=6, facecolor='r', alpha=0.3) # 垂直x轴\n",
    "plt.axhspan(ymin=-0.2, ymax=0.2, facecolor='y', alpha=0.3);  # 垂直y轴"
   ]
  },
  {
   "cell_type": "markdown",
   "metadata": {},
   "source": [
    "21.添加注释文字sin(x)"
   ]
  },
  {
   "cell_type": "code",
   "execution_count": null,
   "metadata": {},
   "outputs": [],
   "source": [
    "x = np.linspace(0.05, 10, 100)\n",
    "y = np.sin(x)\n",
    "plt.plot(x, y)\n",
    "plt.text(3.2, 0, 'sin(x)', weight='bold', color='r');"
   ]
  },
  {
   "cell_type": "markdown",
   "metadata": {},
   "source": [
    "22.用箭头标出第一个峰值"
   ]
  },
  {
   "cell_type": "code",
   "execution_count": null,
   "metadata": {},
   "outputs": [],
   "source": [
    "x = np.linspace(0.05, 10, 100)\n",
    "y = np.sin(x)\n",
    "plt.plot(x, y)\n",
    "plt.annotate('maximum',xy=(np.pi/2, 1),xytext=(np.pi/2+1, 1),\n",
    "             weight='bold',\n",
    "             color='r',\n",
    "             arrowprops=dict(arrowstyle='->', \n",
    "             connectionstyle='arc3', color='r'));"
   ]
  },
  {
   "cell_type": "markdown",
   "metadata": {},
   "source": [
    "# 四、自定义图例"
   ]
  },
  {
   "cell_type": "markdown",
   "metadata": {},
   "source": [
    "23.在一张图里绘制sin,cos的图形，并展示图例"
   ]
  },
  {
   "cell_type": "code",
   "execution_count": null,
   "metadata": {},
   "outputs": [],
   "source": [
    "x = np.linspace(0, 10, 1000)\n",
    "fig, ax = plt.subplots()\n",
    "\n",
    "ax.plot(x, np.sin(x), label='sin')\n",
    "ax.plot(x, np.cos(x), '--', label='cos')\n",
    "ax.legend();"
   ]
  },
  {
   "cell_type": "markdown",
   "metadata": {},
   "source": [
    "24.调整图例在左上角展示，且不显示边框"
   ]
  },
  {
   "cell_type": "code",
   "execution_count": null,
   "metadata": {},
   "outputs": [],
   "source": [
    "ax.legend(loc='upper left', frameon=False);\n",
    "fig"
   ]
  },
  {
   "cell_type": "markdown",
   "metadata": {},
   "source": [
    "25.调整图例在画面下方居中展示，且分成2列"
   ]
  },
  {
   "cell_type": "code",
   "execution_count": null,
   "metadata": {},
   "outputs": [],
   "source": [
    "ax.legend(frameon=False, loc='lower center', ncol=2)\n",
    "fig"
   ]
  },
  {
   "cell_type": "markdown",
   "metadata": {},
   "source": [
    "26.绘制 sin(x),sin(x+\\pi/2),sin(x+\\pi) s i n ( x ) , s i n ( x + π / 2 ) , s i n ( x + π ) 的图像，并只显示前2者的图例"
   ]
  },
  {
   "cell_type": "code",
   "execution_count": null,
   "metadata": {},
   "outputs": [],
   "source": [
    "y = np.sin(x[:, np.newaxis] + np.pi * np.arange(0, 2, 0.5))\n",
    "lines = plt.plot(x, y)\n",
    "\n",
    "# lines 是 plt.Line2D 类型的实例的列表\n",
    "plt.legend(lines[:2], ['first', 'second']);\n",
    "\n",
    "# 第二个方法\n",
    "#plt.plot(x, y[:, 0], label='first')\n",
    "#plt.plot(x, y[:, 1], label='second')\n",
    "#plt.plot(x, y[:, 2:])\n",
    "#plt.legend(framealpha=1, frameon=True);"
   ]
  },
  {
   "cell_type": "markdown",
   "metadata": {},
   "source": [
    "27.将图例分不同的区域展示"
   ]
  },
  {
   "cell_type": "code",
   "execution_count": null,
   "metadata": {},
   "outputs": [],
   "source": [
    "fig, ax = plt.subplots()\n",
    "\n",
    "lines = []\n",
    "styles = ['-', '--', '-.', ':']\n",
    "x = np.linspace(0, 10, 1000)\n",
    "\n",
    "for i in range(4):\n",
    "    lines += ax.plot(x, np.sin(x - i * np.pi / 2),styles[i], color='black')\n",
    "ax.axis('equal')\n",
    "\n",
    "# 设置第一组标签\n",
    "ax.legend(lines[:2], ['line A', 'line B'],\n",
    "          loc='upper right', frameon=False)\n",
    "\n",
    "# 创建第二组标签\n",
    "from matplotlib.legend import Legend\n",
    "leg = Legend(ax, lines[2:], ['line C', 'line D'],\n",
    "             loc='lower right', frameon=False)\n",
    "ax.add_artist(leg);"
   ]
  },
  {
   "cell_type": "markdown",
   "metadata": {},
   "source": [
    "# 五、自定义色阶"
   ]
  },
  {
   "cell_type": "markdown",
   "metadata": {},
   "source": [
    "28.展示色阶"
   ]
  },
  {
   "cell_type": "code",
   "execution_count": null,
   "metadata": {},
   "outputs": [],
   "source": [
    "x = np.linspace(0, 10, 1000)\n",
    "I = np.sin(x) * np.cos(x[:, np.newaxis])\n",
    "\n",
    "plt.imshow(I)\n",
    "plt.colorbar();"
   ]
  },
  {
   "cell_type": "markdown",
   "metadata": {},
   "source": [
    "29.改变配色为’gray’"
   ]
  },
  {
   "cell_type": "code",
   "execution_count": null,
   "metadata": {},
   "outputs": [],
   "source": [
    "plt.imshow(I, cmap='gray');"
   ]
  },
  {
   "cell_type": "markdown",
   "metadata": {},
   "source": [
    "30.将色阶分成6个离散值显示"
   ]
  },
  {
   "cell_type": "code",
   "execution_count": null,
   "metadata": {},
   "outputs": [],
   "source": [
    "plt.imshow(I, cmap=plt.cm.get_cmap('Blues', 6))\n",
    "plt.colorbar()\n",
    "plt.clim(-1, 1);"
   ]
  },
  {
   "cell_type": "markdown",
   "metadata": {},
   "source": [
    "# 六、多子图"
   ]
  },
  {
   "cell_type": "markdown",
   "metadata": {},
   "source": [
    "31.在一个1010的画布中，(0.65,0.65)的位置创建一个0.20.2的子图"
   ]
  },
  {
   "cell_type": "code",
   "execution_count": null,
   "metadata": {},
   "outputs": [],
   "source": [
    "ax1 = plt.axes()\n",
    "ax2 = plt.axes([0.65, 0.65, 0.2, 0.2])"
   ]
  },
  {
   "cell_type": "markdown",
   "metadata": {},
   "source": [
    "32.在2个子图中，显示sin(x)和cos(x)的图像"
   ]
  },
  {
   "cell_type": "code",
   "execution_count": null,
   "metadata": {},
   "outputs": [],
   "source": [
    "fig = plt.figure()\n",
    "ax1 = fig.add_axes([0.1, 0.5, 0.8, 0.4], ylim=(-1.2, 1.2))\n",
    "ax2 = fig.add_axes([0.1, 0.1, 0.8, 0.4], ylim=(-1.2, 1.2))\n",
    "\n",
    "x = np.linspace(0, 10)\n",
    "ax1.plot(np.sin(x));\n",
    "ax2.plot(np.cos(x));"
   ]
  },
  {
   "cell_type": "markdown",
   "metadata": {},
   "source": [
    "33.用for创建6个子图，并且在图中标识出对应的子图坐标"
   ]
  },
  {
   "cell_type": "code",
   "execution_count": null,
   "metadata": {},
   "outputs": [],
   "source": [
    "for i in range(1, 7):\n",
    "    plt.subplot(2, 3, i)\n",
    "    plt.text(0.5, 0.5, str((2, 3, i)),fontsize=18, ha='center')\n",
    "    \n",
    "# 方法二\n",
    "# fig = plt.figure()\n",
    "# fig.subplots_adjust(hspace=0.4, wspace=0.4)\n",
    "# for i in range(1, 7):\n",
    "#     ax = fig.add_subplot(2, 3, i)\n",
    "#     ax.text(0.5, 0.5, str((2, 3, i)),fontsize=18, ha='center')"
   ]
  },
  {
   "cell_type": "markdown",
   "metadata": {},
   "source": [
    "34.设置相同行和列共享x,y轴"
   ]
  },
  {
   "cell_type": "code",
   "execution_count": null,
   "metadata": {},
   "outputs": [],
   "source": [
    "fig, ax = plt.subplots(2,3, sharex='col', sharey='row')"
   ]
  },
  {
   "cell_type": "markdown",
   "metadata": {},
   "source": [
    "35.用[]的方式取出每个子图，并添加子图座标文字"
   ]
  },
  {
   "cell_type": "code",
   "execution_count": null,
   "metadata": {},
   "outputs": [],
   "source": [
    "for i in range(2):\n",
    "    for j in range(3):\n",
    "        ax[i, j].text(0.5, 0.5, str((i, j)),fontsize=18, ha='center')\n",
    "fig"
   ]
  },
  {
   "cell_type": "markdown",
   "metadata": {},
   "source": [
    "36.组合绘制大小不同的子图，样式如下"
   ]
  },
  {
   "cell_type": "code",
   "execution_count": null,
   "metadata": {},
   "outputs": [],
   "source": [
    "grid = plt.GridSpec(2, 3, wspace=0.4, hspace=0.3)\n",
    "plt.subplot(grid[0, 0])\n",
    "plt.subplot(grid[0, 1:])\n",
    "plt.subplot(grid[1, :2])\n",
    "plt.subplot(grid[1, 2]);"
   ]
  },
  {
   "cell_type": "markdown",
   "metadata": {},
   "source": [
    "37.显示一组二维数据的频度分布，并分别在x,y轴上，显示该维度的数据的频度分布"
   ]
  },
  {
   "cell_type": "code",
   "execution_count": null,
   "metadata": {},
   "outputs": [],
   "source": [
    "mean = [0, 0]\n",
    "cov = [[1, 1], [1, 2]]\n",
    "x, y = np.random.multivariate_normal(mean, cov, 3000).T\n",
    "\n",
    "# Set up the axes with gridspec\n",
    "fig = plt.figure(figsize=(6, 6))\n",
    "grid = plt.GridSpec(4, 4, hspace=0.2, wspace=0.2)\n",
    "main_ax = fig.add_subplot(grid[:-1, 1:])\n",
    "y_hist = fig.add_subplot(grid[:-1, 0], xticklabels=[], sharey=main_ax)\n",
    "x_hist = fig.add_subplot(grid[-1, 1:], yticklabels=[], sharex=main_ax)\n",
    "\n",
    "# scatter points on the main axes\n",
    "main_ax.scatter(x, y,s=3,alpha=0.2)\n",
    "\n",
    "# histogram on the attached axes\n",
    "x_hist.hist(x, 40, histtype='stepfilled',\n",
    "            orientation='vertical')\n",
    "x_hist.invert_yaxis()\n",
    "\n",
    "y_hist.hist(y, 40, histtype='stepfilled',\n",
    "            orientation='horizontal')\n",
    "y_hist.invert_xaxis()"
   ]
  },
  {
   "cell_type": "markdown",
   "metadata": {},
   "source": [
    "# 七、三维图像"
   ]
  },
  {
   "cell_type": "markdown",
   "metadata": {},
   "source": [
    "38.创建一个三维画布"
   ]
  },
  {
   "cell_type": "code",
   "execution_count": null,
   "metadata": {},
   "outputs": [],
   "source": [
    "from mpl_toolkits import mplot3d\n",
    "fig = plt.figure()\n",
    "ax = plt.axes(projection='3d')"
   ]
  },
  {
   "cell_type": "markdown",
   "metadata": {},
   "source": [
    "39.绘制一个三维螺旋线"
   ]
  },
  {
   "cell_type": "code",
   "execution_count": null,
   "metadata": {},
   "outputs": [],
   "source": [
    "ax = plt.axes(projection='3d')\n",
    "\n",
    "# Data for a three-dimensional line\n",
    "zline = np.linspace(0, 15, 1000)\n",
    "xline = np.sin(zline)\n",
    "yline = np.cos(zline)\n",
    "ax.plot3D(xline, yline, zline);"
   ]
  },
  {
   "cell_type": "markdown",
   "metadata": {},
   "source": [
    "40.绘制一组三维点"
   ]
  },
  {
   "cell_type": "code",
   "execution_count": null,
   "metadata": {},
   "outputs": [],
   "source": [
    "ax = plt.axes(projection='3d')\n",
    "zdata = 15 * np.random.random(100)\n",
    "xdata = np.sin(zdata) + 0.1 * np.random.randn(100)\n",
    "ydata = np.cos(zdata) + 0.1 * np.random.randn(100)\n",
    "ax.scatter3D(xdata, ydata, zdata, c=zdata, cmap='Greens');"
   ]
  },
  {
   "cell_type": "markdown",
   "metadata": {},
   "source": [
    "# 八、宝可梦数据集可视化"
   ]
  },
  {
   "cell_type": "markdown",
   "metadata": {},
   "source": [
    "41.展示前5个宝可梦的Defense,Attack,HP的堆积条形图"
   ]
  },
  {
   "cell_type": "code",
   "execution_count": null,
   "metadata": {},
   "outputs": [],
   "source": [
    "import pandas as pd\n",
    "df = pd.read_csv('Pokemon.csv')\n",
    "df.head()\n",
    "\n",
    "plt.style.use('ggplot')"
   ]
  },
  {
   "cell_type": "code",
   "execution_count": null,
   "metadata": {},
   "outputs": [],
   "source": [
    "pokemon = df['Name'][:5]\n",
    "hp = df['HP'][:5]\n",
    "attack = df['Attack'][:5]\n",
    "defense = df['Defense'][:5]\n",
    "ind = [x for x, _ in enumerate(pokemon)]\n",
    "\n",
    "plt.figure(figsize=(10,10))\n",
    "plt.bar(ind, defense, width=0.8, label='Defense', color='blue', bottom=attack+hp)\n",
    "plt.bar(ind, attack, width=0.8, label='Attack', color='gold', bottom=hp)\n",
    "plt.bar(ind, hp, width=0.8, label='Hp', color='red')\n",
    "\n",
    "plt.xticks(ind, pokemon)\n",
    "plt.ylabel(\"Value\")\n",
    "plt.xlabel(\"Pokemon\")\n",
    "plt.legend(loc=\"upper right\")\n",
    "plt.title(\"5 Pokemon Defense & Attack & Hp\")\n",
    "\n",
    "plt.show()"
   ]
  },
  {
   "cell_type": "markdown",
   "metadata": {},
   "source": [
    "42.展示前5个宝可梦的Attack,HP的簇状条形图"
   ]
  },
  {
   "cell_type": "code",
   "execution_count": null,
   "metadata": {},
   "outputs": [],
   "source": [
    "N = 5\n",
    "pokemon_hp = df['HP'][:5]\n",
    "pokemon_attack = df['Attack'][:5]\n",
    "\n",
    "ind = np.arange(N) \n",
    "width = 0.35       \n",
    "plt.bar(ind, pokemon_hp, width, label='HP')\n",
    "plt.bar(ind + width, pokemon_attack, width,label='Attack')\n",
    "\n",
    "plt.ylabel('Values')\n",
    "plt.title('Pokemon Hp & Attack')\n",
    "\n",
    "plt.xticks(ind + width / 2, (df['Name'][:5]),rotation=45)\n",
    "plt.legend(loc='best')\n",
    "plt.show()"
   ]
  },
  {
   "cell_type": "markdown",
   "metadata": {},
   "source": [
    "43.展示前5个宝可梦的Defense,Attack,HP的堆积图"
   ]
  },
  {
   "cell_type": "code",
   "execution_count": null,
   "metadata": {},
   "outputs": [],
   "source": [
    "x = df['Name'][:4]\n",
    "y1 = df['HP'][:4]\n",
    "y2 = df['Attack'][:4]\n",
    "y3 = df['Defense'][:4]\n",
    "\n",
    "labels = [\"HP \", \"Attack\", \"Defense\"]\n",
    "\n",
    "fig, ax = plt.subplots()\n",
    "ax.stackplot(x, y1, y2, y3)\n",
    "ax.legend(loc='upper left', labels=labels)\n",
    "plt.xticks(rotation=90)\n",
    "plt.show()"
   ]
  },
  {
   "cell_type": "markdown",
   "metadata": {},
   "source": [
    "44.公用x轴，展示前5个宝可梦的Defense,Attack,HP的折线图"
   ]
  },
  {
   "cell_type": "code",
   "execution_count": null,
   "metadata": {},
   "outputs": [],
   "source": [
    "x = df['Name'][:5]\n",
    "y1 = df['HP'][:5]\n",
    "y2 = df['Attack'][:5]\n",
    "y3 = df['Defense'][:5]\n",
    "\n",
    "# Create two subplots sharing y axis\n",
    "fig, (ax1, ax2,ax3) = plt.subplots(3, sharey=True)\n",
    "\n",
    "ax1.plot(x, y1, 'ko-')\n",
    "ax1.set(title='3 subplots', ylabel='HP')\n",
    "\n",
    "ax2.plot(x, y2, 'r.-')\n",
    "ax2.set(xlabel='Pokemon', ylabel='Attack')\n",
    "\n",
    "ax3.plot(x, y3, ':')\n",
    "ax3.set(xlabel='Pokemon', ylabel='Defense')\n",
    "\n",
    "plt.show()"
   ]
  },
  {
   "cell_type": "markdown",
   "metadata": {},
   "source": [
    "45.展示前15个宝可梦的Attack,HP的折线图"
   ]
  },
  {
   "cell_type": "code",
   "execution_count": null,
   "metadata": {},
   "outputs": [],
   "source": [
    "plt.plot(df['HP'][:15], '-r',label='HP')\n",
    "plt.plot(df['Attack'][:15], ':g',label='Attack')\n",
    "plt.legend();"
   ]
  },
  {
   "cell_type": "markdown",
   "metadata": {},
   "source": [
    "46.用scatter的x,y,c属性，展示所有宝可梦的Defense,Attack,HP数据"
   ]
  },
  {
   "cell_type": "code",
   "execution_count": null,
   "metadata": {},
   "outputs": [],
   "source": [
    "x = df['Attack']\n",
    "y = df['Defense']\n",
    "colors = df['HP']\n",
    "\n",
    "plt.scatter(x, y, c=colors, alpha=0.5)\n",
    "plt.title('Scatter plot')\n",
    "plt.xlabel('HP')\n",
    "plt.ylabel('Attack')\n",
    "plt.colorbar();"
   ]
  },
  {
   "cell_type": "markdown",
   "metadata": {},
   "source": [
    "47.展示所有宝可梦的攻击力的分布直方图，bins=10"
   ]
  },
  {
   "cell_type": "code",
   "execution_count": null,
   "metadata": {},
   "outputs": [],
   "source": [
    "x = df['Attack']\n",
    "num_bins = 10\n",
    "n, bins, patches = plt.hist(x, num_bins, facecolor='blue', alpha=0.5)\n",
    "plt.title('Histogram')\n",
    "plt.xlabel('Attack')\n",
    "plt.ylabel('Value')\n",
    "plt.show()"
   ]
  },
  {
   "cell_type": "markdown",
   "metadata": {},
   "source": [
    "48.展示所有宝可梦Type 1的饼图"
   ]
  },
  {
   "cell_type": "code",
   "execution_count": null,
   "metadata": {},
   "outputs": [],
   "source": [
    "plt.figure(1, figsize=(8,8))\n",
    "df['Type 1'].value_counts().plot.pie(autopct=\"%1.1f%%\")\n",
    "plt.legend()"
   ]
  },
  {
   "cell_type": "markdown",
   "metadata": {},
   "source": [
    "49.展示所有宝可梦Type 1的柱状图"
   ]
  },
  {
   "cell_type": "code",
   "execution_count": null,
   "metadata": {},
   "outputs": [],
   "source": [
    "ax = df['Type 1'].value_counts().plot.bar(figsize = (12,6),fontsize = 14)\n",
    "ax.set_title(\"Pokemon Type 1 Count\", fontsize = 20)\n",
    "ax.set_xlabel(\"Pokemon Type 1\", fontsize = 20)\n",
    "ax.set_ylabel(\"Value\", fontsize = 20)\n",
    "\n",
    "plt.show()"
   ]
  },
  {
   "cell_type": "markdown",
   "metadata": {},
   "source": [
    "50.展示综合评分最高的10只宝可梦的系数间的相关系数矩阵"
   ]
  },
  {
   "cell_type": "code",
   "execution_count": null,
   "metadata": {},
   "outputs": [],
   "source": [
    "import seaborn as sns\n",
    "\n",
    "top_10_pokemon=df.sort_values(by='Total',ascending=False).head(10)\n",
    "corr=top_10_pokemon.corr()\n",
    "\n",
    "fig, ax=plt.subplots(figsize=(10, 6))\n",
    "sns.heatmap(corr,annot=True)\n",
    "ax.set_ylim(9, 0)\n",
    "plt.show()"
   ]
  },
  {
   "cell_type": "code",
   "execution_count": null,
   "metadata": {},
   "outputs": [],
   "source": []
  }
 ],
 "metadata": {
  "kernelspec": {
   "display_name": "Python 3",
   "language": "python",
   "name": "python3"
  },
  "language_info": {
   "codemirror_mode": {
    "name": "ipython",
    "version": 3
   },
   "file_extension": ".py",
   "mimetype": "text/x-python",
   "name": "python",
   "nbconvert_exporter": "python",
   "pygments_lexer": "ipython3",
   "version": "3.7.2"
  }
 },
 "nbformat": 4,
 "nbformat_minor": 4
}
