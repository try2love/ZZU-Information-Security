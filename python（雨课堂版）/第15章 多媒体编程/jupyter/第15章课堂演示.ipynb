{
 "cells": [
  {
   "cell_type": "markdown",
   "metadata": {},
   "source": [
    "# 15.1 图形编程\n"
   ]
  },
  {
   "cell_type": "markdown",
   "metadata": {},
   "source": [
    "### Python的扩展模块PyOpenGL支持图形编程所需要的几乎所有功能"
   ]
  },
  {
   "cell_type": "code",
   "execution_count": null,
   "metadata": {},
   "outputs": [],
   "source": [
    "import sys\n",
    "from OpenGL.GL import *\n",
    "from OpenGL.GLU import *\n",
    "from OpenGL.GLUT import *\n"
   ]
  },
  {
   "cell_type": "code",
   "execution_count": null,
   "metadata": {},
   "outputs": [],
   "source": [
    "# 使用OpenGL创建窗口类，重写构造函数，初始化OpenGL环境，指定显示模式以及用于绘图的函数。\n",
    "\n",
    "class MyPyOpenGLTest:\n",
    "    def __init__(self, width = 640, height = 480, title = b'MyPyOpenGLTest'):\n",
    "        glutInit(sys.argv)\n",
    "        glutInitDisplayMode(GLUT_RGBA | GLUT_DOUBLE | GLUT_DEPTH)\n",
    "        glutInitWindowSize(width, height)\n",
    "        self.window = glutCreateWindow(title)\n",
    "        glutDisplayFunc(self.Draw)\n",
    "        glutIdleFunc(self.Draw)\n",
    "        self.InitGL(width, height)\n",
    "\n",
    "    # 根据特定的需要，进一步完成OpenGL的初始化。\n",
    "    def InitGL(self, width, height):\n",
    "        glClearColor(0.0, 0.0, 0.0, 0.0)\n",
    "        glClearDepth(1.0)\n",
    "        glDepthFunc(GL_LESS)\n",
    "        glShadeModel(GL_SMOOTH)\n",
    "        glEnable(GL_POINT_SMOOTH)\n",
    "        glEnable(GL_LINE_SMOOTH)\n",
    "        glEnable(GL_POLYGON_SMOOTH)\n",
    "        glMatrixMode(GL_PROJECTION)\n",
    "        glHint(GL_POINT_SMOOTH_HINT,GL_NICEST)\n",
    "        glHint(GL_LINE_SMOOTH_HINT,GL_NICEST)\n",
    "        glHint(GL_POLYGON_SMOOTH_HINT,GL_FASTEST)\n",
    "        glLoadIdentity()\n",
    "        gluPerspective(45.0, float(width)/float(height), 0.1, 100.0)\n",
    "        glMatrixMode(GL_MODELVIEW)\n",
    "\n",
    "#     定义自己的绘图函数\n",
    "#     def Draw(self):\n",
    "#         glClear(GL_COLOR_BUFFER_BIT | GL_DEPTH_BUFFER_BIT)\n",
    "#         glLoadIdentity()\n",
    "#         glutSwapBuffers()\n",
    "\n",
    "    def Draw(self):\n",
    "        glClear(GL_COLOR_BUFFER_BIT | GL_DEPTH_BUFFER_BIT)\n",
    "        glLoadIdentity()\n",
    "        glTranslatef(-2.0, 1.0, -9.0)\n",
    "        #draw 2D graphic, leaving z to be 0\n",
    "        glBegin(GL_POLYGON)             #绘制多边形\n",
    "        glColor3f(1.0, 0.0, 0.0)\n",
    "        glVertex3f(0.0, 1.0, 0.0)\n",
    "        glColor3f(0.0, 1.0, 0.0)\n",
    "        glVertex3f(1.0, -1.0, 0.0)\n",
    "        glColor3f(0.0, 0.0, 1.0)\n",
    "        glVertex3f(-1.0, -1.0, 0.0)\n",
    "        glEnd()\n",
    "        \n",
    "        glTranslatef(2.5, 0.0, 0.0)   #右移\n",
    "        #draw 3D graphic\n",
    "        glBegin(GL_LINES)             #绘制直线段\n",
    "        glColor3f(1.0, 0.0, 0.0)\n",
    "        glVertex3f(1.0, 1.0, -1.0)\n",
    "        glColor3f(0.0, 1.0, 0.0)\n",
    "        glVertex3f(-1.0, -1.0, 3.0)\n",
    "        glEnd()\n",
    "        glutSwapBuffers()\n",
    "\n",
    "        \n",
    "    # 消息主循环\n",
    "    def MainLoop(self):\n",
    "        glutMainLoop()\n",
    "\n",
    "# 实例化窗口类，运行程序\n",
    "if __name__ == '__main__':\n",
    "    w = MyPyOpenGLTest()\n",
    "    w.MainLoop()\n",
    "      "
   ]
  },
  {
   "cell_type": "markdown",
   "metadata": {},
   "source": [
    "# 补充案例：绘制贝塞尔曲线。\n"
   ]
  },
  {
   "cell_type": "code",
   "execution_count": null,
   "metadata": {},
   "outputs": [],
   "source": [
    "import sys\n",
    "from math import pi as PI\n",
    "from math import sin, cos\n",
    "from OpenGL.GL import *\n",
    "from OpenGL.GLU import *\n",
    "from OpenGL.GLUT import *\n",
    "\n",
    "class MyPyOpenGLTest:\n",
    "    #重写构造函数，初始化OpenGL环境，指定显示模式以及用于绘图的函数\n",
    "    def __init__(self, width = 640, height = 480, title = b'MyPyOpenGLTest'):\n",
    "        glutInit(sys.argv)\n",
    "        glutInitDisplayMode(GLUT_RGBA | GLUT_DOUBLE | GLUT_DEPTH)\n",
    "        glutInitWindowSize(width, height)\n",
    "        self.window = glutCreateWindow(title)\n",
    "        #指定绘制函数\n",
    "        glutDisplayFunc(self.Draw)\n",
    "        glutIdleFunc(self.Draw)\n",
    "        self.InitGL(width, height)\n",
    "\n",
    "    #根据特定的需要，进一步完成OpenGL的初始化\n",
    "    def InitGL(self, width, height):\n",
    "        #初始化窗口北京为白色\n",
    "        glClearColor(1.0, 1.0, 1.0, 0.0)\n",
    "        glClearDepth(1.0)\n",
    "        glDepthFunc(GL_LESS)\n",
    "        #光滑渲染\n",
    "        glEnable(GL_BLEND)\n",
    "        glShadeModel(GL_SMOOTH)\n",
    "        glEnable(GL_POINT_SMOOTH)\n",
    "        glEnable(GL_LINE_SMOOTH)\n",
    "        glEnable(GL_POLYGON_SMOOTH)        \n",
    "        glMatrixMode(GL_PROJECTION)\n",
    "        #反走样，也称抗锯齿\n",
    "        glHint(GL_POINT_SMOOTH_HINT,GL_NICEST)\n",
    "        glHint(GL_LINE_SMOOTH_HINT,GL_NICEST)\n",
    "        glHint(GL_POLYGON_SMOOTH_HINT,GL_FASTEST)\n",
    "        glLoadIdentity()\n",
    "        #透视投影变换\n",
    "        gluPerspective(45.0, float(width)/float(height), 0.1, 100.0)\n",
    "        glMatrixMode(GL_MODELVIEW)\n",
    "\n",
    "    #计算三次贝塞尔曲线上指定参数对应的点坐标\n",
    "    def getBezier(self, P0, P1, P2, P3, t):\n",
    "        a0 = (1-t)**3\n",
    "        a1 = 3 * (1-t)**2 * t\n",
    "        a2 = 3 * t**2 * (1-t)\n",
    "        a3 = t**3\n",
    "\n",
    "        x = a0*P0[0] + a1*P1[0] + a2*P2[0] + a3*P3[0]\n",
    "        y = a0*P0[1] + a1*P1[1] + a2*P2[1] + a3*P3[1]\n",
    "        z = a0*P0[2] + a1*P1[2] + a2*P2[2] + a3*P3[2]\n",
    "\n",
    "        return (x, y, z)\n",
    "\n",
    "    #定义自己的绘图函数\n",
    "    def Draw(self):\n",
    "        glClear(GL_COLOR_BUFFER_BIT | GL_DEPTH_BUFFER_BIT)\n",
    "        glLoadIdentity()\n",
    "        #平移\n",
    "        glTranslatef(-3.0, 0.0, -8.0)\n",
    "        #指定三次贝塞尔曲线的4个控制点坐标\n",
    "        P0 = (-4, -2, -9)\n",
    "        P1 = (-0.5, 3, 0)\n",
    "        P2 = (2, -3, 0)\n",
    "        P3 = (4.5, 2, 0)\n",
    "        #指定模式，绘制多边形\n",
    "        glBegin(GL_LINES)\n",
    "        #设置顶点颜色\n",
    "        glColor3f(0.0, 0.0, 0.0)\n",
    "        #绘制多边形顶点\n",
    "        for i in range(1001):\n",
    "            t = i/1000.0\n",
    "            p = self.getBezier(P0, P1, P2, P3, t)\n",
    "            glVertex3f(*p)\n",
    "        \n",
    "        #结束本次绘制\n",
    "        glEnd()       \n",
    "        \n",
    "        glutSwapBuffers()\n",
    "\n",
    "    #消息主循环\n",
    "    def MainLoop(self):\n",
    "        glutMainLoop()\n",
    "\n",
    "if __name__ == '__main__':\n",
    "    #实例化窗口对象，运行程序，启动消息主循环\n",
    "    w = MyPyOpenGLTest()\n",
    "    w.MainLoop()\n"
   ]
  },
  {
   "cell_type": "markdown",
   "metadata": {},
   "source": [
    "# 补充案例：光照模型。\n"
   ]
  },
  {
   "cell_type": "code",
   "execution_count": null,
   "metadata": {},
   "outputs": [],
   "source": [
    "import sys\n",
    "from OpenGL.GL import *\n",
    "from OpenGL.GLU import *\n",
    "from OpenGL.GLUT import *\n",
    "\n",
    "class MyPyOpenGLTest:\n",
    "    #重写构造函数，初始化OpenGL环境，指定显示模式以及用于绘图的函数\n",
    "    def __init__(self, width = 640, height = 480, title = b'Normal_Light'):\n",
    "        glutInit(sys.argv)\n",
    "        glutInitDisplayMode(GLUT_RGBA | GLUT_DOUBLE | GLUT_DEPTH)\n",
    "        glutInitWindowSize(width, height)\n",
    "        self.window = glutCreateWindow(title)\n",
    "        #指定绘制函数\n",
    "        glutDisplayFunc(self.Draw)\n",
    "        glutIdleFunc(self.Draw)\n",
    "        self.InitGL(width, height)\n",
    "\n",
    "    #根据特定的需要，进一步完成OpenGL的初始化\n",
    "    def InitGL(self, width, height):\n",
    "        #初始化窗口背景为白色\n",
    "        glClearColor(1.0, 1.0, 1.0, 0.0)\n",
    "        glClearDepth(1.0)\n",
    "        glDepthFunc(GL_LESS)\n",
    "        #设置灯光与材质属性\n",
    "        mat_sp = (1.0, 1.0, 1.0, 1.0)\n",
    "        mat_sh = [50.0]\n",
    "        light_position = (-0.5, 1.5, 1, 0)\n",
    "        yellow_l = (1, 1, 0, 1)\n",
    "        ambient = (0.1, 0.8, 0.2, 1.0)\n",
    "        glMaterialfv(GL_FRONT, GL_SPECULAR, mat_sp)\n",
    "        glMaterialfv(GL_FRONT, GL_SHININESS, mat_sh)\n",
    "        glLightfv(GL_LIGHT0, GL_POSITION, light_position)\n",
    "        glLightfv(GL_LIGHT0, GL_DIFFUSE, yellow_l)\n",
    "        glLightfv(GL_LIGHT0, GL_SPECULAR, yellow_l)\n",
    "        glLightModelfv(GL_LIGHT_MODEL_AMBIENT, ambient)\n",
    "        #启用光照模型\n",
    "        glEnable(GL_LIGHTING)\n",
    "        glEnable(GL_LIGHT0)\n",
    "        glEnable(GL_DEPTH_TEST)\n",
    "        #光滑渲染\n",
    "        glEnable(GL_BLEND)\n",
    "        glShadeModel(GL_SMOOTH)\n",
    "        glEnable(GL_POINT_SMOOTH)\n",
    "        glEnable(GL_LINE_SMOOTH)\n",
    "        glEnable(GL_POLYGON_SMOOTH)        \n",
    "        glMatrixMode(GL_PROJECTION)\n",
    "        #反走样，也称抗锯齿\n",
    "        glHint(GL_POINT_SMOOTH_HINT,GL_NICEST)\n",
    "        glHint(GL_LINE_SMOOTH_HINT,GL_NICEST)\n",
    "        glHint(GL_POLYGON_SMOOTH_HINT,GL_FASTEST)\n",
    "        glLoadIdentity()\n",
    "        #透视投影变换\n",
    "        gluPerspective(45.0, float(width)/float(height), 0.1, 100.0)\n",
    "        glMatrixMode(GL_MODELVIEW)\n",
    "\n",
    "    #定义自己的绘图函数\n",
    "    def Draw(self):\n",
    "        glClear(GL_COLOR_BUFFER_BIT | GL_DEPTH_BUFFER_BIT)\n",
    "        glLoadIdentity()\n",
    "        #平移\n",
    "        glTranslatef(-1.5, 2.0, -8.0)                \n",
    "        #绘制三维图形，三维线段\n",
    "        glBegin(GL_LINES)\n",
    "        #设置顶点颜色\n",
    "        glColor3f(1.0, 0.0, 0.0)\n",
    "        #设置顶点法向量\n",
    "        glNormal3f(1.0, 1.0, 1.0)\n",
    "        glVertex3f(1.0, 1.0, -1.0)\n",
    "        glColor3f(0.0, 1.0, 0.0)\n",
    "        glNormal3f(-1.0, -1.0, -1.0)\n",
    "        glVertex3f(-1.0, -1.0, 3.0)\n",
    "        glEnd()\n",
    "\n",
    "        #球\n",
    "        glColor3f(0.8, 0.3, 1.0)\n",
    "        glTranslatef(0, -1.5, 0)\n",
    "        #第一个参数是球的半径，后面两个参数是分段数\n",
    "        glutSolidSphere(1.0,40,40)\n",
    "        \n",
    "        glutSwapBuffers()\n",
    "\n",
    "    #消息主循环\n",
    "    def MainLoop(self):\n",
    "        glutMainLoop()\n",
    "\n",
    "if __name__ == '__main__':\n",
    "    #实例化窗口对象，运行程序，启动消息主循环\n",
    "    w = MyPyOpenGLTest()\n",
    "    w.MainLoop()\n"
   ]
  },
  {
   "cell_type": "markdown",
   "metadata": {},
   "source": [
    "### 15.1.4 纹理映射\n"
   ]
  },
  {
   "cell_type": "markdown",
   "metadata": {},
   "source": [
    "### 加载纹理（代码片段）"
   ]
  },
  {
   "cell_type": "code",
   "execution_count": null,
   "metadata": {},
   "outputs": [],
   "source": [
    "    def LoadTexture(self):\n",
    "        img = Image.open('sample.bmp')\n",
    "        width, height = img.size\n",
    "        img = img.tostring('raw', 'RGBX', 0, -1)\n",
    "        glBindTexture(GL_TEXTURE_2D, glGenTextures(1))\n",
    "        glPixelStorei(GL_UNPACK_ALIGNMENT,1)\n",
    "        glTexImage2D(GL_TEXTURE_2D, 0, 4, width, height, 0, GL_RGBA, GL_UNSIGNED_BYTE, img)\n",
    "        glTexParameterf(GL_TEXTURE_2D, GL_TEXTURE_WRAP_S, GL_CLAMP)\n",
    "        glTexParameterf(GL_TEXTURE_2D, GL_TEXTURE_WRAP_T, GL_CLAMP)\n",
    "        glTexParameterf(GL_TEXTURE_2D, GL_TEXTURE_WRAP_S, GL_REPEAT)\n",
    "        glTexParameterf(GL_TEXTURE_2D, GL_TEXTURE_WRAP_T, GL_REPEAT)\n",
    "        glTexParameterf(GL_TEXTURE_2D, GL_TEXTURE_MAG_FILTER, GL_NEAREST)\n",
    "        glTexParameterf(GL_TEXTURE_2D, GL_TEXTURE_MIN_FILTER, GL_NEAREST)\n",
    "        glTexEnvf(GL_TEXTURE_ENV, GL_TEXTURE_ENV_MODE, GL_DECAL)\n"
   ]
  },
  {
   "cell_type": "markdown",
   "metadata": {},
   "source": [
    "### 修改初始化函数，设置纹理映射属性，进行背面剔除"
   ]
  },
  {
   "cell_type": "code",
   "execution_count": null,
   "metadata": {},
   "outputs": [],
   "source": [
    "    def InitGL(self, width, height):\n",
    "        self.LoadTexture()\n",
    "        glEnable(GL_TEXTURE_2D)\n",
    "        glClearColor(0.0, 0.0, 0.0, 0.0)\n",
    "        glClearDepth(1.0)\n",
    "        glDepthFunc(GL_LESS)\n",
    "        glShadeModel(GL_SMOOTH)\n",
    "        glEnable(GL_CULL_FACE)\n",
    "        glCullFace(GL_BACK)\n",
    "        glEnable(GL_LINE_SMOOTH)\n",
    "        glEnable(GL_POLYGON_SMOOTH)\n",
    "        glMatrixMode(GL_PROJECTION)\n",
    "        glHint(GL_LINE_SMOOTH_HINT,GL_NICEST)\n",
    "        glHint(GL_POLYGON_SMOOTH_HINT,GL_FASTEST)\n",
    "        glLoadIdentity()\n",
    "        gluPerspective(45.0, float(width)/float(height), 0.1, 100.0)\n",
    "        glMatrixMode(GL_MODELVIEW)\n"
   ]
  },
  {
   "cell_type": "markdown",
   "metadata": {},
   "source": [
    "### 使用纹理"
   ]
  },
  {
   "cell_type": "code",
   "execution_count": null,
   "metadata": {},
   "outputs": [],
   "source": [
    "    def Draw(self):\n",
    "        glClear(GL_COLOR_BUFFER_BIT | GL_DEPTH_BUFFER_BIT)\n",
    "        glLoadIdentity()\n",
    "        glTranslate(0.0, 0.0, -9.0)\n",
    "        glRotatef(self.x, 1.0, 0.0, 0.0)\n",
    "        glRotatef(self.y, 0.0, 1.0, 0.0)\n",
    "        glRotatef(self.z, 0.0, 0.0, 1.0)\n",
    "        glBegin(GL_QUADS)\n",
    "        glTexCoord2f(0.0, 0.0)\n",
    "        glVertex3f(-1.0, -1.0, 1.0)\n",
    "        glTexCoord2f(1.0, 0.0)\n",
    "        glVertex3f(1.0, -1.0, 1.0)\n",
    "        glTexCoord2f(1.0, 1.0)\n",
    "        glVertex3f(1.0, 1.0, 1.0)\n",
    "        glTexCoord2f(0.0, 1.0)\n",
    "        glVertex3f(-1.0, 1.0, 1.0)\n",
    "        glEnd()\n",
    "        glutSwapBuffers()\n"
   ]
  },
  {
   "cell_type": "markdown",
   "metadata": {},
   "source": [
    "### 补充案例：旋转立方体，多纹理映射\n"
   ]
  },
  {
   "cell_type": "code",
   "execution_count": null,
   "metadata": {},
   "outputs": [],
   "source": [
    "import sys\n",
    "from OpenGL.GL import *\n",
    "from OpenGL.GLUT import *\n",
    "from OpenGL.GLU import *\n",
    "from PIL import Image\n",
    "\n",
    "class MyPyOpenGLTest:\n",
    "    def __init__(self, width=640, height=480, title='MyPyOpenGLTest'.encode()):\n",
    "        glutInit(sys.argv)\n",
    "        glutInitDisplayMode(GLUT_RGBA | GLUT_DOUBLE | GLUT_DEPTH)\n",
    "        glutInitWindowSize(width, height)\n",
    "        self.window = glutCreateWindow(title)\n",
    "        glutDisplayFunc(self.Draw)\n",
    "        glutIdleFunc(self.Draw)\n",
    "        self.InitGL(width, height)\n",
    "        #绕各坐标轴旋转的角度\n",
    "        self.x = 0.0\n",
    "        self.y = 0.0\n",
    "        self.z = 0.0\n",
    "\n",
    "    #绘制图形\n",
    "    def Draw(self):\n",
    "        glClear(GL_COLOR_BUFFER_BIT | GL_DEPTH_BUFFER_BIT)\n",
    "        glLoadIdentity()\n",
    "        #沿z轴平移\n",
    "        glTranslate(0.0, 0.0, -5.0)\n",
    "        #分别绕x,y,z轴旋转\n",
    "        glRotatef(self.x, 1.0, 0.0, 0.0)\n",
    "        glRotatef(self.y, 0.0, 1.0, 0.0)\n",
    "        glRotatef(self.z, 0.0, 0.0, 1.0)\n",
    "\n",
    "        #开始绘制立方体的每个面，同时设置纹理映射\n",
    "        glBindTexture(GL_TEXTURE_2D, 0)\n",
    "        #绘制四边形\n",
    "        glBegin(GL_QUADS)        \n",
    "        #设置纹理坐标\n",
    "        glTexCoord2f(0.0, 0.0)\n",
    "        #绘制顶点\n",
    "        glVertex3f(-1.0, -1.0, 1.0)\n",
    "        glTexCoord2f(1.0, 0.0)\n",
    "        glVertex3f(1.0, -1.0, 1.0)\n",
    "        glTexCoord2f(1.0, 1.0)\n",
    "        glVertex3f(1.0, 1.0, 1.0)\n",
    "        glTexCoord2f(0.0, 1.0)\n",
    "        glVertex3f(-1.0, 1.0, 1.0)\n",
    "        glEnd()\n",
    "\n",
    "        #切换纹理\n",
    "        glBindTexture(GL_TEXTURE_2D, 1)\n",
    "        glBegin(GL_QUADS)        \n",
    "        glTexCoord2f(1.0, 0.0)\n",
    "        glVertex3f(-1.0, -1.0, -1.0)\n",
    "        glTexCoord2f(1.0, 1.0)\n",
    "        glVertex3f(-1.0, 1.0, -1.0)\n",
    "        glTexCoord2f(0.0, 1.0)\n",
    "        glVertex3f(1.0, 1.0, -1.0)\n",
    "        glTexCoord2f(0.0, 0.0)\n",
    "        glVertex3f(1.0, -1.0, -1.0)\n",
    "        glEnd()\n",
    "\n",
    "        #切换纹理\n",
    "        glBindTexture(GL_TEXTURE_2D, 2)\n",
    "        glBegin(GL_QUADS)\n",
    "        glTexCoord2f(0.0, 1.0)\n",
    "        glVertex3f(-1.0, 1.0, -1.0)\n",
    "        glTexCoord2f(0.0, 0.0)\n",
    "        glVertex3f(-1.0, 1.0, 1.0)\n",
    "        glTexCoord2f(1.0, 0.0)\n",
    "        glVertex3f(1.0, 1.0, 1.0)\n",
    "        glTexCoord2f(1.0, 1.0)\n",
    "        glVertex3f(1.0, 1.0, -1.0)\n",
    "        glEnd()\n",
    "\n",
    "        #切换纹理\n",
    "        glBindTexture(GL_TEXTURE_2D, 3)\n",
    "        glBegin(GL_QUADS)        \n",
    "        glTexCoord2f(1.0, 1.0)\n",
    "        glVertex3f(-1.0, -1.0, -1.0)\n",
    "        glTexCoord2f(0.0, 1.0)\n",
    "        glVertex3f(1.0, -1.0, -1.0)\n",
    "        glTexCoord2f(0.0, 0.0)\n",
    "        glVertex3f(1.0, -1.0, 1.0)\n",
    "        glTexCoord2f(1.0, 0.0)\n",
    "        glVertex3f(-1.0, -1.0, 1.0)\n",
    "        glEnd()\n",
    "\n",
    "        #切换纹理\n",
    "        glBindTexture(GL_TEXTURE_2D, 4)\n",
    "        glBegin(GL_QUADS)        \n",
    "        glTexCoord2f(1.0, 0.0)\n",
    "        glVertex3f(1.0, -1.0, -1.0)\n",
    "        glTexCoord2f(1.0, 1.0)\n",
    "        glVertex3f(1.0, 1.0, -1.0)\n",
    "        glTexCoord2f(0.0, 1.0)\n",
    "        glVertex3f(1.0, 1.0, 1.0)\n",
    "        glTexCoord2f(0.0, 0.0)\n",
    "        glVertex3f(1.0, -1.0, 1.0)\n",
    "        glEnd()\n",
    "\n",
    "        #切换纹理\n",
    "        glBindTexture(GL_TEXTURE_2D, 5)\n",
    "        glBegin(GL_QUADS)\n",
    "        glTexCoord2f(0.0, 0.0)\n",
    "        glVertex3f(-1.0, -1.0, -1.0)\n",
    "        glTexCoord2f(1.0, 0.0)\n",
    "        glVertex3f(-1.0, -1.0, 1.0)\n",
    "        glTexCoord2f(1.0, 1.0)\n",
    "        glVertex3f(-1.0, 1.0, 1.0)\n",
    "        glTexCoord2f(0.0, 1.0)\n",
    "        glVertex3f(-1.0, 1.0, -1.0)\n",
    "        #结束绘制\n",
    "        glEnd()\n",
    "\n",
    "        #刷新屏幕，产生动画效果\n",
    "        glutSwapBuffers()\n",
    "        #修改各坐标轴的旋转角度\n",
    "        self.x += 0.2\n",
    "        self.y += 0.3\n",
    "        self.z += 0.1\n",
    "\n",
    "    #加载纹理\n",
    "    def LoadTexture(self):\n",
    "        imgFiles = [str(i)+'.jpg' for i in range(1,7)]\n",
    "        for i in range(6):\n",
    "            img = Image.open(imgFiles[i])\n",
    "            width, height = img.size\n",
    "            img = img.tobytes('raw', 'RGBX', 0, -1)\n",
    "            \n",
    "            glGenTextures(2)\n",
    "            glBindTexture(GL_TEXTURE_2D, i)\n",
    "            glTexImage2D(GL_TEXTURE_2D, 0, 4, width, height, 0, GL_RGBA,\n",
    "                         GL_UNSIGNED_BYTE,img)\n",
    "            glTexParameterf(GL_TEXTURE_2D, GL_TEXTURE_WRAP_S, GL_CLAMP)\n",
    "            glTexParameterf(GL_TEXTURE_2D, GL_TEXTURE_WRAP_T, GL_CLAMP)\n",
    "            glTexParameterf(GL_TEXTURE_2D, GL_TEXTURE_WRAP_S, GL_REPEAT)\n",
    "            glTexParameterf(GL_TEXTURE_2D, GL_TEXTURE_WRAP_T, GL_REPEAT)\n",
    "            glTexParameterf(GL_TEXTURE_2D, GL_TEXTURE_MAG_FILTER, GL_NEAREST)\n",
    "            glTexParameterf(GL_TEXTURE_2D, GL_TEXTURE_MIN_FILTER, GL_NEAREST)\n",
    "            glTexEnvf(GL_TEXTURE_ENV, GL_TEXTURE_ENV_MODE, GL_DECAL)\n",
    "                \n",
    "    def InitGL(self, width, height):\n",
    "        self.LoadTexture()\n",
    "        glEnable(GL_TEXTURE_2D)\n",
    "        glClearColor(1.0, 1.0, 1.0, 0.0)\n",
    "        glClearDepth(1.0)\n",
    "        glDepthFunc(GL_LESS)\n",
    "        glShadeModel(GL_SMOOTH)\n",
    "        #背面剔除，消隐\n",
    "        glEnable(GL_CULL_FACE)\n",
    "        glCullFace(GL_BACK)\n",
    "        glEnable(GL_POINT_SMOOTH)\n",
    "        glEnable(GL_LINE_SMOOTH)\n",
    "        glEnable(GL_POLYGON_SMOOTH)\n",
    "        glMatrixMode(GL_PROJECTION)\n",
    "        glHint(GL_POINT_SMOOTH_HINT,GL_NICEST)\n",
    "        glHint(GL_LINE_SMOOTH_HINT,GL_NICEST)\n",
    "        glHint(GL_POLYGON_SMOOTH_HINT,GL_FASTEST)\n",
    "        glLoadIdentity()\n",
    "        gluPerspective(45.0, float(width)/float(height), 0.1, 100.0)\n",
    "        glMatrixMode(GL_MODELVIEW)\n",
    "        \n",
    "    def MainLoop(self):\n",
    "        glutMainLoop()\n",
    "\n",
    "if __name__ == '__main__':\n",
    "    w = MyPyOpenGLTest()\n",
    "    w.MainLoop()\n"
   ]
  },
  {
   "cell_type": "markdown",
   "metadata": {},
   "source": [
    "# 15.2 图像编程\n"
   ]
  },
  {
   "cell_type": "markdown",
   "metadata": {},
   "source": [
    "### 15.2.1 pillow模块简介\n"
   ]
  },
  {
   "cell_type": "code",
   "execution_count": 1,
   "metadata": {},
   "outputs": [],
   "source": [
    "# 导入模块中的对象\n",
    "from PIL import Image\n",
    "\n",
    "# 打开图像文件\n",
    "im = Image.open('sample.jpg')\n",
    "\n",
    "# 显示图像\n",
    "im.show()"
   ]
  },
  {
   "cell_type": "markdown",
   "metadata": {},
   "source": [
    "查看图像信息"
   ]
  },
  {
   "cell_type": "code",
   "execution_count": 2,
   "metadata": {},
   "outputs": [
    {
     "data": {
      "text/plain": [
       "'JPEG'"
      ]
     },
     "execution_count": 2,
     "metadata": {},
     "output_type": "execute_result"
    }
   ],
   "source": [
    ">>> im.format"
   ]
  },
  {
   "cell_type": "code",
   "execution_count": 3,
   "metadata": {},
   "outputs": [
    {
     "data": {
      "text/plain": [
       "(512, 512)"
      ]
     },
     "execution_count": 3,
     "metadata": {},
     "output_type": "execute_result"
    }
   ],
   "source": [
    ">>> im.size"
   ]
  },
  {
   "cell_type": "markdown",
   "metadata": {},
   "source": [
    "查看图像直方图，图像如果是RGB则返回三组数，如果是灰度图像则返回一组数。"
   ]
  },
  {
   "cell_type": "code",
   "execution_count": 4,
   "metadata": {},
   "outputs": [
    {
     "data": {
      "text/plain": [
       "[0,\n",
       " 0,\n",
       " 0,\n",
       " 0,\n",
       " 0,\n",
       " 0,\n",
       " 0,\n",
       " 0,\n",
       " 0,\n",
       " 0,\n",
       " 0,\n",
       " 0,\n",
       " 0,\n",
       " 0,\n",
       " 0,\n",
       " 0,\n",
       " 0,\n",
       " 0,\n",
       " 0,\n",
       " 1,\n",
       " 2,\n",
       " 11,\n",
       " 48,\n",
       " 77,\n",
       " 142,\n",
       " 239,\n",
       " 408,\n",
       " 554,\n",
       " 798,\n",
       " 1121,\n",
       " 1405,\n",
       " 1843,\n",
       " 2167,\n",
       " 2590,\n",
       " 2888,\n",
       " 2954,\n",
       " 2965,\n",
       " 3041,\n",
       " 2872,\n",
       " 2708,\n",
       " 2402,\n",
       " 2327,\n",
       " 2048,\n",
       " 1736,\n",
       " 1527,\n",
       " 1430,\n",
       " 1283,\n",
       " 1157,\n",
       " 1070,\n",
       " 939,\n",
       " 1021,\n",
       " 961,\n",
       " 913,\n",
       " 900,\n",
       " 881,\n",
       " 839,\n",
       " 1024,\n",
       " 956,\n",
       " 971,\n",
       " 1025,\n",
       " 1067,\n",
       " 1028,\n",
       " 1041,\n",
       " 1115,\n",
       " 1031,\n",
       " 1039,\n",
       " 1085,\n",
       " 1123,\n",
       " 1074,\n",
       " 1157,\n",
       " 1221,\n",
       " 1178,\n",
       " 1290,\n",
       " 1322,\n",
       " 1329,\n",
       " 1388,\n",
       " 1429,\n",
       " 1552,\n",
       " 1684,\n",
       " 1854,\n",
       " 2083,\n",
       " 2225,\n",
       " 2254,\n",
       " 2260,\n",
       " 2104,\n",
       " 1983,\n",
       " 1807,\n",
       " 1665,\n",
       " 1548,\n",
       " 1513,\n",
       " 1399,\n",
       " 1390,\n",
       " 1386,\n",
       " 1445,\n",
       " 1464,\n",
       " 1455,\n",
       " 1474,\n",
       " 1497,\n",
       " 1537,\n",
       " 1681,\n",
       " 1644,\n",
       " 1759,\n",
       " 1816,\n",
       " 1906,\n",
       " 1910,\n",
       " 2081,\n",
       " 2309,\n",
       " 2466,\n",
       " 2575,\n",
       " 2640,\n",
       " 2577,\n",
       " 2461,\n",
       " 2320,\n",
       " 2162,\n",
       " 1961,\n",
       " 1976,\n",
       " 1863,\n",
       " 2040,\n",
       " 2073,\n",
       " 2160,\n",
       " 2383,\n",
       " 2427,\n",
       " 2436,\n",
       " 2527,\n",
       " 2443,\n",
       " 2546,\n",
       " 2371,\n",
       " 2251,\n",
       " 2212,\n",
       " 2189,\n",
       " 2225,\n",
       " 2364,\n",
       " 2413,\n",
       " 2512,\n",
       " 2594,\n",
       " 2547,\n",
       " 2404,\n",
       " 2256,\n",
       " 2104,\n",
       " 1950,\n",
       " 1837,\n",
       " 1583,\n",
       " 1483,\n",
       " 1414,\n",
       " 1363,\n",
       " 1259,\n",
       " 1132,\n",
       " 1188,\n",
       " 1136,\n",
       " 1045,\n",
       " 1093,\n",
       " 1041,\n",
       " 1073,\n",
       " 1178,\n",
       " 1097,\n",
       " 1129,\n",
       " 1103,\n",
       " 1087,\n",
       " 994,\n",
       " 1016,\n",
       " 956,\n",
       " 901,\n",
       " 825,\n",
       " 718,\n",
       " 674,\n",
       " 619,\n",
       " 596,\n",
       " 567,\n",
       " 570,\n",
       " 556,\n",
       " 570,\n",
       " 484,\n",
       " 597,\n",
       " 565,\n",
       " 647,\n",
       " 680,\n",
       " 714,\n",
       " 708,\n",
       " 727,\n",
       " 770,\n",
       " 800,\n",
       " 743,\n",
       " 748,\n",
       " 798,\n",
       " 787,\n",
       " 759,\n",
       " 670,\n",
       " 679,\n",
       " 686,\n",
       " 678,\n",
       " 658,\n",
       " 674,\n",
       " 697,\n",
       " 695,\n",
       " 816,\n",
       " 834,\n",
       " 843,\n",
       " 781,\n",
       " 826,\n",
       " 765,\n",
       " 771,\n",
       " 683,\n",
       " 641,\n",
       " 570,\n",
       " 476,\n",
       " 392,\n",
       " 339,\n",
       " 310,\n",
       " 288,\n",
       " 271,\n",
       " 242,\n",
       " 194,\n",
       " 182,\n",
       " 157,\n",
       " 158,\n",
       " 135,\n",
       " 92,\n",
       " 72,\n",
       " 67,\n",
       " 33,\n",
       " 45,\n",
       " 38,\n",
       " 19,\n",
       " 20,\n",
       " 10,\n",
       " 10,\n",
       " 5,\n",
       " 3,\n",
       " 8,\n",
       " 1,\n",
       " 0,\n",
       " 1,\n",
       " 0,\n",
       " 0,\n",
       " 1,\n",
       " 0,\n",
       " 0,\n",
       " 0,\n",
       " 0,\n",
       " 0,\n",
       " 1,\n",
       " 0,\n",
       " 2,\n",
       " 0,\n",
       " 1,\n",
       " 0,\n",
       " 0,\n",
       " 0,\n",
       " 0,\n",
       " 0,\n",
       " 0,\n",
       " 0,\n",
       " 0,\n",
       " 0,\n",
       " 0,\n",
       " 0]"
      ]
     },
     "execution_count": 4,
     "metadata": {},
     "output_type": "execute_result"
    }
   ],
   "source": [
    ">>> im.histogram()\n"
   ]
  },
  {
   "cell_type": "markdown",
   "metadata": {},
   "source": [
    "读取像素值"
   ]
  },
  {
   "cell_type": "code",
   "execution_count": 5,
   "metadata": {},
   "outputs": [
    {
     "data": {
      "text/plain": [
       "87"
      ]
     },
     "execution_count": 5,
     "metadata": {},
     "output_type": "execute_result"
    }
   ],
   "source": [
    ">>> im.getpixel((100,50))"
   ]
  },
  {
   "cell_type": "markdown",
   "metadata": {},
   "source": [
    "设置像素值"
   ]
  },
  {
   "cell_type": "code",
   "execution_count": 8,
   "metadata": {},
   "outputs": [],
   "source": [
    "im = Image.open('rgb.bmp')\n",
    "im.putpixel((100,50),(128,30,120))\n"
   ]
  },
  {
   "cell_type": "markdown",
   "metadata": {},
   "source": [
    "保存图像文件"
   ]
  },
  {
   "cell_type": "code",
   "execution_count": 9,
   "metadata": {},
   "outputs": [],
   "source": [
    ">>> im.save('sample1.jpg')"
   ]
  },
  {
   "cell_type": "markdown",
   "metadata": {},
   "source": [
    "转换图像格式"
   ]
  },
  {
   "cell_type": "code",
   "execution_count": 10,
   "metadata": {},
   "outputs": [],
   "source": [
    ">>> im.save('sample1.bmp')"
   ]
  },
  {
   "cell_type": "markdown",
   "metadata": {},
   "source": [
    "图像缩放"
   ]
  },
  {
   "cell_type": "code",
   "execution_count": 12,
   "metadata": {},
   "outputs": [],
   "source": [
    "# 打开图像文件\n",
    "im1 = Image.open('sample1.jpg')\n",
    "im1 = im.resize((100,100))\n"
   ]
  },
  {
   "cell_type": "markdown",
   "metadata": {},
   "source": [
    "逆时针旋转图像，rotate方法支持任意角度的旋转，而transpose方法支持部分特殊角度的旋转，如90、180、270以及水平、垂直翻转。"
   ]
  },
  {
   "cell_type": "code",
   "execution_count": 13,
   "metadata": {},
   "outputs": [],
   "source": [
    "im2 = im.rotate(90)\n",
    "im2.show()"
   ]
  },
  {
   "cell_type": "code",
   "execution_count": 14,
   "metadata": {},
   "outputs": [],
   "source": [
    "im3 = im.transpose(Image.ROTATE_180)\n",
    "im3.show()"
   ]
  },
  {
   "cell_type": "code",
   "execution_count": 15,
   "metadata": {},
   "outputs": [],
   "source": [
    "im4 = im.transpose(Image.FLIP_LEFT_RIGHT)\n",
    "im4.show()"
   ]
  },
  {
   "cell_type": "markdown",
   "metadata": {},
   "source": [
    "图像裁剪与粘贴"
   ]
  },
  {
   "cell_type": "code",
   "execution_count": 17,
   "metadata": {},
   "outputs": [],
   "source": [
    ">>> box = (120,194,220,294)\n",
    ">>> region = im.crop(box)\n",
    ">>> region = region.transpose(Image.ROTATE_180)\n",
    ">>> im.paste(region,box)\n",
    ">>> im.show()\n"
   ]
  },
  {
   "cell_type": "markdown",
   "metadata": {},
   "source": [
    "将彩色图像分离为红、绿、蓝三分量子图，分离后每个图像大小与原图像一样，但是只包含一个颜色分量"
   ]
  },
  {
   "cell_type": "code",
   "execution_count": 18,
   "metadata": {},
   "outputs": [
    {
     "name": "stdout",
     "output_type": "stream",
     "text": [
      "<PIL.Image.Image image mode=L size=256x256 at 0x250444420F0> <PIL.Image.Image image mode=L size=256x256 at 0x25044442278> <PIL.Image.Image image mode=L size=256x256 at 0x250444422E8>\n"
     ]
    }
   ],
   "source": [
    "im = Image.open('rgb.bmp')\n",
    "r,g,b = im.split()\n",
    "print(r,g,b)"
   ]
  },
  {
   "cell_type": "code",
   "execution_count": 19,
   "metadata": {},
   "outputs": [],
   "source": [
    "r.show()"
   ]
  },
  {
   "cell_type": "markdown",
   "metadata": {},
   "source": [
    "图像增强"
   ]
  },
  {
   "cell_type": "code",
   "execution_count": 20,
   "metadata": {},
   "outputs": [],
   "source": [
    "im = Image.open('sample.jpg')\n",
    "\n",
    "from PIL import ImageFilter\n",
    "im5 = im.filter(ImageFilter.DETAIL)\n",
    "im5 .show()"
   ]
  },
  {
   "cell_type": "markdown",
   "metadata": {},
   "source": [
    "图像模糊"
   ]
  },
  {
   "cell_type": "code",
   "execution_count": 21,
   "metadata": {},
   "outputs": [],
   "source": [
    "im6 = im.filter(ImageFilter.BLUR)\n",
    "im6 .show()"
   ]
  },
  {
   "cell_type": "markdown",
   "metadata": {},
   "source": [
    "图像边缘提取"
   ]
  },
  {
   "cell_type": "code",
   "execution_count": 22,
   "metadata": {},
   "outputs": [],
   "source": [
    "im7 = im.filter(ImageFilter.FIND_EDGES)\n",
    "im7 .show()"
   ]
  },
  {
   "cell_type": "markdown",
   "metadata": {},
   "source": [
    "图像点运算，整体变暗、变亮"
   ]
  },
  {
   "cell_type": "code",
   "execution_count": 23,
   "metadata": {},
   "outputs": [],
   "source": [
    "im8 = im.point(lambda i:i*1.3)\n",
    "im8 .show()"
   ]
  },
  {
   "cell_type": "code",
   "execution_count": 24,
   "metadata": {},
   "outputs": [],
   "source": [
    "im9 = im.point(lambda i:i*0.7)\n",
    "im9 .show()"
   ]
  },
  {
   "cell_type": "markdown",
   "metadata": {},
   "source": [
    "也可使用图像增强模块来实现"
   ]
  },
  {
   "cell_type": "code",
   "execution_count": 25,
   "metadata": {},
   "outputs": [],
   "source": [
    ">>> from PIL import ImageEnhance\n",
    ">>> enh = ImageEnhance.Brightness(im)\n",
    ">>> enh.enhance(1.3).show()"
   ]
  },
  {
   "cell_type": "markdown",
   "metadata": {},
   "source": [
    "图像冷暖色调调整"
   ]
  },
  {
   "cell_type": "code",
   "execution_count": 30,
   "metadata": {},
   "outputs": [],
   "source": [
    ">>> im = Image.open('rgb.bmp')\n",
    ">>> r,g,b = im.split()\n",
    ">>> r = r.point(lambda i:i*1.3)\n",
    ">>> g = g.point(lambda i:i*0.9)\n",
    ">>> b = b.point(lambda i:i*0.5)\n",
    ">>> im10 = Image.merge(im.mode,(r,g,b))\n",
    ">>> im10.show()\n"
   ]
  },
  {
   "cell_type": "markdown",
   "metadata": {},
   "source": [
    "图像对比度增强"
   ]
  },
  {
   "cell_type": "code",
   "execution_count": 31,
   "metadata": {},
   "outputs": [],
   "source": [
    ">>> im = Image.open('rgb.bmp')\n",
    ">>> im.show()\n",
    ">>> from PIL import ImageEnhance\n",
    ">>> enh = ImageEnhance.Contrast(im)\n",
    ">>> enh.enhance(1.3).show()\n"
   ]
  },
  {
   "cell_type": "markdown",
   "metadata": {},
   "source": [
    "### 例15-1  计算椭圆中心。\n"
   ]
  },
  {
   "cell_type": "code",
   "execution_count": null,
   "metadata": {},
   "outputs": [],
   "source": [
    "from PIL import Image\n",
    "import os\n",
    "\n",
    "def searchLeft(width, height, im):\n",
    "    for w in range(width): #从左向右扫描\n",
    "        for h in range(height): #从下向上扫描\n",
    "            color = im.getpixel((w, h)) #获取图像指定位置的像素颜色\n",
    "            if color != (255, 255, 255):\n",
    "                return w #遇到并返回椭圆边界最左端的x坐标\n",
    "\n",
    "\n",
    "def searchRight(width, height, im):\n",
    "    for w in range(width-1, -1, -1): #从右向左扫描\n",
    "        for h in range(height):\n",
    "            color = im.getpixel((w, h))\n",
    "            if color != (255, 255, 255):\n",
    "                return w #遇到并返回椭圆边界最右端的x坐标\n",
    "            \n",
    "def searchTop(width, height, im):\n",
    "    for h in range(height-1, -1, -1):\n",
    "        for w in range(width):\n",
    "            color = im.getpixel((w,h))\n",
    "            if color != (255, 255, 255):\n",
    "                return h #遇到并返回椭圆边界最上端的y坐标\n",
    "\n",
    "def searchBottom(width, height, im):\n",
    "    for h in range(height):\n",
    "        for w in range(width):\n",
    "            color = im.getpixel((w,h))\n",
    "            if color != (255, 255, 255):\n",
    "                return h #遇到并返回椭圆边界最下端的y坐标\n",
    "\n",
    "#遍历指定文件夹中所有bmp图像文件，假设图像为白色背景，椭圆为其他任意颜色\n",
    "images = [f for f in os.listdir('testimages') if f.endswith('.bmp')]\n",
    "for f in images:\n",
    "    f = 'testimages\\\\'+f\n",
    "    im = Image.open(f)\n",
    "    width, height = im.size #获取图像大小\n",
    "    x0 = searchLeft(width, height, im)\n",
    "    x1 = searchRight(width, height, im)\n",
    "    y0 = searchBottom(width, height, im)\n",
    "    y1 = searchTop(width, height, im)\n",
    "    center = ((x0+x1)//2, (y0+y1)//2)\n",
    "\n",
    "    im.putpixel(center, (255,0,0)) #把椭圆中心像素画成红色\n",
    "    im.save(f[0:-4]+'_center.bmp') #保存为新图像文件\n",
    "    im.close()\n"
   ]
  },
  {
   "cell_type": "markdown",
   "metadata": {},
   "source": [
    "### 例15-2  动态生成比例分配图。具体功能为：使用三种颜色填充横条矩形区域，并在每段中分别居中输出字母A、B、C，要求ABC各自所占比例可动态调整。\n"
   ]
  },
  {
   "cell_type": "code",
   "execution_count": 32,
   "metadata": {},
   "outputs": [],
   "source": [
    "from PIL import Image, ImageDraw, ImageFont\n",
    "\n",
    "def redraw(f, v1, v2):\n",
    "    start = int(600*v1)\n",
    "    end = int(600*v2)\n",
    "    \n",
    "    im = Image.open(f)\n",
    "\n",
    "    for w in range(start):\n",
    "        for h in range(36, 61):\n",
    "            im.putpixel((w,h), (255,0,0))\n",
    "\n",
    "    for w in range(start, end):\n",
    "        for h in range(36,61):\n",
    "            im.putpixel((w,h), (0,255,0))\n",
    "\n",
    "    for w in range(end, 600):\n",
    "        for h in range(36,61):\n",
    "            im.putpixel((w,h), (255,0,255))\n",
    "\n",
    "    draw = ImageDraw.Draw(im)\n",
    "    font = ImageFont.truetype('simsun.ttc',18)\n",
    "    \n",
    "                        \n",
    "    draw.text((start//2,38), 'A', (0,0,0), font=font)\n",
    "    draw.text(((end-start)//2+start,38), 'B',(0,0,0), font=font)\n",
    "    draw.text(((600-end)//2+end,38), 'C', (0,0,0),font=font)\n",
    "\n",
    "    im.save(f)\n",
    "\n",
    "redraw(r'biaotou1.png',0.1,0.9)\n"
   ]
  },
  {
   "cell_type": "markdown",
   "metadata": {},
   "source": [
    "### 例15-3  图片验证码是比较传统的验证码形式，图片中除了经过平移、旋转、错切、缩放等基本变换的字母和数字之外，还有一些随机线条或其他干扰因素。\n"
   ]
  },
  {
   "cell_type": "code",
   "execution_count": 35,
   "metadata": {},
   "outputs": [],
   "source": [
    "from random import choice, randint, randrange\n",
    "import string\n",
    "from PIL import Image, ImageDraw, ImageFont\n",
    "\n",
    "# 验证码图片中的候选字符集\n",
    "characters = string.ascii_letters+string.digits\n",
    "\n",
    "def selectedCharacters(length):\n",
    "    '''返回length个随机字符的字符串'''\n",
    "    result = ''.join(choice(characters) for _ in range(length))\n",
    "    return result\n",
    "\n",
    "def getColor():\n",
    "    '''get a random color'''\n",
    "    r = randint(0,255)\n",
    "    g = randint(0,255)\n",
    "    b = randint(0,255)\n",
    "    return (r,g,b)\n",
    "\n",
    "def main(size=(200,100), characterNumber=6, bgcolor=(255,255,255)):\n",
    "    # 创建空白图像和绘图对象\n",
    "    imageTemp = Image.new('RGB', size, bgcolor)\n",
    "    draw = ImageDraw.Draw(imageTemp)\n",
    "\n",
    "    # 生成并计算随机字符串的宽度和高度\n",
    "    text = selectedCharacters(characterNumber)\n",
    "    font = ImageFont.truetype('c:\\\\windows\\\\fonts\\\\TIMESBD.TTF', 48)\n",
    "    width, height = draw.textsize(text, font)\n",
    "    if width+2*characterNumber>size[0] or height>size[1]:\n",
    "        print('尺寸不合法')\n",
    "        return\n",
    "    \n",
    "    # 绘制随机字符串中的字符\n",
    "    startX = 0\n",
    "    widthEachCharater = width//characterNumber\n",
    "    for i in range(characterNumber):\n",
    "        startX += widthEachCharater + 1\n",
    "        # 每个字符在图片中的y坐标随机计算\n",
    "        position = (startX, (size[1]-height)//2+randint(-10,10))\n",
    "        draw.text(xy=position, text=text[i], font=font, fill=getColor())\n",
    "        \n",
    "    # 对像素位置进行微调，实现扭曲的效果\n",
    "    imageFinal = Image.new('RGB', size, bgcolor)\n",
    "    pixelsFinal = imageFinal.load()\n",
    "    pixelsTemp = imageTemp.load()\n",
    "    for y in range(size[1]):\n",
    "        offset = randint(-1,0)\n",
    "        for x in range(size[0]):\n",
    "            newx = x+offset\n",
    "            if newx>=size[0]:\n",
    "                newx = size[0]-1\n",
    "            elif newx<0:\n",
    "                newx = 0\n",
    "            pixelsFinal[newx,y] = pixelsTemp[x,y]\n",
    "\n",
    "    # 绘制随机颜色随机位置的干扰像素            \n",
    "    draw = ImageDraw.Draw(imageFinal)\n",
    "    for i in range(int(size[0]*size[1]*0.07)):\n",
    "        draw.point((randrange(size[0]), randrange(size[1])), fill=getColor())\n",
    "\n",
    "    # 绘制8条随机干扰直线\n",
    "    for i in range(8):\n",
    "        start = (0, randrange(size[1]))\n",
    "        end = (size[0], randrange(size[1]))\n",
    "        draw.line([start, end], fill=getColor(), width=1)\n",
    "\n",
    "    # 绘制8条随机弧线\n",
    "    for i in range(8):\n",
    "        start = (-50, -50)\n",
    "        end = (size[0]+10, randint(0, size[1]+10))\n",
    "        draw.arc(start+end, 0, 360, fill=getColor())\n",
    "        \n",
    "    # 保存并显示图片\n",
    "    imageFinal.save(\"result.jpg\")\n",
    "    imageFinal.show()\n",
    "\n",
    "if __name__ == \"__main__\":\n",
    "    main((200,100), 4, (255,255,255))\n",
    "                   \n"
   ]
  },
  {
   "cell_type": "markdown",
   "metadata": {},
   "source": [
    "### 分离GIF动画（扩展）\n"
   ]
  },
  {
   "cell_type": "code",
   "execution_count": 36,
   "metadata": {},
   "outputs": [],
   "source": [
    "from PIL import Image\n",
    "import os\n",
    "\n",
    "gifFileName = 'tom.gif'\n",
    "im = Image.open(gifFileName)   # 打开gif动态图像时，默认是第一帧\n",
    "pngDir = gifFileName[:-4]\n",
    "if not os.path.exists(pngDir):\n",
    "    os.mkdir(pngDir)           # 创建存放每帧图片的文件夹\n",
    "\n",
    "try:\n",
    "    while True:\n",
    "        current = im.tell()    # 保存当前帧图片\n",
    "        im.save(pngDir+'\\\\'+str(current)+'.png')\n",
    "        im.seek(current+1)     # 获取下一帧图片\n",
    "except EOFError:\n",
    "    pass\n"
   ]
  },
  {
   "cell_type": "markdown",
   "metadata": {},
   "source": [
    "### 15.2.6  空域图像融合（扩展）\n"
   ]
  },
  {
   "cell_type": "code",
   "execution_count": null,
   "metadata": {},
   "outputs": [],
   "source": [
    "# 根据原始24位色BMP图像文件，生成指定数量含有随机噪点的临时图像\n",
    "def addNoise(fileName, num):\n",
    "    # 这里假设原始图像为BMP文件\n",
    "    if not fileName.endswith('.bmp'):\n",
    "        print('Must be bmp image')\n",
    "        return\n",
    "    \n",
    "    # 生成num个含有随机噪点的图像文件\n",
    "    for i in range(num):\n",
    "        # 打开原始图像\n",
    "        im = Image.open(fileName)\n",
    "        # 获取图像尺寸\n",
    "        width, height = im.size\n",
    "        \n",
    "        # 添加噪点，每个结果图像中含有的噪点数量可能会不一样\n",
    "        n = randint(30, 100)\n",
    "        for j in range(n):\n",
    "            # 随机位置\n",
    "            w = randint(0, width-1)\n",
    "            h = randint(0, height-1)\n",
    "            # 修改随机位置的像素值\n",
    "            im.putpixel((w,h), (0,0,0))\n",
    "        # 保存结果图像\n",
    "        im.save(fileName[:-4]+'_'+str(i+1)+'.bmp')\n",
    "\n",
    "# 根据多个含有随机噪点的图像，对应位置像素计算平均值，生成结果图像\n",
    "def mergeOne(fileName, num):\n",
    "    if not fileName.endswith('.bmp'):\n",
    "        print('Must be bmp image')\n",
    "        return    \n",
    "    # 列表推导式，打开上面的函数生成的所有含有噪点的图像\n",
    "    ims = [Image.open(fileName[:-4]+'_'+str(i+1)+'.bmp') for i in range(num)]\n",
    "    # 创建新图像\n",
    "    im = Image.new('RGB', ims[0].size, (255,255,255))\n",
    "    width, height = im.size\n",
    "    for w in range(width):\n",
    "        for h in range(height):\n",
    "            # 计算所有临时图像中对应位置上像素值的平均值\n",
    "            colors = (tempIm.getpixel((w,h)) for tempIm in ims)\n",
    "            colors = zip(*colors)\n",
    "            r, g, b = map(lambda item:sum(item)//len(item), colors)\n",
    "            # 写入结果图像中对应位置\n",
    "            im.putpixel((w,h), (r,g,b))\n",
    "    # 保存最终结果图像\n",
    "    im.save(fileName[:-4]+'_result.bmp')\n",
    "\n",
    "# 对比合并后的图像和原始图像之间的相似度\n",
    "def compare(fileName):\n",
    "    im1 = Image.open(fileName)\n",
    "    im2 = Image.open(fileName[:-4]+'_result.bmp')\n",
    "    width, height = im1.size\n",
    "    # 图像中的像素总数量\n",
    "    total = width * height\n",
    "    # 两个图像中对应位置像素值相似的次数\n",
    "    right = 0\n",
    "    # 判断是否相似的阈值\n",
    "    expectedRatio = 0.05\n",
    "    \n",
    "    for w in range(width):\n",
    "        for h in range(height):\n",
    "            # 获取两个图像同一位置上的像素值\n",
    "            c1 = im1.getpixel((w,h))\n",
    "            c2 = im2.getpixel((w,h))\n",
    "            # 生成器推导式，判断两个像素值各分量之差的绝对值是否小于阈值\n",
    "            similar = (abs(i-j)<255*expectedRatio for i,j in zip(c1,c2))\n",
    "            # 如果每个分量都小于阈值，相似像素个数加1\n",
    "            if all(similar):\n",
    "                right += 1\n",
    "                \n",
    "    return (total, right)\n",
    "\n",
    "if __name__ == '__main__':\n",
    "    from random import randint\n",
    "    from PIL import Image\n",
    "\n",
    "    # 生成4个临时图像，然后进行融合，并对比融合后的图像与原始图像的相似度\n",
    "    addNoise('rgb.bmp', 4)\n",
    "    mergeOne('rgb.bmp', 4)\n",
    "    result = compare('rgb.bmp')\n",
    "    print(result)"
   ]
  },
  {
   "cell_type": "markdown",
   "metadata": {},
   "source": [
    "### 15.2.10  棋盘纹理生成（扩展）\n"
   ]
  },
  {
   "cell_type": "code",
   "execution_count": null,
   "metadata": {},
   "outputs": [],
   "source": [
    "from PIL import Image\n",
    "import math\n",
    "\n",
    "def qipan(width, height, color1, color2, interval):\n",
    "    im = Image.new('RGB',(width,height))\n",
    "    for h in range(height):\n",
    "        for w in range(width):\n",
    "            if (int(h/height*interval)+int(w/width*interval)) % 2 == 1:\n",
    "                im.putpixel((w,h), color1)\n",
    "            else:\n",
    "                im.putpixel((w,h), color2)\n",
    "    im.show()\n",
    "\n",
    "if __name__=='__main__':\n",
    "    qipan(500, 500, (50,50,50), (240,240,240), 5)\n"
   ]
  },
  {
   "cell_type": "markdown",
   "metadata": {},
   "source": [
    "### 在目标图像随机位置插入数字水印的整体信息\n"
   ]
  },
  {
   "cell_type": "code",
   "execution_count": null,
   "metadata": {},
   "outputs": [],
   "source": [
    "from random import randint\n",
    "from os import listdir\n",
    "from PIL import Image\n",
    "\n",
    "# 打开并读取其中的水印像素，也就是不是白色背景的像素\n",
    "# 读到内存中，放到字典中以供快速访问\n",
    "im = Image.open('test.png')\n",
    "width, height = im.size\n",
    "pixels = dict()\n",
    "for w in range(width):\n",
    "    for h in range(height):\n",
    "        c = im.getpixel((w,h))[:3]\n",
    "        if c!=(255, 255, 255):\n",
    "            pixels[(w, h)] = c\n",
    "\n",
    "def addWaterMark(srcDir):\n",
    "    # 获取目标文件夹中所有图像文件列表\n",
    "    picFiles = [srcDir+'\\\\'+fn for fn in listdir(srcDir) if fn.endswith(('.bmp', '.jpg', '.png'))]\n",
    "    # 遍历所有文件，为每个图像添加水印\n",
    "    for fn in picFiles:\n",
    "        im1 = Image.open(fn)\n",
    "        w, h = im1.size\n",
    "        # 如果图片尺寸小于水印图片，不加水印\n",
    "        if w<width or h<height:\n",
    "            continue\n",
    "        # 在原始图像左上角、中间或右下角添加数字水印\n",
    "        # 具体位置根据position进行随机选择\n",
    "        p = {0:(0,0),  # 左上角\n",
    "             1:((w-width)//2, (h-height)//2),  # 中间位置\n",
    "             2:(w-width, h-height)}  # 右下角\n",
    "        # 随机生成一个位置\n",
    "        position = randint(0,2)\n",
    "        left, top = p[position]\n",
    "        # 修改像素值，添加水印\n",
    "        for p, c in pixels.items():\n",
    "            try:\n",
    "                # 目标图像是彩色的\n",
    "                im1.putpixel((p[0]+left, p[1]+top), c)\n",
    "            except:\n",
    "                # 目标图像是灰度的\n",
    "                im1.putpixel((p[0]+left, p[1]+top), sum(c)//len(c))\n",
    "        # 保存加入水印之后的新图像文件\n",
    "        im1.save(fn[:-4] + '_new' + fn[-4:])\n",
    "\n",
    "# 为当前文件夹中的图像文件添加水印\n",
    "addWaterMark('mark')\n"
   ]
  },
  {
   "cell_type": "markdown",
   "metadata": {},
   "source": [
    "### 往目标图像中随机位置添加打散后的水印信息，并使用辅助文件记忆这些位置，以便提取水印信息\n"
   ]
  },
  {
   "cell_type": "code",
   "execution_count": null,
   "metadata": {},
   "outputs": [],
   "source": [
    "from os import remove\n",
    "from os.path import isfile \n",
    "from random import sample, choice\n",
    "from PIL import Image\n",
    "\n",
    "def mergeWaterMark(originPic, watermarkPic, logTxt):\n",
    "    #原始图片和水印文件必须为图片格式\n",
    "    if ((not originPic.endswith(('.jpg', '.bmp', '.png'))) or\n",
    "        (not watermarkPic.endswith(('.jpg', '.bmp', '.png')))):\n",
    "        return 'Error format.'\n",
    "    \n",
    "    #打开原图和水印图片，并获取大小\n",
    "    imOrigin = Image.open(originPic)\n",
    "    originWidth, originHeight = imOrigin.size\n",
    "    imWaterMark = Image.open(watermarkPic)\n",
    "    watermarkWidth, watermarkHeight = imWaterMark.size\n",
    "\n",
    "    #随机生成水印位置\n",
    "    allPositions = [(w,h) for w in range(originWidth) for h in range(originHeight)]\n",
    "    positions = sample(allPositions, watermarkWidth*watermarkHeight)\n",
    "\n",
    "    fpLog = open(logTxt, 'w')\n",
    "    #写入水印文件大小\n",
    "    fpLog.write(str((watermarkWidth,watermarkHeight))+'\\n')\n",
    "    \n",
    "    for w in range(watermarkWidth):\n",
    "        for h in range(watermarkHeight):\n",
    "            c = imWaterMark.getpixel((w,h))\n",
    "            c = c[:3]\n",
    "            #只写入不是白色的像素\n",
    "            if c != (255,255,255):\n",
    "                p = choice(positions)\n",
    "                #写入像素值\n",
    "                imOrigin.putpixel(p, c)\n",
    "                #避免重复修改同一个像素\n",
    "                positions.remove(p)\n",
    "                #生成日志文件，用来提取水印\n",
    "                fpLog.write(str(p+(w,h))+'\\n')\n",
    "    fpLog.close()\n",
    "    #生成加入水印的新图片\n",
    "    imOrigin.save(originPic[:-4]+'_new'+originPic[-4:])\n",
    "\n",
    "def restoreWaterMark(mergedPic, logTxt, watermarkPic):\n",
    "    #首先删除原来提取过的水印文件\n",
    "    if isfile(watermarkPic):\n",
    "        remove(watermarkPic)\n",
    "    imMerged = Image.open(mergedPic)\n",
    "    with open(logTxt) as fp:\n",
    "        for line in fp:\n",
    "            #读取每一行并还原为元组\n",
    "            line = eval(line.strip())\n",
    "            #第一行是水印图片尺寸，先创建水印文件\n",
    "            if len(line)==2:\n",
    "                imWaterMark = Image.new('RGB', line, (255,255,255))\n",
    "            else:\n",
    "                #提取水印像素并写入水印文件\n",
    "                c = imMerged.getpixel((line[0],line[1]))\n",
    "                c = c[:3]\n",
    "                imWaterMark.putpixel((line[2],line[3]), c)\n",
    "    #保存提取的水印\n",
    "    imWaterMark.save(watermarkPic)\n",
    "                \n",
    "    \n",
    "#添加水印\n",
    "mergeWaterMark('origin.bmp', 'test.png', 'logg.txt')\n",
    "#提取水印\n",
    "restoreWaterMark('origin_new.bmp', 'logg.txt', 'restoredWaterMark.png')            \n"
   ]
  },
  {
   "cell_type": "markdown",
   "metadata": {},
   "source": [
    "### 15.2.13  拼接多图为长图（扩展）\n"
   ]
  },
  {
   "cell_type": "code",
   "execution_count": null,
   "metadata": {},
   "outputs": [],
   "source": [
    "from os import listdir\n",
    "from PIL import Image\n",
    "\n",
    "# 获取当前文件夹中所有PNG图像\n",
    "ims = [Image.open(fn) for fn in listdir() if fn.endswith('.png')]\n",
    "\n",
    "# 单幅图像尺寸\n",
    "width, height = ims[0].size\n",
    "# 创建空白长图\n",
    "result = Image.new(ims[0].mode, (width, height*len(ims)))\n",
    "\n",
    "# 拼接\n",
    "for i, im in enumerate(ims):\n",
    "    result.paste(im, box=(0,i*height))\n",
    "\n",
    "# 保存\n",
    "result.save('result.png')\n"
   ]
  },
  {
   "cell_type": "markdown",
   "metadata": {},
   "source": [
    "### 15.3 音乐编程\n"
   ]
  },
  {
   "cell_type": "markdown",
   "metadata": {},
   "source": [
    "### 简单音乐播放器："
   ]
  },
  {
   "cell_type": "code",
   "execution_count": null,
   "metadata": {},
   "outputs": [
    {
     "name": "stdout",
     "output_type": "stream",
     "text": [
      "pygame 1.9.6\n",
      "Hello from the pygame community. https://www.pygame.org/contribute.html\n",
      "playing.... .\\cdcd.mp3\n",
      "playing.... .\\cdcd.mp3\n"
     ]
    }
   ],
   "source": [
    "import os\n",
    "import pygame\n",
    "import random\n",
    "import time\n",
    "\n",
    "folder = r'.'\n",
    "musics = [folder+'\\\\'+music for music in os.listdir(folder) if music.endswith('.mp3')]\n",
    "total = len(musics)\n",
    "pygame.mixer.init()\n",
    "while True:\n",
    "    if not pygame.mixer.music.get_busy():\n",
    "        nextMusic = random.choice(musics)\n",
    "        pygame.mixer.music.load(nextMusic.encode())\n",
    "        pygame.mixer.music.play(1)\n",
    "        print('playing....',nextMusic)\n",
    "    else:\n",
    "        time.sleep(1)\n"
   ]
  },
  {
   "cell_type": "markdown",
   "metadata": {},
   "source": [
    "# 15.4 语音识别\n"
   ]
  },
  {
   "cell_type": "code",
   "execution_count": null,
   "metadata": {},
   "outputs": [],
   "source": []
  }
 ],
 "metadata": {
  "kernelspec": {
   "display_name": "Python 3",
   "language": "python",
   "name": "python3"
  },
  "language_info": {
   "codemirror_mode": {
    "name": "ipython",
    "version": 3
   },
   "file_extension": ".py",
   "mimetype": "text/x-python",
   "name": "python",
   "nbconvert_exporter": "python",
   "pygments_lexer": "ipython3",
   "version": "3.7.2"
  }
 },
 "nbformat": 4,
 "nbformat_minor": 4
}
