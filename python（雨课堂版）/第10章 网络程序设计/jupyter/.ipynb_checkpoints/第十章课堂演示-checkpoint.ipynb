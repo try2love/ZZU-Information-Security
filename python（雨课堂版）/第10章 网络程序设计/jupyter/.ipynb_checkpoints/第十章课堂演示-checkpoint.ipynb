{
 "cells": [
  {
   "cell_type": "markdown",
   "metadata": {},
   "source": [
    "# 10.2 python中socket的参数详解\n"
   ]
  },
  {
   "cell_type": "code",
   "execution_count": 1,
   "metadata": {},
   "outputs": [
    {
     "name": "stdout",
     "output_type": "stream",
     "text": [
      "<socket.socket fd=1288, family=AddressFamily.AF_INET, type=SocketKind.SOCK_STREAM, proto=0>\n"
     ]
    }
   ],
   "source": [
    "from socket import *\n",
    "sk = socket(family=AF_INET,type=SOCK_STREAM,proto=0,fileno=None)\n",
    "print(sk)\n"
   ]
  },
  {
   "cell_type": "markdown",
   "metadata": {},
   "source": [
    "# 10.2.1 UDP协议编程\n"
   ]
  },
  {
   "cell_type": "markdown",
   "metadata": {},
   "source": [
    "### server"
   ]
  },
  {
   "cell_type": "code",
   "execution_count": 1,
   "metadata": {},
   "outputs": [
    {
     "name": "stdout",
     "output_type": "stream",
     "text": [
      "b'hello server!'\n"
     ]
    }
   ],
   "source": [
    "import socket\n",
    "udp_sk = socket.socket(type=socket.SOCK_DGRAM)   #创建一个服务器的套接字\n",
    "udp_sk.bind(('127.0.0.1',9999))        #绑定服务器套接字\n",
    "msg,addr = udp_sk.recvfrom(1024)\n",
    "print(msg)\n",
    "# udp_sk.sendto(b'hello client!',addr)                 # 对话(接收与发送)\n",
    "udp_sk.close()                                 # 关闭服务器套接字 "
   ]
  },
  {
   "cell_type": "markdown",
   "metadata": {},
   "source": [
    "### client"
   ]
  },
  {
   "cell_type": "code",
   "execution_count": null,
   "metadata": {},
   "outputs": [],
   "source": [
    "import socket\n",
    "ip_port=('127.0.0.1',9999)\n",
    "udp_sk=socket.socket(type=socket.SOCK_DGRAM)\n",
    "udp_sk.sendto(b'hello server!',ip_port)\n",
    "back_msg,addr=udp_sk.recvfrom(1024)\n",
    "print(back_msg.decode('utf-8'),addr)"
   ]
  },
  {
   "cell_type": "markdown",
   "metadata": {},
   "source": [
    "### 例10-1    编写UDP通信程序，发送端发送一个字符串“Hello world!”。接收端在计算机的5000端口进行接收，并显示接收内容，如果收到字符串bye（忽略大小写）则结束监听。"
   ]
  },
  {
   "cell_type": "markdown",
   "metadata": {},
   "source": [
    "### 接收端代码receiver.py："
   ]
  },
  {
   "cell_type": "code",
   "execution_count": 1,
   "metadata": {},
   "outputs": [
    {
     "name": "stdout",
     "output_type": "stream",
     "text": [
      "received message:hello from PORT 52165 on 127.0.0.1\n",
      "received message:你好 from PORT 52174 on 127.0.0.1\n",
      "received message:bye from PORT 52193 on 127.0.0.1\n"
     ]
    }
   ],
   "source": [
    "import socket\n",
    "\n",
    "# 使用IPV4协议，使用UDP协议传输数据\n",
    "s = socket.socket(socket.AF_INET, socket.SOCK_DGRAM)\n",
    "# 绑定端口和端口号，空字符串表示本机任何可用IP地址\n",
    "s.bind(('', 5000))\n",
    "while True:\n",
    "    data, addr = s.recvfrom(1024)\n",
    "    # 显示接收到的内容\n",
    "    data = data.decode()\n",
    "    print('received message:{0} from PORT {1[1]} on {1[0]}'.format(data, addr))\n",
    "    if data.lower() == 'bye':\n",
    "        break\n",
    "s.close()\n"
   ]
  },
  {
   "cell_type": "markdown",
   "metadata": {},
   "source": [
    "### 发送端代码sender.py：\n"
   ]
  },
  {
   "cell_type": "code",
   "execution_count": null,
   "metadata": {},
   "outputs": [],
   "source": [
    "import socket\n",
    "import sys\n",
    "\n",
    "s = socket.socket(socket.AF_INET, socket.SOCK_DGRAM)\n",
    "# 假设127.0.0.1是接收端机器的IP地址\n",
    "s.sendto(sys.argv[1].encode(), (\"127.0.0.1\", 5000))\n",
    "s.close()"
   ]
  },
  {
   "cell_type": "code",
   "execution_count": null,
   "metadata": {},
   "outputs": [],
   "source": [
    "python test.py hello"
   ]
  },
  {
   "cell_type": "markdown",
   "metadata": {},
   "source": [
    "首先启动一个命令提示符环境并运行接收端程序，这时接收端程序处于阻塞状态，接下来再启动一个新的命令提示符环境并运行发送端程序，此时会看到接收端程序继续运行并显示接收到的内容以及发送端程序所在计算机IP地址和占用的端口号。"
   ]
  },
  {
   "cell_type": "markdown",
   "metadata": {},
   "source": [
    "当发送端发送字符串bye后，接收端程序结束，此后再次运行发送端程序时接收端没有任何反应，但发送端程序也并不报错。这正是UDP协议的特点，即“尽最大努力传输”，并不保证非常好的服务质量。\n"
   ]
  },
  {
   "cell_type": "markdown",
   "metadata": {},
   "source": [
    "# 基于udp协议的socket来实现qq聊天"
   ]
  },
  {
   "cell_type": "markdown",
   "metadata": {},
   "source": [
    "### server"
   ]
  },
  {
   "cell_type": "code",
   "execution_count": null,
   "metadata": {},
   "outputs": [
    {
     "name": "stdout",
     "output_type": "stream",
     "text": [
      "来自[127.0.0.1:49209]的一条消息:\u001b[1;42m你好\u001b[0m\n",
      "回复消息: hello\n",
      "来自[127.0.0.1:49209]的一条消息:\u001b[1;42m你在哪？\u001b[0m\n",
      "回复消息: 郑州\n"
     ]
    }
   ],
   "source": [
    "import socket\n",
    "ip_port=('127.0.0.1',8081)\n",
    "u_sk=socket.socket(socket.AF_INET,socket.SOCK_DGRAM)\n",
    "u_sk.bind(ip_port)\n",
    "\n",
    "while True:\n",
    "    qq_msg,addr=u_sk.recvfrom(1024)\n",
    "    print('来自[%s:%s]的一条消息:\\033[1;42m%s\\033[0m' %(addr[0],addr[1],qq_msg.decode('utf-8')))\n",
    "    back_msg=input('回复消息: ').strip()\n",
    "\n",
    "    u_sk.sendto(back_msg.encode('utf-8'),addr)"
   ]
  },
  {
   "cell_type": "markdown",
   "metadata": {},
   "source": [
    "### client"
   ]
  },
  {
   "cell_type": "code",
   "execution_count": null,
   "metadata": {},
   "outputs": [],
   "source": [
    "import socket\n",
    "bufsize = 1024\n",
    "u_sk=socket.socket(socket.AF_INET,socket.SOCK_DGRAM)\n",
    "\n",
    "qq_name_dic={\n",
    "    '罗盛运':('127.0.0.1',8081),\n",
    "    '罗德华':('127.0.0.1',8081),\n",
    "    '刘永贵':('127.0.0.1',8081),\n",
    "    '周曾吕':('127.0.0.1',8081),\n",
    "}\n",
    "\n",
    "\n",
    "while True:\n",
    "    qq_name=input('请选择聊天对象: ').strip()\n",
    "    while True:\n",
    "        msg=input('请输入消息,回车发送,输入q结束和他的聊天: ').strip()\n",
    "        if msg == 'q':break\n",
    "        if not msg or not qq_name or qq_name not in qq_name_dic:continue\n",
    "        u_sk.sendto(msg.encode('utf-8'),qq_name_dic[qq_name])\n",
    "\n",
    "        back_msg,addr=u_sk.recvfrom(bufsize)\n",
    "        print(addr)\n",
    "        print('来自[%s:%s]的一条消息:\\033[1;41m%s\\033[0m' %(addr[0],addr[1],back_msg.decode('utf-8')))\n",
    "\n",
    "u_sk.close()"
   ]
  },
  {
   "cell_type": "markdown",
   "metadata": {},
   "source": [
    "# 时间服务器"
   ]
  },
  {
   "cell_type": "markdown",
   "metadata": {},
   "source": [
    "### server"
   ]
  },
  {
   "cell_type": "markdown",
   "metadata": {},
   "source": [
    "strftime() 函数接收以时间元组，并返回以可读字符串表示的当地时间，格式由参数format决定。"
   ]
  },
  {
   "cell_type": "code",
   "execution_count": null,
   "metadata": {},
   "outputs": [
    {
     "name": "stdout",
     "output_type": "stream",
     "text": [
      "===> b'%Y %m %d'\n",
      "===> b'%m %d %Y'\n"
     ]
    }
   ],
   "source": [
    "from socket import *\n",
    "from time import strftime\n",
    "\n",
    "ip_port = ('127.0.0.1', 9888)\n",
    "bufsize = 1024\n",
    "\n",
    "tcp_server = socket(AF_INET, SOCK_DGRAM)\n",
    "tcp_server.setsockopt(SOL_SOCKET,SO_REUSEADDR,1)\n",
    "tcp_server.bind(ip_port)\n",
    "\n",
    "while True:\n",
    "    msg, addr = tcp_server.recvfrom(bufsize)\n",
    "    print('===>', msg)\n",
    "\n",
    "    if not msg:\n",
    "        time_fmt = '%Y-%m-%d %X'\n",
    "    else:\n",
    "        time_fmt = msg.decode('utf-8')\n",
    "    back_msg = strftime(time_fmt)\n",
    "\n",
    "    tcp_server.sendto(back_msg.encode('utf-8'), addr)\n",
    "\n",
    "tcp_server.close()"
   ]
  },
  {
   "cell_type": "markdown",
   "metadata": {},
   "source": [
    "### client"
   ]
  },
  {
   "cell_type": "code",
   "execution_count": null,
   "metadata": {},
   "outputs": [],
   "source": [
    "from socket import *\n",
    "ip_port=('127.0.0.1',9888)\n",
    "bufsize=1024\n",
    "\n",
    "tcp_client=socket(AF_INET,SOCK_DGRAM)\n",
    "\n",
    "while True:\n",
    "    msg=input('请输入时间格式(例%Y %m %d)>>: ').strip()\n",
    "    tcp_client.sendto(msg.encode('utf-8'),ip_port)\n",
    "\n",
    "    data=tcp_client.recv(bufsize)\n",
    "    print(data)"
   ]
  },
  {
   "cell_type": "markdown",
   "metadata": {},
   "source": [
    "# 10.2.2 TCP编程\n"
   ]
  },
  {
   "cell_type": "markdown",
   "metadata": {},
   "source": [
    "### server"
   ]
  },
  {
   "cell_type": "code",
   "execution_count": 1,
   "metadata": {},
   "outputs": [
    {
     "name": "stdout",
     "output_type": "stream",
     "text": [
      "b'hello server!'\n"
     ]
    }
   ],
   "source": [
    "import socket\n",
    "sk = socket.socket()\n",
    "sk.bind(('127.0.0.1',9999))  #把地址绑定到套接字\n",
    "sk.listen()                           #监听链接\n",
    "conn,addr = sk.accept()      #接受客户端链接\n",
    "ret = conn.recv(1024)        #接收客户端信息\n",
    "print(ret)                           #打印客户端信息\n",
    "# conn.send(b'hello client!')             #向客户端发送信息\n",
    "conn.close()                   #关闭客户端套接字\n",
    "sk.close()                      #关闭服务器套接字(可选)\n"
   ]
  },
  {
   "cell_type": "markdown",
   "metadata": {},
   "source": [
    "### client"
   ]
  },
  {
   "cell_type": "code",
   "execution_count": null,
   "metadata": {},
   "outputs": [],
   "source": [
    "import socket\n",
    "sk = socket.socket()                   # 创建客户套接字\n",
    "sk.connect(('127.0.0.1',9999))    # 尝试连接服务器\n",
    "sk.send(b'hello server!')\n",
    "ret = sk.recv(1024)                    # 对话(发送/接收)\n",
    "print(ret)\n",
    "sk.close()                                   # 关闭客户套接字"
   ]
  },
  {
   "cell_type": "markdown",
   "metadata": {},
   "source": [
    "### 例10-2  TCP通信程序。模拟机器人聊天软件原理，服务端提前建立好字典，然后根据接收到的内容自动回复。\n"
   ]
  },
  {
   "cell_type": "markdown",
   "metadata": {},
   "source": [
    "### 客户端代码chatclient.py： \n"
   ]
  },
  {
   "cell_type": "code",
   "execution_count": null,
   "metadata": {},
   "outputs": [],
   "source": [
    "import socket\n",
    "import sys\n",
    "\n",
    "# 服务端主机IP地址和端口号\n",
    "HOST = '127.0.0.1'\n",
    "PORT = 50007\n",
    "s = socket.socket(socket.AF_INET, socket.SOCK_STREAM)\n",
    "try:\n",
    "    # 连接服务器\n",
    "    s.connect((HOST, PORT))\n",
    "except Exception as e:\n",
    "    print('Server not found or not open')\n",
    "    sys.exit()\n",
    "\n",
    "while True:\n",
    "    c = input('Input the content you want to send:')\n",
    "    # 发送数据\n",
    "    s.sendall(c.encode())\n",
    "    # 从服务端接收数据\n",
    "    data = s.recv(1024)\n",
    "    data = data.decode()\n",
    "    print('Received:', data)\n",
    "    if c.lower() == 'bye':\n",
    "        break\n",
    "# 关闭连接\n",
    "s.close()\n"
   ]
  },
  {
   "cell_type": "markdown",
   "metadata": {},
   "source": [
    "### 服务端代码chatserver.py\n"
   ]
  },
  {
   "cell_type": "code",
   "execution_count": 1,
   "metadata": {},
   "outputs": [
    {
     "name": "stdout",
     "output_type": "stream",
     "text": [
      "Listening on port: 50007\n",
      "Connected by ('127.0.0.1', 51235)\n",
      "Received message: how are you?\n",
      "Received message: who are you?\n",
      "Received message: I am ...\n"
     ]
    },
    {
     "ename": "ConnectionResetError",
     "evalue": "[WinError 10054] 远程主机强迫关闭了一个现有的连接。",
     "output_type": "error",
     "traceback": [
      "\u001b[1;31m---------------------------------------------------------------------------\u001b[0m",
      "\u001b[1;31mConnectionResetError\u001b[0m                      Traceback (most recent call last)",
      "\u001b[1;32m<ipython-input-1-1c8de925ff48>\u001b[0m in \u001b[0;36m<module>\u001b[1;34m\u001b[0m\n\u001b[0;32m     20\u001b[0m \u001b[1;31m# 开始聊天\u001b[0m\u001b[1;33m\u001b[0m\u001b[1;33m\u001b[0m\u001b[1;33m\u001b[0m\u001b[0m\n\u001b[0;32m     21\u001b[0m \u001b[1;32mwhile\u001b[0m \u001b[1;32mTrue\u001b[0m\u001b[1;33m:\u001b[0m\u001b[1;33m\u001b[0m\u001b[1;33m\u001b[0m\u001b[0m\n\u001b[1;32m---> 22\u001b[1;33m     \u001b[0mdata\u001b[0m \u001b[1;33m=\u001b[0m \u001b[0mconn\u001b[0m\u001b[1;33m.\u001b[0m\u001b[0mrecv\u001b[0m\u001b[1;33m(\u001b[0m\u001b[1;36m1024\u001b[0m\u001b[1;33m)\u001b[0m\u001b[1;33m.\u001b[0m\u001b[0mdecode\u001b[0m\u001b[1;33m(\u001b[0m\u001b[1;33m)\u001b[0m\u001b[1;33m\u001b[0m\u001b[1;33m\u001b[0m\u001b[0m\n\u001b[0m\u001b[0;32m     23\u001b[0m     \u001b[1;32mif\u001b[0m \u001b[1;32mnot\u001b[0m \u001b[0mdata\u001b[0m\u001b[1;33m:\u001b[0m\u001b[1;33m\u001b[0m\u001b[1;33m\u001b[0m\u001b[0m\n\u001b[0;32m     24\u001b[0m         \u001b[1;32mbreak\u001b[0m\u001b[1;33m\u001b[0m\u001b[1;33m\u001b[0m\u001b[0m\n",
      "\u001b[1;31mConnectionResetError\u001b[0m: [WinError 10054] 远程主机强迫关闭了一个现有的连接。"
     ]
    }
   ],
   "source": [
    "import socket\n",
    "from os.path import commonprefix\n",
    "\n",
    "words = {'how are you?': 'Fine,thank you.',\n",
    "         'how old are you?': '38',\n",
    "         'what is your name?': 'Dong FuGuo',\n",
    "         \"what's your name?\": 'Dong FuGuo',\n",
    "         'where do you work?': 'University',\n",
    "         'bye': 'Bye'}\n",
    "HOST = ''\n",
    "PORT = 50007\n",
    "s = socket.socket(socket.AF_INET, socket.SOCK_STREAM)\n",
    "# 绑定socket\n",
    "s.bind((HOST, PORT))\n",
    "# 开始监听一个客户端连接\n",
    "s.listen(1)\n",
    "print('Listening on port:', PORT)\n",
    "conn, addr = s.accept()\n",
    "print('Connected by', addr)\n",
    "# 开始聊天\n",
    "while True:\n",
    "    data = conn.recv(1024).decode()\n",
    "    if not data:\n",
    "        break\n",
    "    print('Received message:', data)\n",
    "    # 尽量猜测对方要表达的真正意思\n",
    "    m = 0\n",
    "    key = ''\n",
    "    for k in words.keys():\n",
    "        # 删除多余的空白字符\n",
    "        data = ' '.join(data.split())\n",
    "        # 与某个“键”非常接近，就直接返回\n",
    "        if len(commonprefix([k, data])) > len(k) * 0.7:\n",
    "            key = k\n",
    "            break\n",
    "        # 使用选择法，选择一个重合度较高的“键”\n",
    "        length = len(set(data.split()) & set(k.split()))\n",
    "        if length > m:\n",
    "            m = length\n",
    "            key = k\n",
    "    # 选择合适的信息进行回复\n",
    "    conn.sendall(words.get(key, 'Sorry.').encode())\n",
    "conn.close()\n",
    "s.close()\n",
    "\n"
   ]
  },
  {
   "cell_type": "markdown",
   "metadata": {},
   "source": [
    "启动一个命令提示符环境并运行服务端程序，服务端开始监听；启动一个新的命令提示符环境并运行客户端程序，服务端提示连接已建立；在客户端输入要发送的信息后，服务端会根据提前建立的字典来自动回复。服务端每次都在固定的端口进行监听，而客户端每次建立连接时可能会使用不同的端口。如果服务端程序没有运行，那么客户端就无法建立连接，当然也无法发送任何信息，这正是TCP协议区别于UDP协议的地方。\n"
   ]
  },
  {
   "cell_type": "markdown",
   "metadata": {},
   "source": [
    "# 黏包现象"
   ]
  },
  {
   "cell_type": "markdown",
   "metadata": {},
   "source": [
    "### 1、什么是黏包？\n",
    "\n",
    "### 同时执行多条命令之后，得到的结果很可能只有一部分，在执行其他命令的时候又接收到之前执行的另外一部分结果，这种显现就是黏包。简单来说就是当发送多条命令时，我们接收不到所有信息，只有当再发送下一条消息时之前未接收到的消息才发过来。下面用代码来看一下效果。"
   ]
  },
  {
   "cell_type": "markdown",
   "metadata": {},
   "source": [
    "### 基于tcp协议的黏包"
   ]
  },
  {
   "cell_type": "markdown",
   "metadata": {},
   "source": [
    "### server"
   ]
  },
  {
   "cell_type": "code",
   "execution_count": null,
   "metadata": {},
   "outputs": [],
   "source": [
    "import socket\n",
    "\n",
    "sk = socket.socket()\n",
    "\n",
    "sk.bind(('127.0.0.1', 8080))\n",
    "sk.listen()\n",
    "conn, addr = sk.accept()\n",
    "while True:\n",
    "    cmd = input('请输入您的消息：')\n",
    "    if cmd == 'q':\n",
    "        conn.send(b'q')\n",
    "    conn.send(cmd.encode('gbk'))\n",
    "    res = conn.recv(1024).decode('gbk')\n",
    "    print(res)\n",
    "\n",
    "conn.close()\n",
    "sk.close()"
   ]
  },
  {
   "cell_type": "markdown",
   "metadata": {},
   "source": [
    "### client"
   ]
  },
  {
   "cell_type": "code",
   "execution_count": null,
   "metadata": {},
   "outputs": [],
   "source": [
    "import socket\n",
    "import subprocess\n",
    "\n",
    "sk = socket.socket()\n",
    "sk.connect(('127.0.0.1',8080))\n",
    "while True:\n",
    "    cmd = sk.recv(1024).decode('gbk')\n",
    "    if cmd == 'q':\n",
    "        break\n",
    "    res = subprocess.Popen(cmd,shell=True,stdout=subprocess.PIPE,stderr=subprocess.PIPE)\n",
    "    sk.send(res.stdout.read())\n",
    "    sk.send(res.stderr.read())\n",
    "\n",
    "sk.close()"
   ]
  },
  {
   "cell_type": "markdown",
   "metadata": {},
   "source": [
    "### 输出情况："
   ]
  },
  {
   "cell_type": "code",
   "execution_count": null,
   "metadata": {},
   "outputs": [],
   "source": [
    "请输入您的消息：dir\n",
    " 驱动器 C 中的卷是 Windows \n",
    " 卷的序列号是 788E-35E9\n",
    "\n",
    " C:\\Users\\shewe\\Desktop 的目录\n",
    "\n",
    "2020/04/30  07:12    <DIR>          .\n",
    "2020/04/30  07:12    <DIR>          ..\n",
    "2020/04/30  06:28    <DIR>          .ipynb_checkpoints\n",
    "2020/03/23  23:36           942,015 1.0能源区块链的发展现状：架构、应用与发展趋势.docx\n",
    "2020/04/03  14:24             1,310 70_毁伤仿真系统(孔德峰）.lnk\n",
    "2020/03/02  13:33               870 Start Tor Browser.lnk\n",
    "2020/03/02  13:33    <DIR>          Tor Browser\n",
    "2020/04/30  07:12             4,263 Untitled.ipynb\n",
    "2020/04/17  10:27             1,271 _2020年国家重点研发.lnk\n",
    "2020/04/17  00:07             1,277 _2020年郑州市重大专项.lnk\n",
    "2020/04/29  23:34    <DIR>          上课\n",
    "2020/02/14  11:07               256 坚果云.lnk\n",
    "2020/04/18  17:24    <DIR>          应用\n",
    "2020/04/29  17:17           129,124 微信图片_20200429171659.jpg\n",
    "2020/02/15  09:50             1,231 有道云笔记.lnk\n",
    "2020/04/23  12:15           730,092 涌现计算综述_李劲.pdf\n",
    "2020/02/10  14:24             1,226 疫情期间文件.lnk\n",
    "请输入您的消息：dir\n",
    "\n",
    "2020/02/07  13:11             1,060 百度网盘.lnk\n",
    "2020/04/01  10:49           177,422 路绪红_第二版 .docx\n",
    "2020/01/24  00:07         2,173,664 零样本学习研究进展.pdf\n",
    "2020/04/22  23:01           318,987 霍丽娟第一稿0407.docx\n",
    "              15 个文件      4,484,068 字节\n",
    "               6 个目录 82,966,528,000 可用字节\n",
    "\n",
    "请输入您的消息：dir\n",
    " 驱动器 C 中的卷是 Windows \n",
    " 卷的序列号是 788E-35E9\n",
    "\n",
    " C:\\Users\\shewe\\Desktop 的目录\n",
    "\n",
    "2020/04/30  07:28    <DIR>          .\n",
    "2020/04/30  07:28    <DIR>          ..\n",
    "2020/04/30  06:28    <DIR>          .ipynb_checkpoints\n",
    "2020/03/23  23:36           942,015 1.0能源区块链的发展现状：架构、应用与发展趋势.docx\n",
    "2020/04/03  14:24             1,310 70_毁伤仿真系统(孔德峰）.lnk\n",
    "2020/03/02  13:33               870 Start Tor Browser.lnk\n",
    "2020/03/02  13:33    <DIR>          Tor Browser\n",
    "2020/04/30  07:28             4,835 Untitled.ipynb\n",
    "2020/04/17  10:27             1,271 _2020年国家重点研发.lnk\n",
    "2020/04/17  00:07             1,277 _2020年郑州市重大专项.lnk\n",
    "2020/04/29  23:34    <DIR>          上课\n",
    "2020/02/14  11:07               256 坚果云.lnk\n",
    "2020/04/18  17:24    <DIR>          应用\n",
    "2020/04/29  17:17           129,124 微信图片_20200429171659.jpg\n",
    "2020/02/15  09:50             1,231 有道云笔记.lnk\n",
    "2020/04/23  12:15           730,092 涌现计算综述_李劲.pdf\n",
    "2020/02/10  14:24             1,226 疫情期间文件.lnk\n",
    "请输入您的消息：dir\n",
    "\n",
    "2020/02/07  13:11             1,060 百度网盘.lnk\n",
    "2020/04/01  10:49           177,422 路绪红_第二版 .docx\n",
    "2020/01/24  00:07         2,173,664 零样本学习研究进展.pdf\n",
    "2020/04/22  23:01           318,987 霍丽娟第一稿0407.docx\n",
    "              15 个文件      4,484,640 字节\n",
    "               6 个目录 82,965,917,696 可用字节\n",
    " 驱动器 C 中的卷是 Windows \n",
    " 卷的序列号是 788E-35E9\n",
    "\n",
    " C:\\Users\\shewe\\Desktop 的目录\n",
    "\n",
    "2020/04/30  07:28    <DIR>          .\n",
    "2020/04/30  07:28    <DIR>          ..\n",
    "2020/04/30  06:28    <DIR>          .ipynb_checkpoints\n",
    "2020/03/23  23:36           942,015 1.0能源区块链的发展现状：架构、应用与发展趋势.docx\n",
    "2020/04/03  14:24             1,310 70_毁伤仿真系统(孔德峰）.lnk\n",
    "2020/03/02  13:33               870 Start Tor Browser.lnk\n",
    "2020/03/02  13:33    <DIR>          Tor Browser\n",
    "2020/04/30  07:28             4,835 Untitled.ipynb\n",
    "2020/04/17  10:27             1,271 _2020年国家重点研发.lnk\n",
    "2020/04/17  00:07             1,277 _2020年郑州市重大专项.lnk\n",
    "2020/04/29  23:34    <DIR>          上课\n",
    "请输入您的消息：cd\n",
    "\n",
    "2020/02/14  11:07               256 坚果云.lnk\n",
    "2020/04/18  17:24    <DIR>          应用\n",
    "2020/04/29  17:17           129,124 微信图片_20200429171659.jpg\n",
    "2020/02/15  09:50             1,231 有道云笔记.lnk\n",
    "2020/04/23  12:15           730,092 涌现计算综述_李劲.pdf\n",
    "2020/02/10  14:24             1,226 疫情期间文件.lnk\n",
    "2020/02/07  13:11             1,060 百度网盘.lnk\n",
    "2020/04/01  10:49           177,422 路绪红_第二版 .docx\n",
    "2020/01/24  00:07         2,173,664 零样本学习研究进展.pdf\n",
    "2020/04/22  23:01           318,987 霍丽娟第一稿0407.docx\n",
    "              15 个文件      4,484,640 字节\n",
    "               6 个目录 82,965,848,064 可用字节\n",
    " 驱动器 C 中的卷是 Windows \n",
    " 卷的序列号是 788E-35E9\n",
    "\n",
    " C:\\Users\\shewe\\Desktop 的目录\n",
    "\n",
    "2020/04/30  07:28    <DIR>          .\n",
    "2020/04/30  07:28    <DIR>          ..\n",
    "2020/04/30  06:28    <DIR>          .ipynb_checkpoints\n",
    "2020/03/23  23:36           942,015 1.0能源区块链的发展现状：架构、应用与发展趋势.docx\n",
    "2020/04/03  14:24             1,310 70_毁伤仿真系统(孔德峰）.lnk\n",
    "202\n",
    "请输入您的消息：.\n",
    "0/03/02  13:33               870 Start Tor Browser.lnk\n",
    "2020/03/02  13:33    <DIR>          Tor Browser\n",
    "2020/04/30  07:28             4,835 Untitled.ipynb\n",
    "2020/04/17  10:27             1,271 _2020年国家重点研发.lnk\n",
    "2020/04/17  00:07             1,277 _2020年郑州市重大专项.lnk\n",
    "2020/04/29  23:34    <DIR>          上课\n",
    "2020/02/14  11:07               256 坚果云.lnk\n",
    "2020/04/18  17:24    <DIR>          应用\n",
    "2020/04/29  17:17           129,124 微信图片_20200429171659.jpg\n",
    "2020/02/15  09:50             1,231 有道云笔记.lnk\n",
    "2020/04/23  12:15           730,092 涌现计算综述_李劲.pdf\n",
    "2020/02/10  14:24             1,226 疫情期间文件.lnk\n",
    "2020/02/07  13:11             1,060 百度网盘.lnk\n",
    "2020/04/01  10:49           177,422 路绪红_第二版 .docx\n",
    "2020/01/24  00:07         2,173,664 零样本学习研究进展.pdf\n",
    "2020/04/22  23:01           318,987 霍丽娟第一稿0407.docx\n",
    "              15 个文件      4,484,640 字节\n",
    "               6 个目录 82,965,848,064 可用字节\n",
    "C:\\Users\\shewe\\Desktop\n",
    "\n",
    "请输入您的消息：.\n",
    "'.' 不是内部或外部命令，也不是可运行的程序\n",
    "或批处理文件。\n"
   ]
  },
  {
   "cell_type": "markdown",
   "metadata": {},
   "source": [
    "### 上面就发生了黏包的现象。注意：由于udp是面向报文等传输。所以udp永远不会出现黏包现象。"
   ]
  },
  {
   "cell_type": "markdown",
   "metadata": {},
   "source": [
    "### 2、黏包发生的原因"
   ]
  },
  {
   "cell_type": "markdown",
   "metadata": {},
   "source": [
    "当发送端缓冲区的长度大于网卡的MTU时，tcp会将这次发送的数据拆成几个数据包发送出去。 \n",
    "MTU是Maximum Transmission Unit的缩写。意思是网络上传送的最大数据包。MTU的单位是字节。 大部分网络设备的MTU都是1500。如果本机的MTU比网关的MTU大，大的数据包就会被拆开来传送，这样会产生很多数据包碎片，增加丢包率，降低网络速度。"
   ]
  },
  {
   "cell_type": "markdown",
   "metadata": {},
   "source": [
    "### 面向流的通信特点和Nagle算法：\n",
    "TCP（transport control protocol，传输控制协议）是面向连接的，面向流的，提供高可靠性服务。收发两端（客户端和服务器端）都要有一一成对的socket，因此，发送端为了将多个发往接收端的包，更有效的发到对方，使用了优化方法（Nagle算法），将多次间隔较小且数据量小的数据，合并成一个大的数据块，然后进行封包。这样，接收端，就难于分辨出来了，必须提供科学的拆包机制。 即面向流的通信是无消息保护边界的。 对于空消息：tcp是基于数据流的，于是收发的消息不能为空，这就需要在客户端和服务端都添加空消息的处理机制，防止程序卡住。\n",
    "而udp是基于数据报的，即便是你输入的是空内容（直接回车），也可以被发送，udp协议会帮你封装上消息头发送过去。 \n",
    "可靠黏包的tcp协议：tcp的协议数据不会丢，没有收完包，下次接收，会继续上次继续接收，己端总是在收到ack时才会清除缓冲区内容。数据是可靠的，但是会粘包。"
   ]
  },
  {
   "cell_type": "code",
   "execution_count": null,
   "metadata": {},
   "outputs": [],
   "source": []
  },
  {
   "cell_type": "markdown",
   "metadata": {},
   "source": [
    "# 黏包现象的解决方案"
   ]
  },
  {
   "cell_type": "markdown",
   "metadata": {},
   "source": [
    "### 方案一：黏包现象的本质在于，接收端不知道发送端将要传送的字节流的长度，所以解决粘包的方法就是围绕，如何让发送端在发送数据前，把自己将要发送的字节流总大小让接收端知晓，然后接收端来一个死循环接收完所有数据。"
   ]
  },
  {
   "cell_type": "markdown",
   "metadata": {},
   "source": [
    "![jupyter](./粘包解决方案.png)"
   ]
  },
  {
   "cell_type": "markdown",
   "metadata": {},
   "source": [
    "### server"
   ]
  },
  {
   "cell_type": "code",
   "execution_count": null,
   "metadata": {},
   "outputs": [],
   "source": [
    "import socket,subprocess\n",
    "ip_port=('127.0.0.1',8080)\n",
    "s=socket.socket(socket.AF_INET,socket.SOCK_STREAM)\n",
    "s.setsockopt(socket.SOL_SOCKET, socket.SO_REUSEADDR, 1)\n",
    "\n",
    "s.bind(ip_port)\n",
    "s.listen(5)\n",
    "\n",
    "while True:\n",
    "    conn,addr=s.accept()\n",
    "    print('客户端',addr)\n",
    "    while True:\n",
    "        msg=conn.recv(1024)\n",
    "        if not msg:break\n",
    "        res=subprocess.Popen(msg.decode('utf-8'),shell=True,\\\n",
    "                            stdin=subprocess.PIPE,\\\n",
    "                         stderr=subprocess.PIPE,\\\n",
    "                         stdout=subprocess.PIPE)\n",
    "        err=res.stderr.read()\n",
    "        if err:\n",
    "            ret=err\n",
    "        else:\n",
    "            ret=res.stdout.read()\n",
    "        data_length=len(ret)\n",
    "        conn.send(str(data_length).encode('utf-8'))\n",
    "        data=conn.recv(1024).decode('gbk')\n",
    "        if data == 'recv_ready':\n",
    "            conn.sendall(ret)\n",
    "    conn.close()"
   ]
  },
  {
   "cell_type": "markdown",
   "metadata": {},
   "source": [
    "### client"
   ]
  },
  {
   "cell_type": "code",
   "execution_count": null,
   "metadata": {},
   "outputs": [],
   "source": [
    "import socket\n",
    "\n",
    "s=socket.socket(socket.AF_INET,socket.SOCK_STREAM)\n",
    "res=s.connect_ex(('127.0.0.1',8080))\n",
    "\n",
    "while True:\n",
    "    msg=input('>>: ').strip()\n",
    "    if len(msg) == 0:continue\n",
    "    if msg == 'quit':break\n",
    "\n",
    "    s.send(msg.encode('utf-8'))\n",
    "    length=int(s.recv(1024).decode('utf-8'))\n",
    "    s.send('recv_ready'.encode('utf-8'))\n",
    "    send_size=0\n",
    "    recv_size=0\n",
    "    data=b''\n",
    "    while recv_size < length:\n",
    "        data+=s.recv(1024)\n",
    "        recv_size+=len(data)\n",
    "\n",
    "\n",
    "    print(data.decode('gbk'))\n",
    "s.close()"
   ]
  },
  {
   "cell_type": "markdown",
   "metadata": {},
   "source": [
    "### 方案一存在的问题：程序的运行速度远快于网络传输速度，所以在发送一段字节前，先用send去发送该字节流长度，这种方式会放大网络延迟带来的性能损耗。"
   ]
  },
  {
   "cell_type": "markdown",
   "metadata": {},
   "source": [
    "# 10.3.1  简单嗅探器实现\n"
   ]
  },
  {
   "cell_type": "markdown",
   "metadata": {},
   "source": [
    "### 例10-3  网络嗅探器程序。下面的代码运行60秒钟，然后输出本机所在局域网内非本机发出的数据包，并统计不同主机发出的数据包数量。\n"
   ]
  },
  {
   "cell_type": "markdown",
   "metadata": {},
   "source": [
    "### 嗅探器程序需要管理员权限。"
   ]
  },
  {
   "cell_type": "code",
   "execution_count": null,
   "metadata": {},
   "outputs": [],
   "source": [
    "import socket\n",
    "import threading\n",
    "import time\n",
    "\n",
    "activeDegree = dict()\n",
    "flag = 1\n",
    "\n",
    "def main():\n",
    "    global activeDegree\n",
    "    global flag\n",
    "    \n",
    "    HOST = socket.gethostbyname(socket.gethostname())\n",
    "    s = socket.socket(socket.AF_INET, socket.SOCK_RAW)\n",
    "    s.bind((HOST, 0))\n",
    "    s.ioctl(socket.SIO_RCVALL, socket.RCVALL_ON)   # 接收所有包\n",
    "\n",
    "    while flag:\n",
    "        data, addr = s.recvfrom(65565)             # 接收一个数据包\n",
    "        host = addr[0]\n",
    "        activeDegree[host] = activeDegree.get(host, 0) + 1\n",
    "        if addr[0] != '10.2.1.3':                  # 过滤指定IP地址的消息\n",
    "            print(data, addr)\n",
    "            \n",
    "    s.ioctl(socket.SIO_RCVALL, socket.RCVALL_OFF)  # 关闭混杂模式\n",
    "    s.close()\n",
    "    \n",
    "t = threading.Thread(target=main)\n",
    "t.start()\n",
    "time.sleep(60)\n",
    "flag = 0\n",
    "t.join()\n",
    "for item in activeDegree.items():\n",
    "    print(item)\n"
   ]
  },
  {
   "cell_type": "code",
   "execution_count": null,
   "metadata": {},
   "outputs": [],
   "source": []
  },
  {
   "cell_type": "markdown",
   "metadata": {},
   "source": [
    "### 10.3.2  多进程端口扫描器\n"
   ]
  },
  {
   "cell_type": "code",
   "execution_count": null,
   "metadata": {},
   "outputs": [],
   "source": [
    "import socket\n",
    "import multiprocessing\n",
    "import sys\n",
    "\n",
    "\n",
    "def ports(ports_service):\n",
    "    # 获取常用端口对应的服务名称\n",
    "    for port in list(range(1, 100)) + [143, 145, 113, 443, 445, 3389, 8080]:\n",
    "        try:\n",
    "            ports_service[port] = socket.getservbyport(port)\n",
    "        except socket.error:\n",
    "            pass\n",
    "\n",
    "\n",
    "def ports_scan(host, ports_service):\n",
    "    ports_open = []\n",
    "    try:\n",
    "        sock = socket.socket(socket.AF_INET, socket.SOCK_STREAM)\n",
    "    except socket.error:\n",
    "        print('socket creation error')\n",
    "        sys.exit()\n",
    "\n",
    "    for port in ports_service:\n",
    "        try:\n",
    "            sock.connect((host, port))  # 尝试连接指定端口\n",
    "            ports_open.append(port)  # 记录打开的端口\n",
    "            sock.close()\n",
    "        except socket.error:\n",
    "            pass\n",
    "\n",
    "    return ports_open\n",
    "\n",
    "\n",
    "if __name__ == '__main__':\n",
    "    # 要扫描的端口号\n",
    "    ports_service = dict()\n",
    "    ports(ports_service)\n",
    "\n",
    "    # 创建进程池，允许最多8个进程同时运行\n",
    "    pool = multiprocessing.Pool(processes=8)\n",
    "    net = '127.0.0.'\n",
    "    results = dict()\n",
    "    # 设置要扫描的主机IP地址范围\n",
    "    for host_number in map(str, range(1, 5)):\n",
    "        host = net + host_number\n",
    "        # 创建一个新进程，同时记录其运行结果\n",
    "        results[host] = pool.apply_async(ports_scan, (host, ports_service))\n",
    "        print('starting ' + host + '...')\n",
    "    # 关闭进程池，close()必须在join()之前调用\n",
    "    pool.close()\n",
    "    # 等待进程池中的进程全部执行结束\n",
    "    pool.join()\n",
    "\n",
    "    # 打印输出结果\n",
    "    for host in results:\n",
    "        print('=' * 30)\n",
    "        print(host, '.' * 10)\n",
    "        # result[host]的值是个结果对象，需要使用get()获取其中的数据\n",
    "        for port in results[host].get():\n",
    "            print(port, ':', ports_service[port])\n"
   ]
  },
  {
   "cell_type": "markdown",
   "metadata": {},
   "source": [
    "# 扩展与提高\n"
   ]
  },
  {
   "cell_type": "markdown",
   "metadata": {},
   "source": [
    "### 1.端口映射原理与实现\n"
   ]
  },
  {
   "cell_type": "markdown",
   "metadata": {},
   "source": [
    "### sockMiddle.py"
   ]
  },
  {
   "cell_type": "code",
   "execution_count": null,
   "metadata": {},
   "outputs": [],
   "source": [
    "import sys\n",
    "import socket\n",
    "import threading\n",
    "\n",
    "def middle(conn, addr):\n",
    "    '''conn是面向客户端的连接,addr是客户端地址'''\n",
    "    # 面向服务器的Socket\n",
    "    sockDst = socket.socket(socket.AF_INET, socket.SOCK_STREAM)\n",
    "    try:\n",
    "        sockDst.connect((ipServer, portServer))\n",
    "    except:\n",
    "        print('Server not started.')\n",
    "        sys.exit()\n",
    "    \n",
    "    while True:\n",
    "        data = conn.recv(1024).decode()\n",
    "        print('收到客户端消息：'+data)\n",
    "        if data == '不要发给服务器':\n",
    "            conn.send('该消息已被代理服务器过滤'.encode())\n",
    "            print('该消息已过滤')\n",
    "        elif data.lower() == 'bye':\n",
    "            print(str(addr)+'客户端关闭连接')\n",
    "            break\n",
    "        else:\n",
    "            sockDst.send(data.encode())\n",
    "            print('已转发服务器')\n",
    "            data_fromServer = sockDst.recv(1024).decode()\n",
    "            print('收到服务器回复的消息：'+data_fromServer)\n",
    "            if data_fromServer == '不要发给客户端':\n",
    "                conn.send('该消息已被代理服务器修改'.encode())\n",
    "                print('消息已被篡改')\n",
    "            else:\n",
    "                conn.send(b'Server reply:'+data_fromServer.encode())\n",
    "                print('已转发服务器消息给客户端')\n",
    "        \n",
    "    conn.close()\n",
    "    sockDst.close()\n",
    "\n",
    "def main():\n",
    "    sockScr = socket.socket(socket.AF_INET, socket.SOCK_STREAM)\n",
    "    sockScr.bind(('', portScr))\n",
    "    sockScr.listen(200)\n",
    "    print('代理已启动')\n",
    "    \n",
    "    while True:\n",
    "        try:\n",
    "            conn, addr = sockScr.accept()\n",
    "            t = threading.Thread(target=middle, args=(conn, addr))\n",
    "            t.start()\n",
    "            print('新客户：'+str(addr))\n",
    "        except:\n",
    "            pass\n",
    "        \n",
    "if __name__ == '__main__':\n",
    "    try:\n",
    "        # (本机IP地址,portScr)<==>(ipServer,portServer)\n",
    "        # 代理服务器监听端口\n",
    "        portScr = int(sys.argv[1])\n",
    "        # 服务器IP地址与端口号\n",
    "        ipServer = sys.argv[2]\n",
    "        portServer = int(sys.argv[3])\n",
    "        main()\n",
    "    except:\n",
    "        print('Sth error')\n"
   ]
  },
  {
   "cell_type": "markdown",
   "metadata": {},
   "source": [
    "### sockMiddle_client.py"
   ]
  },
  {
   "cell_type": "code",
   "execution_count": null,
   "metadata": {},
   "outputs": [],
   "source": [
    "import sys\n",
    "import socket\n",
    "\n",
    "def main():\n",
    "    sock = socket.socket(socket.AF_INET, socket.SOCK_STREAM)\n",
    "    sock.connect((ip, port))\n",
    "    \n",
    "    while True:\n",
    "        data = input('What do you want to ask:')\n",
    "        sock.send(data.encode())\n",
    "        print(sock.recv(1024).decode())\n",
    "        if data.lower() == 'bye':\n",
    "            break\n",
    "    sock.close()\n",
    "\n",
    "if __name__ == '__main__':\n",
    "    try:\n",
    "        #代理服务器的IP地址和端口号\n",
    "        ip = sys.argv[1]\n",
    "        port = int(sys.argv[2])\n",
    "        main()\n",
    "    except:\n",
    "        print('Sth error')\n"
   ]
  },
  {
   "cell_type": "markdown",
   "metadata": {},
   "source": [
    "### sockMiddle_server.py"
   ]
  },
  {
   "cell_type": "code",
   "execution_count": null,
   "metadata": {},
   "outputs": [],
   "source": [
    "import sys\n",
    "import socket\n",
    "import threading\n",
    "\n",
    "# 回复消息，原样返回\n",
    "def replyMessage(conn):\n",
    "    while True:\n",
    "        data = conn.recv(1024)\n",
    "        conn.send(data)\n",
    "        if data.decode().lower() == 'bye':\n",
    "            break\n",
    "    conn.close()\n",
    "\n",
    "def main():\n",
    "    sockScr = socket.socket(socket.AF_INET, socket.SOCK_STREAM)\n",
    "    sockScr.bind(('', port))\n",
    "    sockScr.listen(200)\n",
    "    \n",
    "    while True:\n",
    "        try:\n",
    "            conn, addr = sockScr.accept()\n",
    "            # 只允许特定主机访问本服务器\n",
    "            if addr[0] != onlyYou:\n",
    "                conn.close()\n",
    "                continue\n",
    "            # 创建并启动线程\n",
    "            t = threading.Thread(target=replyMessage, args=(conn,))\n",
    "            t.start()        \n",
    "        except:\n",
    "            print('error')\n",
    "\n",
    "if __name__ == '__main__':\n",
    "    try:\n",
    "        # 获取命令行参数，服务端口和代理服务器IP地址\n",
    "        port = int(sys.argv[1])\n",
    "        onlyYou = sys.argv[2]\n",
    "        print('Server started...')\n",
    "        main()\n",
    "    except:\n",
    "        print('Must give me a number as port, and an agent IP address')\n",
    "        \n"
   ]
  },
  {
   "cell_type": "markdown",
   "metadata": {},
   "source": [
    "# FTP通信原理与实现\n"
   ]
  },
  {
   "cell_type": "markdown",
   "metadata": {},
   "source": [
    "### ftpServer.py"
   ]
  },
  {
   "cell_type": "code",
   "execution_count": null,
   "metadata": {},
   "outputs": [],
   "source": [
    "import socket\n",
    "import threading\n",
    "import os\n",
    "import struct\n",
    "\n",
    "# 用户账号、密码、主目录\n",
    "# 也可以把这些信息存放到数据库中\n",
    "users = {'zhangsan':{'pwd':'zhangsan1234',\n",
    "                     'home':r'c:\\python 3.5'},\n",
    "         'lisi':{'pwd':'lisi567',\n",
    "                 'home':'c:\\\\'}}\n",
    "\n",
    "def server(conn, addr, home):\n",
    "    print('新客户端：'+str(addr))\n",
    "    \n",
    "    # 进入当前用户主目录\n",
    "    os.chdir(home)\n",
    "    \n",
    "    while True:\n",
    "        data = conn.recv(100).decode().lower()\n",
    "        # 显示客户端输入的每一条命令\n",
    "        print(data)\n",
    "        \n",
    "        # 客户端退出\n",
    "        if data in ('quit', 'q'):\n",
    "            break\n",
    "        \n",
    "        # 查看当前文件夹的文件列表\n",
    "        elif data in ('list', 'ls', 'dir'):\n",
    "            files = str(os.listdir(os.getcwd()))\n",
    "            files = files.encode()\n",
    "            conn.send(struct.pack('I', len(files)))\n",
    "            conn.send(files)\n",
    "            \n",
    "        # 切换至上一级目录\n",
    "        elif ''.join(data.split()) == 'cd..':\n",
    "            cwd = os.getcwd()\n",
    "            newCwd = cwd[:cwd.rindex('\\\\')]\n",
    "            # 考虑根目录的情况\n",
    "            if newCwd[-1] == ':':\n",
    "                newCwd += '\\\\'\n",
    "            # 限定用户主目录\n",
    "            if newCwd.lower().startswith(home):\n",
    "                os.chdir(newCwd)\n",
    "                conn.send(b'ok')\n",
    "            else:\n",
    "                conn.send(b'error')\n",
    "                \n",
    "        # 查看当前目录\n",
    "        elif data in ('cwd', 'cd'):\n",
    "            conn.send(str(os.getcwd()).encode())\n",
    "            \n",
    "        elif data.startswith('cd '):\n",
    "            # 指定最大分隔次数，考虑目标文件夹带有空格的情况\n",
    "            # 只允许使用相对路径进行跳转\n",
    "            data = data.split(maxsplit=1)\n",
    "            if len(data) == 2 and  os.path.isdir(data[1]) \\\n",
    "               and data[1] != os.path.abspath(data[1]):\n",
    "                os.chdir(data[1])\n",
    "                conn.send(b'ok')\n",
    "            else:\n",
    "                conn.send(b'error')\n",
    "                \n",
    "        # 下载文件\n",
    "        elif data.startswith('get '):\n",
    "            data = data.split(maxsplit=1)\n",
    "            # 检查文件是否存在\n",
    "            if len(data) == 2 and os.path.isfile(data[1]):\n",
    "                # 确认文件存在\n",
    "                conn.send(b'ok')\n",
    "                # 读取文件内容\n",
    "                with open(data[1], 'rb') as fp:\n",
    "                    content = fp.read()\n",
    "                # 先发送文件字节总数量，然后再发送数据\n",
    "                conn.send(struct.pack('I', len(content)))\n",
    "                conn.send(content)\n",
    "            else:\n",
    "                conn.send(b'no')\n",
    "        #无效命令\n",
    "        else:\n",
    "            pass\n",
    "            \n",
    "    conn.close()\n",
    "    print(str(addr)+'关闭连接')\n",
    "\n",
    "#创建Socket，监听本地端口，等待客户端连接\n",
    "sock = socket.socket(socket.AF_INET, socket.SOCK_STREAM)\n",
    "sock.bind(('', 10800))\n",
    "sock.listen(5)\n",
    "print('Server started....')\n",
    "\n",
    "while True:\n",
    "    conn, addr = sock.accept()\n",
    "    #验证客户端输入的用户名和密码是否正确\n",
    "    userId, userPwd = conn.recv(1024).decode().split(',')\n",
    "    if userId in users and users[userId]['pwd'] == userPwd:\n",
    "        conn.send(b'ok')\n",
    "        #为每个客户端连接创建并启动一个线程，参数为连接、客户端地址、客户主目录\n",
    "        home = users[userId]['home']\n",
    "        t = threading.Thread(target=server, args=(conn,addr,home))\n",
    "        t.daemon = True\n",
    "        t.start()\n",
    "    else:\n",
    "        conn.send(b'error')\n"
   ]
  },
  {
   "cell_type": "markdown",
   "metadata": {},
   "source": [
    "### ftpClient.py"
   ]
  },
  {
   "cell_type": "code",
   "execution_count": null,
   "metadata": {},
   "outputs": [],
   "source": [
    "import socket\n",
    "import sys\n",
    "import re\n",
    "import struct\n",
    "import getpass\n",
    "\n",
    "\n",
    "def main(serverIP):\n",
    "    sock = socket.socket(socket.AF_INET, socket.SOCK_STREAM)\n",
    "    sock.connect((serverIP, 10800))\n",
    "\n",
    "    userId = input('请输入用户名：')\n",
    "    # 使用getpass模块的getpass()方法获取密码，不回显\n",
    "    userPwd = getpass.getpass('请输入密码：')\n",
    "    message = userId + ',' + userPwd\n",
    "    sock.send(message.encode())\n",
    "    login = sock.recv(100)\n",
    "    # 验证是否登录成功\n",
    "    if login == b'error':\n",
    "        print('用户名或密码错误')\n",
    "        return\n",
    "\n",
    "    # 整数编码大小\n",
    "    intSize = struct.calcsize('I')\n",
    "\n",
    "    while True:\n",
    "        # 接收客户端命令，其中##>是提示符\n",
    "        command = input('##> ').lower().strip()\n",
    "        # 没有输入任何有效字符，提前进入下一次循环，等待用户继续输入\n",
    "        if not command:\n",
    "            continue\n",
    "\n",
    "        # 向服务端发送命令\n",
    "        command = ' '.join(command.split())\n",
    "        sock.send(command.encode())\n",
    "\n",
    "        # 退出\n",
    "        if command in ('quit', 'q'):\n",
    "            break\n",
    "\n",
    "        # 查看文件列表\n",
    "        elif command in ('list', 'ls', 'dir'):\n",
    "            loc_size = struct.unpack('I', sock.recv(intSize))[0]\n",
    "            files = eval(sock.recv(loc_size).decode())\n",
    "            for item in files:\n",
    "                print(item)\n",
    "\n",
    "        # 切换至上一级目录\n",
    "        elif ''.join(command.split()) == 'cd..':\n",
    "            print(sock.recv(100).decode())\n",
    "\n",
    "        # 查看当前工作目录\n",
    "        elif command in ('cwd', 'cd'):\n",
    "            print(sock.recv(1024).decode())\n",
    "\n",
    "        # 切换至指定文件夹\n",
    "        elif command.startswith('cd '):\n",
    "            print(sock.recv(100).decode())\n",
    "\n",
    "        # 从服务器下载文件\n",
    "        elif command.startswith('get '):\n",
    "            isFileExist = sock.recv(2)\n",
    "            # 文件不存在\n",
    "            if isFileExist != b'ok':\n",
    "                print('error')\n",
    "\n",
    "            # 文件存在，开始下载\n",
    "            else:\n",
    "                print('downloading.', end='')\n",
    "                size = struct.unpack('I', sock.recv(intSize))[0]\n",
    "                data = b''\n",
    "                while True:\n",
    "                    if size == 0:\n",
    "                        break\n",
    "                    elif size > 4096:\n",
    "                        temp = sock.recv(4096)\n",
    "                        data += temp\n",
    "                        size -= len(temp)\n",
    "                    else:\n",
    "                        temp = sock.recv(size)\n",
    "                        data += temp\n",
    "                        size -= len(temp)\n",
    "\n",
    "                with open(command.split()[1], 'wb') as fp:\n",
    "                    fp.write(data)\n",
    "                print('ok')\n",
    "\n",
    "        # 无效命令\n",
    "        else:\n",
    "            print('无效命令')\n",
    "    sock.close()\n",
    "\n",
    "\n",
    "if __name__ == '__main__':\n",
    "    if len(sys.argv) != 2:\n",
    "        print('Usage:{0} serverIPAddress'.format(sys.argv[0]))\n",
    "        exit()\n",
    "\n",
    "    serverIP = \"127.0.0.1\" # sys.argv[1]\n",
    "    if re.match(r'^\\d{1,3}.\\d{1,3}.\\d{1,3}.\\d{1,3}$', serverIP):\n",
    "        main(serverIP)\n",
    "    else:\n",
    "        print('服务器地址不合法')\n",
    "        exit()\n"
   ]
  },
  {
   "cell_type": "markdown",
   "metadata": {},
   "source": [
    "# SQLite代理原理与实现\n"
   ]
  },
  {
   "cell_type": "markdown",
   "metadata": {},
   "source": [
    "### sqliteServer.py"
   ]
  },
  {
   "cell_type": "code",
   "execution_count": null,
   "metadata": {},
   "outputs": [],
   "source": [
    "##\n",
    "# 服务器程序，接收代理服务器转发来的SQL指令，并返回结果\n",
    "##\n",
    "\n",
    "import sqlite3\n",
    "import socket\n",
    "import struct\n",
    "\n",
    "\n",
    "def getData(sql):\n",
    "    '''通过给定的SQL SELECT语句返回结果'''\n",
    "    with sqlite3.connect(r'database.db') as conn:\n",
    "        cur = conn.cursor()\n",
    "        cur.execute(sql)\n",
    "        result = cur.fetchall()\n",
    "    return result\n",
    "\n",
    "\n",
    "def doSql(sql):\n",
    "    '''适用于DELETE/UPDATE/INSERT INTO语句，返回影响的记录条数'''\n",
    "    with sqlite3.connect(r'database.db') as conn:\n",
    "        cur = conn.cursor()\n",
    "        result = cur.execute(sql)\n",
    "    return result.rowcount\n",
    "\n",
    "\n",
    "# 创建socket对象，默认使用IPV4+TCP\n",
    "sockServer = socket.socket()\n",
    "sockServer.bind(('', 3030))\n",
    "sockServer.listen(1)\n",
    "\n",
    "print('Server Started.....')\n",
    "while True:\n",
    "    # 接收客户端连接\n",
    "    try:\n",
    "        conn, addr = sockServer.accept()\n",
    "    except:\n",
    "        continue\n",
    "\n",
    "    sql = conn.recv(1024).decode('gbk').lower()\n",
    "\n",
    "    if sql.startswith(('update', 'delete', 'insert')):\n",
    "        try:\n",
    "            # 首先发送要发送的字节总数量\n",
    "            # 然后再发送真实数据\n",
    "            result = str(doSql(sql)).encode('gbk')\n",
    "            conn.send(struct.pack('i', len(result)))\n",
    "            conn.send(result)\n",
    "        except:\n",
    "            message = b'error'\n",
    "            conn.send(struct.pack('i', len(message)))\n",
    "            conn.send(message)\n",
    "    elif sql.startswith('select'):\n",
    "        try:\n",
    "            result = str(getData(sql)).encode('gbk')\n",
    "            conn.send(struct.pack('i', len(result)))\n",
    "            conn.send(result)\n",
    "        except:\n",
    "            message = b'error'\n",
    "            conn.send(struct.pack('i', len(message)))\n",
    "            conn.send(message)\n"
   ]
  },
  {
   "cell_type": "markdown",
   "metadata": {},
   "source": [
    "### sqliteAgent.py"
   ]
  },
  {
   "cell_type": "code",
   "execution_count": null,
   "metadata": {},
   "outputs": [],
   "source": [
    "##\n",
    "# 代理服务器，在SQLite数据库服务器和客户端之间进行指令和数据的转发\n",
    "# 这样可以把数据库和程序放到两个服务器上进行分离\n",
    "##\n",
    "\n",
    "import socket\n",
    "from threading import Thread\n",
    "import struct\n",
    "\n",
    "sockServer = socket.socket()\n",
    "sockServer.bind(('',5050))\n",
    "sockServer.listen(50)\n",
    "\n",
    "def agent(conn):\n",
    "    # 接收客户端发来的指令，并进行过滤\n",
    "    sql = conn.recv(1024)\n",
    "    if not sql.decode('gbk').startswith(('select', 'delete', 'insert','update')):\n",
    "        message = b'not a sql statement'\n",
    "        conn.send(struct.pack('i', len(message)))\n",
    "        conn.send(message)\n",
    "        return\n",
    "    else:\n",
    "        sockClient = socket.socket()\n",
    "        # 尝试连接服务器\n",
    "        try:\n",
    "            sockClient.connect(('10.2.1.3', 3030))\n",
    "        except:\n",
    "            message = b'Server not alive'\n",
    "            conn.send(struct.pack('i', len(message)))\n",
    "            conn.send(message)\n",
    "            return\n",
    "            \n",
    "        # 向服务程序转发SQL语句\n",
    "        sockClient.send(sql)\n",
    "\n",
    "        # 数据量大小，使用sturct序列化一个整数需要4个字节\n",
    "        size = sockClient.recv(4)\n",
    "        conn.send(size)\n",
    "\n",
    "        size = struct.unpack('i', size)[0]\n",
    "        while True:\n",
    "            if size == 0:\n",
    "                break\n",
    "            elif size > 4096:\n",
    "                # 注意，虽然设置缓冲区大小为4096，\n",
    "                # 并且待接收的数据也大于4096，\n",
    "                # 但仍不能保证本次一定能接收4096字节的数据\n",
    "                data = sockClient.recv(4096)\n",
    "                conn.send(data)\n",
    "                size -= len(data)\n",
    "            else:\n",
    "                data = sockClient.recv(size)\n",
    "                conn.send(data)\n",
    "                size -= len(data)\n",
    "        sockClient.close()\n",
    "    conn.close()\n",
    "\n",
    "print('Agent started......')\n",
    "while True:\n",
    "    conn, _ = sockServer.accept()\n",
    "    Thread(target=agent, args=(conn,)).start()\n",
    "    \n"
   ]
  },
  {
   "cell_type": "markdown",
   "metadata": {},
   "source": [
    "### sqliteClient.py\n"
   ]
  },
  {
   "cell_type": "code",
   "execution_count": null,
   "metadata": {},
   "outputs": [],
   "source": [
    "##\n",
    "# 模拟客户端，向SQLite代理服务器发送指令并接收数据\n",
    "##\n",
    "\n",
    "import sqlite3\n",
    "import socket\n",
    "import struct\n",
    "\n",
    "while True:\n",
    "    sql = input('输入一个要执行的SQL语句：\\n')\n",
    "    # 没有输入，进入下一次循环\n",
    "    if sql.strip() == '':\n",
    "        continue\n",
    "    \n",
    "    # 输入exit或quit，退出客户端\n",
    "    if sql in ('exit', 'quit'):\n",
    "        break\n",
    "\n",
    "    # 建立socket，尝试连接\n",
    "    sockClient = socket.socket()\n",
    "    try:\n",
    "        sockClient.connect(('10.2.1.3', 5050))        \n",
    "    except:\n",
    "        print('代理服务器异常，请检查')\n",
    "    else:\n",
    "        # 发送远程SQL语句\n",
    "        sockClient.send(sql.encode('gbk'))\n",
    "        size = sockClient.recv(4)\n",
    "        size = struct.unpack('i', size)[0]\n",
    "        \n",
    "        data = b''\n",
    "        while True:\n",
    "            if size == 0:\n",
    "                break\n",
    "            elif size > 4096:\n",
    "                # 注意断包和粘包\n",
    "                # 虽然设置了4096，但是不一定能够接收4096字节，即使缓冲区的数据远大于4096\n",
    "                t = sockClient.recv(4096)\n",
    "                data += t\n",
    "                size -= len(t)\n",
    "            else:\n",
    "                t = sockClient.recv(size)\n",
    "                data += t\n",
    "                size -= len(t)\n",
    "        data = data.decode('gbk')\n",
    "        try:\n",
    "            data = eval(data)\n",
    "        except:\n",
    "            pass\n",
    "        sockClient.close()\n",
    "        print(data)\n"
   ]
  },
  {
   "cell_type": "markdown",
   "metadata": {},
   "source": [
    "# 10.4.1 网页内容读取与域名分析\n"
   ]
  },
  {
   "cell_type": "markdown",
   "metadata": {},
   "source": [
    "### 10.4.1 网页内容读取与域名分析\n"
   ]
  },
  {
   "cell_type": "code",
   "execution_count": null,
   "metadata": {},
   "outputs": [],
   "source": [
    "import urllib.request \n",
    "fp = urllib.request.urlopen(r'https://news.sina.com.cn/c/xl/2020-04-29/doc-iirczymi9087377.shtml')\n",
    "# print(fp.read(10000))\n",
    "print(fp.read(10000).decode())\n",
    "fp.close()\n"
   ]
  },
  {
   "cell_type": "markdown",
   "metadata": {},
   "source": [
    "### 使用GET方法提交参数并访问页面（Python 3.x）"
   ]
  },
  {
   "cell_type": "code",
   "execution_count": null,
   "metadata": {},
   "outputs": [],
   "source": [
    ">>> import urllib.request\n",
    ">>> import urllib.parse\n",
    ">>> params = urllib.parse.urlencode({'spam': 1, 'eggs': 2, 'bacon': 0})\n",
    ">>> url = \"http://www.musi-cal.com/cgi-bin/query?%s\" % params\n",
    ">>> with urllib.request.urlopen(url) as f:\n",
    "        print(f.read().decode('utf-8'))\n"
   ]
  },
  {
   "cell_type": "markdown",
   "metadata": {},
   "source": [
    "### 使用POST方法提交参数并访问页面（Python 3.x）"
   ]
  },
  {
   "cell_type": "code",
   "execution_count": null,
   "metadata": {},
   "outputs": [],
   "source": [
    ">>> import urllib.request\n",
    ">>> import urllib.parse\n",
    ">>> data = urllib.parse.urlencode({'spam': 1, 'eggs': 2, 'bacon': 0})\n",
    ">>> data = data.encode('ascii')\n",
    ">>> with urllib.request.urlopen(\"http://requestb.in/xrbl82xr\", data) as f:\n",
    "       print(f.read().decode('utf-8'))\n"
   ]
  },
  {
   "cell_type": "markdown",
   "metadata": {},
   "source": [
    "### 使用HTTP代理访问指定网页（Python 3.x）"
   ]
  },
  {
   "cell_type": "code",
   "execution_count": null,
   "metadata": {},
   "outputs": [],
   "source": [
    ">>> import urllib.request\n",
    ">>> proxies = {'http': 'http://proxy.example.com:8080/'}\n",
    ">>> opener = urllib.request.FancyURLopener(proxies)\n",
    ">>> with opener.open(\"http://www.python.org\") as f:\n",
    "    f.read().decode('utf-8')\n"
   ]
  },
  {
   "cell_type": "markdown",
   "metadata": {},
   "source": [
    "### 在Python程序中使用下面的代码调用浏览器打开指定网页"
   ]
  },
  {
   "cell_type": "code",
   "execution_count": null,
   "metadata": {},
   "outputs": [],
   "source": [
    "import webbrowser\n",
    "webbrowser.open('http://www.163.com')\n"
   ]
  },
  {
   "cell_type": "code",
   "execution_count": null,
   "metadata": {},
   "outputs": [],
   "source": []
  }
 ],
 "metadata": {
  "kernelspec": {
   "display_name": "Python 3",
   "language": "python",
   "name": "python3"
  },
  "language_info": {
   "codemirror_mode": {
    "name": "ipython",
    "version": 3
   },
   "file_extension": ".py",
   "mimetype": "text/x-python",
   "name": "python",
   "nbconvert_exporter": "python",
   "pygments_lexer": "ipython3",
   "version": "3.7.2"
  }
 },
 "nbformat": 4,
 "nbformat_minor": 4
}
