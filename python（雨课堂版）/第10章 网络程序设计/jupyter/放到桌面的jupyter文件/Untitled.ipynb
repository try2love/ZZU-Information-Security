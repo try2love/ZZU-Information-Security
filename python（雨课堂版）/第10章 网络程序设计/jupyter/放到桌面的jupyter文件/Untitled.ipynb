{
 "cells": [
  {
   "cell_type": "code",
   "execution_count": 1,
   "metadata": {},
   "outputs": [
    {
     "name": "stdout",
     "output_type": "stream",
     "text": [
      "hello client! ('127.0.0.1', 9999)\n"
     ]
    }
   ],
   "source": [
    "import socket\n",
    "ip_port=('127.0.0.1',9999)\n",
    "udp_sk=socket.socket(type=socket.SOCK_DGRAM)\n",
    "udp_sk.sendto(b'hello server!',ip_port)\n",
    "back_msg,addr=udp_sk.recvfrom(1024)\n",
    "print(back_msg.decode('utf-8'),addr)"
   ]
  },
  {
   "cell_type": "code",
   "execution_count": null,
   "metadata": {},
   "outputs": [],
   "source": []
  },
  {
   "cell_type": "code",
   "execution_count": 1,
   "metadata": {},
   "outputs": [
    {
     "name": "stdout",
     "output_type": "stream",
     "text": [
      "请选择聊天对象: 周曾吕\n",
      "请输入消息,回车发送,输入q结束和他的聊天: rts\n",
      "('127.0.0.1', 8081)\n",
      "来自[127.0.0.1:8081]的一条消息:\u001b[1;41ms\u001b[0m\n",
      "请输入消息,回车发送,输入q结束和他的聊天: rstyy\n"
     ]
    },
    {
     "ename": "ConnectionResetError",
     "evalue": "[WinError 10054] 远程主机强迫关闭了一个现有的连接。",
     "output_type": "error",
     "traceback": [
      "\u001b[1;31m---------------------------------------------------------------------------\u001b[0m",
      "\u001b[1;31mConnectionResetError\u001b[0m                      Traceback (most recent call last)",
      "\u001b[1;32m<ipython-input-1-6dc94a4673a9>\u001b[0m in \u001b[0;36m<module>\u001b[1;34m\u001b[0m\n\u001b[0;32m     19\u001b[0m         \u001b[0mu_sk\u001b[0m\u001b[1;33m.\u001b[0m\u001b[0msendto\u001b[0m\u001b[1;33m(\u001b[0m\u001b[0mmsg\u001b[0m\u001b[1;33m.\u001b[0m\u001b[0mencode\u001b[0m\u001b[1;33m(\u001b[0m\u001b[1;34m'utf-8'\u001b[0m\u001b[1;33m)\u001b[0m\u001b[1;33m,\u001b[0m\u001b[0mqq_name_dic\u001b[0m\u001b[1;33m[\u001b[0m\u001b[0mqq_name\u001b[0m\u001b[1;33m]\u001b[0m\u001b[1;33m)\u001b[0m\u001b[1;33m\u001b[0m\u001b[1;33m\u001b[0m\u001b[0m\n\u001b[0;32m     20\u001b[0m \u001b[1;33m\u001b[0m\u001b[0m\n\u001b[1;32m---> 21\u001b[1;33m         \u001b[0mback_msg\u001b[0m\u001b[1;33m,\u001b[0m\u001b[0maddr\u001b[0m\u001b[1;33m=\u001b[0m\u001b[0mu_sk\u001b[0m\u001b[1;33m.\u001b[0m\u001b[0mrecvfrom\u001b[0m\u001b[1;33m(\u001b[0m\u001b[0mbufsize\u001b[0m\u001b[1;33m)\u001b[0m\u001b[1;33m\u001b[0m\u001b[1;33m\u001b[0m\u001b[0m\n\u001b[0m\u001b[0;32m     22\u001b[0m         \u001b[0mprint\u001b[0m\u001b[1;33m(\u001b[0m\u001b[0maddr\u001b[0m\u001b[1;33m)\u001b[0m\u001b[1;33m\u001b[0m\u001b[1;33m\u001b[0m\u001b[0m\n\u001b[0;32m     23\u001b[0m         \u001b[0mprint\u001b[0m\u001b[1;33m(\u001b[0m\u001b[1;34m'来自[%s:%s]的一条消息:\\033[1;41m%s\\033[0m'\u001b[0m \u001b[1;33m%\u001b[0m\u001b[1;33m(\u001b[0m\u001b[0maddr\u001b[0m\u001b[1;33m[\u001b[0m\u001b[1;36m0\u001b[0m\u001b[1;33m]\u001b[0m\u001b[1;33m,\u001b[0m\u001b[0maddr\u001b[0m\u001b[1;33m[\u001b[0m\u001b[1;36m1\u001b[0m\u001b[1;33m]\u001b[0m\u001b[1;33m,\u001b[0m\u001b[0mback_msg\u001b[0m\u001b[1;33m.\u001b[0m\u001b[0mdecode\u001b[0m\u001b[1;33m(\u001b[0m\u001b[1;34m'utf-8'\u001b[0m\u001b[1;33m)\u001b[0m\u001b[1;33m)\u001b[0m\u001b[1;33m)\u001b[0m\u001b[1;33m\u001b[0m\u001b[1;33m\u001b[0m\u001b[0m\n",
      "\u001b[1;31mConnectionResetError\u001b[0m: [WinError 10054] 远程主机强迫关闭了一个现有的连接。"
     ]
    }
   ],
   "source": [
    "import socket\n",
    "bufsize = 1024\n",
    "u_sk=socket.socket(socket.AF_INET,socket.SOCK_DGRAM)\n",
    "\n",
    "qq_name_dic={\n",
    "    '罗盛运':('127.0.0.1',8081),\n",
    "    '罗德华':('127.0.0.1',8081),\n",
    "    '刘永贵':('127.0.0.1',8081),\n",
    "    '周曾吕':('127.0.0.1',8081),\n",
    "}\n",
    "\n",
    "\n",
    "while True:\n",
    "    qq_name=input('请选择聊天对象: ').strip()\n",
    "    while True:\n",
    "        msg=input('请输入消息,回车发送,输入q结束和他的聊天: ').strip()\n",
    "        if msg == 'q':break\n",
    "        if not msg or not qq_name or qq_name not in qq_name_dic:continue\n",
    "        u_sk.sendto(msg.encode('utf-8'),qq_name_dic[qq_name])\n",
    "\n",
    "        back_msg,addr=u_sk.recvfrom(bufsize)\n",
    "        print(addr)\n",
    "        print('来自[%s:%s]的一条消息:\\033[1;41m%s\\033[0m' %(addr[0],addr[1],back_msg.decode('utf-8')))\n",
    "\n",
    "u_sk.close()"
   ]
  },
  {
   "cell_type": "code",
   "execution_count": null,
   "metadata": {},
   "outputs": [
    {
     "name": "stdout",
     "output_type": "stream",
     "text": [
      "请输入时间格式(例%Y %m %d)>>: %Y %m %d\n",
      "b'2020 04 30'\n",
      "请输入时间格式(例%Y %m %d)>>: %m %d %Y\n",
      "b'04 30 2020'\n",
      "请输入时间格式(例%Y %m %d)>>: \n",
      "b'2020-04-30 09:27:59'\n"
     ]
    }
   ],
   "source": [
    "from socket import *\n",
    "ip_port=('127.0.0.1',9888)\n",
    "bufsize=1024\n",
    "\n",
    "tcp_client=socket(AF_INET,SOCK_DGRAM)\n",
    "\n",
    "while True:\n",
    "    msg=input('请输入时间格式(例%Y %m %d)>>: ').strip()\n",
    "    tcp_client.sendto(msg.encode('utf-8'),ip_port)\n",
    "\n",
    "    data=tcp_client.recv(bufsize)\n",
    "    print(data)"
   ]
  },
  {
   "cell_type": "code",
   "execution_count": 1,
   "metadata": {},
   "outputs": [
    {
     "name": "stdout",
     "output_type": "stream",
     "text": [
      "b'hello client!'\n"
     ]
    }
   ],
   "source": [
    "import socket\n",
    "sk = socket.socket()                   # 创建客户套接字\n",
    "sk.connect(('127.0.0.1',9999))    # 尝试连接服务器\n",
    "sk.send(b'hello server!')\n",
    "ret = sk.recv(1024)                    # 对话(发送/接收)\n",
    "print(ret)\n",
    "sk.close()                                   # 关闭客户套接字"
   ]
  },
  {
   "cell_type": "code",
   "execution_count": 2,
   "metadata": {},
   "outputs": [
    {
     "name": "stderr",
     "output_type": "stream",
     "text": [
      "ERROR:root:Internal Python error in the inspect module.\n",
      "Below is the traceback from this internal error.\n",
      "\n"
     ]
    },
    {
     "name": "stdout",
     "output_type": "stream",
     "text": [
      "Server not found or not open\n",
      "Traceback (most recent call last):\n",
      "  File \"<ipython-input-2-776d1747b91b>\", line 10, in <module>\n",
      "    s.connect((HOST, PORT))\n",
      "ConnectionRefusedError: [WinError 10061] 由于目标计算机积极拒绝，无法连接。\n",
      "\n",
      "During handling of the above exception, another exception occurred:\n",
      "\n",
      "Traceback (most recent call last):\n",
      "  File \"c:\\python37\\lib\\site-packages\\IPython\\core\\interactiveshell.py\", line 3331, in run_code\n",
      "    exec(code_obj, self.user_global_ns, self.user_ns)\n",
      "  File \"<ipython-input-2-776d1747b91b>\", line 13, in <module>\n",
      "    sys.exit()\n",
      "SystemExit\n",
      "\n",
      "During handling of the above exception, another exception occurred:\n",
      "\n",
      "Traceback (most recent call last):\n",
      "  File \"c:\\python37\\lib\\site-packages\\IPython\\core\\ultratb.py\", line 1151, in get_records\n",
      "    return _fixed_getinnerframes(etb, number_of_lines_of_context, tb_offset)\n",
      "  File \"c:\\python37\\lib\\site-packages\\IPython\\core\\ultratb.py\", line 319, in wrapped\n",
      "    return f(*args, **kwargs)\n",
      "  File \"c:\\python37\\lib\\site-packages\\IPython\\core\\ultratb.py\", line 353, in _fixed_getinnerframes\n",
      "    records = fix_frame_records_filenames(inspect.getinnerframes(etb, context))\n",
      "  File \"c:\\python37\\lib\\inspect.py\", line 1502, in getinnerframes\n",
      "    frameinfo = (tb.tb_frame,) + getframeinfo(tb, context)\n",
      "AttributeError: 'tuple' object has no attribute 'tb_frame'\n"
     ]
    },
    {
     "ename": "SystemExit",
     "evalue": "",
     "output_type": "error",
     "traceback": [
      "An exception has occurred, use %tb to see the full traceback.\n",
      "\u001b[1;31m---------------------------------------------------------------------------\u001b[0m",
      "\nDuring handling of the above exception, another exception occurred:\n",
      "\u001b[1;31mSystemExit\u001b[0m\n"
     ]
    }
   ],
   "source": [
    "import socket\n",
    "import sys\n",
    "\n",
    "# 服务端主机IP地址和端口号\n",
    "HOST = '127.0.0.1'\n",
    "PORT = 50007\n",
    "s = socket.socket(socket.AF_INET, socket.SOCK_STREAM)\n",
    "try:\n",
    "    # 连接服务器\n",
    "    s.connect((HOST, PORT))\n",
    "except Exception as e:\n",
    "    print('Server not found or not open')\n",
    "    sys.exit()\n",
    "\n",
    "while True:\n",
    "    c = input('Input the content you want to send:')\n",
    "    # 发送数据\n",
    "    s.sendall(c.encode())\n",
    "    # 从服务端接收数据\n",
    "    data = s.recv(1024)\n",
    "    data = data.decode()\n",
    "    print('Received:', data)\n",
    "    if c.lower() == 'bye':\n",
    "        break\n",
    "# 关闭连接\n",
    "s.close()\n"
   ]
  },
  {
   "cell_type": "code",
   "execution_count": null,
   "metadata": {},
   "outputs": [],
   "source": [
    "import socket\n",
    "import subprocess\n",
    "\n",
    "sk = socket.socket()\n",
    "sk.connect(('127.0.0.1',8080))\n",
    "while True:\n",
    "    cmd = sk.recv(1024).decode('gbk')\n",
    "    if cmd == 'q':\n",
    "        break\n",
    "    res = subprocess.Popen(cmd,shell=True,stdout=subprocess.PIPE,stderr=subprocess.PIPE)\n",
    "    sk.send(res.stdout.read())\n",
    "    sk.send(res.stderr.read())\n",
    "\n",
    "sk.close()"
   ]
  },
  {
   "cell_type": "code",
   "execution_count": null,
   "metadata": {},
   "outputs": [],
   "source": [
    "import socket\n",
    "\n",
    "s=socket.socket(socket.AF_INET,socket.SOCK_STREAM)\n",
    "res=s.connect_ex(('127.0.0.1',8080))\n",
    "\n",
    "while True:\n",
    "    msg=input('>>: ').strip()\n",
    "    if len(msg) == 0:continue\n",
    "    if msg == 'quit':break\n",
    "\n",
    "    s.send(msg.encode('utf-8'))\n",
    "    length=int(s.recv(1024).decode('utf-8'))\n",
    "    s.send('recv_ready'.encode('utf-8'))\n",
    "    send_size=0\n",
    "    recv_size=0\n",
    "    data=b''\n",
    "    while recv_size < length:\n",
    "        data+=s.recv(1024)\n",
    "        recv_size+=len(data)\n",
    "\n",
    "\n",
    "    print(data.decode('gbk'))\n",
    "s.close()"
   ]
  },
  {
   "cell_type": "code",
   "execution_count": null,
   "metadata": {},
   "outputs": [],
   "source": [
    "import socket,subprocess\n",
    "ip_port=('127.0.0.1',8080)\n",
    "s=socket.socket(socket.AF_INET,socket.SOCK_STREAM)\n",
    "s.setsockopt(socket.SOL_SOCKET, socket.SO_REUSEADDR, 1)\n",
    "\n",
    "s.bind(ip_port)\n",
    "s.listen(5)\n",
    "\n",
    "while True:\n",
    "    conn,addr=s.accept()\n",
    "    print('客户端',addr)\n",
    "    while True:\n",
    "        msg=conn.recv(1024)\n",
    "        if not msg:break\n",
    "        res=subprocess.Popen(msg.decode('utf-8'),shell=True,\\\n",
    "                            stdin=subprocess.PIPE,\\\n",
    "                         stderr=subprocess.PIPE,\\\n",
    "                         stdout=subprocess.PIPE)\n",
    "        err=res.stderr.read()\n",
    "        if err:\n",
    "            ret=err\n",
    "        else:\n",
    "            ret=res.stdout.read()\n",
    "        data_length=len(ret)\n",
    "        conn.send(str(data_length).encode('utf-8'))\n",
    "        data=conn.recv(1024).decode('gbk')\n",
    "        if data == 'recv_ready':\n",
    "            conn.sendall(ret)\n",
    "    conn.close()"
   ]
  },
  {
   "cell_type": "code",
   "execution_count": null,
   "metadata": {},
   "outputs": [],
   "source": []
  }
 ],
 "metadata": {
  "kernelspec": {
   "display_name": "Python 3",
   "language": "python",
   "name": "python3"
  }
 },
 "nbformat": 4,
 "nbformat_minor": 4
}
