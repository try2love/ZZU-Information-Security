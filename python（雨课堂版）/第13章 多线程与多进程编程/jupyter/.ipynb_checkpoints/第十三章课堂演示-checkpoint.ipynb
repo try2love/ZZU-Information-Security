{
 "cells": [
  {
   "cell_type": "markdown",
   "metadata": {},
   "source": [
    "# 13.1  threading模块\n"
   ]
  },
  {
   "cell_type": "code",
   "execution_count": null,
   "metadata": {},
   "outputs": [],
   "source": [
    ">>> import threading\n",
    ">>> threading.stack_size()                  #查看当前线程栈的大小\n"
   ]
  },
  {
   "cell_type": "code",
   "execution_count": null,
   "metadata": {},
   "outputs": [],
   "source": [
    ">>> threading.stack_size(64*1024)           #设置当前线程栈的大小\n"
   ]
  },
  {
   "cell_type": "code",
   "execution_count": null,
   "metadata": {},
   "outputs": [],
   "source": [
    ">>> threading.stack_size()\n"
   ]
  },
  {
   "cell_type": "code",
   "execution_count": null,
   "metadata": {},
   "outputs": [],
   "source": [
    ">>> threading.active_count()                #查看活动线程数量\n"
   ]
  },
  {
   "cell_type": "code",
   "execution_count": null,
   "metadata": {},
   "outputs": [],
   "source": [
    ">>> threading.current_thread()            #返回当前线程对象\n"
   ]
  },
  {
   "cell_type": "code",
   "execution_count": 29,
   "metadata": {},
   "outputs": [
    {
     "data": {
      "text/plain": [
       "[<_MainThread(MainThread, started 11744)>,\n",
       " <Thread(Thread-4, started daemon 1140)>,\n",
       " <Heartbeat(Thread-5, started daemon 17664)>,\n",
       " <HistorySavingThread(IPythonHistorySavingThread, started 2056)>,\n",
       " <ParentPollerWindows(Thread-3, started daemon 12848)>]"
      ]
     },
     "execution_count": 29,
     "metadata": {},
     "output_type": "execute_result"
    }
   ],
   "source": [
    ">>> threading.enumerate()                 #枚举所有线程\n"
   ]
  },
  {
   "cell_type": "code",
   "execution_count": 30,
   "metadata": {},
   "outputs": [
    {
     "name": "stdout",
     "output_type": "stream",
     "text": [
      "5\n"
     ]
    }
   ],
   "source": [
    ">>> import threading\n",
    "\n",
    ">>> def demo(v):\n",
    "    print(v)\n",
    "    \n",
    ">>> t = threading.Timer(3, demo, args=(5,))  #创建线程\n",
    ">>> t.start()                       #启动线程，3秒之后调用demo函数\n"
   ]
  },
  {
   "cell_type": "code",
   "execution_count": null,
   "metadata": {},
   "outputs": [],
   "source": [
    ">>> t.cancel()                      #如果仍在等待时间到达，则取消"
   ]
  },
  {
   "cell_type": "markdown",
   "metadata": {},
   "source": [
    "# 13.2 Thread对象\n"
   ]
  },
  {
   "cell_type": "markdown",
   "metadata": {},
   "source": [
    "### 通过继承Thread类创建线程类\n"
   ]
  },
  {
   "cell_type": "code",
   "execution_count": 31,
   "metadata": {},
   "outputs": [
    {
     "name": "stdout",
     "output_type": "stream",
     "text": [
      "I am 1\n",
      "I am 2\n",
      "I am 3\n"
     ]
    }
   ],
   "source": [
    "import threading\n",
    "\n",
    "class myThread(threading.Thread):\n",
    "    def __init__(self, num):\n",
    "        threading.Thread.__init__(self)\n",
    "        self.num = num\n",
    "    def run(self):                     #线程运行的主要代码\n",
    "        print('I am {0}'.format(self.num))\n",
    "\n",
    "t1 = myThread(1)                       #创建线程\n",
    "t2 = myThread(2)\n",
    "t3 = myThread(3)\n",
    "t1.start()                             #启动线程\n",
    "t2.start()\n",
    "t3.start()\n"
   ]
  },
  {
   "cell_type": "markdown",
   "metadata": {},
   "source": [
    "### 例13-1  使用Thread类的构造方法创建线程。\n"
   ]
  },
  {
   "cell_type": "code",
   "execution_count": 35,
   "metadata": {},
   "outputs": [
    {
     "name": "stdout",
     "output_type": "stream",
     "text": [
      "15\n",
      "16\n",
      "17\n",
      "18\n",
      "19\n",
      "20\n",
      "21\n",
      "22\n",
      "23\n",
      "24\n",
      "25\n",
      "26\n",
      "27\n",
      "28\n",
      "29\n",
      "30\n",
      "31\n",
      "32\n",
      "33\n",
      "34\n",
      "35\n",
      "36\n",
      "37\n",
      "38\n",
      "39\n",
      "40\n",
      "41\n",
      "42\n",
      "43\n",
      "44\n",
      "45\n",
      "46\n",
      "47\n",
      "500\n",
      "48\n",
      "49\n",
      "50\n",
      "501\n",
      "502\n",
      "503\n",
      "504\n",
      "505\n",
      "506\n",
      "507\n",
      "51\n",
      "52\n",
      "53\n",
      "54\n",
      "55\n",
      "56\n",
      "57\n",
      "58\n",
      "59\n",
      "60\n",
      "61\n",
      "62\n",
      "63\n",
      "64\n",
      "508\n",
      "509\n",
      "65\n",
      "66\n",
      "67\n",
      "68\n",
      "69\n",
      "70\n",
      "71\n",
      "72\n",
      "73\n",
      "74\n",
      "75\n",
      "76\n",
      "77\n",
      "78\n",
      "79\n",
      "80\n",
      "81\n",
      "82\n",
      "83\n",
      "84\n",
      "85\n",
      "86\n",
      "87\n",
      "88\n",
      "89\n",
      "90\n",
      "91\n",
      "92\n",
      "93\n",
      "94\n",
      "95\n",
      "96\n",
      "97\n",
      "98\n",
      "99\n",
      "100\n",
      "101\n",
      "102\n",
      "103\n",
      "104\n",
      "105\n",
      "106\n",
      "107\n",
      "108\n",
      "109\n",
      "110\n",
      "111\n",
      "112\n",
      "113\n",
      "114\n",
      "115\n",
      "116\n",
      "117\n",
      "118\n",
      "119\n",
      "120\n",
      "121\n",
      "122\n",
      "123\n",
      "124\n",
      "125\n",
      "126\n",
      "127\n",
      "128\n",
      "129\n",
      "130\n",
      "131\n",
      "132\n",
      "133\n",
      "134\n",
      "135\n",
      "136\n",
      "137\n",
      "138\n",
      "139\n",
      "140\n",
      "141\n",
      "142\n",
      "143\n",
      "144\n",
      "145\n",
      "146\n",
      "147\n",
      "148\n",
      "149\n",
      "150\n",
      "151\n",
      "152\n",
      "153\n",
      "154\n",
      "155\n",
      "156\n",
      "157\n",
      "158\n",
      "159\n",
      "160\n",
      "161\n",
      "162\n",
      "163\n",
      "164\n",
      "165\n",
      "166\n",
      "167\n",
      "168\n",
      "169\n",
      "170\n",
      "171\n",
      "172\n",
      "173\n",
      "174\n",
      "175\n",
      "176\n",
      "177\n",
      "178\n",
      "179\n",
      "180\n",
      "181\n",
      "182\n",
      "183\n",
      "184\n",
      "185\n",
      "186\n",
      "187\n",
      "188\n",
      "189\n",
      "190\n",
      "191\n",
      "192\n",
      "193\n",
      "194\n",
      "195\n",
      "196\n",
      "197\n",
      "198\n",
      "199\n"
     ]
    }
   ],
   "source": [
    "import threading\n",
    "import time\n",
    "def func1(x, y):                    #线程函数\n",
    "    for i in range(x, y):\n",
    "        print(i)\n",
    "    time.sleep(10)\n",
    "\n",
    "t1=threading.Thread(target = func1, args = (15, 200))\n",
    "t1.start()\n",
    "# t1.join(5)\n",
    "t2=threading.Thread(target = func1, args = (500, 510))\n",
    "t2.start()\n"
   ]
  },
  {
   "cell_type": "markdown",
   "metadata": {},
   "source": [
    "### 例13-2  查看线程状态。\n"
   ]
  },
  {
   "cell_type": "code",
   "execution_count": 46,
   "metadata": {},
   "outputs": [
    {
     "name": "stdout",
     "output_type": "stream",
     "text": [
      "15\n",
      "16\n",
      "17\n",
      "18\n",
      "19\n",
      "5\n",
      "6\n",
      "7\n",
      "8\n",
      "9False\n",
      "True\n",
      "\n"
     ]
    }
   ],
   "source": [
    "import threading\n",
    "import time\n",
    "def func1(x, y):\n",
    "    for i in range(x, y):\n",
    "        print(i)\n",
    "    #time.sleep(10)\n",
    "    \n",
    "t1=threading.Thread(target = func1, args = (15, 20))\n",
    "t1.start()\n",
    "#t1.join(5)         #注释掉这里试试\n",
    "t2=threading.Thread(target = func1, args = (5, 10))\n",
    "t2.start()\n",
    "#t2.join()          #注释掉这里试试\n",
    "\n",
    "print(t1.isAlive())\n",
    "print(t2.isAlive())\n"
   ]
  },
  {
   "cell_type": "markdown",
   "metadata": {},
   "source": [
    "### 例13-3  线程的daemon属性。\n"
   ]
  },
  {
   "cell_type": "code",
   "execution_count": 48,
   "metadata": {},
   "outputs": [
    {
     "name": "stdout",
     "output_type": "stream",
     "text": [
      "False\n",
      "True\n",
      "1\n",
      "5\n"
     ]
    }
   ],
   "source": [
    "import threading\n",
    "import time\n",
    "\n",
    "class myThread(threading.Thread):\n",
    "    def __init__(self, num, threadname):\n",
    "        threading.Thread.__init__(self, name = threadname)\n",
    "        self.num = num\n",
    "        \n",
    "    def run(self):        \n",
    "        time.sleep(self.num)         #阻塞线程self.num秒\n",
    "        print(self.num)\n",
    "\n",
    "t1 = myThread(1, 't1')\n",
    "t2 = myThread(5, 't2')\n",
    "t2.daemon = True\n",
    "print(t1.daemon)\n",
    "print(t2.daemon)\n",
    "\n",
    "t1.start()\n",
    "t2.start()\n"
   ]
  },
  {
   "cell_type": "markdown",
   "metadata": {},
   "source": [
    "### 例13-4  调用线程对象的普通方法。\n"
   ]
  },
  {
   "cell_type": "code",
   "execution_count": 49,
   "metadata": {},
   "outputs": [],
   "source": [
    "import threading\n",
    "import time\n",
    "\n",
    "class myThread(threading.Thread):\n",
    "    def __init__(self, threadName):\n",
    "        threading.Thread.__init__(self)\n",
    "        self.name = threadName\n",
    "        \n",
    "    def run(self):             #线程运行的核心代码\n",
    "        time.sleep(1)\n",
    "        print('In run:', self.name)\n",
    "\n",
    "    def output(self):          #在线程类中定义普通方法\n",
    "        print('In output:', self.name)\n"
   ]
  },
  {
   "cell_type": "code",
   "execution_count": 50,
   "metadata": {},
   "outputs": [
    {
     "name": "stdout",
     "output_type": "stream",
     "text": [
      "In output: test\n",
      "In run: test\n",
      "OK\n"
     ]
    }
   ],
   "source": [
    "t = myThread('test')\n",
    "t.start()                   #启动线程\n",
    "t.output()                  #调用普通方法\n",
    "time.sleep(2)\n",
    "print('OK')\n"
   ]
  },
  {
   "cell_type": "markdown",
   "metadata": {},
   "source": [
    "# 13.3  线程同步技术\n"
   ]
  },
  {
   "cell_type": "markdown",
   "metadata": {},
   "source": [
    "### 例13-5  使用Lock/RLock对象实现线程同步。\n"
   ]
  },
  {
   "cell_type": "code",
   "execution_count": 57,
   "metadata": {},
   "outputs": [],
   "source": [
    "import threading\n",
    "import time\n",
    "\n",
    "class myThread(threading.Thread):\n",
    "    def __init__(self):\n",
    "        threading.Thread.__init__(self)\n",
    "        \n",
    "    def run(self):\n",
    "        global x                    #声明全局变量\n",
    "        lock.acquire()              #获取锁，进入临界区\n",
    "        \n",
    "        for i in range(3):\n",
    "            x = x + i\n",
    "        time.sleep(2)\n",
    "        print(x)\n",
    "        \n",
    "        lock.release()              #释放锁，退出临界区\n"
   ]
  },
  {
   "cell_type": "code",
   "execution_count": 58,
   "metadata": {},
   "outputs": [
    {
     "name": "stdout",
     "output_type": "stream",
     "text": [
      "3\n",
      "6\n",
      "9\n",
      "12\n",
      "15\n",
      "18\n",
      "21\n",
      "24\n",
      "27\n",
      "30\n"
     ]
    }
   ],
   "source": [
    "lock = threading.Lock()      #创建锁，这里也可以使用RLock\n",
    "tl = []\n",
    "for i in range(10):          #创建10个线程\n",
    "    t = myThread()\n",
    "    tl.append(t)\n",
    "    \n",
    "x = 0\n",
    "for i in tl:                 #启动10个线程\n",
    "    i.start()\n"
   ]
  },
  {
   "cell_type": "markdown",
   "metadata": {},
   "source": [
    "### 13.3.2 Condition对象\n"
   ]
  },
  {
   "cell_type": "markdown",
   "metadata": {},
   "source": [
    "### 例13-6  使用Condition对象实现线程同步，模拟生产者与消费者问题。"
   ]
  },
  {
   "cell_type": "code",
   "execution_count": 2,
   "metadata": {},
   "outputs": [],
   "source": [
    "import threading\n",
    "import time\n",
    "import random\n"
   ]
  },
  {
   "cell_type": "code",
   "execution_count": 3,
   "metadata": {},
   "outputs": [],
   "source": [
    "# 生产者类\n",
    "class Producer(threading.Thread):\n",
    "    def __init__(self, threadname):\n",
    "        threading.Thread.__init__(self,name=threadname)\n",
    "        \n",
    "    def run(self):\n",
    "        global x\n",
    "        time.sleep(random.randrange(1, 5))        \n",
    "        con.acquire()\n",
    "        \n",
    "        if x == 20:\n",
    "            print('Producer waiting....')\n",
    "            con.wait()\n",
    "            print('Producer resumed')\n",
    "\n",
    "        print('Producer:', end=' ')\n",
    "        for i in range(20):                \n",
    "            print(x, end=' ')\n",
    "            x = x + 1\n",
    "        print(x)\n",
    "        con.notify_all()\n",
    "            \n",
    "        con.release()\n"
   ]
  },
  {
   "cell_type": "code",
   "execution_count": 4,
   "metadata": {},
   "outputs": [],
   "source": [
    "# 消费者类\n",
    "class Consumer(threading.Thread):\n",
    "    def __init__(self, threadname):\n",
    "        threading.Thread.__init__(self, name =threadname)\n",
    "        \n",
    "    def run(self):\n",
    "        global x\n",
    "        time.sleep(random.randrange(1, 5))                   \n",
    "        con.acquire()\n",
    "        \n",
    "        if x == 0:\n",
    "            print('Consumer waiting....')\n",
    "            con.wait()\n",
    "            print('Consumer resumed')\n",
    "\n",
    "        print('Consumer:', end=' ')\n",
    "        for i in range(20):                \n",
    "            print (x, end=' ')\n",
    "            x = x - 1\n",
    "        print(x)\n",
    "        con.notify_all()\n",
    "            \n",
    "        con.release()\n"
   ]
  },
  {
   "cell_type": "code",
   "execution_count": 5,
   "metadata": {},
   "outputs": [
    {
     "name": "stdout",
     "output_type": "stream",
     "text": [
      "Consumer waiting....\n",
      "Producer: 0 1 2 3 4 5 6 7 8 9 10 11 12 13 14 15 16 17 18 19 20\n",
      "Consumer resumed\n",
      "Consumer: 20 19 18 17 16 15 14 13 12 11 10 9 8 7 6 5 4 3 2 1 0\n",
      "\n",
      "After Producer and Consumer all done: 0\n"
     ]
    }
   ],
   "source": [
    "# 创建Condition对象以及生产者与消费者线程\n",
    "con = threading.Condition()\n",
    "\n",
    "x = 0\n",
    "\n",
    "p = Producer('Producer')\n",
    "c = Consumer('Consumer')\n",
    "\n",
    "c.start()\n",
    "p.start()\n",
    "\n",
    "# 等待两个线程都运行结束\n",
    "time.sleep(5)\n",
    "\n",
    "print('\\nAfter Producer and Consumer all done:',x)\n"
   ]
  },
  {
   "cell_type": "markdown",
   "metadata": {},
   "source": [
    "# 例13-6（另一种思路的演示） 使用Condition对象实现线程同步，模拟生产者与消费者问题。 \n",
    "使用列表模拟物品池，生产者往里放置东西，而消费者从池中获取物品。物品池满时生产者等待，空时消费者等待。\n"
   ]
  },
  {
   "cell_type": "code",
   "execution_count": 1,
   "metadata": {},
   "outputs": [],
   "source": [
    "import threading\n",
    "from random import randint\n",
    "from time import sleep\n"
   ]
  },
  {
   "cell_type": "code",
   "execution_count": 2,
   "metadata": {},
   "outputs": [],
   "source": [
    "#自定义生产者线程类\n",
    "class Producer(threading.Thread):\n",
    "    def __init__(self, threadname):\n",
    "        threading.Thread.__init__(self,name=threadname)\n",
    "        \n",
    "    def run(self):\n",
    "        global x        \n",
    "        while True:\n",
    "            sleep(3)\n",
    "            con.acquire()                            #获取锁\n",
    "            if len(x) == 5:                          #假设共享列表中最多能容纳5个元素\n",
    "                print('Producer is waiting.....')    #如果共享列表已满，生产者等待\n",
    "                con.wait()\n",
    "            else:\n",
    "                r = randint(1, 1000)\n",
    "                print('Produced:', r)                #产生新元素，添加至共享列表\n",
    "                x.append(r)\n",
    "                con.notify()                         #唤醒等待条件的线程\n",
    "                \n",
    "            con.release()                            #释放锁\n"
   ]
  },
  {
   "cell_type": "code",
   "execution_count": 3,
   "metadata": {},
   "outputs": [],
   "source": [
    "#自定义消费者线程类\n",
    "class Consumer(threading.Thread):\n",
    "    def __init__(self, threadname):\n",
    "        threading.Thread.__init__(self, name =threadname)\n",
    "        \n",
    "    def run(self):\n",
    "        global x        \n",
    "        while True:\n",
    "            sleep(1)\n",
    "            #获取锁\n",
    "            con.acquire()\n",
    "            if not x:\n",
    "                #等待\n",
    "                print('Consumer is waiting.....')\n",
    "                con.wait()\n",
    "            else:\n",
    "                print('Consumed:', x.pop(0))\n",
    "                con.notify()\n",
    "                \n",
    "            con.release()\n"
   ]
  },
  {
   "cell_type": "code",
   "execution_count": 4,
   "metadata": {},
   "outputs": [
    {
     "name": "stdout",
     "output_type": "stream",
     "text": [
      "Produced: 638\n",
      "Produced: 926\n",
      "Consumed: 638\n",
      "Produced: 299\n",
      "Produced: 834\n",
      "Produced: 92\n",
      "Consumed: 926\n",
      "Produced: 985\n",
      "Produced: 208\n",
      "Producer is waiting.....\n",
      "Consumed: 299\n",
      "Produced: 192\n",
      "Producer is waiting.....\n",
      "Consumed: 834\n",
      "Produced: 163\n",
      "Producer is waiting.....\n",
      "Consumed: 92\n",
      "Produced: 857\n",
      "Producer is waiting.....\n",
      "Consumed: 985\n",
      "Produced: 85\n",
      "Producer is waiting.....\n",
      "Consumed: 208\n",
      "Produced: 13\n",
      "Producer is waiting.....\n",
      "Consumed: 192\n",
      "Produced: 877\n",
      "Producer is waiting.....\n",
      "Consumed: 163\n",
      "Produced: 437\n",
      "Producer is waiting.....\n",
      "Consumed: 857\n",
      "Produced: 652\n",
      "Producer is waiting.....\n",
      "Consumed: 85\n",
      "Produced: 445\n",
      "Producer is waiting.....\n",
      "Consumed: 13\n",
      "Produced: 341\n",
      "Producer is waiting.....\n",
      "Consumed: 877\n",
      "Produced: 319\n",
      "Producer is waiting.....\n",
      "Consumed: 437\n",
      "Produced: 221\n",
      "Producer is waiting.....\n",
      "Consumed: 652\n",
      "Produced: 495\n",
      "Producer is waiting.....\n",
      "Consumed: 445\n",
      "Produced: 435\n",
      "Producer is waiting.....\n",
      "Consumed: 341\n",
      "Produced: 717\n",
      "Producer is waiting.....\n",
      "Consumed: 319\n",
      "Produced: 508\n",
      "Producer is waiting.....\n",
      "Consumed: 221\n",
      "Produced: 382\n",
      "Producer is waiting.....\n",
      "Consumed: 495\n",
      "Produced: 32\n",
      "Producer is waiting.....\n",
      "Consumed: 435\n",
      "Produced: 67\n",
      "Producer is waiting.....\n",
      "Consumed: 717\n",
      "Produced: 275\n",
      "Producer is waiting.....\n",
      "Consumed: 508\n",
      "Produced: 671\n",
      "Producer is waiting.....\n",
      "Consumed: 382\n",
      "Produced: 780\n",
      "Producer is waiting.....\n",
      "Consumed: 32\n",
      "Produced: 891\n",
      "Producer is waiting.....\n",
      "Consumed: 67\n",
      "Produced: 783\n",
      "Producer is waiting.....\n",
      "Consumed: 275\n",
      "Produced: 88\n",
      "Producer is waiting.....\n",
      "Consumed: 671\n"
     ]
    }
   ],
   "source": [
    "#创建Condition对象以及生产者线程和消费者线程\n",
    "con = threading.Condition()\n",
    "x = []\n",
    "p = Producer('Producer')\n",
    "c = Consumer('Consumer')\n",
    "p.start()\n",
    "c.start()"
   ]
  },
  {
   "cell_type": "markdown",
   "metadata": {},
   "source": [
    "# 13.3.3 Queue对象\n"
   ]
  },
  {
   "cell_type": "markdown",
   "metadata": {},
   "source": [
    "### 使用Queue对象实现生产者-消费者线程同步\n"
   ]
  },
  {
   "cell_type": "code",
   "execution_count": null,
   "metadata": {},
   "outputs": [],
   "source": [
    "import threading\n",
    "import time\n",
    "from queue import Queue\n",
    "\n",
    "class Producer(threading.Thread):\n",
    "    def __init__(self, threadname):\n",
    "        threading.Thread.__init__(self, name = threadname)\n",
    "\n",
    "    def run(self):\n",
    "        global myqueue\n",
    "        myqueue.put(self.getName())\n",
    "        print(self.getName(), 'put', self.getName(), 'to queue.')\n"
   ]
  },
  {
   "cell_type": "code",
   "execution_count": null,
   "metadata": {},
   "outputs": [],
   "source": [
    "class Consumer(threading.Thread):\n",
    "    def __init__(self, threadname):\n",
    "        threading.Thread.__init__(self, name = threadname)\n",
    "\n",
    "    def run(self):\n",
    "        global myqueue        \n",
    "        print(self.getName(), 'get', myqueue.get(), 'from queue.')\n"
   ]
  },
  {
   "cell_type": "code",
   "execution_count": null,
   "metadata": {},
   "outputs": [],
   "source": [
    "myqueue = Queue()\n",
    "plist = []\n",
    "clist = []\n",
    "\n",
    "for i in range(10):\n",
    "    p = Producer('Producer' + str(i))\n",
    "    plist.append(p)\n",
    "    c = Consumer('Consumer' + str(i))\n",
    "    clist.append(c)\n",
    "\n",
    "for i in plist:\n",
    "    i.start()\n",
    "    i.join()\n",
    "for i in clist:\n",
    "    i.start()\n",
    "    i.join()\n"
   ]
  },
  {
   "cell_type": "markdown",
   "metadata": {},
   "source": [
    "# 补充案例：上例的另一种写法\n"
   ]
  },
  {
   "cell_type": "code",
   "execution_count": null,
   "metadata": {},
   "outputs": [],
   "source": [
    "import threading\n",
    "import time\n",
    "import queue\n",
    "\n",
    "class Producer(threading.Thread):\n",
    "    def __init__(self, threadname):\n",
    "        threading.Thread.__init__(self, name=threadname)\n",
    "        \n",
    "    def run(self):\n",
    "        for i in range(10):\n",
    "            myqueue.put(i)\n",
    "            print(self.getName(), ' put ', i, ' to queue.')\n"
   ]
  },
  {
   "cell_type": "code",
   "execution_count": null,
   "metadata": {},
   "outputs": [],
   "source": [
    "class Consumer(threading.Thread):\n",
    "    def __init__(self, threadname):\n",
    "        threading.Thread.__init__(self, name=threadname)\n",
    "        \n",
    "    def run(self):\n",
    "        for i in range(10):\n",
    "            print(self.getName(), ' get ', myqueue.get(), ' from queue.')\n",
    "\n",
    "myqueue = queue.Queue()\n",
    "Producer('Producer').start()\n",
    "Consumer('Consumer').start()\n"
   ]
  },
  {
   "cell_type": "markdown",
   "metadata": {},
   "source": [
    "# 13.3.4 Event对象\n"
   ]
  },
  {
   "cell_type": "markdown",
   "metadata": {},
   "source": [
    "### 例13-7  使用Event对象实现线程同步(每次运行结果可能会不同，并且可能会死锁)。\n"
   ]
  },
  {
   "cell_type": "code",
   "execution_count": null,
   "metadata": {},
   "outputs": [],
   "source": [
    "import threading\n",
    "\n",
    "class myThread(threading.Thread):\n",
    "    def __init__(self, threadname):\n",
    "        threading.Thread.__init__(self, name = threadname)\n",
    "        \n",
    "    def run(self):\n",
    "        if myEvent.isSet():\n",
    "            myEvent.clear()\n",
    "            print(self.getName()+' is waiting...')\n",
    "            myEvent.wait()\n",
    "            print(self.getName()+' resumed...')\n",
    "        else:\n",
    "            print(self.getName())\n",
    "            myEvent.set()\n"
   ]
  },
  {
   "cell_type": "code",
   "execution_count": null,
   "metadata": {},
   "outputs": [],
   "source": [
    "myEvent = threading.Event()\n",
    "# 设置初始状态\n",
    "myEvent.clear()\n",
    "\n",
    "for i in range(10):\n",
    "    myThread(str(i)).start()\n"
   ]
  },
  {
   "cell_type": "markdown",
   "metadata": {},
   "source": [
    "# 补充：利用Event对象模拟生产者消费者问题。\n"
   ]
  },
  {
   "cell_type": "code",
   "execution_count": null,
   "metadata": {},
   "outputs": [],
   "source": [
    "from threading import Thread, Event\n",
    "\n",
    "class Producer(Thread):\n",
    "    def __init__(self, threadname):\n",
    "        Thread.__init__(self, name = threadname)\n",
    "        \n",
    "    def run(self):\n",
    "        for i in range(20):\n",
    "            lst.append(i)\n",
    "        myEvent.set()\n"
   ]
  },
  {
   "cell_type": "code",
   "execution_count": null,
   "metadata": {},
   "outputs": [],
   "source": [
    "class Consumer(Thread):\n",
    "    def __init__(self, threadname):\n",
    "        Thread.__init__(self, name = threadname)\n",
    "        \n",
    "    def run(self):\n",
    "        myEvent.wait()\n",
    "        for i in range(20):\n",
    "            print(lst.pop())\n"
   ]
  },
  {
   "cell_type": "code",
   "execution_count": null,
   "metadata": {},
   "outputs": [],
   "source": [
    "lst = []\n",
    "\n",
    "myEvent = Event()\n",
    "# 设置初始状态\n",
    "myEvent.clear()\n",
    "\n",
    "Producer('Producer').start()\n",
    "Consumer('Consumer').start()\n"
   ]
  },
  {
   "cell_type": "markdown",
   "metadata": {},
   "source": [
    "# 13.3.5  Semaphore与BoundedSemaphore（扩展）\n"
   ]
  },
  {
   "cell_type": "markdown",
   "metadata": {},
   "source": [
    "### 补充案例：使用BoundedSemaphore对象限制特定资源的并发访问线程数量。\n"
   ]
  },
  {
   "cell_type": "code",
   "execution_count": null,
   "metadata": {},
   "outputs": [],
   "source": [
    "from threading import Thread, BoundedSemaphore\n",
    "from time import time, sleep\n",
    "from random import randrange\n"
   ]
  },
  {
   "cell_type": "code",
   "execution_count": null,
   "metadata": {},
   "outputs": [],
   "source": [
    "def worker(value):\n",
    "    # 线程启动时间\n",
    "    start = time()\n",
    "    with sema:\n",
    "        # 获取资源访问权限的时间\n",
    "        end = time()\n",
    "        t = randrange(5)\n",
    "        # 冒号后面是该线程等待的时间\n",
    "        print(value, ':', end-start, ':', t) \n",
    "        sleep(2)\n",
    "\n",
    "# 同一时刻最多允许2个线程访问特定资源\n",
    "sema = BoundedSemaphore(2)\n",
    "# 创建并启动10个线程\n",
    "for i in range(10):\n",
    "    t= Thread(target=worker, args=(i,))\n",
    "    t.start()\n"
   ]
  },
  {
   "cell_type": "markdown",
   "metadata": {},
   "source": [
    "# 13.3.6  Barrier对象（扩展）\n"
   ]
  },
  {
   "cell_type": "markdown",
   "metadata": {},
   "source": [
    "### 补充案例：创建一个允许3个线程互相等待的Barrier对象，每个线程做完一些准备工作后调用Barrier对象的wait()方法等待其他线程，当所有线程都调用了wait()方法之后，会调用指定的action对象，然后同时开始执行wait()之后的代码。\n"
   ]
  },
  {
   "cell_type": "code",
   "execution_count": null,
   "metadata": {},
   "outputs": [],
   "source": [
    "import threading\n",
    "import random\n",
    "import time\n",
    "\n",
    "def worker(arg):\n",
    "    #假设每个线程需要不同的时间来完成准备工作\n",
    "    time.sleep(random.randint(1, 20))\n",
    "    #假设已知任何线程的准备工作最多需要20秒\n",
    "    #每个线程调用wait()时，返回值不一样\n",
    "    r = b.wait(20)\n",
    "    if r==0:\n",
    "        print(arg)\n"
   ]
  },
  {
   "cell_type": "code",
   "execution_count": null,
   "metadata": {},
   "outputs": [],
   "source": [
    "def printOk():\n",
    "    print('ok')\n",
    "\n",
    "#允许3个线程等待\n",
    "#如果线程调用wait()时没有指定超时时间，默认为20秒\n",
    "b = threading.Barrier(parties=3, action=printOk, timeout=20)\n",
    "\n",
    "#创建并启动3个线程，线程数量必须与Barrier对象的parties一致\n",
    "for i in range(3):\n",
    "    t = threading.Thread(target=worker, args=(i,))\n",
    "    t.start()\n"
   ]
  },
  {
   "cell_type": "markdown",
   "metadata": {},
   "source": [
    "# 13.4  多进程编程\n"
   ]
  },
  {
   "cell_type": "markdown",
   "metadata": {},
   "source": [
    "# 13.4.1  创建进程\n"
   ]
  },
  {
   "cell_type": "markdown",
   "metadata": {},
   "source": [
    "### 通过创建Process对象来创建进程，通过start()方法启动。\n"
   ]
  },
  {
   "cell_type": "code",
   "execution_count": null,
   "metadata": {},
   "outputs": [],
   "source": [
    "from multiprocessing import Process\n",
    "import os\n",
    "\n",
    "def f(name):\n",
    "    print('module name:', __name__)\n",
    "    print('parent process:', os.getppid())   #查看父进程ID\n",
    "    print('process id:', os.getpid())        #查看当前进程ID\n",
    "    print('hello', name)\n",
    "\n",
    "if __name__ == '__main__':\n",
    "    p = Process(target=f, args=('bob',))     #创建进程\n",
    "    p.start()                                #启动进程\n",
    "    p.join()                                 #等待进程结束\n"
   ]
  },
  {
   "cell_type": "markdown",
   "metadata": {},
   "source": [
    "### 继承Process类，自定义进程类\n"
   ]
  },
  {
   "cell_type": "code",
   "execution_count": null,
   "metadata": {},
   "outputs": [],
   "source": [
    "from multiprocessing import Process\n",
    "\n",
    "class MyProcess(Process):\n",
    "    def __init__(self):\n",
    "        Process.__init__(self)\n",
    "\n",
    "    def run(self):\n",
    "        print('ok')\n",
    "\n",
    "if __name__ == '__main__':\n",
    "    p = MyProcess()\n",
    "    p.start()\n"
   ]
  },
  {
   "cell_type": "markdown",
   "metadata": {},
   "source": [
    "### 使用Pool对象进行数据并行处理。\n"
   ]
  },
  {
   "cell_type": "code",
   "execution_count": null,
   "metadata": {},
   "outputs": [],
   "source": [
    "from multiprocessing import Pool\n",
    "from statistics import mean\n",
    "\n",
    "if __name__ == '__main__':\n",
    "    x = [list(range(10)), list(range(20,30)),\n",
    "         list(range(50,60)), list(range(80,90))]\n",
    "    with Pool(2) as p:\n",
    "        print(p.map(mean, x))\n",
    "        print(p.map(sum, x))\n"
   ]
  },
  {
   "cell_type": "markdown",
   "metadata": {},
   "source": [
    "### 补充案例：并行判断100000000以内的数字是否为素数，并统计素数个数。\n"
   ]
  },
  {
   "cell_type": "code",
   "execution_count": null,
   "metadata": {},
   "outputs": [],
   "source": [
    "from multiprocessing import Pool\n",
    "\n",
    "def isPrime(n):\n",
    "    if n<2:\n",
    "        return 0\n",
    "    if n==2:\n",
    "        return 1\n",
    "    if not n&1:\n",
    "        return 0\n",
    "    for i in range(3, int(n**0.5)+1, 2):\n",
    "        if n%i == 0:\n",
    "            return 0\n",
    "    return 1\n"
   ]
  },
  {
   "cell_type": "code",
   "execution_count": null,
   "metadata": {},
   "outputs": [],
   "source": [
    "if __name__ == '__main__':\n",
    "    with Pool(5) as p:\n",
    "        print(sum(p.map(isPrime, range(100000000))))\n"
   ]
  },
  {
   "cell_type": "markdown",
   "metadata": {},
   "source": [
    "## 13.4.2  进程间数据交换\n"
   ]
  },
  {
   "cell_type": "markdown",
   "metadata": {},
   "source": [
    "### 例13-8  使用Queue对象在进程间交换数据。\n"
   ]
  },
  {
   "cell_type": "code",
   "execution_count": null,
   "metadata": {},
   "outputs": [],
   "source": [
    "import multiprocessing as mp\n",
    "\n",
    "def foo(q):\n",
    "    q.put('hello world!')\n",
    "\n",
    "if __name__ == '__main__':\n",
    "    mp.set_start_method('spawn') #Windows系统创建子进程的默认方式\n",
    "    q = mp.Queue()\n",
    "    p = mp.Process(target=foo, args=(q,))\n",
    "    p.start()\n",
    "    p.join()\n",
    "    print(q.get())\n"
   ]
  },
  {
   "cell_type": "markdown",
   "metadata": {},
   "source": [
    "### 也可以使用上下文对象context的Queue对象实现进程间的数据交换。\n"
   ]
  },
  {
   "cell_type": "code",
   "execution_count": null,
   "metadata": {},
   "outputs": [],
   "source": [
    "import multiprocessing as mp\n",
    "\n",
    "def foo(q):\n",
    "    q.put('hello world')\n",
    "\n",
    "if __name__ == '__main__':\n",
    "    ctx = mp.get_context('spawn')\n",
    "    q = ctx.Queue()\n",
    "    p = ctx.Process(target=foo, args=(q,))\n",
    "    p.start()\n",
    "    p.join()\n",
    "    print(q.get())\n"
   ]
  },
  {
   "cell_type": "markdown",
   "metadata": {},
   "source": [
    "### 例13-9  使用管道实现进程间数据交换。\n"
   ]
  },
  {
   "cell_type": "code",
   "execution_count": null,
   "metadata": {},
   "outputs": [],
   "source": [
    "from multiprocessing import Process, Pipe\n",
    "\n",
    "def f(conn):\n",
    "    conn.send('hello world')           #向管道中发送数据\n",
    "    conn.close()\n",
    "\n",
    "if __name__ == '__main__':\n",
    "    parent_conn, child_conn = Pipe()   #创建管道对象\n",
    "    p = Process(target=f, args=(child_conn,)) #将管道的一方\n",
    "                                              #传递给子进程\n",
    "    p.start()\n",
    "    print(parent_conn.recv())          #通过管道的另一方获取数据\n",
    "    p.join()\n"
   ]
  },
  {
   "cell_type": "markdown",
   "metadata": {},
   "source": [
    "### 例13-10  使用共享内存实现进程间数据交换，比较适合大量数据的场合。\n"
   ]
  },
  {
   "cell_type": "code",
   "execution_count": null,
   "metadata": {},
   "outputs": [],
   "source": [
    "from multiprocessing import Process, Value, Array\n",
    "\n",
    "def f(n, a):\n",
    "    n.value = 3.1415927\n",
    "    for i in range(len(a)):\n",
    "        a[i] = a[i]*a[i]\n",
    "\n",
    "if __name__ == '__main__':\n",
    "    num = Value('d', 0.0)                   #实型\n",
    "    arr = Array('i', range(10))             #整型数组\n",
    "    p = Process(target=f, args=(num, arr))\n",
    "    p.start()\n",
    "    p.join()\n",
    "    print(num.value)\n",
    "    print(arr[:])\n"
   ]
  },
  {
   "cell_type": "markdown",
   "metadata": {},
   "source": [
    "### 例13-11  使用Manager对象实现进程间数据交换。\n"
   ]
  },
  {
   "cell_type": "markdown",
   "metadata": {},
   "source": [
    "### Manager对象控制一个拥有list、dict、Lock、RLock、Semaphore、BoundedSemaphore、Condition、Event、Barrier、Queue、Value、Array、Namespace等对象的服务端进程，并且允许其他进程访问这些对象。\n"
   ]
  },
  {
   "cell_type": "code",
   "execution_count": null,
   "metadata": {},
   "outputs": [],
   "source": [
    "from multiprocessing import Process, Manager\n",
    "\n",
    "def f(d, l, t):\n",
    "    d['name'] = 'Dong Fuguo'\n",
    "    d['age'] = 38\n",
    "    d['sex'] = 'Male'\n",
    "    d['affiliation'] = 'SDIBT'\n",
    "    l.reverse()\n",
    "    t.value = 3    \n"
   ]
  },
  {
   "cell_type": "code",
   "execution_count": null,
   "metadata": {},
   "outputs": [],
   "source": [
    "if __name__ == '__main__':\n",
    "    with Manager() as manager:\n",
    "        d = manager.dict()\n",
    "        l = manager.list(range(10))\n",
    "        t = manager.Value('i', 0)\n",
    "        p = Process(target=f, args=(d, l, t))\n",
    "        p.start()\n",
    "        p.join()\n",
    "        for item in d.items():\n",
    "            print(item)\n",
    "        print(l)\n",
    "        print(t.value)\n"
   ]
  },
  {
   "cell_type": "markdown",
   "metadata": {},
   "source": [
    "### 补充案例：使用Manager对象实现不同机器上的进程跨网络共享数据。\n"
   ]
  },
  {
   "cell_type": "markdown",
   "metadata": {},
   "source": [
    "### （1）首先编写程序文件multiprocessing_server.py，启动服务器进程，创建可共享的队列对象。\n"
   ]
  },
  {
   "cell_type": "code",
   "execution_count": null,
   "metadata": {},
   "outputs": [],
   "source": [
    "from multiprocessing.managers import BaseManager\n",
    "from queue import Queue\n",
    "\n",
    "q = Queue()\n",
    "class QueueManager(BaseManager):\n",
    "    pass\n",
    "QueueManager.register('get_queue', callable=lambda:q)\n",
    "\n",
    "m = QueueManager(address=('', 30030), authkey=b'dongfuguo')\n",
    "s = m.get_server()\n",
    "s.serve_forever()\n"
   ]
  },
  {
   "cell_type": "markdown",
   "metadata": {},
   "source": [
    "### （2）然后编写程序文件multiprocessing_client1.py，连接服务器进程，并往共享的队列中存入一些数据。\n"
   ]
  },
  {
   "cell_type": "code",
   "execution_count": null,
   "metadata": {},
   "outputs": [],
   "source": [
    "from multiprocessing.managers import BaseManager\n",
    "\n",
    "class QueueManager(BaseManager):\n",
    "    pass\n",
    "QueueManager.register('get_queue')\n",
    "\n",
    "#假设服务器的IP地址为10.2.1.2\n",
    "m = QueueManager(address=('10.2.1.2', 30030), authkey=b'dongfuguo')\n",
    "m.connect()\n",
    "q = m.get_queue()\n",
    "for i in range(3):\n",
    "    q.put(i)\n"
   ]
  },
  {
   "cell_type": "markdown",
   "metadata": {},
   "source": [
    "### （3）最后编写程序文件multiprocessing_client2.py，连接服务器进程，从共享的队列对象中读取数据并输出显示。\n"
   ]
  },
  {
   "cell_type": "code",
   "execution_count": null,
   "metadata": {},
   "outputs": [],
   "source": [
    "from multiprocessing.managers import BaseManager\n",
    "\n",
    "class QueueManager(BaseManager):\n",
    "    pass\n",
    "QueueManager.register('get_queue')\n",
    "\n",
    "m = QueueManager(address=('10.2.1.2', 30030), authkey=b'dongfuguo')\n",
    "m.connect()\n",
    "q = m.get_queue()\n",
    "for i in range(3):\n",
    "    print(q.get())\n"
   ]
  },
  {
   "cell_type": "markdown",
   "metadata": {},
   "source": [
    "## 13.4.3  进程同步\n"
   ]
  },
  {
   "cell_type": "markdown",
   "metadata": {},
   "source": [
    "### 例13-12  使用Lock对象实现进程同步。\n"
   ]
  },
  {
   "cell_type": "code",
   "execution_count": null,
   "metadata": {},
   "outputs": [],
   "source": [
    "from multiprocessing import Process, Lock\n",
    "\n",
    "def f(l, i):\n",
    "    l.acquire()                            #获取锁\n",
    "    try:\n",
    "        print('hello world', i)\n",
    "    finally:\n",
    "        l.release()                        #释放锁\n",
    "\n",
    "if __name__ == '__main__':\n",
    "    lock = Lock()                          #创建锁对象\n",
    "    for num in range(10):\n",
    "        Process(target=f, args=(lock, num)).start()\n"
   ]
  },
  {
   "cell_type": "markdown",
   "metadata": {},
   "source": [
    "### 例13-13  使用Event对象实现进程同步。\n"
   ]
  },
  {
   "cell_type": "code",
   "execution_count": null,
   "metadata": {},
   "outputs": [],
   "source": [
    "from multiprocessing import Process, Event\n",
    "\n",
    "def f(e, i):\n",
    "    if e.is_set():\n",
    "        e.wait()\n",
    "        print('hello world', i)\n",
    "        e.clear()\n",
    "    else:\n",
    "        e.set()\n",
    "\n",
    "if __name__ == '__main__':\n",
    "    e = Event()\n",
    "    for num in range(10):\n",
    "        Process(target=f, args=(e,num)).start()\n"
   ]
  },
  {
   "cell_type": "markdown",
   "metadata": {},
   "source": [
    "## 13.4.4  标准库subprocess（扩展）\n"
   ]
  },
  {
   "cell_type": "code",
   "execution_count": null,
   "metadata": {},
   "outputs": [],
   "source": []
  }
 ],
 "metadata": {
  "kernelspec": {
   "display_name": "Python 3",
   "language": "python",
   "name": "python3"
  },
  "language_info": {
   "codemirror_mode": {
    "name": "ipython",
    "version": 3
   },
   "file_extension": ".py",
   "mimetype": "text/x-python",
   "name": "python",
   "nbconvert_exporter": "python",
   "pygments_lexer": "ipython3",
   "version": "3.7.2"
  }
 },
 "nbformat": 4,
 "nbformat_minor": 4
}
