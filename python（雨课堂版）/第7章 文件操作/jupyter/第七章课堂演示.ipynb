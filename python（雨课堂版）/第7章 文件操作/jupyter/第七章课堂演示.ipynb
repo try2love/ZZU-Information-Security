{
 "cells": [
  {
   "cell_type": "markdown",
   "metadata": {},
   "source": [
    "# 7.2 文本文件操作\n"
   ]
  },
  {
   "cell_type": "markdown",
   "metadata": {},
   "source": [
    "### 例7-1  向文本文件中写入内容，然后再读出"
   ]
  },
  {
   "cell_type": "code",
   "execution_count": 1,
   "metadata": {},
   "outputs": [],
   "source": [
    "s = 'Hello world\\n文本文件的读取方法\\n文本文件的写入方法\\n'\n",
    "\n",
    "with open('sample.txt', 'w') as fp:    #默认使用cp936编码\n",
    "    fp.write(s)\n"
   ]
  },
  {
   "cell_type": "code",
   "execution_count": 2,
   "metadata": {},
   "outputs": [
    {
     "name": "stdout",
     "output_type": "stream",
     "text": [
      "Hello world\n",
      "文本文件的读取方法\n",
      "文本文件的写入方法\n",
      "\n"
     ]
    }
   ],
   "source": [
    "with open('sample.txt') as fp:         #默认使用cp936编码\n",
    "    print(fp.read())"
   ]
  },
  {
   "cell_type": "markdown",
   "metadata": {},
   "source": [
    "### 例7-2  读取并显示文本文件的前5个字符。\n"
   ]
  },
  {
   "cell_type": "code",
   "execution_count": 3,
   "metadata": {},
   "outputs": [
    {
     "name": "stdout",
     "output_type": "stream",
     "text": [
      "s= Hello\n",
      "字符串s的长度(字符个数)= 5\n"
     ]
    }
   ],
   "source": [
    "with open('sample.txt', 'r') as f:\n",
    "    s = f.read(5)\n",
    "\n",
    "print('s=',s)\n",
    "print('字符串s的长度(字符个数)=', len(s))\n"
   ]
  },
  {
   "cell_type": "markdown",
   "metadata": {},
   "source": [
    "### 例7-3  读取并显示文本文件所有行。"
   ]
  },
  {
   "cell_type": "code",
   "execution_count": 4,
   "metadata": {
    "scrolled": true
   },
   "outputs": [
    {
     "name": "stdout",
     "output_type": "stream",
     "text": [
      "Hello world\n",
      "\n",
      "文本文件的读取方法\n",
      "\n",
      "文本文件的写入方法\n",
      "\n"
     ]
    }
   ],
   "source": [
    "\n",
    "with open('sample.txt') as fp:      #假设文件采用CP936编码\n",
    "    for line in fp:                 #文件对象可以直接迭代\n",
    "        print(line)\n"
   ]
  },
  {
   "cell_type": "markdown",
   "metadata": {},
   "source": [
    "### 例7-4  移动文件指针。\n"
   ]
  },
  {
   "cell_type": "code",
   "execution_count": 5,
   "metadata": {},
   "outputs": [],
   "source": [
    ">>> s = '中国山东烟台SDIBT'\n",
    ">>> fp = open(r'sample.txt', 'w')\n",
    ">>> fp.write(s)\n",
    ">>> fp.close()\n"
   ]
  },
  {
   "cell_type": "code",
   "execution_count": 6,
   "metadata": {},
   "outputs": [
    {
     "name": "stdout",
     "output_type": "stream",
     "text": [
      "中国山\n"
     ]
    }
   ],
   "source": [
    "\n",
    ">>> fp = open(r'sample.txt', 'r')\n",
    ">>> print(fp.read(3))\n"
   ]
  },
  {
   "cell_type": "code",
   "execution_count": 7,
   "metadata": {},
   "outputs": [
    {
     "data": {
      "text/plain": [
       "2"
      ]
     },
     "execution_count": 7,
     "metadata": {},
     "output_type": "execute_result"
    }
   ],
   "source": [
    ">>> fp.seek(2)\n"
   ]
  },
  {
   "cell_type": "code",
   "execution_count": 8,
   "metadata": {},
   "outputs": [
    {
     "name": "stdout",
     "output_type": "stream",
     "text": [
      "国\n"
     ]
    }
   ],
   "source": [
    ">>> print(fp.read(1))\n"
   ]
  },
  {
   "cell_type": "code",
   "execution_count": 9,
   "metadata": {},
   "outputs": [
    {
     "data": {
      "text/plain": [
       "13"
      ]
     },
     "execution_count": 9,
     "metadata": {},
     "output_type": "execute_result"
    }
   ],
   "source": [
    ">>> fp.seek(13)\n"
   ]
  },
  {
   "cell_type": "code",
   "execution_count": 10,
   "metadata": {},
   "outputs": [
    {
     "name": "stdout",
     "output_type": "stream",
     "text": [
      "D\n"
     ]
    }
   ],
   "source": [
    ">>> print(fp.read(1))\n"
   ]
  },
  {
   "cell_type": "code",
   "execution_count": 13,
   "metadata": {},
   "outputs": [
    {
     "data": {
      "text/plain": [
       "4"
      ]
     },
     "execution_count": 13,
     "metadata": {},
     "output_type": "execute_result"
    }
   ],
   "source": [
    ">>> fp.seek(4)\n"
   ]
  },
  {
   "cell_type": "code",
   "execution_count": 14,
   "metadata": {},
   "outputs": [
    {
     "name": "stdout",
     "output_type": "stream",
     "text": [
      "山\n"
     ]
    }
   ],
   "source": [
    ">>> print(fp.read(1))\n"
   ]
  },
  {
   "cell_type": "markdown",
   "metadata": {},
   "source": [
    "### 例7-5  读取文本文件data.txt（文件中每行存放一个整数）中所有整数，将其按升序排序后再写入文本文件data_asc.txt中。\n"
   ]
  },
  {
   "cell_type": "code",
   "execution_count": 15,
   "metadata": {},
   "outputs": [],
   "source": [
    "import random\n",
    "with open('data.txt', 'a') as fp:\n",
    "    for i in range(1000):\n",
    "        x =random.randint(1125,2999)\n",
    "        fp.write(str(x)+\"\\n\")"
   ]
  },
  {
   "cell_type": "code",
   "execution_count": 16,
   "metadata": {},
   "outputs": [],
   "source": [
    "with open('data.txt', 'r') as fp:\n",
    "    data = fp.readlines()\n",
    "data = [int(line.strip()) for line in data]\n",
    "data.sort()\n",
    "data = [str(i)+'\\n' for i in data]\n",
    "with open('data_asc.txt', 'w') as fp:\n",
    "    fp.writelines(data)\n"
   ]
  },
  {
   "cell_type": "markdown",
   "metadata": {},
   "source": [
    "### JSON（JavaScript Object Notation）是一个轻量级的数据交换格式，Python标准库json完美实现了该格式，用法类似于marshal和pickle。\n"
   ]
  },
  {
   "cell_type": "code",
   "execution_count": 18,
   "metadata": {},
   "outputs": [
    {
     "data": {
      "text/plain": [
       "'[\"a\", \"b\", \"c\"]'"
      ]
     },
     "execution_count": 18,
     "metadata": {},
     "output_type": "execute_result"
    }
   ],
   "source": [
    ">>> import json\n",
    ">>> dump = json.dumps(['a','b','c'])  # 序列化列表对象，直接查看序列化后的结果\n",
    ">>> dump\n"
   ]
  },
  {
   "cell_type": "code",
   "execution_count": 19,
   "metadata": {},
   "outputs": [
    {
     "data": {
      "text/plain": [
       "['a', 'b', 'c']"
      ]
     },
     "execution_count": 19,
     "metadata": {},
     "output_type": "execute_result"
    }
   ],
   "source": [
    ">>> json.loads(dump)              # 反序列化\n"
   ]
  },
  {
   "cell_type": "code",
   "execution_count": 20,
   "metadata": {},
   "outputs": [
    {
     "data": {
      "text/plain": [
       "'{\"a\": 1, \"b\": 2, \"c\": 3}'"
      ]
     },
     "execution_count": 20,
     "metadata": {},
     "output_type": "execute_result"
    }
   ],
   "source": [
    ">>> json.dumps({'a':1, 'b':2, 'c':3})    # 序列化字典对象\n"
   ]
  },
  {
   "cell_type": "code",
   "execution_count": 21,
   "metadata": {},
   "outputs": [
    {
     "data": {
      "text/plain": [
       "{'a': 1, 'b': 2, 'c': 3}"
      ]
     },
     "execution_count": 21,
     "metadata": {},
     "output_type": "execute_result"
    }
   ],
   "source": [
    ">>> json.loads(_)\n"
   ]
  },
  {
   "cell_type": "code",
   "execution_count": 22,
   "metadata": {},
   "outputs": [
    {
     "data": {
      "text/plain": [
       "'[1, 2, 3, {\"4\": 5, \"6\": 7}]'"
      ]
     },
     "execution_count": 22,
     "metadata": {},
     "output_type": "execute_result"
    }
   ],
   "source": [
    ">>> json.dumps([1,2,3,{'4': 5, '6': 7}])\n"
   ]
  },
  {
   "cell_type": "markdown",
   "metadata": {},
   "source": [
    "# 7.3 二进制文件操作\n"
   ]
  },
  {
   "cell_type": "markdown",
   "metadata": {},
   "source": [
    "### 例7-8  写入二进制文件。\n"
   ]
  },
  {
   "cell_type": "code",
   "execution_count": 23,
   "metadata": {},
   "outputs": [],
   "source": [
    "import pickle\n",
    "\n",
    "i = 13000000\n",
    "a = 99.056\n",
    "s = '中国人民123abc'\n",
    "lst = [[1, 2, 3], [4, 5, 6], [7, 8, 9]]\n",
    "tu = (-5, 10, 8)\n",
    "coll = {4, 5, 6}\n",
    "dic = {'a':'apple', 'b':'banana', 'g':'grape', 'o':'orange'}\n",
    "data = [i, a, s, lst, tu, coll, dic]\n",
    "\n",
    "with open('sample_pickle.dat', 'wb') as f:\n",
    "    try:\n",
    "         pickle.dump(len(data), f) #表示后面将要写入的数据个数\n",
    "         for item in data:\n",
    "              pickle.dump(item, f)\n",
    "    except:\n",
    "        print('写文件异常!')        #如果写文件异常则跳到此处执行\n"
   ]
  },
  {
   "cell_type": "markdown",
   "metadata": {},
   "source": [
    "### 例7-9  读取二进制文件"
   ]
  },
  {
   "cell_type": "code",
   "execution_count": 24,
   "metadata": {},
   "outputs": [
    {
     "name": "stdout",
     "output_type": "stream",
     "text": [
      "13000000\n",
      "99.056\n",
      "中国人民123abc\n",
      "[[1, 2, 3], [4, 5, 6], [7, 8, 9]]\n",
      "(-5, 10, 8)\n",
      "{4, 5, 6}\n",
      "{'a': 'apple', 'b': 'banana', 'g': 'grape', 'o': 'orange'}\n"
     ]
    }
   ],
   "source": [
    "import pickle\n",
    "\n",
    "with open('sample_pickle.dat', 'rb') as f:\n",
    "    n = pickle.load(f)        #读出文件的数据个数\n",
    "    for i in range(n):\n",
    "        x = pickle.load(f)\n",
    "        print(x)\n"
   ]
  },
  {
   "cell_type": "markdown",
   "metadata": {},
   "source": [
    "### 例7-10  使用struct模块写入二进制文件。\n"
   ]
  },
  {
   "cell_type": "code",
   "execution_count": null,
   "metadata": {},
   "outputs": [],
   "source": [
    "import struct\n",
    "\n",
    "n = 1300000000\n",
    "x = 96.45\n",
    "b = True\n",
    "s = 'a1@中国'\n",
    "sn = struct.pack('if?', n, x, b)      #序列化\n",
    "with open('sample_struct.dat', 'wb') as fp:\n",
    "    fp.write(sn)                       #写入字节串 \n",
    "    fp.write(s.encode())               #字符串直接编码为字节串写入\n"
   ]
  },
  {
   "cell_type": "markdown",
   "metadata": {},
   "source": [
    "### 例7-11  使用struct模块读取二进制文件。"
   ]
  },
  {
   "cell_type": "code",
   "execution_count": null,
   "metadata": {},
   "outputs": [],
   "source": [
    "import struct\n",
    "\n",
    "with open('sample_struct.dat', 'rb') as fp:\n",
    "    sn = fp.read(9)\n",
    "    tu = struct.unpack('if?', sn) \n",
    "    print(tu)\n",
    "    n, x, bl = tu\n",
    "    print('n=', n)\n",
    "    print('x=', x)\n",
    "    print('bl=', bl)\n",
    "    s = fp.read(9).decode()\n",
    "    print('s=', s)\n"
   ]
  },
  {
   "cell_type": "markdown",
   "metadata": {},
   "source": [
    "### Let's THINK：读取的字节数为啥是9呢，而不是其他数字呢？\n"
   ]
  },
  {
   "cell_type": "code",
   "execution_count": null,
   "metadata": {},
   "outputs": [],
   "source": [
    ">>> import struct\n",
    ">>> struct.pack('if?', 13000, 56.0, True)\n"
   ]
  },
  {
   "cell_type": "code",
   "execution_count": null,
   "metadata": {},
   "outputs": [],
   "source": [
    ">>> len(_)\n"
   ]
  },
  {
   "cell_type": "code",
   "execution_count": null,
   "metadata": {},
   "outputs": [],
   "source": [
    ">>> len(struct.pack('if?', 9999, 5336.0, False))\n"
   ]
  },
  {
   "cell_type": "code",
   "execution_count": null,
   "metadata": {},
   "outputs": [],
   "source": [
    ">>> x = 'a1@中国'\n",
    ">>> len(x.encode())\n"
   ]
  },
  {
   "cell_type": "markdown",
   "metadata": {},
   "source": [
    " ### 使用shelve序列化\n"
   ]
  },
  {
   "cell_type": "markdown",
   "metadata": {},
   "source": [
    "### Python标准库shelve也提供了二进制文件操作的功能，可以像字典赋值一样来写入二进制文件，也可以像字典一样读取二进制文件。\n"
   ]
  },
  {
   "cell_type": "code",
   "execution_count": null,
   "metadata": {},
   "outputs": [],
   "source": [
    ">>> import shelve\n",
    ">>> zhangsan = {'age':38, 'sex':'Male', 'address':'SDIBT'}\n",
    ">>> lisi = {'age':40, 'sex':'Male', 'qq':'1234567', 'tel':'7654321'}\n",
    ">>> with shelve.open('shelve_test.dat') as fp:\n",
    "    fp['zhangsan'] = zhangsan      # 像操作字典一样把数据写入文件\n",
    "    fp['lisi'] = lisi\n",
    "    for i in range(5):\n",
    "        fp[str(i)] = str(i)\n"
   ]
  },
  {
   "cell_type": "code",
   "execution_count": null,
   "metadata": {},
   "outputs": [],
   "source": [
    ">>> with shelve.open('shelve_test.dat') as fp:\n",
    "        print(fp['zhangsan'])                 #读取并显示文件内容\n",
    "        print(fp['zhangsan']['age'])\n",
    "        print(fp['lisi']['qq'])\n",
    "        print(fp['3'])\n",
    "\n"
   ]
  },
  {
   "cell_type": "markdown",
   "metadata": {},
   "source": [
    "### Python标准库marshal也可以进行对象的序列化和反序列化。\n"
   ]
  },
  {
   "cell_type": "code",
   "execution_count": null,
   "metadata": {},
   "outputs": [],
   "source": [
    ">>> import marshal                              #导入模块\n",
    ">>> x1 = 30                                     #待序列化的对象\n",
    ">>> x2 = 5.0\n",
    ">>> x3 = [1, 2, 3]\n",
    ">>> x4 = (4, 5, 6)\n",
    ">>> x5 = {'a':1, 'b':2, 'c':3}\n",
    ">>> x6 = {7, 8, 9}\n",
    ">>> x = [eval('x'+str(i)) for i in range(1,7)]  #把待序列化对象放到列表中\n",
    ">>> x\n"
   ]
  },
  {
   "cell_type": "code",
   "execution_count": null,
   "metadata": {},
   "outputs": [],
   "source": [
    ">>> with open('test.dat', 'wb') as fp:          #创建二进制文件\n",
    "    marshal.dump(len(x), fp)                    #先写入对象个数\n",
    "    for item in x:\n",
    "        marshal.dump(item,fp) \n"
   ]
  },
  {
   "cell_type": "code",
   "execution_count": null,
   "metadata": {},
   "outputs": [],
   "source": [
    ">>> with open('test.dat', 'rb') as fp:    #打开二进制文件\n",
    "        n = marshal.load(fp)                  #获取对象个数\n",
    "        for i in range(n):\n",
    "                print(marshal.load(fp))            #反序列化，输出结果\n"
   ]
  },
  {
   "cell_type": "markdown",
   "metadata": {},
   "source": [
    "### json、pickle和shelve"
   ]
  },
  {
   "cell_type": "markdown",
   "metadata": {},
   "source": [
    "##### 序列化就是将一些类似字典、列表等内容转化为一个字符串的过程，序列就是字符串的意思。其主要用在数据存储上及网络上传输的时候。而从字符串转为数据类型的过程叫做反序列化"
   ]
  },
  {
   "cell_type": "markdown",
   "metadata": {},
   "source": [
    "序列化的目的主要有以下3个方面：\n",
    "\n",
    "    以某种存储形式使自定义对象持久化\n",
    "    将对象从一个地方传递到另一个地方\n",
    "    使程序更具维护性\n"
   ]
  },
  {
   "cell_type": "markdown",
   "metadata": {},
   "source": [
    "### 1.json模块及使用方法"
   ]
  },
  {
   "cell_type": "markdown",
   "metadata": {},
   "source": [
    "json为通用的序列化格式，其最大的优点就是通用性，而缺点就是只有很少的一部分数据类型可以通过json转化为字符串。在python中其可以转化数字、字符串、列表、字典和元祖。"
   ]
  },
  {
   "cell_type": "markdown",
   "metadata": {},
   "source": [
    "json主要提供了4个方法：\n",
    "\n",
    "    dumps\n",
    "    loads\n",
    "    dump\n",
    "    load\n"
   ]
  },
  {
   "cell_type": "markdown",
   "metadata": {},
   "source": [
    "### 其中dumps和loads主要是对数据在内存中进行序列化。"
   ]
  },
  {
   "cell_type": "code",
   "execution_count": null,
   "metadata": {},
   "outputs": [],
   "source": [
    "import json\n",
    " \n",
    "dic = {'a':1,'b':2}\n",
    "ret = json.dumps(dic)\n",
    "print(ret,type(ret))  #{\"a\": 1, \"b\": 2} <class 'str'>\n",
    " \n",
    "di = json.loads(ret)\n",
    "print(di,type(di))  #{'a': 1, 'b': 2} <class 'dict'>"
   ]
  },
  {
   "cell_type": "markdown",
   "metadata": {},
   "source": [
    "### 而dump与load的是将对象进行序列化后通过文件句柄写入文件中。"
   ]
  },
  {
   "cell_type": "code",
   "execution_count": null,
   "metadata": {},
   "outputs": [],
   "source": [
    "import json\n",
    " \n",
    "dic = {'a':1,'b':2}\n",
    "f = open('f',mode='w')\n",
    "json.dump(dic,f)\n",
    "f.close()\n",
    " \n",
    "f = open('f',mode='r')\n",
    "ret = json.load(f)\n",
    "print(ret)\n",
    "f.close()"
   ]
  },
  {
   "cell_type": "markdown",
   "metadata": {},
   "source": [
    "### 2、pickle模块及使用方法"
   ]
  },
  {
   "cell_type": "markdown",
   "metadata": {},
   "source": [
    "pickle相较于json更加强大，可序列化python中的所有数据类型，一些自定义对象也可以进行序列化。\n",
    "\n",
    "pickle的使用方法与json几乎一样，都是用过dumps、loads和dump、load对数据进行序列化，不过由于其是将序列化后以bytes类型进行存储，因而在使用dump、load的时候需要使用wb和rb的方式对文件进行写入与读取。\n",
    "学会了json，基本上pickle也就会了，非常的简单。"
   ]
  },
  {
   "cell_type": "code",
   "execution_count": null,
   "metadata": {},
   "outputs": [],
   "source": [
    "import pickle\n",
    "import time\n",
    " \n",
    "struct_time  = time.localtime(1000000000)\n",
    "f = open('f1',mode='wb')\n",
    "pickle.dump(struct_time,f)\n",
    "f.close()\n",
    " \n",
    "f = open('f1',mode='rb')\n",
    "ret = pickle.load(f)\n",
    "f.close()\n",
    "print(ret)  #time.struct_time(tm_year=2001, tm_mon=9, tm_mday=9, tm_hour=9, tm_min=46, tm_sec=40, tm_wday=6, tm_yday=252, tm_isdst=0)"
   ]
  },
  {
   "cell_type": "markdown",
   "metadata": {},
   "source": [
    "### 3、shelve模块及使用方法"
   ]
  },
  {
   "cell_type": "markdown",
   "metadata": {},
   "source": [
    "#### shelve是python3才有的序列化模块，其最大的优点就是操作十分简单，通过open方法将文件打开后，其序列化的东西存储类似一个字典的形式。"
   ]
  },
  {
   "cell_type": "code",
   "execution_count": null,
   "metadata": {},
   "outputs": [],
   "source": [
    "import shelve\n",
    " \n",
    "dic = {1:1,2:2}\n",
    "f = shelve.open('shelve')\n",
    "f['dic'] = dic\n",
    "f.close()\n",
    " \n",
    "f = shelve.open('shelve')\n",
    "e = f['dic']\n",
    "print(e)"
   ]
  },
  {
   "cell_type": "markdown",
   "metadata": {},
   "source": [
    "在存储后其会生成3个文件，分别是.bak .dat .dir。每一个序列化的对象对存储在一个类似值的位置出，可以通过键来调用。\n",
    "虽然shelve使用非常的简单，不过其也有一些缺点，比如在默认情况下其是不会记录持久化对象的修改，需要设置writeback=True才行。"
   ]
  },
  {
   "cell_type": "code",
   "execution_count": null,
   "metadata": {},
   "outputs": [],
   "source": [
    "import shelve\n",
    " \n",
    "dic = {1:1,2:2}\n",
    "f = shelve.open('shelve')\n",
    "f['dic'] = dic\n",
    "f.close()\n",
    " \n",
    "f = shelve.open('shelve')\n",
    "f['dic']['a'] = 'dddd'\n",
    "e = f['dic']\n",
    "f.close()\n",
    "print(e)    #{1: 1, 2: 2}\n",
    " \n",
    "f = shelve.open('shelve',writeback=True)\n",
    "f['dic']['a'] = 'dddd'\n",
    "e = f['dic']\n",
    "f.close()\n",
    "print(e)    #{1: 1, 2: 2, 'a': 'dddd'}"
   ]
  },
  {
   "cell_type": "code",
   "execution_count": null,
   "metadata": {},
   "outputs": [],
   "source": []
  }
 ],
 "metadata": {
  "kernelspec": {
   "display_name": "Python 3",
   "language": "python",
   "name": "python3"
  },
  "language_info": {
   "codemirror_mode": {
    "name": "ipython",
    "version": 3
   },
   "file_extension": ".py",
   "mimetype": "text/x-python",
   "name": "python",
   "nbconvert_exporter": "python",
   "pygments_lexer": "ipython3",
   "version": "3.7.2"
  }
 },
 "nbformat": 4,
 "nbformat_minor": 4
}
