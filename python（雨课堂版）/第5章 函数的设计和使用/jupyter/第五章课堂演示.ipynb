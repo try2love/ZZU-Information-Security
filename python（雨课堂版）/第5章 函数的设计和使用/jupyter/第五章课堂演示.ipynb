{
 "cells": [
  {
   "cell_type": "markdown",
   "metadata": {},
   "source": [
    "# 5.1 函数定义\n"
   ]
  },
  {
   "cell_type": "code",
   "execution_count": null,
   "metadata": {},
   "outputs": [],
   "source": [
    "def fib(n):\n",
    "    \"\"\" \n",
    "    accept an integer n.\n",
    "    return the numbers less than n in Fibonacci sequence.\n",
    "    \n",
    "    \"\"\"\n",
    "    a,b = 1, 1\n",
    "    while a<n:\n",
    "        print(a, end = \" \")\n",
    "        a, b = b, a+b\n",
    "    print()\n",
    "    "
   ]
  },
  {
   "cell_type": "code",
   "execution_count": null,
   "metadata": {},
   "outputs": [],
   "source": [
    "fib(\"a\")"
   ]
  },
  {
   "cell_type": "code",
   "execution_count": null,
   "metadata": {},
   "outputs": [],
   "source": [
    "def demo(name: str, age: 'int > 0'=20) ->str:  # ->str 表示该函数的返回值是str类型的\n",
    "    print(name, type(name))\n",
    "    print(age, type(age))\n",
    "    return \"hello world\"  "
   ]
  },
  {
   "cell_type": "code",
   "execution_count": null,
   "metadata": {},
   "outputs": [],
   "source": [
    "def demo(name, age):  # ->str 表示该函数的返回值是str类型的\n",
    "    print(name, type(name))\n",
    "    print(age, type(age))\n",
    "    return \"hello world\"  "
   ]
  },
  {
   "cell_type": "code",
   "execution_count": null,
   "metadata": {},
   "outputs": [],
   "source": [
    "demo(1, 2)      "
   ]
  },
  {
   "cell_type": "code",
   "execution_count": null,
   "metadata": {},
   "outputs": [],
   "source": [
    "demo('a',1)"
   ]
  },
  {
   "cell_type": "markdown",
   "metadata": {},
   "source": [
    "---"
   ]
  },
  {
   "cell_type": "markdown",
   "metadata": {},
   "source": [
    "### 可以为函数和自定义对象动态增加新成员。\n"
   ]
  },
  {
   "cell_type": "code",
   "execution_count": null,
   "metadata": {},
   "outputs": [],
   "source": [
    ">>> def func():\n",
    "    print(func.x)                 #查看函数func的成员x"
   ]
  },
  {
   "cell_type": "code",
   "execution_count": null,
   "metadata": {},
   "outputs": [],
   "source": [
    ">>> func()                            #现在函数func还没有成员x，出错"
   ]
  },
  {
   "cell_type": "code",
   "execution_count": null,
   "metadata": {},
   "outputs": [],
   "source": [
    ">>> func.x = 3                        #动态为函数增加新成员\n",
    ">>> func()"
   ]
  },
  {
   "cell_type": "code",
   "execution_count": null,
   "metadata": {},
   "outputs": [],
   "source": [
    ">>> func.x                            #在外部也可以直接访问函数的成员\n"
   ]
  },
  {
   "cell_type": "code",
   "execution_count": null,
   "metadata": {},
   "outputs": [],
   "source": [
    ">>> del func.x                        #删除函数成员\n",
    ">>> func()                            #删除之后不可访问\n"
   ]
  },
  {
   "cell_type": "markdown",
   "metadata": {},
   "source": [
    "# 5.2 形参与实参\n"
   ]
  },
  {
   "cell_type": "markdown",
   "metadata": {},
   "source": [
    "### 对于绝大多数情况下，在函数内部直接修改形参的值不会影响实参，而是创建一个新变量"
   ]
  },
  {
   "cell_type": "code",
   "execution_count": null,
   "metadata": {},
   "outputs": [],
   "source": [
    "def addOne(a):\n",
    "    print(id(a), ':', a)\n",
    "    a += 1\n",
    "    print(id(a), ':', a)\n"
   ]
  },
  {
   "cell_type": "code",
   "execution_count": null,
   "metadata": {},
   "outputs": [],
   "source": [
    ">>> v = 3\n",
    ">>> id(v)\n"
   ]
  },
  {
   "cell_type": "code",
   "execution_count": null,
   "metadata": {},
   "outputs": [],
   "source": [
    ">>> addOne(v)\n"
   ]
  },
  {
   "cell_type": "code",
   "execution_count": null,
   "metadata": {},
   "outputs": [],
   "source": [
    ">>> v\n"
   ]
  },
  {
   "cell_type": "code",
   "execution_count": null,
   "metadata": {},
   "outputs": [],
   "source": [
    ">>> id(v)\n"
   ]
  },
  {
   "cell_type": "markdown",
   "metadata": {},
   "source": [
    "### 在有些情况下，可以通过特殊的方式在函数内部修改实参的值"
   ]
  },
  {
   "cell_type": "code",
   "execution_count": null,
   "metadata": {},
   "outputs": [],
   "source": [
    "def modify(v):          # 使用下标修改列表元素值\n",
    "    v[0] = v[0]+1"
   ]
  },
  {
   "cell_type": "code",
   "execution_count": null,
   "metadata": {},
   "outputs": [],
   "source": [
    ">>> a = [2]\n",
    ">>> modify(a)\n",
    ">>> a"
   ]
  },
  {
   "cell_type": "code",
   "execution_count": null,
   "metadata": {},
   "outputs": [],
   "source": [
    "def modify(v, item):    # 使用列表的方法为列表增加元素\n",
    "    v.append(item)"
   ]
  },
  {
   "cell_type": "code",
   "execution_count": null,
   "metadata": {},
   "outputs": [],
   "source": [
    ">>> a = [2]\n",
    ">>> modify(a,3)\n",
    ">>> a\n"
   ]
  },
  {
   "cell_type": "markdown",
   "metadata": {},
   "source": [
    "### 如果传递给函数的实参是可变序列，并且在函数内部使用下标或可变序列自身的方法增加、删除元素或修改元素时，实参也得到相应的修改。"
   ]
  },
  {
   "cell_type": "code",
   "execution_count": null,
   "metadata": {},
   "outputs": [],
   "source": [
    "def modify(d):         #修改字典元素值或为字典增加元素\n",
    "    d['age'] = 38"
   ]
  },
  {
   "cell_type": "code",
   "execution_count": null,
   "metadata": {},
   "outputs": [],
   "source": [
    ">>> a = {'name':'Dong', 'age':37, 'sex':'Male'}\n",
    ">>> a"
   ]
  },
  {
   "cell_type": "code",
   "execution_count": null,
   "metadata": {},
   "outputs": [],
   "source": [
    ">>> modify(a)\n",
    ">>> a"
   ]
  },
  {
   "cell_type": "markdown",
   "metadata": {},
   "source": [
    "# 5.3 参数类型\n"
   ]
  },
  {
   "cell_type": "markdown",
   "metadata": {},
   "source": [
    "### Python也允许对函数参数和返回值类型进行标注，但实际上并不起任何作用，主要目的是增强代码可读性\n"
   ]
  },
  {
   "cell_type": "code",
   "execution_count": null,
   "metadata": {},
   "outputs": [],
   "source": [
    "def test(x:int, y:int) -> int:\n",
    "    '''x and y must be integers, return an integer x+y'''\n",
    "    assert isinstance(x, int), 'x must be integer'\n",
    "    assert isinstance(y, int), 'y must be integer'\n",
    "    z = x+y\n",
    "    assert isinstance(z, int), 'must return an integer'\n",
    "    return z\n"
   ]
  },
  {
   "cell_type": "code",
   "execution_count": null,
   "metadata": {},
   "outputs": [],
   "source": [
    ">>> test(1, 2)\n"
   ]
  },
  {
   "cell_type": "code",
   "execution_count": null,
   "metadata": {},
   "outputs": [],
   "source": [
    ">>> test(2, 3.0)                    #参数类型不符合要求，抛出异常\n"
   ]
  },
  {
   "cell_type": "markdown",
   "metadata": {},
   "source": [
    "### 位置参数（positional arguments）是比较常用的形式，调用函数时实参和形参的顺序必须严格一致，并且实参和形参的数量必须相同。\n"
   ]
  },
  {
   "cell_type": "code",
   "execution_count": null,
   "metadata": {},
   "outputs": [],
   "source": [
    "def demo(a, b, c):\n",
    "    print(a, b, c)"
   ]
  },
  {
   "cell_type": "code",
   "execution_count": null,
   "metadata": {},
   "outputs": [],
   "source": [
    "demo(3, 4, 5)                   #按位置传递参数"
   ]
  },
  {
   "cell_type": "code",
   "execution_count": null,
   "metadata": {},
   "outputs": [],
   "source": [
    ">>> demo(3, 5, 4)"
   ]
  },
  {
   "cell_type": "code",
   "execution_count": null,
   "metadata": {},
   "outputs": [],
   "source": [
    ">>> demo(1, 2, 3, 4)                #实参与形参数量必须相同"
   ]
  },
  {
   "cell_type": "markdown",
   "metadata": {},
   "source": [
    "## 5.3.1 默认值参数\n"
   ]
  },
  {
   "cell_type": "markdown",
   "metadata": {},
   "source": [
    "### 调用带有默认值参数的函数时，可以不对默认值参数进行赋值，也可以为其赋值"
   ]
  },
  {
   "cell_type": "code",
   "execution_count": null,
   "metadata": {},
   "outputs": [],
   "source": [
    "def say( message, times =1 ):\n",
    "    print(message * times)"
   ]
  },
  {
   "cell_type": "code",
   "execution_count": null,
   "metadata": {},
   "outputs": [],
   "source": [
    ">>> say('hello')"
   ]
  },
  {
   "cell_type": "code",
   "execution_count": null,
   "metadata": {},
   "outputs": [],
   "source": [
    ">>> say('hello ',3)"
   ]
  },
  {
   "cell_type": "code",
   "execution_count": null,
   "metadata": {},
   "outputs": [],
   "source": [
    ">>> say('hi ',7)"
   ]
  },
  {
   "cell_type": "markdown",
   "metadata": {},
   "source": [
    "使用指定分隔符将列表中所有字符串元素连接成一个字符串"
   ]
  },
  {
   "cell_type": "code",
   "execution_count": null,
   "metadata": {},
   "outputs": [],
   "source": [
    ">>> def Join(List,sep=None):\n",
    "    return (sep or ' ').join(List)"
   ]
  },
  {
   "cell_type": "code",
   "execution_count": null,
   "metadata": {},
   "outputs": [],
   "source": [
    ">>> aList = ['a', 'b', 'c']\n",
    ">>> Join(aList)"
   ]
  },
  {
   "cell_type": "code",
   "execution_count": null,
   "metadata": {},
   "outputs": [],
   "source": [
    ">>> Join(aList, ',')"
   ]
  },
  {
   "cell_type": "markdown",
   "metadata": {},
   "source": [
    "### 默认值参数必须出现在函数参数列表的最右端，任何一个默认值参数右边不能有非默认值参数。\n"
   ]
  },
  {
   "cell_type": "code",
   "execution_count": null,
   "metadata": {},
   "outputs": [],
   "source": [
    ">>> def func(a=3, b, c=5): # 失败，带默认值的参数后面有不带默认值的参数\n",
    "    print(a, b, c)"
   ]
  },
  {
   "cell_type": "code",
   "execution_count": null,
   "metadata": {},
   "outputs": [],
   "source": [
    ">>> def func(a=3, b):   # 失败，带默认值的参数后面有不带默认值的参数\n",
    "    print(a, b)"
   ]
  },
  {
   "cell_type": "code",
   "execution_count": null,
   "metadata": {},
   "outputs": [],
   "source": [
    ">>> def func(a, b, c=5):    # 成功\n",
    "    print(a, b, c)"
   ]
  },
  {
   "cell_type": "markdown",
   "metadata": {},
   "source": [
    "### 默认值参数如果使用不当，会导致很难发现的逻辑错误"
   ]
  },
  {
   "cell_type": "code",
   "execution_count": null,
   "metadata": {},
   "outputs": [],
   "source": [
    "def demo(newitem,old_list=[]):\n",
    "    old_list.append(newitem)\n",
    "    return old_list\n",
    "\n",
    "print(demo('5',[1,2,3,4]))   #right\n",
    "print(demo('aaa',['a','b'])) #right\n",
    "print(demo('a'))             #right\n",
    "print(demo('b'))             #wrong"
   ]
  },
  {
   "cell_type": "markdown",
   "metadata": {},
   "source": [
    "默认值参数的赋值只会在函数定义时被解释一次"
   ]
  },
  {
   "cell_type": "markdown",
   "metadata": {},
   "source": [
    "### 改成下面的样子就不会有问题了"
   ]
  },
  {
   "cell_type": "code",
   "execution_count": null,
   "metadata": {},
   "outputs": [],
   "source": [
    "def demo(newitem,old_list=None):\n",
    "    if old_list is None:\n",
    "        old_list=[]\n",
    "    new_list = old_list#[:]\n",
    "    new_list.append(newitem)\n",
    "    return new_list\n",
    "\n",
    "print(demo('5',[1,2,3,4]))\n",
    "print(demo('aaa',['a','b']))\n",
    "print(demo('a'))\n",
    "print(demo('b'))\n"
   ]
  },
  {
   "cell_type": "markdown",
   "metadata": {},
   "source": [
    "默认值参数只在函数定义时被解释一次<BR>\n",
    "可以使用“函数名.__defaults__”查看所有默认参数的当前值\n"
   ]
  },
  {
   "cell_type": "code",
   "execution_count": null,
   "metadata": {},
   "outputs": [],
   "source": [
    ">>> i = 3\n",
    ">>> def f(n=i):        # 参数n的值仅取决于i的当前值\n",
    "    print(n)\n",
    "\n",
    ">>> f()\n"
   ]
  },
  {
   "cell_type": "code",
   "execution_count": null,
   "metadata": {},
   "outputs": [],
   "source": [
    ">>> i = 5              # 函数定义后修改i的值不影响参数n的默认值\n",
    ">>> f()\n"
   ]
  },
  {
   "cell_type": "code",
   "execution_count": null,
   "metadata": {},
   "outputs": [],
   "source": [
    ">>> f.__defaults__     # 查看函数所有默认值参数的当前值\n"
   ]
  },
  {
   "cell_type": "markdown",
   "metadata": {},
   "source": [
    "再来看看刚才的函数默认值变化"
   ]
  },
  {
   "cell_type": "code",
   "execution_count": null,
   "metadata": {},
   "outputs": [],
   "source": [
    "def demo(newitem,old_list=[]):\n",
    "    old_list.append(newitem)\n",
    "    return old_list\n",
    "\n",
    "print(demo('a'))             #right\n",
    "print(demo.__defaults__)\n",
    "print(demo('b'))             #wrong\n",
    "print(demo.__defaults__)"
   ]
  },
  {
   "cell_type": "code",
   "execution_count": null,
   "metadata": {},
   "outputs": [],
   "source": [
    "def demo(newitem,old_list=None):\n",
    "    if old_list is None:\n",
    "        old_list=[]\n",
    "    new_list = old_list[:]\n",
    "    new_list.append(newitem)\n",
    "    return new_list\n",
    "\n",
    "print(demo('a'))\n",
    "print(demo.__defaults__)\n",
    "print(demo('b'))\n",
    "print(demo.__defaults__)"
   ]
  },
  {
   "cell_type": "markdown",
   "metadata": {},
   "source": [
    "## 5.3.2 关键参数\n"
   ]
  },
  {
   "cell_type": "markdown",
   "metadata": {},
   "source": [
    "### 通过关键参数，实参顺序可以和形参顺序不一致，但不影响传递结果，避免了用户需要牢记位置参数顺序的麻烦。\n"
   ]
  },
  {
   "cell_type": "code",
   "execution_count": null,
   "metadata": {},
   "outputs": [],
   "source": [
    ">>> def demo(a,b,c=5):\n",
    "    print(a,b,c)\n",
    ">>> demo(3,7)\n"
   ]
  },
  {
   "cell_type": "code",
   "execution_count": null,
   "metadata": {},
   "outputs": [],
   "source": [
    ">>> demo(a=7,b=3,c=6)\n"
   ]
  },
  {
   "cell_type": "code",
   "execution_count": null,
   "metadata": {},
   "outputs": [],
   "source": [
    ">>> demo(c=8,a=9,b=0)\n"
   ]
  },
  {
   "cell_type": "markdown",
   "metadata": {},
   "source": [
    "## 5.3.3 可变长度参数\n"
   ]
  },
  {
   "cell_type": "code",
   "execution_count": null,
   "metadata": {},
   "outputs": [],
   "source": [
    "# \"*parameter\"用来接受多个实参并将其放在一个元组中\n",
    "# \"**parameter\"接受多个关键参数并存放到字典中\n"
   ]
  },
  {
   "cell_type": "code",
   "execution_count": null,
   "metadata": {},
   "outputs": [],
   "source": [
    "# *parameter的用法\n",
    "def demo(*p):\n",
    "    print(p)\n",
    "\n",
    "demo(1,2,3)\n",
    "\n"
   ]
  },
  {
   "cell_type": "code",
   "execution_count": null,
   "metadata": {},
   "outputs": [],
   "source": [
    "# **parameter的用法\n",
    "\n",
    "def demo(**p):\n",
    "    for item in p.items():\n",
    "        print(item)\n",
    "\n",
    "demo(x=1,y=2,z=3)\n"
   ]
  },
  {
   "cell_type": "markdown",
   "metadata": {},
   "source": [
    "### 几种不同类型的参数可以混合使用，但容易引起混淆"
   ]
  },
  {
   "cell_type": "code",
   "execution_count": null,
   "metadata": {},
   "outputs": [],
   "source": [
    ">>> def func_4(a, b, c=4, *aa, **bb):\n",
    "    print(a,b,c)\n",
    "    print(aa)\n",
    "    print(bb)\n",
    "\n",
    ">>> func_4(1,2,3,4,5,6,7,8,9,xx='1',yy='2',zz=3)\n"
   ]
  },
  {
   "cell_type": "code",
   "execution_count": null,
   "metadata": {},
   "outputs": [],
   "source": [
    ">>> func_4(1,2,3,4,5,6,7,xx='1',yy='2',zz=3)\n"
   ]
  },
  {
   "cell_type": "markdown",
   "metadata": {},
   "source": [
    "## 5.3.4 参数传递的序列解包\n"
   ]
  },
  {
   "cell_type": "markdown",
   "metadata": {},
   "source": [
    "### 在实参序列前加一个星号将其解包，然后传递给多个单变量形参。\n"
   ]
  },
  {
   "cell_type": "code",
   "execution_count": null,
   "metadata": {},
   "outputs": [],
   "source": [
    ">>> def demo(a, b, c):\n",
    "    print(a+b+c)\n",
    "\n",
    ">>> seq = [1, 2, 3]\n",
    ">>> demo(*seq)\n"
   ]
  },
  {
   "cell_type": "code",
   "execution_count": null,
   "metadata": {},
   "outputs": [],
   "source": [
    ">>> tup = (1, 2, 3)\n",
    ">>> demo(*tup)\n"
   ]
  },
  {
   "cell_type": "code",
   "execution_count": null,
   "metadata": {},
   "outputs": [],
   "source": [
    ">>> dic1 = {1:'a', 2:'b', 3:'c'}\n",
    ">>> demo(*dic1)\n"
   ]
  },
  {
   "cell_type": "code",
   "execution_count": null,
   "metadata": {},
   "outputs": [],
   "source": [
    "dic1['1']"
   ]
  },
  {
   "cell_type": "code",
   "execution_count": null,
   "metadata": {},
   "outputs": [],
   "source": [
    ">>> demo(*dic1.values())"
   ]
  },
  {
   "cell_type": "code",
   "execution_count": null,
   "metadata": {},
   "outputs": [],
   "source": [
    "dic2 = {'a':1, 'b':2, 'c':3}\n",
    "demo(**dic2)  #双星号"
   ]
  },
  {
   "cell_type": "code",
   "execution_count": null,
   "metadata": {},
   "outputs": [],
   "source": [
    ">>> Set = {1, 2, 3}\n",
    ">>> demo(*Set)\n"
   ]
  },
  {
   "cell_type": "markdown",
   "metadata": {},
   "source": [
    "### 函数实参是字典，可以在前面加两个星号进行解包，等价于关键参数"
   ]
  },
  {
   "cell_type": "code",
   "execution_count": null,
   "metadata": {},
   "outputs": [],
   "source": [
    ">>> demo(**dic2)\n"
   ]
  },
  {
   "cell_type": "code",
   "execution_count": null,
   "metadata": {},
   "outputs": [],
   "source": [
    ">>> demo(a=1, b=2, c=3)\n"
   ]
  },
  {
   "cell_type": "code",
   "execution_count": null,
   "metadata": {},
   "outputs": [],
   "source": [
    ">>> demo(*dic2.values())\n"
   ]
  },
  {
   "cell_type": "markdown",
   "metadata": {},
   "source": [
    "#### 注意：调用函数时对实参序列使用一个星号*进行解包后的实参将会被当做普通位置参数对待，并且会在关键参数和使用两个星号**进行序列解包的参数之前进行处理。\n"
   ]
  },
  {
   "cell_type": "code",
   "execution_count": null,
   "metadata": {},
   "outputs": [],
   "source": [
    ">>> def demo(a, b, c):                #定义函数\n",
    "    print(a, b, c)\n",
    ">>> demo(*(1, 2, 3))                  #调用，序列解包\n"
   ]
  },
  {
   "cell_type": "code",
   "execution_count": null,
   "metadata": {},
   "outputs": [],
   "source": [
    ">>> demo(1, *(2, 3))                  #位置参数和序列解包同时使用\n"
   ]
  },
  {
   "cell_type": "code",
   "execution_count": null,
   "metadata": {},
   "outputs": [],
   "source": [
    ">>> demo(1, *(2,), 3)\n"
   ]
  },
  {
   "cell_type": "code",
   "execution_count": null,
   "metadata": {},
   "outputs": [],
   "source": [
    ">>> demo(a=1, *(2, 3))         #将会报错   ，因为序列解包相当于位置参数，优先处理（存在两个a）\n"
   ]
  },
  {
   "cell_type": "code",
   "execution_count": null,
   "metadata": {},
   "outputs": [],
   "source": [
    ">>> demo(b=1, *(2, 3))       #将会报错   ，原因同上\n"
   ]
  },
  {
   "cell_type": "code",
   "execution_count": null,
   "metadata": {},
   "outputs": [],
   "source": [
    ">>> demo(c=1, *(2, 3))       #正常，因为a，b已优先赋值\n"
   ]
  },
  {
   "cell_type": "code",
   "execution_count": null,
   "metadata": {},
   "outputs": [],
   "source": [
    ">>> demo(**{'a':1, 'b':2}, *(3,)) #将会报错  ，因为序列解包不能在关键参数解包之后\n"
   ]
  },
  {
   "cell_type": "code",
   "execution_count": null,
   "metadata": {},
   "outputs": [],
   "source": [
    ">>> demo(*(3,), **{'a':1, 'b':2}) #将会报错  ，因为会出现多个对a的赋值\n"
   ]
  },
  {
   "cell_type": "code",
   "execution_count": null,
   "metadata": {},
   "outputs": [],
   "source": [
    ">>> demo(*(3,), **{'c':1, 'b':2}) #正常， a先赋值，然后b,c解包\n"
   ]
  },
  {
   "cell_type": "markdown",
   "metadata": {},
   "source": [
    "# 5.4 return语句\n"
   ]
  },
  {
   "cell_type": "markdown",
   "metadata": {},
   "source": [
    "### 在调用函数或对象方法时，一定要注意有没有返回值，这决定了该函数或方法的用法"
   ]
  },
  {
   "cell_type": "code",
   "execution_count": null,
   "metadata": {},
   "outputs": [],
   "source": [
    ">>> a_list = [1, 2, 3, 4, 9, 5, 7]\n",
    ">>> print(sorted(a_list)) # 内置函数sort()返回一个序列\n"
   ]
  },
  {
   "cell_type": "code",
   "execution_count": null,
   "metadata": {},
   "outputs": [],
   "source": [
    ">>> print(a_list)\n"
   ]
  },
  {
   "cell_type": "code",
   "execution_count": null,
   "metadata": {},
   "outputs": [],
   "source": [
    ">>> print(a_list.sort())    # 成员函数sort()只进行原地排序，不返回值\n"
   ]
  },
  {
   "cell_type": "code",
   "execution_count": null,
   "metadata": {},
   "outputs": [],
   "source": [
    ">>> print(a_list)\n"
   ]
  },
  {
   "cell_type": "markdown",
   "metadata": {},
   "source": [
    "# 5.5 变量作用域\n"
   ]
  },
  {
   "cell_type": "markdown",
   "metadata": {},
   "source": [
    "#### 全局变量可以通过关键字global来定义。这分为两种情况：\n",
    "#### 一个变量已在函数外定义，如果在函数内需要为这个变量赋值，并要将这个赋值结果反映到函数外，可以在函数内使用global将其声明为全局变量。\n",
    "#### 如果一个变量在函数外没有定义，在函数内部也可以直接将一个变量定义为全局变量，该函数执行后，将增加一个新的全局变量。\n"
   ]
  },
  {
   "cell_type": "code",
   "execution_count": null,
   "metadata": {},
   "outputs": [],
   "source": [
    "def demo():\n",
    "    global x\n",
    "    x = 3\n",
    "    y = 4\n",
    "    print(x,y)\n",
    "\n",
    "x = 5\n",
    "demo()\n"
   ]
  },
  {
   "cell_type": "code",
   "execution_count": null,
   "metadata": {},
   "outputs": [],
   "source": [
    ">>> x #x为全局变量\n"
   ]
  },
  {
   "cell_type": "code",
   "execution_count": null,
   "metadata": {},
   "outputs": [],
   "source": [
    ">>> y #y为局部变量，在函数外引用将报错\n"
   ]
  },
  {
   "cell_type": "code",
   "execution_count": null,
   "metadata": {},
   "outputs": [],
   "source": [
    ">>> del x\n",
    ">>> x\n"
   ]
  },
  {
   "cell_type": "code",
   "execution_count": null,
   "metadata": {},
   "outputs": [],
   "source": [
    ">>> demo()\n"
   ]
  },
  {
   "cell_type": "code",
   "execution_count": null,
   "metadata": {},
   "outputs": [],
   "source": [
    ">>> x\n"
   ]
  },
  {
   "cell_type": "code",
   "execution_count": null,
   "metadata": {},
   "outputs": [],
   "source": [
    ">>> y\n"
   ]
  },
  {
   "cell_type": "markdown",
   "metadata": {},
   "source": [
    "#### 注意：在某个作用域内任意位置只要有为变量赋值的操作，该变量在这个作用域内就是局部变量，除非使用global进行了声明。\n"
   ]
  },
  {
   "cell_type": "code",
   "execution_count": null,
   "metadata": {},
   "outputs": [],
   "source": [
    "x = 3\n",
    "def f():\n",
    "    print(x)           #本意是先输出全局变量x的值，但是不允许这样做\n",
    "    x = 5              #有赋值操作，因此在整个作用域内x都是局部变量\n",
    "    print(x)\n",
    "\n",
    "f()\n"
   ]
  },
  {
   "cell_type": "code",
   "execution_count": null,
   "metadata": {},
   "outputs": [],
   "source": [
    "x = 3\n",
    "def f():\n",
    "    global x\n",
    "    print(x)           #本意是先输出全局变量x的值，但是不允许这样做\n",
    "    x = 5              #有赋值操作，因此在整个作用域内x都是局部变量\n",
    "    print(x)\n",
    "\n",
    "f()"
   ]
  },
  {
   "cell_type": "markdown",
   "metadata": {},
   "source": [
    "#### 如果局部变量与全局变量具有相同的名字，那么该局部变量会在自己的作用域内隐藏同名的全局变量。\n"
   ]
  },
  {
   "cell_type": "code",
   "execution_count": null,
   "metadata": {},
   "outputs": [],
   "source": [
    ">>> def demo():\n",
    "    x = 3         #创建了局部变量，并自动隐藏了同名的全局变量\n",
    ">>> x = 5\n",
    ">>> x\n"
   ]
  },
  {
   "cell_type": "code",
   "execution_count": null,
   "metadata": {},
   "outputs": [],
   "source": [
    ">>> demo()\n",
    ">>> x             #函数执行不影响外面全局变量的值\n"
   ]
  },
  {
   "cell_type": "markdown",
   "metadata": {},
   "source": [
    "#### 关键字nonlocal声明的变量会引用距离最近的非全局作用域的变量，要求声明的变量已经存在，关键字nonlocal不会创建新变量。"
   ]
  },
  {
   "cell_type": "code",
   "execution_count": null,
   "metadata": {},
   "outputs": [],
   "source": [
    "def scope_test():\n",
    "    def do_local():\n",
    "        spam = \"我是局部变量\"\n",
    "\n",
    "    def do_nonlocal():\n",
    "        nonlocal spam           #这时要求spam必须是已存在的变量\n",
    "        print(\"进入do_nonlocal后，spam:\",spam)\n",
    "        spam = \"我不是局部变量，也不是全局变量\"\n",
    "\n",
    "    def do_global():\n",
    "        global spam             #如果全局作用域内没有spam，就自动新建一个\n",
    "        spam = \"我是全局变量\"\n",
    "\n",
    "    spam = \"原来的值\"\n",
    "    do_local()\n",
    "    print(\"局部变量赋值后：\", spam)\n",
    "    do_nonlocal()\n",
    "    print(\"nonlocal变量赋值后：\", spam)\n",
    "    do_global()\n",
    "    print(\"全局变量赋值后：\", spam)\n",
    "\n",
    "scope_test()\n",
    "print(\"全局变量：\", spam)\n"
   ]
  },
  {
   "cell_type": "markdown",
   "metadata": {},
   "source": [
    "### 变量访问时的LEGB顺序：Local ==> Enclosing ==> Global ==> Builtin"
   ]
  },
  {
   "cell_type": "code",
   "execution_count": null,
   "metadata": {},
   "outputs": [],
   "source": [
    "\n",
    "x = 3\n",
    "\n",
    "def outer():\n",
    "    y = 5\n",
    "\n",
    "    # 这个自定义函数和内置函数名字相同，会在当前作用域和更内层作用域中影响内置函数map()的正常使用\n",
    "    def map():\n",
    "        return '我是假的map()函数'\n",
    "    \n",
    "    def inner():\n",
    "        x = 7\n",
    "        y = 9\n",
    "        # 最内层的作用域内，局部变量（Local）x,y优先被访问\n",
    "        # 在局部作用域、闭包作用域、全局作用域内都不存在函数max(x,y)，最后在内置作用域（Builtin）内搜索到函数max\n",
    "        # 当前作用域中不存在map()，但在外层的闭包作用域内搜索到了，并没有调用内置函数map，被拦截了\n",
    "        print('inner:', x, y, max(x,y), map())\n",
    "        \n",
    "    inner()\n",
    "    # 在当前作用域（闭包，Enclosing）内，y可以直接访问\n",
    "    # 当在当前作用域内不存在x，继续到全局作用域（Global）去搜索\n",
    "    # 当前作用域内不存在函数max，外层全局作用域也不存在，最后在内置作用域（Builtin）内搜索到函数max\n",
    "    # 当前作用域中有个map，直接调用了，没有调用内置函数map()，被拦截了\n",
    "    print('outer:', x, y, max(x,y), map())\n",
    "    \n",
    "outer()\n",
    "# 当前作用域中有x，可以直接访问，但不存在y\n",
    "# 由于当前处于全局作用域，按Python变量搜索顺序，会继续在内置作用域搜索\n",
    "# 不会去搜索Enclosing和Local作用域，但在内置作用域内也不存在y，代码引发异常\n",
    "print('outside:', x, y, max(x,y))\n"
   ]
  },
  {
   "cell_type": "markdown",
   "metadata": {},
   "source": [
    "# 5.6 lambda表达式\n"
   ]
  },
  {
   "cell_type": "code",
   "execution_count": null,
   "metadata": {},
   "outputs": [],
   "source": [
    ">>> f = lambda x, y, z: x+y+z        #可以给lambda表达式起名字\n",
    ">>> f(1,2,3)                         #像函数一样调用\n"
   ]
  },
  {
   "cell_type": "code",
   "execution_count": null,
   "metadata": {},
   "outputs": [],
   "source": [
    ">>> g = lambda x, y=2, z=3: x+y+z    #参数默认值\n",
    ">>> g(1)\n"
   ]
  },
  {
   "cell_type": "code",
   "execution_count": null,
   "metadata": {},
   "outputs": [],
   "source": [
    ">>> g(2, z=4, y=5)                   #关键参数\n"
   ]
  },
  {
   "cell_type": "code",
   "execution_count": null,
   "metadata": {},
   "outputs": [],
   "source": [
    ">>> L = [(lambda x: x**2),\n",
    "         (lambda x: x**3),\n",
    "         (lambda x: x**4)]\n",
    ">>> print(L[0](2),L[1](2),L[2](2))\n"
   ]
  },
  {
   "cell_type": "code",
   "execution_count": null,
   "metadata": {},
   "outputs": [],
   "source": [
    ">>> D = {'f1':(lambda:2+3),\n",
    "         'f2':(lambda:2*3),         \n",
    "         'f3':(lambda:2**3)}\n",
    ">>> print(D['f1'](), D['f2'](), D['f3']())\n"
   ]
  },
  {
   "cell_type": "code",
   "execution_count": null,
   "metadata": {},
   "outputs": [],
   "source": [
    ">>> L = [1,2,3,4,5]\n",
    ">>> print(list(map(lambda x: x+10, L)))        #模拟向量运算\n"
   ]
  },
  {
   "cell_type": "code",
   "execution_count": null,
   "metadata": {},
   "outputs": [],
   "source": [
    ">>> L\n"
   ]
  },
  {
   "cell_type": "code",
   "execution_count": null,
   "metadata": {},
   "outputs": [],
   "source": [
    ">>> def demo(n):\n",
    "    return n*n\n",
    "\n",
    ">>> demo(5)\n"
   ]
  },
  {
   "cell_type": "code",
   "execution_count": null,
   "metadata": {},
   "outputs": [],
   "source": [
    ">>> a_list = [1,2,3,4,5]\n",
    ">>> list(map(lambda x: demo(x), a_list))  #在lambda表达式中调用函数\n"
   ]
  },
  {
   "cell_type": "code",
   "execution_count": null,
   "metadata": {},
   "outputs": [],
   "source": [
    ">>> data = list(range(20))           #创建列表\n",
    ">>> data\n"
   ]
  },
  {
   "cell_type": "code",
   "execution_count": null,
   "metadata": {},
   "outputs": [],
   "source": [
    ">>> import random\n",
    ">>> random.shuffle(data)             #打乱顺序\n",
    ">>> data\n"
   ]
  },
  {
   "cell_type": "code",
   "execution_count": null,
   "metadata": {},
   "outputs": [],
   "source": [
    ">>> data.sort(key=lambda x: x)       #和不指定规则效果一样\n",
    ">>> data\n"
   ]
  },
  {
   "cell_type": "code",
   "execution_count": null,
   "metadata": {},
   "outputs": [],
   "source": [
    ">>> data.sort(key=lambda x: len(str(x))) #按转换成字符串以后的长度排序\n",
    ">>> data\n"
   ]
  },
  {
   "cell_type": "code",
   "execution_count": null,
   "metadata": {},
   "outputs": [],
   "source": [
    ">>> data.sort(key=lambda x: len(str(x)), reverse=True)  #降序排序\n",
    ">>> data\n"
   ]
  },
  {
   "cell_type": "code",
   "execution_count": null,
   "metadata": {},
   "outputs": [],
   "source": [
    ">>> import random\n",
    ">>> x = [[random.randint(1,10) for j in range(5)] for i in range(5)]\n",
    "                                    #使用列表推导式创建列表\n",
    "                                    #包含5个子列表的列表\n",
    "                                    #每个子列表中包含5个1到10之间的随机数\n",
    ">>> for item in x:\n",
    "    print(item)\t\n"
   ]
  },
  {
   "cell_type": "code",
   "execution_count": null,
   "metadata": {},
   "outputs": [],
   "source": [
    ">>> y = sorted(x, key=lambda item: (item[1], item[4]))\n",
    "                               #按子列表中第2个元素升序、第5个元素升序排序\n",
    ">>> for item in y:\n",
    "    print(item)"
   ]
  },
  {
   "cell_type": "markdown",
   "metadata": {},
   "source": [
    "# 5.7 案例精选\n"
   ]
  },
  {
   "cell_type": "markdown",
   "metadata": {},
   "source": [
    "例5-15  编写函数，模拟轮盘抽奖游戏。\n",
    "轮盘抽奖是比较常见的一种游戏，在轮盘上有一个指针和一些不同颜色、不同面积的扇形，用力转动轮盘，轮盘慢慢停下后依靠指针所处的位置来判定是否中奖以及奖项等级。本例中的函数名和很多变量名使用了中文，这在Python 3.x中是完全允许的。\n"
   ]
  },
  {
   "cell_type": "code",
   "execution_count": null,
   "metadata": {},
   "outputs": [],
   "source": [
    "from random import random\n",
    "\n",
    "def 轮盘赌(奖项分布):\n",
    "    本次转盘读数 = random()\n",
    "    for k, v in 奖项分布.items():\n",
    "        if v[0]<=本次转盘读数<v[1]:\n",
    "            return k\n",
    "        \n",
    "#各奖项在轮盘上所占比例\n",
    "奖项分布 = {'一等奖':(0, 0.08),\n",
    "           '二等奖':(0.08, 0.3),\n",
    "           '三等奖':(0.3, 1.0)}\n",
    "\n",
    "中奖情况 = dict()\n",
    "\n",
    "for i in range(10000):\n",
    "    本次战况 = 轮盘赌(奖项分布)\n",
    "    中奖情况[本次战况] = 中奖情况.get(本次战况, 0) + 1\n",
    "\n",
    "for item in 中奖情况.items():\n",
    "    print(item)\n"
   ]
  },
  {
   "cell_type": "markdown",
   "metadata": {},
   "source": [
    "# 5.8 高级话题——生成器函数\n"
   ]
  },
  {
   "cell_type": "markdown",
   "metadata": {},
   "source": [
    "### 包含yield语句的函数可以用来创建生成器对象，这样的函数也称生成器函数。\n"
   ]
  },
  {
   "cell_type": "markdown",
   "metadata": {},
   "source": [
    "### 每次执行到yield语句会返回一个值然后暂停或挂起后面代码的执行"
   ]
  },
  {
   "cell_type": "markdown",
   "metadata": {},
   "source": [
    "### 生成器对象具有惰性求值的特点，适合大数据处理。"
   ]
  },
  {
   "cell_type": "code",
   "execution_count": null,
   "metadata": {},
   "outputs": [],
   "source": [
    ">>> def f():\n",
    "    a, b = 1, 1            #序列解包，同时为多个元素赋值\n",
    "    while True:\n",
    "        yield a            #暂停执行，需要时再产生一个新元素\n",
    "        a, b = b, a+b      #序列解包，继续生成新元素\n"
   ]
  },
  {
   "cell_type": "code",
   "execution_count": null,
   "metadata": {
    "scrolled": true
   },
   "outputs": [],
   "source": [
    ">>> x = f()                #创建生成器对象\n",
    ">>> for i in range(10):    #斐波那契数列中前10个元素\n",
    "    print(x.__next__(), end=' ')\n"
   ]
  },
  {
   "cell_type": "code",
   "execution_count": null,
   "metadata": {},
   "outputs": [],
   "source": [
    ">>> for i in f():         #斐波那契数列中第一个大于100的元素\n",
    "    if i > 100:\n",
    "        print(i, end=' ')\n",
    "        break\n"
   ]
  },
  {
   "cell_type": "code",
   "execution_count": null,
   "metadata": {},
   "outputs": [],
   "source": [
    ">>> a = f()               #创建生成器对象\n",
    ">>> next(a)               #使用内置函数next()获取生成器对象中的元素\n"
   ]
  },
  {
   "cell_type": "code",
   "execution_count": null,
   "metadata": {},
   "outputs": [],
   "source": [
    ">>> next(a)               #每次索取新元素时，由yield语句生成\n",
    ">>> next(a)               #每次索取新元素时，由yield语句生成\n"
   ]
  },
  {
   "cell_type": "code",
   "execution_count": null,
   "metadata": {},
   "outputs": [],
   "source": [
    ">>> a.__next__()          #也可以调用生成器对象的__next__()方法\n"
   ]
  },
  {
   "cell_type": "code",
   "execution_count": null,
   "metadata": {},
   "outputs": [],
   "source": [
    ">>> a.__next__()          #也可以调用生成器对象的__next__()方法\n"
   ]
  },
  {
   "cell_type": "code",
   "execution_count": null,
   "metadata": {},
   "outputs": [],
   "source": [
    ">>> def f():\n",
    "    yield from 'abcdefg'        #使用yield表达式创建生成器\n",
    "\n",
    ">>> x = f()\n",
    ">>> next(x)\n"
   ]
  },
  {
   "cell_type": "code",
   "execution_count": null,
   "metadata": {},
   "outputs": [],
   "source": [
    ">>> next(x)\n"
   ]
  },
  {
   "cell_type": "code",
   "execution_count": null,
   "metadata": {},
   "outputs": [],
   "source": [
    ">>> for item in x:              #输出x中的剩余元素\n",
    "    print(item, end=' ')\n"
   ]
  },
  {
   "cell_type": "code",
   "execution_count": null,
   "metadata": {},
   "outputs": [],
   "source": [
    ">>> def gen():\n",
    "    yield 1\n",
    "    yield 2\n",
    "    yield 3\n",
    "\n",
    ">>> x, y, z = gen()          #生成器对象支持序列解包\n",
    ">>> print(x,y,z)"
   ]
  },
  {
   "cell_type": "code",
   "execution_count": null,
   "metadata": {},
   "outputs": [],
   "source": [
    "def myReversed(lst):        #模拟内置函数reversed()\n",
    "    for item in lst[::-1]:\n",
    "        yield item\n",
    "\n",
    "lst = list(range(5))\n",
    "r = myReversed(lst)\n",
    "print(next(r))\n",
    "print(next(r))\n"
   ]
  },
  {
   "cell_type": "markdown",
   "metadata": {},
   "source": [
    "#### 生成器的应用：例5-24  伪随机数生成器。\n",
    "#### 伪随机数生成有很多种方法，其中一个是这样的：rNew = (a*rOld + b) % (end-start)，然后设置rOld = rNew，一般要求用户指定种子数rOld，当然也可以自由选择a和b，但是这两个数如果选择不好，可能会影响数字的随机性。\n"
   ]
  },
  {
   "cell_type": "code",
   "execution_count": null,
   "metadata": {},
   "outputs": [],
   "source": [
    "def randint(start, end, seed=999999):\n",
    "    a = 32310901\n",
    "    b = 1729\n",
    "    rOld = seed\n",
    "    m = end-start\n",
    "    while True:\n",
    "        rNew = (a*rOld + b) % m\n",
    "        yield rNew\n",
    "        rOld = rNew\n",
    "\n",
    "# 模拟20次，每次使用不同的种子\n",
    "for _ in range(20):\n",
    "    rnd = randint(1, 10000, _)\n",
    "    # 生成指定序列的前10个伪随机数\n",
    "    for _ in range(10):\n",
    "        print(next(rnd), end=' ')\n",
    "    print()\n"
   ]
  },
  {
   "cell_type": "markdown",
   "metadata": {},
   "source": [
    "# 5.8 高级话题——查看字节码指令\n"
   ]
  },
  {
   "cell_type": "code",
   "execution_count": null,
   "metadata": {},
   "outputs": [],
   "source": [
    ">>> def add(n):\n",
    "    n += 1\n",
    "    return n\n",
    "\n",
    ">>> import dis\n",
    ">>> dis.dis(add)\n"
   ]
  },
  {
   "cell_type": "markdown",
   "metadata": {},
   "source": [
    "# 5.8 高级话题——修饰器"
   ]
  },
  {
   "cell_type": "code",
   "execution_count": 10,
   "metadata": {},
   "outputs": [
    {
     "name": "stdout",
     "output_type": "stream",
     "text": [
      "Before function called.\n",
      "3\n",
      "After function called.\n"
     ]
    }
   ],
   "source": [
    "def before(func):                       #定义修饰器\n",
    "    def wrapper(*args, **kwargs):\n",
    "        print('Before function called.')\n",
    "        return func(*args, **kwargs)\n",
    "    return wrapper\n",
    "\n",
    "def after(func):                        #定义修饰器\n",
    "    def wrapper(*args, **kwargs):\n",
    "        result = func(*args, **kwargs)\n",
    "        print('After function called.')\n",
    "        return result\n",
    "    return wrapper\n",
    "\n",
    "@before\n",
    "@after\n",
    "def test():                             #同时使用两个修饰器改造函数\n",
    "    print(3)\n",
    "\n",
    "    \n",
    "test()                                  #调用被修饰的函数\n"
   ]
  },
  {
   "cell_type": "code",
   "execution_count": 11,
   "metadata": {},
   "outputs": [],
   "source": [
    "import timeit\n",
    "\n",
    "\n",
    "def claTime(func):\n",
    "    def wrapper(*args, **kwargs):\n",
    "        start = timeit.default_timer()\n",
    "        func(*args, **kwargs)\n",
    "        end = timeit.default_timer()\n",
    "        print(f\"{func.__name__}方法运行时长：{round(end - start, 2)}秒\", )\n",
    "\n",
    "    return wrapper\n"
   ]
  },
  {
   "cell_type": "code",
   "execution_count": 12,
   "metadata": {},
   "outputs": [
    {
     "name": "stdout",
     "output_type": "stream",
     "text": [
      "3\n",
      "test方法运行时长：0.0秒\n"
     ]
    }
   ],
   "source": [
    "@claTime\n",
    "def test():                             #同时使用两个修饰器改造函数\n",
    "    print(3)\n",
    "\n",
    "    \n",
    "test()                                  #调用被修饰的函数"
   ]
  },
  {
   "cell_type": "markdown",
   "metadata": {},
   "source": [
    "### 下面的代码完整地演示了嵌套函数定义与使用的方法，有效利用了用户名检查功能的代码。\n"
   ]
  },
  {
   "cell_type": "code",
   "execution_count": null,
   "metadata": {},
   "outputs": [],
   "source": [
    "def check_permission(func):\n",
    "    def wrapper(*args, **kwargs):\n",
    "        if kwargs.get('username')!='admin':\n",
    "            raise Exception('Sorry. You are not allowed.')\n",
    "        return func(*args, **kwargs)\n",
    "    return wrapper\n"
   ]
  },
  {
   "cell_type": "code",
   "execution_count": null,
   "metadata": {},
   "outputs": [],
   "source": [
    "class ReadWriteFile(object):\n",
    "    #把函数check_permission作为装饰器使用\n",
    "    @check_permission\n",
    "    def read(self, username, filename):\n",
    "        return open(filename,'r').read()\n",
    "\n",
    "    def write(self, username, filename, content):\n",
    "        open(filename,'a+').write(content)\n",
    "    \n",
    "    #把函数check_permission作为普通函数使用\n",
    "    write = check_permission(write)\n"
   ]
  },
  {
   "cell_type": "code",
   "execution_count": null,
   "metadata": {},
   "outputs": [],
   "source": [
    "t = ReadWriteFile()\n",
    "print('Originally.......')\n",
    "print(t.read(username='admin', filename=r'sample.txt'))\n",
    "print('Now, try to write to a file........')\n",
    "t.write(username='admin', filename=r'sample.txt', content='\\nhello world')\n",
    "print('After calling to write...........')\n",
    "print(t.read(username='admin', filename=r'sample.txt'))\n"
   ]
  },
  {
   "cell_type": "markdown",
   "metadata": {},
   "source": [
    "### 使用修饰器对函数的关键参数和位置参数进行检查，如果发现有参数没有以关键参数形式传值则抛出异常。\n"
   ]
  },
  {
   "cell_type": "code",
   "execution_count": null,
   "metadata": {},
   "outputs": [],
   "source": [
    "def mustBeKeywords(func):\n",
    "    import inspect\n",
    "    #获取位置参数和默认值参数列表\n",
    "    positions = inspect.getfullargspec(func).args\n",
    "    def wrapper(*args, **kwargs):\n",
    "        for pos in positions:\n",
    "            if pos not in kwargs:\n",
    "                raise Exception(pos+' must be keyword parameter')\n",
    "        return func(*args, **kwargs)\n",
    "    return wrapper\n",
    "\n",
    "@mustBeKeywords\n",
    "def demo(a, b, c):\n",
    "    print(a, b, c)\n",
    "\n",
    "demo(1,b=2,c=3)"
   ]
  },
  {
   "cell_type": "code",
   "execution_count": null,
   "metadata": {},
   "outputs": [],
   "source": []
  }
 ],
 "metadata": {
  "kernelspec": {
   "display_name": "Python 3",
   "language": "python",
   "name": "python3"
  },
  "language_info": {
   "codemirror_mode": {
    "name": "ipython",
    "version": 3
   },
   "file_extension": ".py",
   "mimetype": "text/x-python",
   "name": "python",
   "nbconvert_exporter": "python",
   "pygments_lexer": "ipython3",
   "version": "3.7.2"
  }
 },
 "nbformat": 4,
 "nbformat_minor": 4
}
