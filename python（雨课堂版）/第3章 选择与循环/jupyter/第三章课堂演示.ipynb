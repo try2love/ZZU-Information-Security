{
 "cells": [
  {
   "cell_type": "markdown",
   "metadata": {},
   "source": [
    "# 条件表达式\n"
   ]
  },
  {
   "cell_type": "markdown",
   "metadata": {},
   "source": [
    "关系运算符：>、<、==、<=、>=、!=，可以连续使用"
   ]
  },
  {
   "cell_type": "code",
   "execution_count": null,
   "metadata": {},
   "outputs": [],
   "source": [
    ">>> 1<2<3"
   ]
  },
  {
   "cell_type": "code",
   "execution_count": null,
   "metadata": {},
   "outputs": [],
   "source": [
    ">>> 1<2>3"
   ]
  },
  {
   "cell_type": "code",
   "execution_count": null,
   "metadata": {},
   "outputs": [],
   "source": [
    ">>> 1<3>2"
   ]
  },
  {
   "cell_type": "markdown",
   "metadata": {},
   "source": [
    "<font color=red>注意！几乎所有的Python合法表达式都可以作为条件表达式，包括含有函数调用的表达式</font>"
   ]
  },
  {
   "cell_type": "markdown",
   "metadata": {},
   "source": [
    "<font color=red>条件表达式的值只要不是False、0（或0.0、0j等）、空值None、空列表、空元组、空集合、空字典、空字符串、空range对象或其他空迭代对象，Python解释器均认为与True等价</font>"
   ]
  },
  {
   "cell_type": "code",
   "execution_count": null,
   "metadata": {},
   "outputs": [],
   "source": [
    ">>> if 3:              #使用整数作为条件表达式\n",
    "     print(5)"
   ]
  },
  {
   "cell_type": "code",
   "execution_count": null,
   "metadata": {},
   "outputs": [],
   "source": [
    ">>> a = [1, 2, 3]\n",
    ">>> if a:              #使用列表作为条件表达式\n",
    "     print(a)"
   ]
  },
  {
   "cell_type": "code",
   "execution_count": null,
   "metadata": {},
   "outputs": [],
   "source": [
    ">>> a = []\n",
    "if a:              #空列表\n",
    "    print(a)\n",
    "else:\n",
    "    print('empty')"
   ]
  },
  {
   "cell_type": "code",
   "execution_count": null,
   "metadata": {},
   "outputs": [],
   "source": [
    ">>> i = s = 0\n",
    ">>> while i <= 10:              #使用关系表达式作为条件表达式\n",
    "    s += i\n",
    "    i += 1\n",
    ">>> print(s)"
   ]
  },
  {
   "cell_type": "code",
   "execution_count": null,
   "metadata": {},
   "outputs": [],
   "source": [
    ">>> i = s = 0\n",
    ">>> while True:                 #使用常量True作为条件表达式\n",
    "    s += i\n",
    "    i += 1\n",
    "    if i > 10:\n",
    "        break\n",
    ">>> print(s)"
   ]
  },
  {
   "cell_type": "markdown",
   "metadata": {},
   "source": [
    "逻辑运算符and和or以及关系运算符具有惰性求值特点，只计算必须计算的表达式"
   ]
  },
  {
   "cell_type": "markdown",
   "metadata": {},
   "source": [
    "在设计条件表达式时，如果能够大概预测不同条件失败的概率，并将多个条件根据“and”和“or”运算的短路求值特性来组织先后顺序，可以大幅度提高程序运行效率。\n"
   ]
  },
  {
   "cell_type": "code",
   "execution_count": null,
   "metadata": {},
   "outputs": [],
   "source": [
    ">>> def Join(chList, sep=None):\n",
    "        return (sep or ',').join(chList)\n",
    ">>> chTest = ['1', '2', '3', '4', '5']"
   ]
  },
  {
   "cell_type": "code",
   "execution_count": null,
   "metadata": {},
   "outputs": [],
   "source": [
    ">>> Join(chTest)"
   ]
  },
  {
   "cell_type": "code",
   "execution_count": null,
   "metadata": {
    "scrolled": true
   },
   "outputs": [],
   "source": [
    ">>> Join(chTest, ':')"
   ]
  },
  {
   "cell_type": "code",
   "execution_count": null,
   "metadata": {},
   "outputs": [],
   "source": [
    ">>> Join(chTest, ' ')"
   ]
  },
  {
   "cell_type": "markdown",
   "metadata": {},
   "source": [
    "条件表达式中不允许使用赋值运算符“=”"
   ]
  },
  {
   "cell_type": "code",
   "execution_count": null,
   "metadata": {},
   "outputs": [],
   "source": [
    ">>> a=3\n",
    ">>> if a=3:\n",
    "        print('yes')"
   ]
  },
  {
   "cell_type": "code",
   "execution_count": null,
   "metadata": {},
   "outputs": [],
   "source": [
    ">>> a=3\n",
    ">>> if a==3:\n",
    "        print('yes')"
   ]
  },
  {
   "cell_type": "code",
   "execution_count": null,
   "metadata": {},
   "outputs": [],
   "source": [
    ">>> if (a=3) and (b=4):"
   ]
  },
  {
   "cell_type": "markdown",
   "metadata": {},
   "source": [
    "# 分支结构\n"
   ]
  },
  {
   "cell_type": "markdown",
   "metadata": {},
   "source": [
    "## 单分支选择结构\n"
   ]
  },
  {
   "cell_type": "code",
   "execution_count": null,
   "metadata": {},
   "outputs": [],
   "source": [
    "x = input('Input two number:')\n",
    "a, b = map(int, x.split())\n",
    "if a > b:\n",
    "   a, b = b, a               #序列解包，交换两个变量的值\n",
    "print(a, b)"
   ]
  },
  {
   "cell_type": "markdown",
   "metadata": {},
   "source": [
    "## 双分支结构\n"
   ]
  },
  {
   "cell_type": "code",
   "execution_count": null,
   "metadata": {},
   "outputs": [],
   "source": [
    ">>> chTest = ['1', '2', '3', '4', '5']\n",
    ">>> if chTest:\n",
    "    print(chTest)\n",
    "else:\n",
    "    print('Empty')"
   ]
  },
  {
   "cell_type": "markdown",
   "metadata": {},
   "source": [
    "Python还支持如下形式的表达式：<br/>\n",
    "value1 if condition else value2\n"
   ]
  },
  {
   "cell_type": "code",
   "execution_count": null,
   "metadata": {},
   "outputs": [],
   "source": [
    ">>> a = 5\n",
    ">>> print(6) if a>3 else print(5)"
   ]
  },
  {
   "cell_type": "code",
   "execution_count": null,
   "metadata": {},
   "outputs": [],
   "source": [
    ">>> print(6 if a>3 else 5)"
   ]
  },
  {
   "cell_type": "code",
   "execution_count": null,
   "metadata": {},
   "outputs": [],
   "source": [
    ">>> b = 6 if a>13 else 9\n",
    ">>> b"
   ]
  },
  {
   "cell_type": "markdown",
   "metadata": {},
   "source": [
    "惰性求值"
   ]
  },
  {
   "cell_type": "code",
   "execution_count": null,
   "metadata": {},
   "outputs": [],
   "source": [
    "#此时还没有导入math模块\n",
    ">>> x = math.sqrt(9) if 5>3 else random.randint(1, 100)"
   ]
  },
  {
   "cell_type": "code",
   "execution_count": null,
   "metadata": {},
   "outputs": [],
   "source": [
    ">>> import math\n",
    "#此时还没有导入random模块，但由于条件表达式5>3的值为True，所以可以正常运行\n",
    ">>> x = math.sqrt(9) if 5>3 else random.randint(1,100) \n",
    "x"
   ]
  },
  {
   "cell_type": "code",
   "execution_count": null,
   "metadata": {},
   "outputs": [],
   "source": [
    "#此时还没有导入random模块，由于条件表达式2>3的值为False，需要计算第二个表达式的值，因此出错\n",
    ">>> x = math.sqrt(9) if 2>3 else random.randint(1, 100)"
   ]
  },
  {
   "cell_type": "code",
   "execution_count": null,
   "metadata": {},
   "outputs": [],
   "source": [
    ">>> import random\n",
    ">>> x = math.sqrt(9) if 2>3 else random.randint(1, 100)\n",
    "x"
   ]
  },
  {
   "cell_type": "markdown",
   "metadata": {},
   "source": [
    "## 多分支结构\n"
   ]
  },
  {
   "cell_type": "markdown",
   "metadata": {},
   "source": [
    "利用多分支选择结构将成绩从百分制变换到等级制"
   ]
  },
  {
   "cell_type": "code",
   "execution_count": null,
   "metadata": {},
   "outputs": [],
   "source": [
    "def func(score):\n",
    "    if score > 100:\n",
    "        return 'wrong score.must <= 100.'\n",
    "    elif score >= 90:\n",
    "        return 'A'\n",
    "    elif score >= 80:\n",
    "        return 'B'\n",
    "    elif score >= 70:\n",
    "        return 'C'\n",
    "    elif score >= 60:\n",
    "        return 'D'\n",
    "    elif score >= 0:\n",
    "        return 'E'\n",
    "    else:\n",
    "        return 'wrong score.must >0'\n"
   ]
  },
  {
   "cell_type": "code",
   "execution_count": null,
   "metadata": {},
   "outputs": [],
   "source": [
    "func(65)"
   ]
  },
  {
   "cell_type": "markdown",
   "metadata": {},
   "source": [
    "## 选择结构的嵌套\n"
   ]
  },
  {
   "cell_type": "markdown",
   "metadata": {},
   "source": [
    "使用嵌套的选择结构实现百分制成绩到等级制的转换"
   ]
  },
  {
   "cell_type": "code",
   "execution_count": null,
   "metadata": {},
   "outputs": [],
   "source": [
    ">>> def func(score):\n",
    "    degree = 'DCBAAE'\n",
    "    if score > 100 or score < 0:\n",
    "        return 'wrong score.must between 0 and 100.'\n",
    "    else:\n",
    "        index = (score - 60)//10\n",
    "        if index >= 0:\n",
    "            return degree[index]\n",
    "        else:\n",
    "            return degree[-1]"
   ]
  },
  {
   "cell_type": "code",
   "execution_count": null,
   "metadata": {},
   "outputs": [],
   "source": [
    "func(65)"
   ]
  },
  {
   "cell_type": "markdown",
   "metadata": {},
   "source": [
    "## 构建跳转表实现多分支选择结构\n"
   ]
  },
  {
   "cell_type": "markdown",
   "metadata": {},
   "source": [
    "使用列表、元组或字典可以很容易构建跳转表，在某些场合下可以更快速地实现类似于多分支选择结构的功能。\n"
   ]
  },
  {
   "cell_type": "code",
   "execution_count": null,
   "metadata": {
    "ExecuteTime": {
     "end_time": "2021-10-22T08:37:25.526722Z",
     "start_time": "2021-10-22T08:37:23.251739Z"
    }
   },
   "outputs": [],
   "source": [
    "funcDict = {'1':lambda:print('You input 1'),\n",
    "            '2':lambda:print('You input 2'),\n",
    "            '3':lambda:print('You input 3')}\n",
    "x = input('Input an integer to call different function:')\n",
    "func = funcDict.get(x, None)\n",
    "if func:\n",
    "    func()\n",
    "else:\n",
    "    print('Wrong integer.')\n"
   ]
  },
  {
   "cell_type": "markdown",
   "metadata": {},
   "source": [
    "## 选择结构应用\n"
   ]
  },
  {
   "cell_type": "markdown",
   "metadata": {},
   "source": [
    "例3-1：面试资格确认"
   ]
  },
  {
   "cell_type": "code",
   "execution_count": null,
   "metadata": {},
   "outputs": [],
   "source": [
    "age=24\n",
    "subject=\"计算机\"\n",
    "college=\"非重点\"\n",
    "\n",
    "if (age > 25 and subject==\"电子信息工程\") or \\\n",
    "   (college==\"重点\" and subject==\"电子信息工程\" ) or\\\n",
    "   (age<=28 and subject==\"计算机\"):\n",
    "    print(\"恭喜，你已获得我公司的面试机会!\")\n",
    "else:\n",
    "    print(\"抱歉，你未达到面试要求\")\n"
   ]
  },
  {
   "cell_type": "markdown",
   "metadata": {},
   "source": [
    "# 循环结构\n"
   ]
  },
  {
   "cell_type": "markdown",
   "metadata": {},
   "source": [
    "## for循环与while循环\n"
   ]
  },
  {
   "cell_type": "markdown",
   "metadata": {},
   "source": [
    "## 循环结构的优化\n"
   ]
  },
  {
   "cell_type": "markdown",
   "metadata": {},
   "source": [
    "在使用模块中的方法时，可以通过将其直接导入来减少查询次数和提高运行速度。"
   ]
  },
  {
   "cell_type": "code",
   "execution_count": null,
   "metadata": {},
   "outputs": [],
   "source": [
    "import time\n",
    "import math\n",
    "\n",
    "start = time.time()                    #获取当前时间\n",
    "for i in range(10000000):\n",
    "    math.sin(i)\n",
    "print('Time Used:', time.time()-start) #输出所用时间\n",
    "\n",
    "loc_sin = math.sin\n",
    "start = time.time()\n",
    "for i in range(10000000):\n",
    "    loc_sin(i)\n",
    "print('Time Used:', time.time()-start)"
   ]
  },
  {
   "cell_type": "markdown",
   "metadata": {},
   "source": [
    "# break和continue语句\n"
   ]
  },
  {
   "cell_type": "markdown",
   "metadata": {},
   "source": [
    "下面的代码用来计算小于100的最大素数，注意break语句和else子句的用法"
   ]
  },
  {
   "cell_type": "code",
   "execution_count": null,
   "metadata": {},
   "outputs": [],
   "source": [
    ">>> for n in range(100, 1, -1):\n",
    "        for i in range(2, n):\n",
    "            if n%i == 0:\n",
    "                break\n",
    "        else:\n",
    "            print(n)\n",
    "            break"
   ]
  },
  {
   "cell_type": "markdown",
   "metadata": {},
   "source": [
    "删除上面代码中最后一个break语句，则可以用来输出100以内的所有素数"
   ]
  },
  {
   "cell_type": "code",
   "execution_count": null,
   "metadata": {},
   "outputs": [],
   "source": [
    ">>> for n in range(100, 1, -1):\n",
    "        for i in range(2, n):\n",
    "            if n%i == 0:\n",
    "                break\n",
    "        else:\n",
    "            print(n, end=' ')\n"
   ]
  },
  {
   "cell_type": "markdown",
   "metadata": {},
   "source": [
    "警惕continue可能带来的问题：永不结束的死循环\n"
   ]
  },
  {
   "cell_type": "code",
   "execution_count": null,
   "metadata": {
    "ExecuteTime": {
     "end_time": "2021-10-22T06:28:38.292607Z",
     "start_time": "2021-10-22T06:28:32.674595Z"
    }
   },
   "outputs": [],
   "source": [
    ">>> i=0\n",
    ">>> while i<10:\n",
    "        if i%2==0:\n",
    "            continue\n",
    "        print(i)\n",
    "        i = i+1\n"
   ]
  },
  {
   "cell_type": "markdown",
   "metadata": {},
   "source": [
    "改一下"
   ]
  },
  {
   "cell_type": "code",
   "execution_count": null,
   "metadata": {},
   "outputs": [],
   "source": [
    ">>> for i in range(10):\n",
    "        if i%2==0:\n",
    "            continue\n",
    "        print(i, end=' ')\n"
   ]
  },
  {
   "cell_type": "markdown",
   "metadata": {},
   "source": [
    "注意一个情况"
   ]
  },
  {
   "cell_type": "code",
   "execution_count": null,
   "metadata": {},
   "outputs": [],
   "source": [
    ">>> for i in range(10):\n",
    "        if i%2==0:\n",
    "            i+=1       #没有用\n",
    "            continue\n",
    "        print(i, end=' ')"
   ]
  },
  {
   "cell_type": "markdown",
   "metadata": {},
   "source": [
    "每次进入循环时的i已经不再是上一次的i，所以修改其值并不会影响循环的执行。\n"
   ]
  },
  {
   "cell_type": "code",
   "execution_count": null,
   "metadata": {},
   "outputs": [],
   "source": [
    ">>> for i in range(7):\n",
    "        print(id(i),':',i)\n"
   ]
  },
  {
   "cell_type": "markdown",
   "metadata": {},
   "source": [
    "# 案例精选\n"
   ]
  },
  {
   "cell_type": "markdown",
   "metadata": {},
   "source": [
    "## 例3-23  递归算法计算组合数"
   ]
  },
  {
   "cell_type": "markdown",
   "metadata": {},
   "source": [
    "组合数计算公式：\n",
    "C(n,m)=n!/((n-m)!*m!)（m≤n）\n",
    "\n",
    "从n个不同元素中，任取m(m≤n)个元素并成一组，叫做从n个不同元素中取出m个元素的一个组合"
   ]
  },
  {
   "cell_type": "code",
   "execution_count": 4,
   "metadata": {
    "ExecuteTime": {
     "end_time": "2021-10-22T09:09:21.628386Z",
     "start_time": "2021-10-22T09:09:05.637959Z"
    }
   },
   "outputs": [
    {
     "name": "stdout",
     "output_type": "stream",
     "text": [
      "75287520\n"
     ]
    }
   ],
   "source": [
    "def cni(n, i):\n",
    "    if n==i or i==0:\n",
    "        return 1\n",
    "    return cni(n-1, i) + cni(n-1, i-1)\n",
    "\n",
    "print(cni(100,5))\n"
   ]
  },
  {
   "cell_type": "code",
   "execution_count": 5,
   "metadata": {
    "ExecuteTime": {
     "end_time": "2021-10-22T09:11:17.444453Z",
     "start_time": "2021-10-22T09:11:17.428463Z"
    }
   },
   "outputs": [
    {
     "name": "stdout",
     "output_type": "stream",
     "text": [
      "8250291250200\n"
     ]
    }
   ],
   "source": [
    "from functools import lru_cache\n",
    "\n",
    "@lru_cache(maxsize=1024)\n",
    "def cni(n, i):\n",
    "    if n==i or i==0:\n",
    "        return 1\n",
    "    return cni(n-1, i) + cni(n-1, i-1)\n",
    "\n",
    "print(cni(1000,5))"
   ]
  },
  {
   "cell_type": "markdown",
   "metadata": {},
   "source": [
    "python 的记忆功能，用于递归函数， lru_cache()\n",
    "functools.lru_cache的作用主要是用来做缓存，他能把相对耗时的函数结果进行保存，避免传入相同的参数重复计算。同时，缓存并不会无限增长，不用的缓存会被释放。"
   ]
  },
  {
   "cell_type": "markdown",
   "metadata": {},
   "source": [
    "## 例3-24  编写程序，输出星号组成的菱形。\n"
   ]
  },
  {
   "cell_type": "code",
   "execution_count": null,
   "metadata": {
    "ExecuteTime": {
     "end_time": "2021-10-22T07:39:37.508449Z",
     "start_time": "2021-10-22T07:39:37.492450Z"
    }
   },
   "outputs": [],
   "source": [
    "def main(n):\n",
    "    for i in range(n):\n",
    "        print((' * '*i).center(n*3))\n",
    "    for i in range(n, 0, -1):\n",
    "        print((' * '*i).center(n*3))"
   ]
  },
  {
   "cell_type": "code",
   "execution_count": null,
   "metadata": {
    "ExecuteTime": {
     "end_time": "2021-10-22T07:39:39.364691Z",
     "start_time": "2021-10-22T07:39:39.347737Z"
    }
   },
   "outputs": [],
   "source": [
    "main(6)"
   ]
  },
  {
   "cell_type": "code",
   "execution_count": null,
   "metadata": {
    "ExecuteTime": {
     "end_time": "2021-10-22T07:39:41.868525Z",
     "start_time": "2021-10-22T07:39:41.861542Z"
    }
   },
   "outputs": [],
   "source": [
    "main(12)"
   ]
  },
  {
   "cell_type": "markdown",
   "metadata": {},
   "source": [
    "Python 字符串 center() 方法：使用指定的字符（默认为空格）作为填充字符使字符串居中对齐。"
   ]
  },
  {
   "cell_type": "markdown",
   "metadata": {},
   "source": [
    "打印单词 \"banana\"，占用 20 个字符，并使 \"banana\" 居中："
   ]
  },
  {
   "cell_type": "code",
   "execution_count": null,
   "metadata": {},
   "outputs": [],
   "source": [
    "txt = \"banana\"\n",
    "x = txt.center(20)\n",
    "print(x)"
   ]
  },
  {
   "cell_type": "code",
   "execution_count": null,
   "metadata": {},
   "outputs": [],
   "source": [
    "txt = \"banana\"\n",
    "x = txt.center(20, \"O\")\n",
    "print(x)"
   ]
  },
  {
   "cell_type": "markdown",
   "metadata": {},
   "source": [
    "## 例3-27  每天固定时间定时自动执行特定任务。"
   ]
  },
  {
   "cell_type": "code",
   "execution_count": null,
   "metadata": {
    "ExecuteTime": {
     "start_time": "2021-10-22T07:40:09.186Z"
    }
   },
   "outputs": [],
   "source": [
    "import datetime\n",
    "import time\n",
    "\n",
    "def doSth():\n",
    "    print('test')\n",
    "    # 假设做这件事情需要一分钟\n",
    "    time.sleep(60)\n",
    "\n",
    "def main(h=0, m=0):\n",
    "    '''h表示设定的小时，m为设定的分钟'''\n",
    "    while True:\n",
    "        # 判断是否达到设定时间，例如0:00\n",
    "        while True:\n",
    "            now = datetime.datetime.now()\n",
    "            # 到达设定时间，结束内循环\n",
    "            if now.hour==h and now.minute==m:\n",
    "                break\n",
    "            # 不到时间就等20秒之后再次检测\n",
    "            time.sleep(20)\n",
    "        # 做正事，一天做一次\n",
    "        doSth()\n",
    "\n",
    "main(23,10)\n"
   ]
  },
  {
   "cell_type": "markdown",
   "metadata": {},
   "source": [
    "使用扩展库schedule实现更强大的任务调用功能"
   ]
  },
  {
   "cell_type": "code",
   "execution_count": null,
   "metadata": {
    "ExecuteTime": {
     "start_time": "2021-10-22T07:40:31.267Z"
    }
   },
   "outputs": [],
   "source": [
    "import time\n",
    "import schedule\n",
    "\n",
    "def myJob1():\n",
    "    print('Job1:我30秒执行一次，每次执行3秒')\n",
    "    time.sleep(3)\n",
    "schedule.every(30).seconds.do(myJob1)\n",
    "\n",
    "def myJob2():\n",
    "    print('Job2:我1分钟执行一次，每次执行5秒')\n",
    "    time.sleep(5)\n",
    "schedule.every(1).minutes.do(myJob2)\n",
    "\n",
    "def myJob3():\n",
    "    print('Job3:我每天上午10:47执行一次，每次执行5秒')\n",
    "    time.sleep(5)\n",
    "schedule.every().day.at('10:47').do(myJob3)\n",
    "\n",
    "def myJob4():\n",
    "    print('Job4:我每隔5到10秒（具体间隔随机）执行一次，每次执行3秒')\n",
    "    time.sleep(3)\n",
    "schedule.every(5).to(10).seconds.do(myJob4)\n",
    "\n",
    "def myJob5():\n",
    "    print('Job5:我每周一上午10:48执行一次，每次执行3秒')\n",
    "    time.sleep(3)\n",
    "schedule.every().monday.at('10:48').do(myJob5)\n",
    "\n",
    "while True:\n",
    "    schedule.run_pending()"
   ]
  },
  {
   "cell_type": "markdown",
   "metadata": {},
   "source": [
    "进阶篇：启动多个任务调度之后，由于种种原因，可能需要中途取消某个任务。"
   ]
  },
  {
   "cell_type": "code",
   "execution_count": null,
   "metadata": {},
   "outputs": [],
   "source": [
    "import time\n",
    "import threading\n",
    "import schedule\n",
    "\n",
    "# 创建调度器\n",
    "scheduler = schedule.Scheduler()\n",
    "\n",
    "def myJob1():\n",
    "    print('Job1:我10秒执行一次，每次执行3秒钟')\n",
    "    time.sleep(3)\n",
    "toCancel = scheduler.every(10).seconds.do(myJob1)\n",
    "\n",
    "def myJob2():\n",
    "    print('Job2:我1分钟执行一次，每次执行5秒钟')\n",
    "    time.sleep(5)\n",
    "scheduler.every(1).minutes.do(myJob2)\n",
    "\n",
    "def cancelTest():\n",
    "    for _ in range(200):\n",
    "        time.sleep(1)\n",
    "    print('我取消了一个任务噢。。。。')\n",
    "    scheduler.cancel_job(toCancel)\n",
    "threading.Thread(target=cancelTest).start()\n",
    "\n",
    "while True:\n",
    "    scheduler.run_pending()\n",
    "    time.sleep(1)\n"
   ]
  },
  {
   "cell_type": "markdown",
   "metadata": {},
   "source": [
    "## 例3-31  利用蒙特.卡罗方法计算圆周率近似值"
   ]
  },
  {
   "cell_type": "code",
   "execution_count": 6,
   "metadata": {
    "ExecuteTime": {
     "end_time": "2021-10-22T09:14:29.751266Z",
     "start_time": "2021-10-22T09:14:29.733314Z"
    }
   },
   "outputs": [],
   "source": [
    "from random import random\n",
    "\n",
    "def estimatePI(times):\n",
    "    hits = 0\n",
    "    for i in range(times):\n",
    "        x = random()*2 - 1\n",
    "        y = random()*2 - 1\n",
    "        if x*x + y*y <= 1:\n",
    "            hits += 1\n",
    "    return 4.0 * hits/times\n"
   ]
  },
  {
   "cell_type": "code",
   "execution_count": 7,
   "metadata": {
    "ExecuteTime": {
     "end_time": "2021-10-22T09:20:47.856460Z",
     "start_time": "2021-10-22T09:14:32.492640Z"
    }
   },
   "outputs": [
    {
     "name": "stdout",
     "output_type": "stream",
     "text": [
      "3.1508\n",
      "3.142696\n",
      "3.14188776\n",
      "3.14158484\n"
     ]
    }
   ],
   "source": [
    "print(estimatePI(10000))\n",
    "print(estimatePI(1000000))\n",
    "print(estimatePI(100000000))\n",
    "print(estimatePI(1000000000))\n"
   ]
  },
  {
   "cell_type": "markdown",
   "metadata": {},
   "source": [
    "原理：\n",
    "蒙特·卡罗方法是一种通过概率来得到问题近似解的方法，在很多领域都有重要的应用，其中就包括圆周率近似值的计问题。\n",
    "\n",
    "假设有一块边长为2的正方形木板，上面画一个单位圆，然后随意往木板上扔飞镖，落点坐标(x,y)必然在木板上（更多的时候是落在单位圆内），\n",
    "\n",
    "如果扔的次数足够多，那么落在单位圆内的次数除以总次数再乘以4，这个数字会无限逼近圆周率的值。\n",
    "\n",
    "1777年，法国数学家布丰（Georges Louis Leclere de Buffon，1707—1788）提出用投针实验的方法求圆周率π。这被认为是蒙特卡罗方法的起源\n"
   ]
  },
  {
   "cell_type": "markdown",
   "metadata": {},
   "source": [
    "推导：\n",
    "圆面积=πr*r,外接正方形面积=（2r）*(2r),\n",
    "\n",
    "hits/times=圆面积/外接正方形面积 ==> π=4*(hits/times)"
   ]
  },
  {
   "cell_type": "code",
   "execution_count": null,
   "metadata": {},
   "outputs": [],
   "source": []
  }
 ],
 "metadata": {
  "kernelspec": {
   "display_name": "Python 3",
   "language": "python",
   "name": "python3"
  },
  "language_info": {
   "codemirror_mode": {
    "name": "ipython",
    "version": 3
   },
   "file_extension": ".py",
   "mimetype": "text/x-python",
   "name": "python",
   "nbconvert_exporter": "python",
   "pygments_lexer": "ipython3",
   "version": "3.7.2"
  },
  "toc": {
   "base_numbering": 1,
   "nav_menu": {},
   "number_sections": true,
   "sideBar": true,
   "skip_h1_title": false,
   "title_cell": "Table of Contents",
   "title_sidebar": "Contents",
   "toc_cell": false,
   "toc_position": {
    "height": "calc(100% - 180px)",
    "left": "10px",
    "top": "150px",
    "width": "164.99px"
   },
   "toc_section_display": true,
   "toc_window_display": true
  },
  "varInspector": {
   "cols": {
    "lenName": 16,
    "lenType": 16,
    "lenVar": 40
   },
   "kernels_config": {
    "python": {
     "delete_cmd_postfix": "",
     "delete_cmd_prefix": "del ",
     "library": "var_list.py",
     "varRefreshCmd": "print(var_dic_list())"
    },
    "r": {
     "delete_cmd_postfix": ") ",
     "delete_cmd_prefix": "rm(",
     "library": "var_list.r",
     "varRefreshCmd": "cat(var_dic_list()) "
    }
   },
   "types_to_exclude": [
    "module",
    "function",
    "builtin_function_or_method",
    "instance",
    "_Feature"
   ],
   "window_display": false
  }
 },
 "nbformat": 4,
 "nbformat_minor": 4
}
