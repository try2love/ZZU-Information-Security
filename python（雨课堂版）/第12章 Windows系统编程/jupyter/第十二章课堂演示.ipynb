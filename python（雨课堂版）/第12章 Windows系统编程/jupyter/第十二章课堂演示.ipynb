{
 "cells": [
  {
   "cell_type": "markdown",
   "metadata": {},
   "source": [
    "# 12.1  注册表编程\n"
   ]
  },
  {
   "cell_type": "markdown",
   "metadata": {},
   "source": [
    "### 查询注册表，输出IE浏览器版本信息\n"
   ]
  },
  {
   "cell_type": "code",
   "execution_count": 7,
   "metadata": {},
   "outputs": [
    {
     "ename": "error",
     "evalue": "(5, 'RegOpenKeyEx', '拒绝访问。')",
     "output_type": "error",
     "traceback": [
      "\u001b[1;31m---------------------------------------------------------------------------\u001b[0m",
      "\u001b[1;31merror\u001b[0m                                     Traceback (most recent call last)",
      "\u001b[1;32m<ipython-input-7-fc233e8ee30e>\u001b[0m in \u001b[0;36m<module>\u001b[1;34m\u001b[0m\n\u001b[0;32m      1\u001b[0m \u001b[1;32mimport\u001b[0m \u001b[0mwin32api\u001b[0m\u001b[1;33m\u001b[0m\u001b[1;33m\u001b[0m\u001b[0m\n\u001b[0;32m      2\u001b[0m \u001b[1;32mimport\u001b[0m \u001b[0mwin32con\u001b[0m\u001b[1;33m\u001b[0m\u001b[1;33m\u001b[0m\u001b[0m\n\u001b[1;32m----> 3\u001b[1;33m \u001b[0mkey\u001b[0m \u001b[1;33m=\u001b[0m \u001b[0mwin32api\u001b[0m\u001b[1;33m.\u001b[0m\u001b[0mRegOpenKey\u001b[0m\u001b[1;33m(\u001b[0m\u001b[0mwin32con\u001b[0m\u001b[1;33m.\u001b[0m\u001b[0mHKEY_LOCAL_MACHINE\u001b[0m\u001b[1;33m,\u001b[0m \u001b[1;34m'SOFTWARE\\\\Microsoft\\\\Internet Explorer'\u001b[0m\u001b[1;33m,\u001b[0m \u001b[1;36m0\u001b[0m\u001b[1;33m,\u001b[0m \u001b[0mwin32con\u001b[0m\u001b[1;33m.\u001b[0m\u001b[0mKEY_ALL_ACCESS\u001b[0m\u001b[1;33m)\u001b[0m\u001b[1;33m\u001b[0m\u001b[1;33m\u001b[0m\u001b[0m\n\u001b[0m",
      "\u001b[1;31merror\u001b[0m: (5, 'RegOpenKeyEx', '拒绝访问。')"
     ]
    }
   ],
   "source": [
    ">>> import win32api\n",
    ">>> import win32con\n",
    ">>> key = win32api.RegOpenKey(win32con.HKEY_LOCAL_MACHINE, 'SOFTWARE\\\\Microsoft\\\\Internet Explorer', 0, win32con.KEY_ALL_ACCESS)\n"
   ]
  },
  {
   "cell_type": "code",
   "execution_count": 5,
   "metadata": {},
   "outputs": [
    {
     "ename": "NameError",
     "evalue": "name 'key' is not defined",
     "output_type": "error",
     "traceback": [
      "\u001b[1;31m---------------------------------------------------------------------------\u001b[0m",
      "\u001b[1;31mNameError\u001b[0m                                 Traceback (most recent call last)",
      "\u001b[1;32m<ipython-input-5-e7529aa31aa6>\u001b[0m in \u001b[0;36m<module>\u001b[1;34m\u001b[0m\n\u001b[1;32m----> 1\u001b[1;33m \u001b[0mwin32api\u001b[0m\u001b[1;33m.\u001b[0m\u001b[0mRegQueryValue\u001b[0m\u001b[1;33m(\u001b[0m\u001b[0mkey\u001b[0m\u001b[1;33m,\u001b[0m\u001b[1;34m''\u001b[0m\u001b[1;33m)\u001b[0m\u001b[1;33m\u001b[0m\u001b[1;33m\u001b[0m\u001b[0m\n\u001b[0m",
      "\u001b[1;31mNameError\u001b[0m: name 'key' is not defined"
     ]
    }
   ],
   "source": [
    ">>> win32api.RegQueryValue(key,'')\n"
   ]
  },
  {
   "cell_type": "code",
   "execution_count": 6,
   "metadata": {
    "scrolled": true
   },
   "outputs": [
    {
     "ename": "SyntaxError",
     "evalue": "invalid syntax (<ipython-input-6-5376047b7182>, line 4)",
     "output_type": "error",
     "traceback": [
      "\u001b[1;36m  File \u001b[1;32m\"<ipython-input-6-5376047b7182>\"\u001b[1;36m, line \u001b[1;32m4\u001b[0m\n\u001b[1;33m    (64, 12, 130578396029843750L)\u001b[0m\n\u001b[1;37m                               ^\u001b[0m\n\u001b[1;31mSyntaxError\u001b[0m\u001b[1;31m:\u001b[0m invalid syntax\n"
     ]
    }
   ],
   "source": [
    ">>> win32api.RegQueryValueEx(key,'Version')\n"
   ]
  },
  {
   "cell_type": "code",
   "execution_count": null,
   "metadata": {},
   "outputs": [],
   "source": [
    ">>> win32api.RegQueryInfoKey(key)\n"
   ]
  },
  {
   "cell_type": "code",
   "execution_count": 8,
   "metadata": {},
   "outputs": [
    {
     "ename": "NameError",
     "evalue": "name 'key' is not defined",
     "output_type": "error",
     "traceback": [
      "\u001b[1;31m---------------------------------------------------------------------------\u001b[0m",
      "\u001b[1;31mNameError\u001b[0m                                 Traceback (most recent call last)",
      "\u001b[1;32m<ipython-input-8-cf95eeb2f8e9>\u001b[0m in \u001b[0;36m<module>\u001b[1;34m\u001b[0m\n\u001b[1;32m----> 1\u001b[1;33m \u001b[0mwin32api\u001b[0m\u001b[1;33m.\u001b[0m\u001b[0mRegCloseKey\u001b[0m\u001b[1;33m(\u001b[0m\u001b[0mkey\u001b[0m\u001b[1;33m)\u001b[0m\u001b[1;33m\u001b[0m\u001b[1;33m\u001b[0m\u001b[0m\n\u001b[0m",
      "\u001b[1;31mNameError\u001b[0m: name 'key' is not defined"
     ]
    }
   ],
   "source": [
    ">>> win32api.RegCloseKey(key)"
   ]
  },
  {
   "cell_type": "markdown",
   "metadata": {},
   "source": [
    "### 例12-1  检查随系统启动而自动启动的程序列表。\n"
   ]
  },
  {
   "cell_type": "code",
   "execution_count": 9,
   "metadata": {},
   "outputs": [
    {
     "name": "stdout",
     "output_type": "stream",
     "text": [
      "HKEY_LOCAL_MACHINE\\SOFTWARE\\Microsoft\\Windows\\CurrentVersion\\Run\n",
      "SecurityHealth       %windir%\\system32\\SecurityHealthSystray.exe\n",
      "RtlS5Wake            C:\\Program Files (x86)\\Realtek\\PCIE Wireless LAN\\RtlS5Wake\\RtlS5Wake.exe\n",
      "HKEY_LOCAL_MACHINE\\SOFTWARE\\Microsoft\\Windows\\CurrentVersion\\RunOnce\n",
      "HKEY_LOCAL_MACHINE\\SOFTWARE\\Microsoft\\Windows\\CurrentVersion\\RunOnceEx\n",
      "Sth is wrong\n",
      "(2, 'RegOpenKeyEx', '系统找不到指定的文件。')\n",
      "HKEY_CURRENT_USER\\Software\\Microsoft\\Windows\\CurrentVersion\\Run\n",
      "ctfmon               C:\\windows\\system32\\ctfmon.exe\n",
      "Nutstore             \"C:\\Program Files\\Nutstore\\Nutstore.exe\" --autostart\n",
      "360sd                \"c:\\program files\\360\\360sd\\360sdrun.exe\"\n",
      "HKEY_CURRENT_USER\\Software\\Microsoft\\Windows\\CurrentVersion\\RunOnce\n"
     ]
    }
   ],
   "source": [
    "#check and view autoruns in the system\n",
    "\n",
    "from win32api import *\n",
    "from win32con import *\n",
    "\n",
    "def GetValues(fullname):\n",
    "    name=str.split(fullname,'\\\\',1)\n",
    "    try:\n",
    "        if name[0]=='HKEY_LOCAL_MACHINE':\n",
    "            key=RegOpenKey(HKEY_LOCAL_MACHINE,name[1],0,KEY_READ)\n",
    "        elif name[0]=='HKEY_CURRENT_USER':\n",
    "            key=RegOpenKey(HKEY_CURRENT_USER,name[1],0,KEY_READ)\n",
    "        elif name[0]=='HKEY_CURRENT_ROOT':\n",
    "            key=RegOpenKey(HKEY_CURRENT_ROOT,name[1],0,KEY_READ)\n",
    "        elif name[0]=='HKEY_CURRENT_CONFIG':\n",
    "            key=RegOpenKey(HKEY_CURRENT_CONFIG,name[1],0,KEY_READ)\n",
    "        elif name[0]=='HKEY_USERS':\n",
    "            key=RegOpenKey(HKEY_USERS,name[1],0,KEY_READ)\n",
    "        else:\n",
    "            print('Error, no key named ',name[0])\n",
    "        info = RegQueryInfoKey(key)\n",
    "        for i in range(0,info[1]):\n",
    "            ValueName = RegEnumValue(key,i)\n",
    "            print(str.ljust(ValueName[0],20),ValueName[1])\n",
    "        RegCloseKey(key)\n",
    "    except BaseException as e:\n",
    "        print('Sth is wrong')\n",
    "        print(e)\n",
    "if __name__=='__main__':\n",
    "    KeyNames=['HKEY_LOCAL_MACHINE\\\\SOFTWARE\\\\Microsoft\\\\Windows\\\\CurrentVersion\\\\Run',\n",
    "              'HKEY_LOCAL_MACHINE\\\\SOFTWARE\\\\Microsoft\\\\Windows\\\\CurrentVersion\\\\RunOnce',\n",
    "              'HKEY_LOCAL_MACHINE\\\\SOFTWARE\\\\Microsoft\\\\Windows\\\\CurrentVersion\\\\RunOnceEx',\n",
    "              'HKEY_CURRENT_USER\\\\Software\\\\Microsoft\\\\Windows\\\\CurrentVersion\\\\Run',\n",
    "              'HKEY_CURRENT_USER\\\\Software\\\\Microsoft\\\\Windows\\\\CurrentVersion\\\\RunOnce']\n",
    "    for KeyName in KeyNames:\n",
    "        print(KeyName)\n",
    "        GetValues(KeyName)\n"
   ]
  },
  {
   "cell_type": "markdown",
   "metadata": {},
   "source": [
    "### 例12-2  枚举注册表。\n",
    "### Python模块“winreg”（Python 3.x）或_winreg（Python 2.x），该模块提供了OpenKey()、DeleteKey()、DeleteValue()、CreateKey()、SetValue()、QueryValueEx()、EnumValue()、EnumKey()等大量用于注册表访问和操作的方法。\n"
   ]
  },
  {
   "cell_type": "code",
   "execution_count": 10,
   "metadata": {
    "scrolled": true
   },
   "outputs": [
    {
     "name": "stdout",
     "output_type": "stream",
     "text": [
      "ExplorerStartupTraceRecorded : 1 : 4\n",
      "ShellState : b'$\\x00\\x00\\x003(\\x01\\x00\\x00\\x00\\x00\\x00\\x00\\x00\\x00\\x00\\x00\\x00\\x00\\x00\\x01\\x00\\x00\\x00\\x13\\x00\\x00\\x00\\x00\\x00\\x00\\x00b\\x00\\x00\\x00' : 3\n",
      "UserSignedIn : 1 : 4\n",
      "SIDUpdatedOnLibraries : 1 : 4\n",
      "LocalKnownFoldersMigrated : 1 : 4\n",
      "TelemetrySalt : 0 : 4\n",
      "GlobalAssocChangedCounter : 348 : 4\n",
      "FirstRunTelemetryComplete : 1 : 4\n",
      "AppReadinessLogonComplete : 1 : 4\n",
      "EdgeDesktopShortcutCreated : 1 : 4\n",
      "SlowContextMenuEntries : b'\\x01\\x14\\x02\\x00\\x00\\x00\\x00\\x00\\xc0\\x00\\x00\\x00\\x00\\x00\\x00F\\xeb\\x05\\x00\\x00*\\x81d\\xf7,\\x13\\x13@\\x99`\\\\\\xbb\\xeb@\\x8a\\x0eL\\x1d\\x00\\x00\\xce\\xc4)\\xa96\\xfdpB\\xb4\\xf54\\xec\\xac[\\xd6<\\xe2\\x04\\x00\\x00Wm\\x0f|\\x99\\xe7\\x8aL\\xa3\\x19\\x8e+MrL\\xf0\\xc9\\x1d\\x00\\x00]T\\xa9\\xa2\\xc2\\xa0\\xb4B\\x97\\x08\\xa0\\xb2\\xba\\xddw\\xc8\\xe9\\x08\\x00\\x00' : 3\n",
      "PostAppInstallTasksCompleted : 1 : 4\n",
      "Browse For Folder Width : 583 : 4\n",
      "Browse For Folder Height : 576 : 4\n",
      "link : b'\\x00\\x00\\x00\\x00' : 3\n",
      "DesktopProcess : 1 : 4\n"
     ]
    }
   ],
   "source": [
    "import winreg \n",
    "key = winreg.OpenKey(winreg.HKEY_CURRENT_USER, \n",
    "                                     r\"Software\\Microsoft\\Windows\\CurrentVersion\\Explorer\") \n",
    "try: \n",
    "    i = 0 \n",
    "    while 1:\n",
    "        Name, Value, Type = winreg.EnumValue(key, i)\n",
    "        print (Name,':',Value,':',Type)\n",
    "        i += 1\n",
    "except WindowsError:\n",
    "    pass\n"
   ]
  },
  {
   "cell_type": "markdown",
   "metadata": {},
   "source": [
    "# 12.2 创建exe可执行文件\n"
   ]
  },
  {
   "cell_type": "code",
   "execution_count": null,
   "metadata": {},
   "outputs": [],
   "source": []
  }
 ],
 "metadata": {
  "kernelspec": {
   "display_name": "Python 3",
   "language": "python",
   "name": "python3"
  },
  "language_info": {
   "codemirror_mode": {
    "name": "ipython",
    "version": 3
   },
   "file_extension": ".py",
   "mimetype": "text/x-python",
   "name": "python",
   "nbconvert_exporter": "python",
   "pygments_lexer": "ipython3",
   "version": "3.7.2"
  }
 },
 "nbformat": 4,
 "nbformat_minor": 4
}
