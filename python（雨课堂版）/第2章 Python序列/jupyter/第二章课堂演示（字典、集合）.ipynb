{
 "cells": [
  {
   "cell_type": "markdown",
   "metadata": {},
   "source": [
    "# 字典"
   ]
  },
  {
   "cell_type": "markdown",
   "metadata": {},
   "source": [
    "## 字典创建与删除"
   ]
  },
  {
   "cell_type": "code",
   "execution_count": 1,
   "metadata": {
    "ExecuteTime": {
     "end_time": "2021-10-15T08:43:23.701296Z",
     "start_time": "2021-10-15T08:43:23.676356Z"
    }
   },
   "outputs": [
    {
     "data": {
      "text/plain": [
       "{'server': 'db.diveintopython3.org', 'database': 'mysql'}"
      ]
     },
     "execution_count": 1,
     "metadata": {},
     "output_type": "execute_result"
    }
   ],
   "source": [
    ">>> a_dict = {'server': 'db.diveintopython3.org', 'database': 'mysql'}\n",
    ">>> a_dict"
   ]
  },
  {
   "cell_type": "code",
   "execution_count": null,
   "metadata": {},
   "outputs": [],
   "source": [
    ">>> x = {}                     #空字典\n",
    ">>> x"
   ]
  },
  {
   "cell_type": "markdown",
   "metadata": {},
   "source": [
    "### 使用dict（）利用已有数据创建字典"
   ]
  },
  {
   "cell_type": "code",
   "execution_count": null,
   "metadata": {},
   "outputs": [],
   "source": [
    ">>> keys = ['a', 'b', 'c', 'd']\n",
    ">>> values = [1, 2, 3, 4]\n",
    ">>> dictionary = dict(zip(keys, values))\n",
    ">>> dictionary\n"
   ]
  },
  {
   "cell_type": "code",
   "execution_count": null,
   "metadata": {},
   "outputs": [],
   "source": [
    ">>> x = dict() #空字典\n",
    ">>> x\n"
   ]
  },
  {
   "cell_type": "markdown",
   "metadata": {},
   "source": [
    "### 使用dict（）根据给定的键、值创建字典"
   ]
  },
  {
   "cell_type": "code",
   "execution_count": null,
   "metadata": {},
   "outputs": [],
   "source": [
    ">>> d = dict(name='Dong', age=37)\n",
    ">>> d\n"
   ]
  },
  {
   "cell_type": "markdown",
   "metadata": {},
   "source": [
    "### 以给定内容为键，创建值为空的字典\n"
   ]
  },
  {
   "cell_type": "code",
   "execution_count": null,
   "metadata": {},
   "outputs": [],
   "source": [
    ">>> adict = dict.fromkeys(['name', 'age', 'sex'])\n",
    ">>> adict\n"
   ]
  },
  {
   "cell_type": "markdown",
   "metadata": {},
   "source": [
    "### 以键作为下标可以读取字典元素，若键不存在则抛出异常\n"
   ]
  },
  {
   "cell_type": "code",
   "execution_count": null,
   "metadata": {},
   "outputs": [],
   "source": [
    ">>> aDict = {'name':'Dong', 'sex':'male', 'age':37}\n",
    ">>> aDict['name']\n"
   ]
  },
  {
   "cell_type": "code",
   "execution_count": null,
   "metadata": {},
   "outputs": [],
   "source": [
    ">>> aDict['tel']                     #键不存在，抛出异常\n"
   ]
  },
  {
   "cell_type": "markdown",
   "metadata": {},
   "source": [
    "## 字典元素的读取\n"
   ]
  },
  {
   "cell_type": "markdown",
   "metadata": {},
   "source": [
    "### 使用字典对象的get方法获取指定键对应的值，并且可以在键不存在的时候返回指定值。\n"
   ]
  },
  {
   "cell_type": "code",
   "execution_count": null,
   "metadata": {},
   "outputs": [],
   "source": [
    ">>> print(aDict.get('address'))\n"
   ]
  },
  {
   "cell_type": "code",
   "execution_count": null,
   "metadata": {},
   "outputs": [],
   "source": [
    ">>> print(aDict.get('address', 'ZZU'))\n"
   ]
  },
  {
   "cell_type": "code",
   "execution_count": null,
   "metadata": {},
   "outputs": [],
   "source": [
    ">>> aDict['score'] = aDict.get('score',[])\n",
    ">>> aDict['score'].append(98)\n",
    ">>> aDict['score'].append(97)\n",
    ">>> aDict\n"
   ]
  },
  {
   "cell_type": "markdown",
   "metadata": {},
   "source": [
    "### 使用字典对象的items()方法可以返回字典的键/值对，keys()可以返回字典的键,values()可以返回字典的值\n"
   ]
  },
  {
   "cell_type": "code",
   "execution_count": 2,
   "metadata": {
    "ExecuteTime": {
     "end_time": "2021-10-15T08:44:58.966436Z",
     "start_time": "2021-10-15T08:44:58.960477Z"
    }
   },
   "outputs": [
    {
     "name": "stdout",
     "output_type": "stream",
     "text": [
      "('name', 'Dong')\n",
      "('sex', 'male')\n",
      "('age', 37)\n"
     ]
    }
   ],
   "source": [
    ">>> aDict={'name':'Dong', 'sex':'male', 'age':37}\n",
    ">>> for item in aDict.items():     #输出字典中所有元素\n",
    "    print(item)\n"
   ]
  },
  {
   "cell_type": "code",
   "execution_count": 3,
   "metadata": {
    "ExecuteTime": {
     "end_time": "2021-10-15T08:45:08.236762Z",
     "start_time": "2021-10-15T08:45:08.220799Z"
    }
   },
   "outputs": [
    {
     "name": "stdout",
     "output_type": "stream",
     "text": [
      "name\n",
      "sex\n",
      "age\n"
     ]
    }
   ],
   "source": [
    ">>> for v in aDict:              #不加特殊说明，默认输出键\n",
    "    print(v)\n"
   ]
  },
  {
   "cell_type": "code",
   "execution_count": 4,
   "metadata": {
    "ExecuteTime": {
     "end_time": "2021-10-15T08:45:11.244249Z",
     "start_time": "2021-10-15T08:45:11.231285Z"
    }
   },
   "outputs": [
    {
     "name": "stdout",
     "output_type": "stream",
     "text": [
      "name Dong\n",
      "sex male\n",
      "age 37\n"
     ]
    }
   ],
   "source": [
    ">>> for key, value in aDict.items():       #序列解包用法\n",
    "        print(key, value)\n"
   ]
  },
  {
   "cell_type": "code",
   "execution_count": null,
   "metadata": {},
   "outputs": [],
   "source": [
    ">>> aDict.keys()                           #返回所有键\n"
   ]
  },
  {
   "cell_type": "code",
   "execution_count": null,
   "metadata": {},
   "outputs": [],
   "source": [
    ">>> aDict.values()                         #返回所有值\n"
   ]
  },
  {
   "cell_type": "markdown",
   "metadata": {},
   "source": [
    "## 字典元素的添加与修改"
   ]
  },
  {
   "cell_type": "markdown",
   "metadata": {},
   "source": [
    "### 当以指定键为下标为字典赋值时：1）若键存在，则可以修改该键的值；2）若不存在，则表示添加一个键、值对。\n"
   ]
  },
  {
   "cell_type": "code",
   "execution_count": 5,
   "metadata": {
    "ExecuteTime": {
     "end_time": "2021-10-15T08:45:18.032632Z",
     "start_time": "2021-10-15T08:45:18.020642Z"
    }
   },
   "outputs": [
    {
     "data": {
      "text/plain": [
       "{'name': 'Dong', 'sex': 'male', 'age': 38}"
      ]
     },
     "execution_count": 5,
     "metadata": {},
     "output_type": "execute_result"
    }
   ],
   "source": [
    ">>> aDict['age'] = 38                 #修改元素值\n",
    ">>> aDict\n"
   ]
  },
  {
   "cell_type": "code",
   "execution_count": 6,
   "metadata": {
    "ExecuteTime": {
     "end_time": "2021-10-15T08:45:23.402283Z",
     "start_time": "2021-10-15T08:45:23.386611Z"
    }
   },
   "outputs": [
    {
     "data": {
      "text/plain": [
       "{'name': 'Dong', 'sex': 'male', 'age': 38, 'address': 'ZZU'}"
      ]
     },
     "execution_count": 6,
     "metadata": {},
     "output_type": "execute_result"
    }
   ],
   "source": [
    ">>> aDict['address'] = 'ZZU'        #增加新元素\n",
    ">>> aDict\n"
   ]
  },
  {
   "cell_type": "code",
   "execution_count": null,
   "metadata": {},
   "outputs": [],
   "source": [
    "\"\"\"\n",
    "工事类型、目标类字串、目标查询选择器、目标UI选择器、打击方式类型选择器\n",
    "\"\"\"\n",
    "targetTypes, targetClassSwitch, targetQuerySwitch, targetUiSwitch = \\\n",
    "    ImportTools.getSwitchDict(targets, \"targetType\", \"targetTypeDesc\")\n",
    "print(targetTypes)\n",
    "print(targetClassSwitch)\n",
    "print(targetQuerySwitch)\n",
    "print(targetUiSwitch)"
   ]
  },
  {
   "cell_type": "code",
   "execution_count": null,
   "metadata": {},
   "outputs": [],
   "source": [
    "{'dxmb': 'D形目标', 'jxmb': '矩形截面菱形目标', 'lxmb': '菱形目标', 'qlmb': '桥梁目标', 'yzmb': '圆柱形目标'}\n",
    "{'dxmb': 'DXMB', 'jxmb': 'JXMB', 'lxmb': 'LXMB', 'qlmb': 'QLMB', 'yzmb': 'YZMB'}\n",
    "{'dxmb': <bound method DXMB_Dao.queryAll of <targets.dxmb.dxmbDao.DXMB_Dao object at 0x0000027ED3200F28>>, 'jxmb': <bound method JXMB_Dao.queryAll of <targets.jxmb.jxmbDao.JXMB_Dao object at 0x0000027ED3214160>>, 'lxmb': <bound method LXMB_Dao.queryAll of <targets.lxmb.lxmbDao.LXMB_Dao object at 0x0000027ED32240F0>>, 'qlmb': <bound method QLMB_Dao.queryAll of <targets.qlmb.qlmbDao.QLMB_Dao object at 0x0000027ED3224A58>>, 'yzmb': <bound method YZMB_Dao.queryAll of <targets.yzmb.yzmbDao.YZMB_Dao object at 0x0000027ED3494208>>}\n",
    "{'dxmb': {'targetName': {'order': 1, 'uiName': '目标名称', 'controlType': 'lineEdit'}, 'targetType': {'order': 2, 'uiName': '目标类型', 'controlType': 'dropDown', 'dropList': 'targetTypes'}, 'chordLength': {'order': 3, 'uiName': '弦长', 'controlType': 'doubleSpinBox'}, 'sideWidth': {'order': 4, 'uiName': '侧墙宽', 'controlType': 'doubleSpinBox'}, 'sagitta': {'order': 5, 'uiName': '弧高', 'controlType': 'doubleSpinBox'}, 'outerHeight': {'order': 6, 'uiName': '高度', 'controlType': 'doubleSpinBox'}, 'roofThick': {'order': 7, 'uiName': '顶盖厚度', 'controlType': 'doubleSpinBox'}, 'wallThick': {'order': 8, 'uiName': '侧墙厚度', 'controlType': 'doubleSpinBox'}, 'soilThick': {'order': 9, 'uiName': '覆土厚度', 'controlType': 'doubleSpinBox'}, 'liningPlateThick': {'order': 10, 'uiName': '内衬钢板厚度', 'controlType': 'doubleSpinBox'}, 'embrasureNum': {'order': 11, 'uiName': '射击孔数量', 'controlType': 'doubleSpinBox'}, 'embrasureToFloor': {'order': 12, 'uiName': '射击孔距地高度', 'controlType': 'doubleSpinBox'}, 'embrasureHeight': {'order': 13, 'uiName': '射击孔高度', 'controlType': 'doubleSpinBox'}, 'embrasureWidth': {'order': 14, 'uiName': '射击孔宽度', 'controlType': 'doubleSpinBox'}}, 'jxmb': {'targetName': {'order': 1, 'uiName': '目标名称', 'controlType': 'lineEdit'}, 'targetType': {'order': 2, 'uiName': '目标类型', 'controlType': 'dropDown', 'dropList': 'targetTypes'}, 'outerSideLength': {'order': 3, 'uiName': '长度', 'controlType': 'doubleSpinBox'}, 'outerSideWidth': {'order': 4, 'uiName': '宽度', 'controlType': 'doubleSpinBox'}, 'outerHeight': {'order': 5, 'uiName': '高度', 'controlType': 'doubleSpinBox'}, 'roofThick': {'order': 6, 'uiName': '顶盖厚度', 'controlType': 'doubleSpinBox'}, 'wallThick': {'order': 7, 'uiName': '侧墙厚度', 'controlType': 'doubleSpinBox'}, 'soilThick': {'order': 8, 'uiName': '覆土厚度', 'controlType': 'doubleSpinBox'}, 'liningPlateThick': {'order': 9, 'uiName': '内衬钢板厚度', 'controlType': 'doubleSpinBox'}, 'floorHeight': {'order': 10, 'uiName': '楼层净高', 'controlType': 'doubleSpinBox'}, 'floorThick': {'order': 11, 'uiName': '楼板厚度', 'controlType': 'doubleSpinBox'}, 'levelNum': {'order': 12, 'uiName': '楼层数', 'controlType': 'doubleSpinBox'}, 'embrasureNumPerSide': {'order': 13, 'uiName': '每个面上的射击孔数量', 'controlType': 'doubleSpinBox'}, 'embrasureToFloor': {'order': 14, 'uiName': '射击孔距地高度', 'controlType': 'doubleSpinBox'}, 'embrasureHeight': {'order': 15, 'uiName': '射击孔高度', 'controlType': 'doubleSpinBox'}, 'embrasureWidth': {'order': 16, 'uiName': '射击孔宽度', 'controlType': 'doubleSpinBox'}}, 'lxmb': {'targetName': {'order': 1, 'uiName': '目标名称', 'controlType': 'lineEdit'}, 'targetType': {'order': 2, 'uiName': '目标类型', 'controlType': 'dropDown', 'dropList': 'targetTypes'}, 'outerSideLength': {'order': 3, 'uiName': '边长', 'controlType': 'doubleSpinBox'}, 'outerHeight': {'order': 4, 'uiName': '高度', 'controlType': 'doubleSpinBox'}, 'roofThick': {'order': 5, 'uiName': '顶盖厚度', 'controlType': 'doubleSpinBox'}, 'wallThick': {'order': 6, 'uiName': '侧墙厚度', 'controlType': 'doubleSpinBox'}, 'soilThick': {'order': 7, 'uiName': '覆土厚度', 'controlType': 'doubleSpinBox'}, 'liningPlateThick': {'order': 8, 'uiName': '内衬钢板厚度', 'controlType': 'doubleSpinBox'}, 'floorHeight': {'order': 9, 'uiName': '楼层净高', 'controlType': 'doubleSpinBox'}, 'floorThick': {'order': 10, 'uiName': '楼板厚度', 'controlType': 'doubleSpinBox'}, 'levelNum': {'order': 11, 'uiName': '楼层数', 'controlType': 'doubleSpinBox'}, 'embrasureNumPerSide': {'order': 12, 'uiName': '每个面上的射击孔数量', 'controlType': 'doubleSpinBox'}, 'embrasureToFloor': {'order': 13, 'uiName': '射击孔距地高度', 'controlType': 'doubleSpinBox'}, 'embrasureHeight': {'order': 14, 'uiName': '射击孔高度', 'controlType': 'doubleSpinBox'}, 'embrasureWidth': {'order': 15, 'uiName': '射击孔宽度', 'controlType': 'doubleSpinBox'}}, 'qlmb': {'targetName': {'order': 1, 'uiName': '目标名称', 'controlType': 'lineEdit'}, 'targetType': {'order': 2, 'uiName': '目标类型', 'controlType': 'dropDown', 'dropList': 'targetTypes'}, 'length': {'order': 3, 'uiName': '桥面长度', 'controlType': 'doubleSpinBox'}, 'width': {'order': 4, 'uiName': '桥面宽度', 'controlType': 'doubleSpinBox'}, 'topThick': {'order': 5, 'uiName': '桥面厚度', 'controlType': 'doubleSpinBox'}, 'height': {'order': 6, 'uiName': '桥面高度', 'controlType': 'doubleSpinBox'}, 'liningPlateThick': {'order': 7, 'uiName': '内衬钢板厚度', 'controlType': 'doubleSpinBox'}, 'pierNum': {'order': 8, 'uiName': '桥墩数量', 'controlType': 'doubleSpinBox'}, 'pierLength': {'order': 9, 'uiName': '桥墩边长', 'controlType': 'doubleSpinBox'}}, 'yzmb': {'targetName': {'order': 1, 'uiName': '目标名称', 'controlType': 'lineEdit'}, 'targetType': {'order': 2, 'uiName': '目标类型', 'controlType': 'dropDown', 'dropList': 'targetTypes'}, 'outerDiameter': {'order': 3, 'uiName': '外径', 'controlType': 'doubleSpinBox'}, 'innerDiameter': {'order': 4, 'uiName': '内径', 'controlType': 'doubleSpinBox'}, 'outerHeight': {'order': 5, 'uiName': '高度', 'controlType': 'doubleSpinBox'}, 'roofThick': {'order': 6, 'uiName': '顶盖厚度', 'controlType': 'doubleSpinBox'}, 'wallThick': {'order': 7, 'uiName': '侧墙厚度', 'controlType': 'doubleSpinBox'}, 'soilThick': {'order': 8, 'uiName': '覆土厚度', 'controlType': 'doubleSpinBox'}, 'liningPlateThick': {'order': 9, 'uiName': '内衬钢板厚度', 'controlType': 'doubleSpinBox'}, 'floorHeight': {'order': 10, 'uiName': '楼层净高', 'controlType': 'doubleSpinBox'}, 'floorThick': {'order': 11, 'uiName': '楼板厚度', 'controlType': 'doubleSpinBox'}, 'levelNum': {'order': 12, 'uiName': '楼层数', 'controlType': 'doubleSpinBox'}, 'embrasureNum': {'order': 13, 'uiName': '射击孔数量', 'controlType': 'doubleSpinBox'}, 'embrasureToFloor': {'order': 14, 'uiName': '射击孔距地高度', 'controlType': 'doubleSpinBox'}, 'embrasureHeight': {'order': 15, 'uiName': '射击孔高度', 'controlType': 'doubleSpinBox'}, 'embrasureWidth': {'order': 16, 'uiName': '射击孔宽度', 'controlType': 'doubleSpinBox'}}}\n",
    "打击方案为："
   ]
  },
  {
   "cell_type": "code",
   "execution_count": null,
   "metadata": {},
   "outputs": [],
   "source": [
    "        if len(self._currentTargetDict) > 0:\n",
    "            unzipTarget, _, _ = UITools.unzipDBObjToTarget(self._currentTargetDict)  # 将数据库中元组的结构解压为target各组成部分\n",
    "            targetClassName = targetClassSwitch[targetType]\n",
    "            params = []\n",
    "            uiObj = targetUiSwitch[targetType]\n",
    "            for key in uiObj.keys():\n",
    "                if key == \"targetType\":\n",
    "                    continue\n",
    "                paramName = key\n",
    "                paramValue = unzipTarget[key]\n",
    "                print(unzipTarget)\n",
    "                if isinstance(paramValue, str):\n",
    "                    paramValue = f\"'{paramValue}'\"\n",
    "                params.append(f\"{paramName}={paramValue}\")\n",
    "            paramStr = ','.join(params)\n",
    "            targetGenStr = f\"{targetClassName}({paramStr})\"\n",
    "            # print(targetGenStr)\n",
    "            try:\n",
    "                targetObj = eval(targetGenStr)\n",
    "            except Exception as e:\n",
    "                print(f\"生成Target时出错：{e}\\n targetGenStr:{targetGenStr}\")\n",
    "        return targetObj"
   ]
  },
  {
   "cell_type": "markdown",
   "metadata": {},
   "source": [
    "### 使用字典对象的update()方法将另一个字典的键、值对添加到当前字典对象。\n"
   ]
  },
  {
   "cell_type": "code",
   "execution_count": null,
   "metadata": {},
   "outputs": [],
   "source": [
    ">>> aDict\n"
   ]
  },
  {
   "cell_type": "code",
   "execution_count": null,
   "metadata": {},
   "outputs": [],
   "source": [
    ">>> aDict.items()\n"
   ]
  },
  {
   "cell_type": "code",
   "execution_count": null,
   "metadata": {},
   "outputs": [],
   "source": [
    ">>> aDict.update({'a':'a','b':'b'})\n",
    ">>> aDict\n"
   ]
  },
  {
   "cell_type": "code",
   "execution_count": null,
   "metadata": {},
   "outputs": [],
   "source": [
    ">>> bDict={\"c\":\"c\",\"d\":\"d\"}\n",
    ">>> aDict.update(bDict)\n",
    ">>> aDict"
   ]
  },
  {
   "cell_type": "markdown",
   "metadata": {},
   "source": [
    "## 2.3.4 字典应用案例\n"
   ]
  },
  {
   "cell_type": "markdown",
   "metadata": {},
   "source": [
    "### 生成包含1000个随机字符的字符串，然后统计每个字符的出现次数\n"
   ]
  },
  {
   "cell_type": "code",
   "execution_count": 2,
   "metadata": {},
   "outputs": [],
   "source": [
    ">>> import string\n",
    ">>> import random\n",
    ">>> x = string.ascii_letters + string.digits + string.punctuation\n",
    ">>> y = [random.choice(x) for i in range(1000)]\n",
    ">>> z = ''.join(y)\n",
    ">>> d = dict()                  #使用字典保存每个字符出现次数\n",
    ">>> for ch in z:\n",
    "    d[ch] = d.get(ch, 0) + 1\n"
   ]
  },
  {
   "cell_type": "code",
   "execution_count": 3,
   "metadata": {},
   "outputs": [
    {
     "name": "stdout",
     "output_type": "stream",
     "text": [
      "{'>': 9, '5': 15, '=': 10, 'u': 17, 'm': 12, 'M': 11, 'c': 7, '4': 12, 'f': 6, 'p': 22, 'R': 8, '}': 13, 'n': 13, 'g': 8, '&': 10, 'H': 9, 'Q': 13, ':': 11, 'T': 13, 'q': 11, 'k': 16, '.': 14, 'L': 13, '9': 10, ';': 11, 'w': 12, 'V': 7, 'S': 10, '<': 6, '{': 16, 'i': 15, 'J': 15, '3': 12, 'a': 10, 'l': 14, 'C': 13, '|': 9, '6': 8, '8': 7, 'y': 6, '/': 10, 'd': 7, '^': 14, '1': 7, '\"': 11, '!': 7, 'h': 14, '*': 8, 'x': 11, 's': 11, 't': 9, '~': 9, \"'\": 13, 'O': 10, 'e': 12, '-': 12, 'A': 10, 'N': 6, '`': 13, 'P': 12, 'z': 13, '#': 9, 'F': 12, 'W': 17, 'B': 12, '0': 11, 'G': 10, ',': 9, 'K': 4, 'r': 17, 'Y': 14, 'b': 14, ']': 10, 'j': 9, 'I': 8, '@': 11, 'E': 10, '%': 10, '?': 12, 'Z': 4, '\\\\': 9, '2': 7, 'v': 11, '$': 15, ')': 11, '+': 13, 'D': 7, '7': 12, 'o': 6, 'X': 7, '(': 4, '[': 9, 'U': 7, '_': 6}\n"
     ]
    }
   ],
   "source": [
    "print(d)\n"
   ]
  },
  {
   "cell_type": "code",
   "execution_count": null,
   "metadata": {},
   "outputs": [],
   "source": [
    "d['//']=1+1"
   ]
  },
  {
   "cell_type": "code",
   "execution_count": null,
   "metadata": {},
   "outputs": [],
   "source": [
    "x"
   ]
  },
  {
   "cell_type": "code",
   "execution_count": null,
   "metadata": {},
   "outputs": [],
   "source": [
    "y"
   ]
  },
  {
   "cell_type": "code",
   "execution_count": null,
   "metadata": {},
   "outputs": [],
   "source": [
    ">>> d"
   ]
  },
  {
   "cell_type": "markdown",
   "metadata": {},
   "source": [
    "### 上述内容也可以使用collections模块的defaultdict类来实现。\n"
   ]
  },
  {
   "cell_type": "code",
   "execution_count": null,
   "metadata": {},
   "outputs": [],
   "source": [
    ">>> from collections import defaultdict\n",
    ">>> frequences = defaultdict(int)\n",
    ">>> frequences\n"
   ]
  },
  {
   "cell_type": "code",
   "execution_count": null,
   "metadata": {},
   "outputs": [],
   "source": [
    ">>> for item in z:\n",
    "    frequences[item] += 1\n",
    ">>> frequences.items()\n"
   ]
  },
  {
   "cell_type": "markdown",
   "metadata": {},
   "source": [
    "### 使用collections模块的Counter类可以快速实现这个功能，并且提供更多功能，例如查找出现次数最多的元素。\n"
   ]
  },
  {
   "cell_type": "code",
   "execution_count": null,
   "metadata": {},
   "outputs": [],
   "source": [
    ">>> from collections import Counter\n",
    ">>> frequences = Counter(z)\n",
    ">>> frequences.items()"
   ]
  },
  {
   "cell_type": "code",
   "execution_count": null,
   "metadata": {},
   "outputs": [],
   "source": [
    ">>> frequences.most_common(3)"
   ]
  },
  {
   "cell_type": "markdown",
   "metadata": {},
   "source": [
    "## 字典推导式\n"
   ]
  },
  {
   "cell_type": "code",
   "execution_count": null,
   "metadata": {},
   "outputs": [],
   "source": [
    ">>> s = {x:x.strip() for x in ('  he  ', 'she    ', '    I')}\n",
    ">>> s"
   ]
  },
  {
   "cell_type": "code",
   "execution_count": null,
   "metadata": {},
   "outputs": [],
   "source": [
    ">>> for k, v in s.items():\n",
    "        print(k, ':', v)"
   ]
  },
  {
   "cell_type": "code",
   "execution_count": null,
   "metadata": {},
   "outputs": [],
   "source": [
    ">>> {i:str(i) for i in range(1, 5)}"
   ]
  },
  {
   "cell_type": "code",
   "execution_count": null,
   "metadata": {},
   "outputs": [],
   "source": [
    ">>> x = ['A', 'B', 'C', 'D']\n",
    ">>> y = ['a', 'b', 'b', 'd']\n",
    ">>> {i:j for i,j in zip(x,y)}"
   ]
  },
  {
   "cell_type": "code",
   "execution_count": null,
   "metadata": {},
   "outputs": [],
   "source": [
    "dict(zip(x,y))"
   ]
  },
  {
   "cell_type": "markdown",
   "metadata": {},
   "source": [
    "# 集合\n"
   ]
  },
  {
   "cell_type": "markdown",
   "metadata": {},
   "source": [
    "## 集合的创建与删除\n"
   ]
  },
  {
   "cell_type": "code",
   "execution_count": null,
   "metadata": {},
   "outputs": [],
   "source": [
    ">>> a = {3, 5}\n",
    ">>> a.add(7)                  #向集合中添加元素\n",
    ">>> a"
   ]
  },
  {
   "cell_type": "markdown",
   "metadata": {},
   "source": [
    "### 使用set将其他类型数据转换为集合\n"
   ]
  },
  {
   "cell_type": "code",
   "execution_count": null,
   "metadata": {},
   "outputs": [],
   "source": [
    ">>> a_set = set(range(8,14))\n",
    ">>> a_set"
   ]
  },
  {
   "cell_type": "code",
   "execution_count": null,
   "metadata": {},
   "outputs": [],
   "source": [
    ">>> b_set = set([0, 1, 2, 3, 0, 1, 2, 3, 7, 8])   #自动去除重复\n",
    ">>> b_set"
   ]
  },
  {
   "cell_type": "code",
   "execution_count": null,
   "metadata": {},
   "outputs": [],
   "source": [
    ">>> c_set = set()                                 #空集合\n",
    ">>> c_set"
   ]
  },
  {
   "cell_type": "markdown",
   "metadata": {},
   "source": [
    "### pop()方法弹出并删除其中一个元素"
   ]
  },
  {
   "cell_type": "code",
   "execution_count": null,
   "metadata": {},
   "outputs": [],
   "source": [
    ">>> a = {1, 4, 2, 3}\n",
    ">>> a.pop()"
   ]
  },
  {
   "cell_type": "code",
   "execution_count": null,
   "metadata": {},
   "outputs": [],
   "source": [
    ">>> a.pop()"
   ]
  },
  {
   "cell_type": "code",
   "execution_count": null,
   "metadata": {},
   "outputs": [],
   "source": [
    ">>> a"
   ]
  },
  {
   "cell_type": "code",
   "execution_count": null,
   "metadata": {},
   "outputs": [],
   "source": [
    ">>> a.add(2)\n",
    ">>> a"
   ]
  },
  {
   "cell_type": "markdown",
   "metadata": {},
   "source": [
    "### remove()方法直接删除指定元素"
   ]
  },
  {
   "cell_type": "code",
   "execution_count": null,
   "metadata": {},
   "outputs": [],
   "source": [
    ">>> a.remove(3)\n",
    ">>> a"
   ]
  },
  {
   "cell_type": "markdown",
   "metadata": {},
   "source": [
    "## 集合操作\n"
   ]
  },
  {
   "cell_type": "code",
   "execution_count": null,
   "metadata": {},
   "outputs": [],
   "source": [
    ">>> a_set = set([8, 9, 10, 11, 12, 13])\n",
    ">>> b_set = {0, 1, 2, 3, 7, 8}"
   ]
  },
  {
   "cell_type": "markdown",
   "metadata": {},
   "source": [
    "并集"
   ]
  },
  {
   "cell_type": "code",
   "execution_count": null,
   "metadata": {},
   "outputs": [],
   "source": [
    ">>> a_set | b_set                             #并集"
   ]
  },
  {
   "cell_type": "code",
   "execution_count": null,
   "metadata": {},
   "outputs": [],
   "source": [
    ">>> a_set.union(b_set)                        #并集"
   ]
  },
  {
   "cell_type": "markdown",
   "metadata": {},
   "source": [
    "有什么差别？"
   ]
  },
  {
   "cell_type": "code",
   "execution_count": null,
   "metadata": {},
   "outputs": [],
   "source": [
    "id(a_set)"
   ]
  },
  {
   "cell_type": "code",
   "execution_count": null,
   "metadata": {},
   "outputs": [],
   "source": [
    "id(b_set)"
   ]
  },
  {
   "cell_type": "code",
   "execution_count": null,
   "metadata": {},
   "outputs": [],
   "source": [
    "c_set=a_set | b_set\n",
    "id(c_set)"
   ]
  },
  {
   "cell_type": "code",
   "execution_count": null,
   "metadata": {},
   "outputs": [],
   "source": [
    "a_set.union(b_set) \n",
    "id(a_set)"
   ]
  },
  {
   "cell_type": "markdown",
   "metadata": {},
   "source": [
    "交集"
   ]
  },
  {
   "cell_type": "code",
   "execution_count": null,
   "metadata": {},
   "outputs": [],
   "source": [
    ">>> a_set & b_set                             #交集"
   ]
  },
  {
   "cell_type": "code",
   "execution_count": null,
   "metadata": {},
   "outputs": [],
   "source": [
    ">>> a_set.intersection(b_set)                 #交集"
   ]
  },
  {
   "cell_type": "markdown",
   "metadata": {},
   "source": [
    "差集"
   ]
  },
  {
   "cell_type": "code",
   "execution_count": null,
   "metadata": {},
   "outputs": [],
   "source": [
    ">>> a_set - b_set                             #差集"
   ]
  },
  {
   "cell_type": "code",
   "execution_count": null,
   "metadata": {},
   "outputs": [],
   "source": [
    ">>> a_set.difference(b_set)                   #差集"
   ]
  },
  {
   "cell_type": "markdown",
   "metadata": {},
   "source": [
    "对称差集：\n",
    "集合A与集合B的对称差集定义为集合A与集合B中所有不属于A∩B的元素的集合，即A△B=(A∪B)—(A∩B)."
   ]
  },
  {
   "cell_type": "code",
   "execution_count": null,
   "metadata": {},
   "outputs": [],
   "source": [
    ">>> a_set ^ b_set                            #对称差集"
   ]
  },
  {
   "cell_type": "code",
   "execution_count": null,
   "metadata": {},
   "outputs": [],
   "source": [
    ">>> a_set.symmetric_difference(b_set)        #对称差集"
   ]
  },
  {
   "cell_type": "markdown",
   "metadata": {},
   "source": [
    "测试是否为子集"
   ]
  },
  {
   "cell_type": "code",
   "execution_count": null,
   "metadata": {},
   "outputs": [],
   "source": [
    ">>> x = {1, 2, 3}\n",
    ">>> y = {1, 2, 5}\n",
    ">>> z = {1, 2, 3, 4}\n",
    ">>> x.issubset(y)                      #测试是否为子集"
   ]
  },
  {
   "cell_type": "code",
   "execution_count": null,
   "metadata": {},
   "outputs": [],
   "source": [
    ">>> x.issubset(z)"
   ]
  },
  {
   "cell_type": "markdown",
   "metadata": {},
   "source": [
    "测试非交"
   ]
  },
  {
   "cell_type": "code",
   "execution_count": null,
   "metadata": {},
   "outputs": [],
   "source": [
    ">>> {3}.isdisjoint({4})                #如果两个集合的交集为空，返回True"
   ]
  },
  {
   "cell_type": "markdown",
   "metadata": {},
   "source": [
    "### 集合包含关系测试\n"
   ]
  },
  {
   "cell_type": "code",
   "execution_count": null,
   "metadata": {},
   "outputs": [],
   "source": [
    ">>> x = {1, 2, 3}\n",
    ">>> y = {1, 2, 5}\n",
    ">>> z = {1, 2, 3, 4}"
   ]
  },
  {
   "cell_type": "markdown",
   "metadata": {},
   "source": [
    "比较集合大小/包含关系"
   ]
  },
  {
   "cell_type": "code",
   "execution_count": null,
   "metadata": {},
   "outputs": [],
   "source": [
    ">>> x < y                                #比较集合大小/包含关系"
   ]
  },
  {
   "cell_type": "markdown",
   "metadata": {},
   "source": [
    "真子集"
   ]
  },
  {
   "cell_type": "code",
   "execution_count": null,
   "metadata": {},
   "outputs": [],
   "source": [
    ">>> x < z                                #真子集\n"
   ]
  },
  {
   "cell_type": "code",
   "execution_count": null,
   "metadata": {},
   "outputs": [],
   "source": [
    ">>> y < z\n"
   ]
  },
  {
   "cell_type": "code",
   "execution_count": null,
   "metadata": {},
   "outputs": [],
   "source": [
    ">>> {1, 2, 3} <= {1, 2, 3}               #子集\n"
   ]
  },
  {
   "cell_type": "markdown",
   "metadata": {},
   "source": [
    "### 使用集合快速提取序列中单一元素\n"
   ]
  },
  {
   "cell_type": "code",
   "execution_count": null,
   "metadata": {},
   "outputs": [],
   "source": [
    ">>> import random\n",
    ">>> listRandom = [random.choice(range(1000)) for i in range(100)]\n",
    ">>> noRepeat = []\n",
    ">>> for i in listRandom :\n",
    "        if i not in noRepeat :\n",
    "            noRepeat.append(i)"
   ]
  },
  {
   "cell_type": "code",
   "execution_count": null,
   "metadata": {},
   "outputs": [],
   "source": [
    ">>> len(listRandom)"
   ]
  },
  {
   "cell_type": "code",
   "execution_count": null,
   "metadata": {},
   "outputs": [],
   "source": [
    ">>> len(noRepeat)"
   ]
  },
  {
   "cell_type": "markdown",
   "metadata": {},
   "source": [
    "<font color='red'>注意：listRandom和noRepeat的元素数量不一定相等</font>"
   ]
  },
  {
   "cell_type": "markdown",
   "metadata": {},
   "source": [
    "使用set()可以达到同样效果"
   ]
  },
  {
   "cell_type": "code",
   "execution_count": null,
   "metadata": {},
   "outputs": [],
   "source": [
    ">>> import random\n",
    ">>> listRandom = [random.choice(range(1000)) for i in range(100)]\n",
    ">>> newSet = set(listRandom)\n",
    ">>> len(newSet)"
   ]
  },
  {
   "cell_type": "markdown",
   "metadata": {},
   "source": [
    "## 集合推导式\n"
   ]
  },
  {
   "cell_type": "code",
   "execution_count": null,
   "metadata": {},
   "outputs": [],
   "source": [
    ">>> s = {x.strip() for x in ('  he  ', 'she    ', '    I','w','j')}\n",
    ">>> s"
   ]
  },
  {
   "cell_type": "markdown",
   "metadata": {},
   "source": [
    "## 集合运用案例\n"
   ]
  },
  {
   "cell_type": "markdown",
   "metadata": {},
   "source": [
    "### 例2-1  生成不重复随机数的效率比较"
   ]
  },
  {
   "cell_type": "code",
   "execution_count": 4,
   "metadata": {},
   "outputs": [],
   "source": [
    "import random\n",
    "import time\n",
    "\n",
    "def RandomNumbers1(number, start, end):\n",
    "    '''使用列表来生成number个介于start和end之间的不重复随机数'''\n",
    "    data = []\n",
    "    n = 0\n",
    "    while True:\n",
    "        element = random.randint(start, end)\n",
    "        if element not in data:\n",
    "            data.append(element)\n",
    "            n += 1\n",
    "        if n == number:\n",
    "            break\n",
    "    return data"
   ]
  },
  {
   "cell_type": "code",
   "execution_count": 6,
   "metadata": {},
   "outputs": [],
   "source": [
    "def RandomNumbers2(number, start, end):\n",
    "    '''使用集合来生成number个介于start和end之间的不重复随机数'''\n",
    "    data = set()\n",
    "    while True:\n",
    "        data.add(random.randint(start, end))\n",
    "        if len(data) == number:\n",
    "            break\n",
    "    return data"
   ]
  },
  {
   "cell_type": "code",
   "execution_count": 7,
   "metadata": {},
   "outputs": [
    {
     "name": "stdout",
     "output_type": "stream",
     "text": [
      "RandomNumbers1 1.4209496974945068\n",
      "RandomNumbers2 0.04686379432678223\n"
     ]
    }
   ],
   "source": [
    "# 数字范围\n",
    "begin, end = 1, 100000\n",
    "# 要获取的不重复数字个数\n",
    "num = 5000\n",
    "# 重复测试次数\n",
    "rep = 10\n",
    "for ran in (RandomNumbers1,RandomNumbers2):\n",
    "    start = time.time()\n",
    "    for i in range(rep):\n",
    "        ran(num, begin, end)\n",
    "    print(ran.__name__, time.time()-start)\n"
   ]
  },
  {
   "cell_type": "markdown",
   "metadata": {},
   "source": [
    "### 补充案例：假设已有若干用户名字及其喜欢的电影清单，现有某用户，已看过并喜欢一些电影，现在想找个新电影看看，又不知道看什么好。\n"
   ]
  },
  {
   "cell_type": "markdown",
   "metadata": {},
   "source": [
    "思路：根据已有数据，查找与该用户爱好最相似的用户，也就是看过并喜欢的电影与该用户最接近，然后从那个用户喜欢的电影中选取一个当前用户还没看过的电影，进行推荐。\n"
   ]
  },
  {
   "cell_type": "code",
   "execution_count": 8,
   "metadata": {},
   "outputs": [
    {
     "name": "stdout",
     "output_type": "stream",
     "text": [
      "历史数据：\n",
      "user0:{'film6', 'film4', 'film8', 'film5', 'film3', 'film9'}\n",
      "user1:{'film6', 'film7', 'film8', 'film3', 'film9', 'film2'}\n",
      "user2:{'film6', 'film7', 'film8', 'film5', 'film3', 'film9'}\n",
      "user3:{'film8', 'film6', 'film5'}\n",
      "user4:{'film8', 'film5'}\n",
      "user5:{'film3', 'film2'}\n",
      "user6:{'film3', 'film7'}\n",
      "user7:{'film4', 'film2', 'film8', 'film5'}\n",
      "user8:{'film6', 'film7', 'film8', 'film3', 'film9', 'film2'}\n",
      "user9:{'film1', 'film7', 'film8', 'film5', 'film9', 'film2'}\n",
      "和您最相似的用户是： user1\n",
      "Ta最喜欢看的电影是： {'film6', 'film7', 'film8', 'film3', 'film9', 'film2'}\n",
      "Ta看过的电影中您还没看过的有： {'film8', 'film7', 'film6', 'film9'}\n"
     ]
    }
   ],
   "source": [
    "from random import randrange\n",
    "\n",
    "# 其他用户喜欢看的电影清单\n",
    "data = {'user'+str(i):{'film'+str(randrange(1, 10))\\\n",
    "                        for j in range(randrange(15))}\\\n",
    "        for i in range(10)}\n",
    "\n",
    "# 待测用户曾经看过并感觉不错的电影\n",
    "user = {'film1', 'film2', 'film3'}\n",
    "# 查找与待测用户最相似的用户和Ta喜欢看的电影\n",
    "similarUser, films = max(data.items(),key=lambda item: len(item[1]&user))\n",
    "print('历史数据：')\n",
    "for u, f in data.items():\n",
    "    print(u, f, sep=':')\n",
    "print('和您最相似的用户是：', similarUser)\n",
    "print('Ta最喜欢看的电影是：', films)\n",
    "print('Ta看过的电影中您还没看过的有：', films-user)"
   ]
  },
  {
   "cell_type": "code",
   "execution_count": null,
   "metadata": {},
   "outputs": [],
   "source": [
    "data = {'user'+str(i):{'film'+str(randrange(1, 10))\\\n",
    "                        for j in range(randrange(15))}\\\n",
    "        for i in range(10)}\n",
    "data.items()"
   ]
  },
  {
   "cell_type": "code",
   "execution_count": null,
   "metadata": {},
   "outputs": [],
   "source": [
    "('user0', {'film1', 'film2', 'film4', 'film8', 'film5', 'film7', 'film3'})"
   ]
  },
  {
   "cell_type": "markdown",
   "metadata": {},
   "source": [
    "### 补充案例：过滤无效书评\n"
   ]
  },
  {
   "cell_type": "markdown",
   "metadata": {},
   "source": [
    "很多人喜欢爬取书评，然后选择自己喜欢的书或者其他读者评价较高的书，这是一个非常好的思路，也是非常明智的做法。\n",
    "然而，并不是每个消费者都会认真留言评论，也有部分消费者可能会复制了几个简单的句子或词作为评论。在爬取到原始书评之后可能需要进行简单的处理和过滤，这时就需要制定一个过滤的标准进行预处理，这也是数据处理与分析的关键内容之一。\n",
    "在下面的代码中，采用了一个最简单的规则：正常书评中，重复的字应该不会超过一定的比例。\n"
   ]
  },
  {
   "cell_type": "code",
   "execution_count": null,
   "metadata": {},
   "outputs": [],
   "source": [
    "comments = ['这是一本非常好的书，作者用心了',\n",
    "            '作者大大辛苦了',\n",
    "            '好书，感谢作者提供了这么多的好案例',\n",
    "            '书在运输的路上破损了，我好悲伤。。。',\n",
    "            '为啥我买的书上有菜汤。。。。',\n",
    "            '啊啊啊啊啊啊，我怎么才发现这么好的书啊，相见恨晚',\n",
    "            '书的质量有问题啊，怎么会开胶呢？？？？？？',\n",
    "            '好好好好好好好好好好好',\n",
    "            '好难啊看不懂好难啊看不懂好难啊看不懂',\n",
    "            '书的内容很充实',\n",
    "            '你的书上好多代码啊，不过想想也是，编程的书嘛，肯定代码多一些',\n",
    "            '书很不错!!一级棒!!买书就上当当，正版，价格又实惠，让人放心!!! ',\n",
    "            '无意中来到你小铺就淘到心意的宝贝，心情不错! ',\n",
    "            '送给朋友的、很不错',\n",
    "            '这是一本好书，讲解内容深入浅出又清晰明了，推荐给所有喜欢阅读的朋友同好们。']\n",
    "\n",
    "rule = lambda s:len(set(s))/len(s)>0.5     #评判标准：重复字符不多余50%\n",
    "\n",
    "result = filter(rule, comments)\n",
    "print('原始书评：')\n",
    "for comment in comments:\n",
    "    print(comment)\n",
    "\n",
    "print('='*30)\n",
    "print('过滤后的书评：')\n",
    "for comment in result:\n",
    "    print(comment)\n"
   ]
  },
  {
   "cell_type": "markdown",
   "metadata": {},
   "source": [
    "### 补充案例：【字典应用】已有大量用户对若干电影的打分数据，现有某用户，也看过一些电影并进行过评分，要求根据已有打分数据为该用户进行推荐\n"
   ]
  },
  {
   "cell_type": "markdown",
   "metadata": {},
   "source": [
    "代码采用基于用户的协同过滤算法，也就是根据用户喜好来确定与当前用户最相似的用户，然后再根据最相似用户的喜好为当前用户进行推荐。\n",
    "代码采用字典来存放数据，格式为{用户1:{电影名称1:打分1, 电影名称2:打分2,...}, 用户2:{...}}。\n"
   ]
  },
  {
   "cell_type": "code",
   "execution_count": null,
   "metadata": {},
   "outputs": [],
   "source": [
    "A f1:10,f2,f3\n",
    "B f1:5,f5:3,f6\n",
    "\n",
    "y f1:9,f5,f7"
   ]
  },
  {
   "cell_type": "code",
   "execution_count": null,
   "metadata": {},
   "outputs": [],
   "source": [
    "# 历史电影打分数据\n",
    "data = {'user'+str(i):{'film'+str(randrange(1, 15)):randrange(1, 6)\n",
    "                       for j in range(randrange(3, 10))}\n",
    "        for i in range(10)}\n",
    "data"
   ]
  },
  {
   "cell_type": "code",
   "execution_count": null,
   "metadata": {},
   "outputs": [],
   "source": [
    "user = {'film'+str(randrange(1, 15)):randrange(1,6) for i in range(5)}\n",
    "user"
   ]
  },
  {
   "cell_type": "code",
   "execution_count": null,
   "metadata": {},
   "outputs": [],
   "source": [
    "from random import randrange\n",
    "\n",
    "# 历史电影打分数据\n",
    "data = {'user'+str(i):{'film'+str(randrange(1, 15)):randrange(1, 6)\n",
    "                       for j in range(randrange(3, 10))}\n",
    "        for i in range(10)}\n",
    "\n",
    "# 当前用户打分数据\n",
    "user = {'film'+str(randrange(1, 15)):randrange(1,6) for i in range(5)}\n",
    "# 最相似的用户及其对电影打分情况\n",
    "# 两个用户共同打分的电影最多\n",
    "# 并且所有电影打分差值的平方和最小\n",
    "similarUser, films = min(data.items(),\n",
    "                         key=lambda item:(\n",
    "                                             -len(item[1].keys()&user),\n",
    "                                          sum(\n",
    "                                                ((item[1].get(film)-user.get(film))**2  for film in user.keys()&item[1].keys())\n",
    "                                              )\n",
    "                                         )\n",
    "                        )\n",
    "print('known data'.center(50, '='))\n",
    "for item in data.items():\n",
    "    print('交集长度:',len(item[1].keys()&user.keys()),\n",
    "          ',方差和:',sum(((item[1].get(film)-user.get(film))**2\n",
    "               for film in user.keys()&item[1].keys())),\n",
    "          ',打分情况:',item,\n",
    "          sep=' ')\n",
    "print('current user'.center(50, '='))\n",
    "print(user)\n",
    "print('most similar user and his films'.center(50, '='))\n",
    "print(similarUser, films, sep=':')\n",
    "print('recommended film'.center(50, '='))\n",
    "\n",
    "# 在当前用户没看过的电影中选择打分最高的进行推荐\n",
    "print(max(films.keys()-user.keys(), key=lambda film: films[film]))"
   ]
  },
  {
   "cell_type": "markdown",
   "metadata": {},
   "source": [
    "# 复杂数据结构\n"
   ]
  },
  {
   "cell_type": "markdown",
   "metadata": {},
   "source": [
    "## 堆\n"
   ]
  },
  {
   "cell_type": "code",
   "execution_count": null,
   "metadata": {},
   "outputs": [],
   "source": [
    ">>> import heapq                    #heapq和random是Python标准库\n",
    ">>> import random\n",
    ">>> data = list(range(10))\n",
    ">>> data\n"
   ]
  },
  {
   "cell_type": "code",
   "execution_count": null,
   "metadata": {},
   "outputs": [],
   "source": [
    ">>> random.choice(data)             #随机选择一个元素\n"
   ]
  },
  {
   "cell_type": "code",
   "execution_count": null,
   "metadata": {},
   "outputs": [],
   "source": [
    ">>> random.shuffle(data)            #随机打乱顺序\n",
    ">>> data\n"
   ]
  },
  {
   "cell_type": "code",
   "execution_count": null,
   "metadata": {},
   "outputs": [],
   "source": [
    ">>> heap=[]\n",
    ">>> for n in data:                  #建堆\n",
    "        heapq.heappush(heap,n)\n",
    ">>> heap\n"
   ]
  },
  {
   "cell_type": "code",
   "execution_count": null,
   "metadata": {},
   "outputs": [],
   "source": [
    ">>> heapq.heappush(heap,0.5)        #入堆，自动重建\n",
    ">>> heap\n"
   ]
  },
  {
   "cell_type": "code",
   "execution_count": null,
   "metadata": {},
   "outputs": [],
   "source": [
    ">>> heapq.heappop(heap)             #出堆，自动重建\n"
   ]
  },
  {
   "cell_type": "code",
   "execution_count": null,
   "metadata": {},
   "outputs": [],
   "source": [
    ">>> myheap = [1,2,3,5,7,8,9,4,10,333]\n",
    ">>> heapq.heapify(myheap)           #建堆\n",
    ">>> myheap\n"
   ]
  },
  {
   "cell_type": "code",
   "execution_count": null,
   "metadata": {},
   "outputs": [],
   "source": [
    ">>> heapq.heapreplace(myheap,6)     #弹出最小元素，同时插入新元素\n"
   ]
  },
  {
   "cell_type": "code",
   "execution_count": null,
   "metadata": {},
   "outputs": [],
   "source": [
    ">>> heapq.nlargest(3, myheap)       #返回前3个最大的元素\n"
   ]
  },
  {
   "cell_type": "code",
   "execution_count": null,
   "metadata": {},
   "outputs": [],
   "source": [
    ">>> heapq.nsmallest(3, myheap)      #返回前3个最小的元素\n"
   ]
  },
  {
   "cell_type": "markdown",
   "metadata": {},
   "source": [
    "## 队列\n"
   ]
  },
  {
   "cell_type": "markdown",
   "metadata": {},
   "source": [
    "可以使用列表来模拟队列结构\n"
   ]
  },
  {
   "cell_type": "code",
   "execution_count": null,
   "metadata": {},
   "outputs": [],
   "source": [
    ">>> x = [1, 2, 3, 4]\n",
    ">>> x.pop(0)\n"
   ]
  },
  {
   "cell_type": "code",
   "execution_count": null,
   "metadata": {},
   "outputs": [],
   "source": [
    ">>> x.pop(0)\n"
   ]
  },
  {
   "cell_type": "code",
   "execution_count": null,
   "metadata": {},
   "outputs": [],
   "source": [
    ">>> x.append(5)\n",
    ">>> x.pop(0)\n"
   ]
  },
  {
   "cell_type": "code",
   "execution_count": null,
   "metadata": {},
   "outputs": [],
   "source": [
    ">>> x.pop(0)\n"
   ]
  },
  {
   "cell_type": "code",
   "execution_count": null,
   "metadata": {},
   "outputs": [],
   "source": [
    ">>> x.pop()\n"
   ]
  },
  {
   "cell_type": "code",
   "execution_count": null,
   "metadata": {},
   "outputs": [],
   "source": [
    ">>> x.pop(0)\n"
   ]
  },
  {
   "cell_type": "markdown",
   "metadata": {},
   "source": [
    "也可以使用Python标准库中的queue"
   ]
  },
  {
   "cell_type": "code",
   "execution_count": null,
   "metadata": {},
   "outputs": [],
   "source": [
    ">>> import queue        #queue是Python标准库\n",
    ">>> q = queue.Queue()\n",
    ">>> q.put(0)            #入队\n",
    ">>> q.put(1)\n",
    ">>> q.put(2)\n",
    ">>> q.queue\n"
   ]
  },
  {
   "cell_type": "code",
   "execution_count": null,
   "metadata": {},
   "outputs": [],
   "source": [
    ">>> q.get()             #出队"
   ]
  },
  {
   "cell_type": "code",
   "execution_count": null,
   "metadata": {},
   "outputs": [],
   "source": [
    ">>> q.queue             #查看队列中的元素"
   ]
  },
  {
   "cell_type": "code",
   "execution_count": null,
   "metadata": {},
   "outputs": [],
   "source": [
    ">>> q.get()"
   ]
  },
  {
   "cell_type": "code",
   "execution_count": null,
   "metadata": {},
   "outputs": [],
   "source": [
    ">>> q.queue"
   ]
  },
  {
   "cell_type": "markdown",
   "metadata": {},
   "source": [
    "## 栈\n"
   ]
  },
  {
   "cell_type": "markdown",
   "metadata": {},
   "source": [
    "封装列表实现栈结构\n"
   ]
  },
  {
   "cell_type": "code",
   "execution_count": null,
   "metadata": {},
   "outputs": [],
   "source": [
    "class Stack:\n",
    "    def __init__(self, size = 10):\n",
    "        self._content = []                 #使用列表存放栈的元素\n",
    "        self._size = size                  #初始栈大小\n",
    "        self._current = 0                  #栈中元素个数初始化为0\n",
    "        \n",
    "    def empty(self):\n",
    "        self._content = []\n",
    "        self._current = 0\n",
    "        \n",
    "    def isEmpty(self):\n",
    "        if not self._content:\n",
    "            return True\n",
    "        else:\n",
    "            return False\n",
    "    def setSize(self, size):\n",
    "        #如果缩小栈空间，则删除指定大小之后的已有元素\n",
    "        if size < self._current:\n",
    "            for i in range(size, self._current)[::-1]:\n",
    "                del self._content[i]\n",
    "            self._current = size\n",
    "        self._size = size\n",
    "    \n",
    "    def isFull(self):\n",
    "        if self._current == self._size:\n",
    "            return True\n",
    "        else:\n",
    "            return False\n",
    "    def push(self, v):\n",
    "        if len(self._content) < self._size:\n",
    "            self._content.append(v)\n",
    "            self._current = self._current+1  #栈中元素个数加1\n",
    "        else:\n",
    "            print('Stack Full!')\n",
    "            \n",
    "    def pop(self):\n",
    "        if self._content:\n",
    "            self._current = self._current-1  #栈中元素个数减1\n",
    "            return self._content.pop()\n",
    "        else:\n",
    "            print('Stack is empty!')\n",
    "    def show(self):\n",
    "        print(self._content)\n",
    "\n",
    "    def showRemainderSpace(self):\n",
    "        print('Stack can still PUSH ',\n",
    "              self._size-self._current, ' elements.')\n"
   ]
  },
  {
   "cell_type": "code",
   "execution_count": null,
   "metadata": {},
   "outputs": [],
   "source": [
    ">>> x = Stack()\n",
    ">>> x.push(1)\n",
    ">>> x.push(2)\n",
    ">>> x.show()\n",
    "\n"
   ]
  },
  {
   "cell_type": "code",
   "execution_count": null,
   "metadata": {},
   "outputs": [],
   "source": [
    ">>> x.pop()"
   ]
  },
  {
   "cell_type": "code",
   "execution_count": null,
   "metadata": {},
   "outputs": [],
   "source": [
    ">>> x.show()\n"
   ]
  },
  {
   "cell_type": "code",
   "execution_count": null,
   "metadata": {},
   "outputs": [],
   "source": [
    ">>> x.showRemainderSpace()\n"
   ]
  },
  {
   "cell_type": "code",
   "execution_count": null,
   "metadata": {},
   "outputs": [],
   "source": [
    ">>> x.isEmpty()\n"
   ]
  },
  {
   "cell_type": "code",
   "execution_count": null,
   "metadata": {},
   "outputs": [],
   "source": [
    ">>> x.isFull()\n"
   ]
  },
  {
   "cell_type": "markdown",
   "metadata": {},
   "source": [
    "## 链表\n"
   ]
  },
  {
   "cell_type": "markdown",
   "metadata": {},
   "source": [
    "## 二叉树\n"
   ]
  },
  {
   "cell_type": "code",
   "execution_count": null,
   "metadata": {},
   "outputs": [],
   "source": [
    "class BinaryTree:\n",
    "    def __init__(self, value):\n",
    "        self.__left = None\n",
    "        self.__right =  None\n",
    "        self.__data = value\n",
    "        \n",
    "    def insertLeftChild(self, value):  #创建左子树\n",
    "        if self.__left:\n",
    "            print('__left child tree already exists.')\n",
    "        else:\n",
    "            self.__left = BinaryTree(value)\n",
    "            return self.__left\n",
    "    def insertRightChild(self, value): #创建右子树\n",
    "        if self.__right:\n",
    "            print('Right child tree already exists.')\n",
    "        else:\n",
    "            self.__right = BinaryTree(value)\n",
    "            return self.__right\n",
    "        \n",
    "    def show(self):\n",
    "        print(self.__data)\n",
    "        \n",
    "    def preOrder(self):                 #前序遍历\n",
    "        print(self.__data)              #输出根节点的值\n",
    "        if self.__left:\n",
    "            self.__left.preOrder()      #遍历左子树\n",
    "        if self.__right:\n",
    "            self.__right.preOrder()     #遍历右子树\n",
    "\n",
    "    def postOrder(self):                #后序遍历\n",
    "        if self.__left:\n",
    "            self.__left.postOrder()\n",
    "        if self.__right:\n",
    "            self.__right.postOrder()\n",
    "        print(self.__data)\n",
    "        \n",
    "    def inOrder(self):                 #中序遍历\n",
    "        if self.__left:\n",
    "            self.__left.inOrder()\n",
    "        print(self.__data)\n",
    "        if self.__right:\n",
    "            self.__right.inOrder()\n"
   ]
  },
  {
   "cell_type": "code",
   "execution_count": null,
   "metadata": {},
   "outputs": [],
   "source": [
    ">>> root = BinaryTree('root')\n",
    ">>> b = root.insertRightChild('B')\n",
    ">>> a = root.insertLeftChild('A')\n",
    ">>> c = a.insertLeftChild('C')\n",
    ">>> d = c.insertRightChild('D')\n",
    ">>> e = b.insertRightChild('E')\n",
    ">>> f = e.insertLeftChild('F')\n",
    ">>> root.inOrder()\n"
   ]
  },
  {
   "cell_type": "code",
   "execution_count": null,
   "metadata": {},
   "outputs": [],
   "source": [
    ">>> root.postOrder()\n"
   ]
  },
  {
   "cell_type": "code",
   "execution_count": null,
   "metadata": {},
   "outputs": [],
   "source": [
    ">>> b.inOrder()\n"
   ]
  },
  {
   "cell_type": "markdown",
   "metadata": {},
   "source": [
    "## 有向图\n"
   ]
  },
  {
   "cell_type": "code",
   "execution_count": null,
   "metadata": {},
   "outputs": [],
   "source": [
    "def searchPath(graph, start, end):\n",
    "    results = []\n",
    "    __generatePath(graph, [start], end, results)\n",
    "    results.sort(key = lambda x:len(x))\n",
    "    return results\n",
    "\n",
    "def __generatePath(graph, path, end, results):\n",
    "    current = path[-1]\n",
    "    if current == end:\n",
    "        results.append(path)\n",
    "    else:\n",
    "        for n in graph[current]:\n",
    "            if n not in path:\n",
    "                #path.append(n)\n",
    "                __generatePath(graph, path + [n], end, results)\n",
    "                \n",
    "def showPath(results):\n",
    "    print('The path from ',results[0][0], ' to ',\n",
    "          results[0][-1], ' is:')\n",
    "    for path in results:\n",
    "        print(path)"
   ]
  },
  {
   "cell_type": "code",
   "execution_count": null,
   "metadata": {},
   "outputs": [],
   "source": [
    "graph = {'A':['B', 'C', 'D'],\n",
    "                   'B':['E'],\n",
    "                   'C':['D', 'F'],\n",
    "                   'D':['B', 'E', 'G'],\n",
    "                   'E':['D'],\n",
    "                   'F':['D', 'G'],\n",
    "                   'G':['E']}\n",
    "\n",
    "r1 = searchPath(graph, 'A', 'D')\n",
    "showPath(r1)\n",
    "r2 = searchPath(graph, 'A', 'E')\n",
    "showPath(r2)"
   ]
  },
  {
   "cell_type": "code",
   "execution_count": null,
   "metadata": {},
   "outputs": [],
   "source": []
  }
 ],
 "metadata": {
  "kernelspec": {
   "display_name": "Python 3",
   "language": "python",
   "name": "python3"
  },
  "language_info": {
   "codemirror_mode": {
    "name": "ipython",
    "version": 3
   },
   "file_extension": ".py",
   "mimetype": "text/x-python",
   "name": "python",
   "nbconvert_exporter": "python",
   "pygments_lexer": "ipython3",
   "version": "3.7.2"
  },
  "toc": {
   "base_numbering": 1,
   "nav_menu": {},
   "number_sections": true,
   "sideBar": true,
   "skip_h1_title": false,
   "title_cell": "Table of Contents",
   "title_sidebar": "Contents",
   "toc_cell": false,
   "toc_position": {
    "height": "calc(100% - 180px)",
    "left": "10px",
    "top": "150px",
    "width": "307.2px"
   },
   "toc_section_display": true,
   "toc_window_display": true
  },
  "varInspector": {
   "cols": {
    "lenName": 16,
    "lenType": 16,
    "lenVar": 40
   },
   "kernels_config": {
    "python": {
     "delete_cmd_postfix": "",
     "delete_cmd_prefix": "del ",
     "library": "var_list.py",
     "varRefreshCmd": "print(var_dic_list())"
    },
    "r": {
     "delete_cmd_postfix": ") ",
     "delete_cmd_prefix": "rm(",
     "library": "var_list.r",
     "varRefreshCmd": "cat(var_dic_list()) "
    }
   },
   "types_to_exclude": [
    "module",
    "function",
    "builtin_function_or_method",
    "instance",
    "_Feature"
   ],
   "window_display": false
  }
 },
 "nbformat": 4,
 "nbformat_minor": 4
}
